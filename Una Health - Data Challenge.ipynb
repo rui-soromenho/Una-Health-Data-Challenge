{
 "cells": [
  {
   "cell_type": "markdown",
   "metadata": {},
   "source": [
    "# Project description"
   ]
  },
  {
   "cell_type": "markdown",
   "metadata": {},
   "source": [
    "This dataset was provided by Una Health.<br> \n",
    "The main objective of this data challenge is to visualise blood glucose levels and find\n",
    "connections between the blood glucose levels and tracked meals. <br>\n",
    "<br>\n",
    "\n",
    "### Data\n",
    "The data consists of:\n",
    "- A csv file with the historic blood glucose levels of the patient: levels_all.csv . We're interested in blood glucose readings which have an Aufzeichnungstyp of either 0 or 1 (those appear in different columns because they are different types, automatically collected every 15 minutes vs. manual scanned by the patient, but are readings from the same sensor and thus should be treated as such). The blood glucose reading is noted in Glukosewert-Verlauf mg/dL or Glukose-Scan mg/dL . All timestamps noted in this file are UTC. \n",
    "- A csv file with the tracked meals of the patient: activities_all.csv . Each meal isidentified by a UUID.\n",
    "\n",
    "You can download the sample data from here: https://s3-de-central.profitbricks.com/una-health-data-challenge/una-health-data-challenge.zip\n",
    "\n",
    "### Tasks\n",
    "\n",
    "##### Visualise \n",
    "Create plots for the historic blood glucose level by each patient and the historic blood glucose level after meals (we usually look at timestamp_start of the meal + 3 hours worth of data). Feel free to group and slice the data for the individual meals as you see fit.\n",
    "\n",
    "##### Interpret \n",
    "What conclusions can you draw when looking at the combined data of historic blood glucose levels and tracked meals for an individual patient and for certain meal types of an individual patient? What clusters (if any) do you find? \n",
    "What additional information (if any) do you need? What clustering methods would you apply?\n",
    "\n",
    "##### Evaluation Criteria\n",
    "General: selected and explained chosen software design and libraries, used clean code structure, followed and explained coding conventions\n",
    "<br>\n",
    "Algorithms and data structures: explained the approach and thinking and methods used, clarified variety and suitability of methods and algorithms used, explained selected data structure\n",
    "<br>\n",
    "Documentation: added clear inline & high-level documentation, added documentation on how to start & run the submitted solution\n",
    "<br>\n",
    "We evaluate your communication with us"
   ]
  },
  {
   "cell_type": "markdown",
   "metadata": {},
   "source": [
    "# Instructions to set-up environment"
   ]
  },
  {
   "cell_type": "markdown",
   "metadata": {},
   "source": [
    "In order to be able to run this notebook without issues, please configure the conda environment provided - UnaHealthenvironment.yml file. \n",
    "By creating a conda environment through the yml file, you should be able to reproduce the results seen in this notebook.\n",
    "\n",
    "\n",
    "In order to create the environment please run the following commands in the anaconda prompt: \n",
    "conda env create -f < path to environment.yml >. \n",
    "Afterwards, please activate the created environment: \n",
    "conda activate ml.\n",
    "Finally, you can initialize the jupyter notebook: \n",
    "jupyter notebook. \n",
    "    \n",
    "Further information can be find here: https://docs.conda.io/projects/conda/en/latest/user-guide/tasks/manage-environments.html"
   ]
  },
  {
   "cell_type": "markdown",
   "metadata": {},
   "source": [
    "# Import packages"
   ]
  },
  {
   "cell_type": "code",
   "execution_count": 322,
   "metadata": {},
   "outputs": [
    {
     "name": "stderr",
     "output_type": "stream",
     "text": [
      "Loaded backend module://ipykernel.pylab.backend_inline version unknown.\n"
     ]
    }
   ],
   "source": [
    "import os\n",
    "from pathlib import Path\n",
    "from math import ceil\n",
    "import numpy as np\n",
    "import pandas as pd\n",
    "import matplotlib.pyplot as plt\n",
    "import seaborn as sns\n",
    "from joblib import dump\n",
    "from sklearn.preprocessing import OneHotEncoder, LabelEncoder\n",
    "from sklearn.model_selection import train_test_split, StratifiedKFold, GridSearchCV\n",
    "from sklearn.tree import DecisionTreeClassifier, export_graphviz\n",
    "from sklearn.metrics import classification_report, confusion_matrix, precision_score\n",
    "import random\n",
    "import numpy as np\n",
    "import pandas as pd\n",
    "import scipy.stats as stats \n",
    "import matplotlib.colors as colors\n",
    "import matplotlib.pyplot as plt\n",
    "import matplotlib.gridspec as gspec\n",
    "import matplotlib.cm as cm\n",
    "import seaborn as sns\n",
    "import re\n",
    "import sklearn.preprocessing as prep\n",
    "import sklearn.impute as imp\n",
    "import sklearn.covariance as cov\n",
    "from datetime import datetime, date\n",
    "from scipy.cluster.hierarchy import dendrogram, linkage, set_link_color_palette\n",
    "from sklearn.cluster import AgglomerativeClustering, KMeans\n",
    "from yellowbrick.cluster import KElbowVisualizer\n",
    "from sklearn.metrics import silhouette_samples, silhouette_score\n",
    "from sklearn.mixture import GaussianMixture\n",
    "from numpy.linalg import svd\n",
    "from scipy.spatial import distance_matrix\n",
    "from scipy.stats import chi2\n",
    "from sklearn.tree import DecisionTreeClassifier, plot_tree, export_graphviz\n",
    "from sklearn.model_selection import train_test_split\n",
    "from sklearn.neighbors import NearestNeighbors\n",
    "from sklearn.cluster import MeanShift, DBSCAN, estimate_bandwidth\n",
    "from sklearn.impute import KNNImputer\n",
    "from sklearn.neighbors import KNeighborsClassifier\n",
    "from sklearn.decomposition import PCA\n",
    "from sklearn.preprocessing import MinMaxScaler, StandardScaler\n",
    "import requests\n",
    "from zipfile import ZipFile\n",
    "from io import BytesIO\n",
    "import plotly.express as px\n",
    "\n",
    "%matplotlib inline\n",
    "%config InlineBackend.figure_format = 'retina' #better quality of visualisations\n",
    "\n",
    "import warnings\n",
    "warnings.filterwarnings('ignore')"
   ]
  },
  {
   "cell_type": "markdown",
   "metadata": {},
   "source": [
    "# Import Data"
   ]
  },
  {
   "cell_type": "code",
   "execution_count": 323,
   "metadata": {},
   "outputs": [],
   "source": [
    "#Function to create customers based on the id logic\n",
    "def create_customer(x):\n",
    "    return 8*x+'-'+4*x+'-'+4*x+'-'+4*x+'-'+12*x       "
   ]
  },
  {
   "cell_type": "code",
   "execution_count": 324,
   "metadata": {},
   "outputs": [],
   "source": [
    "#Put customers in a list\n",
    "list_customers = []\n",
    "\n",
    "for character in ['a', 'b', 'c']:\n",
    "    this_customer = create_customer(character)\n",
    "    list_customers.append(this_customer)    "
   ]
  },
  {
   "cell_type": "code",
   "execution_count": 325,
   "metadata": {},
   "outputs": [
    {
     "name": "stderr",
     "output_type": "stream",
     "text": [
      "Starting new HTTPS connection (1): s3-de-central.profitbricks.com:443\n",
      "https://s3-de-central.profitbricks.com:443 \"GET /una-health-data-challenge/una-health-data-challenge.zip HTTP/1.1\" 200 27737\n"
     ]
    }
   ],
   "source": [
    "#Connect to the url and unzip the file\n",
    "r = requests.get(\"https://s3-de-central.profitbricks.com/una-health-data-challenge/una-health-data-challenge.zip\")\n",
    "files = ZipFile(BytesIO(r.content))"
   ]
  },
  {
   "cell_type": "code",
   "execution_count": 326,
   "metadata": {},
   "outputs": [],
   "source": [
    "#Go through each customer and read the respective csv \n",
    "df_activities = pd.read_csv(files.open(list_customers[0]+'/activities_all.csv'), encoding='utf-8')\n",
    "df_levels = pd.read_csv(files.open(list_customers[0]+'/levels_all.csv'), encoding='utf-8', header=1)\n",
    "df_levels['user_id'] = list_customers[0]\n",
    "\n",
    "for customer in list_customers[1:]:\n",
    "    this_customer_activities = pd.read_csv(files.open(customer+'/activities_all.csv'), \n",
    "                                           encoding='utf-8')\n",
    "    this_customer_levels = pd.read_csv(files.open(customer+'/levels_all.csv'), \n",
    "                                           encoding='utf-8', header=1)\n",
    "    this_customer_levels['user_id'] = customer\n",
    "    df_activities = pd.concat([df_activities, this_customer_activities])\n",
    "    df_levels = pd.concat([df_levels, this_customer_levels])"
   ]
  },
  {
   "cell_type": "code",
   "execution_count": 327,
   "metadata": {
    "scrolled": false
   },
   "outputs": [
    {
     "data": {
      "text/html": [
       "<div>\n",
       "<style scoped>\n",
       "    .dataframe tbody tr th:only-of-type {\n",
       "        vertical-align: middle;\n",
       "    }\n",
       "\n",
       "    .dataframe tbody tr th {\n",
       "        vertical-align: top;\n",
       "    }\n",
       "\n",
       "    .dataframe thead th {\n",
       "        text-align: right;\n",
       "    }\n",
       "</style>\n",
       "<table border=\"1\" class=\"dataframe\">\n",
       "  <thead>\n",
       "    <tr style=\"text-align: right;\">\n",
       "      <th></th>\n",
       "      <th>id</th>\n",
       "      <th>user_id</th>\n",
       "      <th>record_type</th>\n",
       "      <th>description</th>\n",
       "      <th>timestamp_start</th>\n",
       "      <th>timestamp_end</th>\n",
       "      <th>payload</th>\n",
       "      <th>created</th>\n",
       "      <th>last_modified</th>\n",
       "    </tr>\n",
       "  </thead>\n",
       "  <tbody>\n",
       "    <tr>\n",
       "      <th>0</th>\n",
       "      <td>aaaaaaaa-aaaa-aaaa-aaaa-aaaaaaaaaa00</td>\n",
       "      <td>aaaaaaaa-aaaa-aaaa-aaaa-aaaaaaaaaaaa</td>\n",
       "      <td>MEAL_BREAKFAST</td>\n",
       "      <td>40 g Haferflocken, 230 g Joghurt 0,3 %, 90 g B...</td>\n",
       "      <td>2021-02-15T08:30:00+01:00</td>\n",
       "      <td>NaN</td>\n",
       "      <td>NaN</td>\n",
       "      <td>NaN</td>\n",
       "      <td>NaN</td>\n",
       "    </tr>\n",
       "    <tr>\n",
       "      <th>1</th>\n",
       "      <td>aaaaaaaa-aaaa-aaaa-aaaa-aaaaaaaaaa01</td>\n",
       "      <td>aaaaaaaa-aaaa-aaaa-aaaa-aaaaaaaaaaaa</td>\n",
       "      <td>MEAL_LUNCH</td>\n",
       "      <td>98 g M�hren-Walnuss-VK-Brot, 87 g Gurke, 55 g ...</td>\n",
       "      <td>2021-02-15T12:45:00+01:00</td>\n",
       "      <td>NaN</td>\n",
       "      <td>NaN</td>\n",
       "      <td>NaN</td>\n",
       "      <td>NaN</td>\n",
       "    </tr>\n",
       "    <tr>\n",
       "      <th>2</th>\n",
       "      <td>aaaaaaaa-aaaa-aaaa-aaaa-aaaaaaaaaa02</td>\n",
       "      <td>aaaaaaaa-aaaa-aaaa-aaaa-aaaaaaaaaaaa</td>\n",
       "      <td>MEAL_SNACK</td>\n",
       "      <td>Mandarine, Teel�ffel Erdnussmu�</td>\n",
       "      <td>2021-02-15T16:15:00+01:00</td>\n",
       "      <td>NaN</td>\n",
       "      <td>NaN</td>\n",
       "      <td>NaN</td>\n",
       "      <td>NaN</td>\n",
       "    </tr>\n",
       "    <tr>\n",
       "      <th>3</th>\n",
       "      <td>aaaaaaaa-aaaa-aaaa-aaaa-aaaaaaaaaa03</td>\n",
       "      <td>aaaaaaaa-aaaa-aaaa-aaaa-aaaaaaaaaaaa</td>\n",
       "      <td>ACTVITY_EASY</td>\n",
       "      <td>spazieren</td>\n",
       "      <td>2021-02-15T17:00:00+01:00</td>\n",
       "      <td>2021-02-15T17:30:00+01:00</td>\n",
       "      <td>NaN</td>\n",
       "      <td>NaN</td>\n",
       "      <td>NaN</td>\n",
       "    </tr>\n",
       "    <tr>\n",
       "      <th>4</th>\n",
       "      <td>aaaaaaaa-aaaa-aaaa-aaaa-aaaaaaaaaa04</td>\n",
       "      <td>aaaaaaaa-aaaa-aaaa-aaaa-aaaaaaaaaaaa</td>\n",
       "      <td>MEAL_DINNER</td>\n",
       "      <td>50 g BasmatiVollkorn Reis, 20g Currypaste, 15 ...</td>\n",
       "      <td>2021-02-15T19:30:00+01:00</td>\n",
       "      <td>NaN</td>\n",
       "      <td>NaN</td>\n",
       "      <td>NaN</td>\n",
       "      <td>NaN</td>\n",
       "    </tr>\n",
       "  </tbody>\n",
       "</table>\n",
       "</div>"
      ],
      "text/plain": [
       "                                     id                               user_id  \\\n",
       "0  aaaaaaaa-aaaa-aaaa-aaaa-aaaaaaaaaa00  aaaaaaaa-aaaa-aaaa-aaaa-aaaaaaaaaaaa   \n",
       "1  aaaaaaaa-aaaa-aaaa-aaaa-aaaaaaaaaa01  aaaaaaaa-aaaa-aaaa-aaaa-aaaaaaaaaaaa   \n",
       "2  aaaaaaaa-aaaa-aaaa-aaaa-aaaaaaaaaa02  aaaaaaaa-aaaa-aaaa-aaaa-aaaaaaaaaaaa   \n",
       "3  aaaaaaaa-aaaa-aaaa-aaaa-aaaaaaaaaa03  aaaaaaaa-aaaa-aaaa-aaaa-aaaaaaaaaaaa   \n",
       "4  aaaaaaaa-aaaa-aaaa-aaaa-aaaaaaaaaa04  aaaaaaaa-aaaa-aaaa-aaaa-aaaaaaaaaaaa   \n",
       "\n",
       "      record_type                                        description  \\\n",
       "0  MEAL_BREAKFAST  40 g Haferflocken, 230 g Joghurt 0,3 %, 90 g B...   \n",
       "1      MEAL_LUNCH  98 g M�hren-Walnuss-VK-Brot, 87 g Gurke, 55 g ...   \n",
       "2      MEAL_SNACK                    Mandarine, Teel�ffel Erdnussmu�   \n",
       "3    ACTVITY_EASY                                          spazieren   \n",
       "4     MEAL_DINNER  50 g BasmatiVollkorn Reis, 20g Currypaste, 15 ...   \n",
       "\n",
       "             timestamp_start              timestamp_end  payload  created  \\\n",
       "0  2021-02-15T08:30:00+01:00                        NaN      NaN      NaN   \n",
       "1  2021-02-15T12:45:00+01:00                        NaN      NaN      NaN   \n",
       "2  2021-02-15T16:15:00+01:00                        NaN      NaN      NaN   \n",
       "3  2021-02-15T17:00:00+01:00  2021-02-15T17:30:00+01:00      NaN      NaN   \n",
       "4  2021-02-15T19:30:00+01:00                        NaN      NaN      NaN   \n",
       "\n",
       "   last_modified  \n",
       "0            NaN  \n",
       "1            NaN  \n",
       "2            NaN  \n",
       "3            NaN  \n",
       "4            NaN  "
      ]
     },
     "execution_count": 327,
     "metadata": {},
     "output_type": "execute_result"
    }
   ],
   "source": [
    "df_activities.head()"
   ]
  },
  {
   "cell_type": "code",
   "execution_count": 328,
   "metadata": {},
   "outputs": [
    {
     "data": {
      "text/html": [
       "<div>\n",
       "<style scoped>\n",
       "    .dataframe tbody tr th:only-of-type {\n",
       "        vertical-align: middle;\n",
       "    }\n",
       "\n",
       "    .dataframe tbody tr th {\n",
       "        vertical-align: top;\n",
       "    }\n",
       "\n",
       "    .dataframe thead th {\n",
       "        text-align: right;\n",
       "    }\n",
       "</style>\n",
       "<table border=\"1\" class=\"dataframe\">\n",
       "  <thead>\n",
       "    <tr style=\"text-align: right;\">\n",
       "      <th></th>\n",
       "      <th>Gerät</th>\n",
       "      <th>Seriennummer</th>\n",
       "      <th>Gerätezeitstempel</th>\n",
       "      <th>Aufzeichnungstyp</th>\n",
       "      <th>Glukosewert-Verlauf mg/dL</th>\n",
       "      <th>Glukose-Scan mg/dL</th>\n",
       "      <th>Nicht numerisches schnellwirkendes Insulin</th>\n",
       "      <th>Schnellwirkendes Insulin (Einheiten)</th>\n",
       "      <th>Nicht numerische Nahrungsdaten</th>\n",
       "      <th>Kohlenhydrate (Gramm)</th>\n",
       "      <th>Kohlenhydrate (Portionen)</th>\n",
       "      <th>Nicht numerisches Depotinsulin</th>\n",
       "      <th>Depotinsulin (Einheiten)</th>\n",
       "      <th>Notizen</th>\n",
       "      <th>Glukose-Teststreifen mg/dL</th>\n",
       "      <th>Keton mmol/L</th>\n",
       "      <th>Mahlzeiteninsulin (Einheiten)</th>\n",
       "      <th>Korrekturinsulin (Einheiten)</th>\n",
       "      <th>Insulin-Änderung durch Anwender (Einheiten)</th>\n",
       "      <th>user_id</th>\n",
       "    </tr>\n",
       "  </thead>\n",
       "  <tbody>\n",
       "    <tr>\n",
       "      <th>0</th>\n",
       "      <td>FreeStyle LibreLink</td>\n",
       "      <td>1D48A10E-DDFB-4888-8158-026F08814832</td>\n",
       "      <td>18-02-2021 10:57</td>\n",
       "      <td>0</td>\n",
       "      <td>77.0</td>\n",
       "      <td>NaN</td>\n",
       "      <td>NaN</td>\n",
       "      <td>NaN</td>\n",
       "      <td>NaN</td>\n",
       "      <td>NaN</td>\n",
       "      <td>NaN</td>\n",
       "      <td>NaN</td>\n",
       "      <td>NaN</td>\n",
       "      <td>NaN</td>\n",
       "      <td>NaN</td>\n",
       "      <td>NaN</td>\n",
       "      <td>NaN</td>\n",
       "      <td>NaN</td>\n",
       "      <td>NaN</td>\n",
       "      <td>aaaaaaaa-aaaa-aaaa-aaaa-aaaaaaaaaaaa</td>\n",
       "    </tr>\n",
       "    <tr>\n",
       "      <th>1</th>\n",
       "      <td>FreeStyle LibreLink</td>\n",
       "      <td>1D48A10E-DDFB-4888-8158-026F08814832</td>\n",
       "      <td>18-02-2021 11:12</td>\n",
       "      <td>0</td>\n",
       "      <td>78.0</td>\n",
       "      <td>NaN</td>\n",
       "      <td>NaN</td>\n",
       "      <td>NaN</td>\n",
       "      <td>NaN</td>\n",
       "      <td>NaN</td>\n",
       "      <td>NaN</td>\n",
       "      <td>NaN</td>\n",
       "      <td>NaN</td>\n",
       "      <td>NaN</td>\n",
       "      <td>NaN</td>\n",
       "      <td>NaN</td>\n",
       "      <td>NaN</td>\n",
       "      <td>NaN</td>\n",
       "      <td>NaN</td>\n",
       "      <td>aaaaaaaa-aaaa-aaaa-aaaa-aaaaaaaaaaaa</td>\n",
       "    </tr>\n",
       "    <tr>\n",
       "      <th>2</th>\n",
       "      <td>FreeStyle LibreLink</td>\n",
       "      <td>1D48A10E-DDFB-4888-8158-026F08814832</td>\n",
       "      <td>18-02-2021 11:27</td>\n",
       "      <td>0</td>\n",
       "      <td>78.0</td>\n",
       "      <td>NaN</td>\n",
       "      <td>NaN</td>\n",
       "      <td>NaN</td>\n",
       "      <td>NaN</td>\n",
       "      <td>NaN</td>\n",
       "      <td>NaN</td>\n",
       "      <td>NaN</td>\n",
       "      <td>NaN</td>\n",
       "      <td>NaN</td>\n",
       "      <td>NaN</td>\n",
       "      <td>NaN</td>\n",
       "      <td>NaN</td>\n",
       "      <td>NaN</td>\n",
       "      <td>NaN</td>\n",
       "      <td>aaaaaaaa-aaaa-aaaa-aaaa-aaaaaaaaaaaa</td>\n",
       "    </tr>\n",
       "    <tr>\n",
       "      <th>3</th>\n",
       "      <td>FreeStyle LibreLink</td>\n",
       "      <td>1D48A10E-DDFB-4888-8158-026F08814832</td>\n",
       "      <td>18-02-2021 11:42</td>\n",
       "      <td>0</td>\n",
       "      <td>76.0</td>\n",
       "      <td>NaN</td>\n",
       "      <td>NaN</td>\n",
       "      <td>NaN</td>\n",
       "      <td>NaN</td>\n",
       "      <td>NaN</td>\n",
       "      <td>NaN</td>\n",
       "      <td>NaN</td>\n",
       "      <td>NaN</td>\n",
       "      <td>NaN</td>\n",
       "      <td>NaN</td>\n",
       "      <td>NaN</td>\n",
       "      <td>NaN</td>\n",
       "      <td>NaN</td>\n",
       "      <td>NaN</td>\n",
       "      <td>aaaaaaaa-aaaa-aaaa-aaaa-aaaaaaaaaaaa</td>\n",
       "    </tr>\n",
       "    <tr>\n",
       "      <th>4</th>\n",
       "      <td>FreeStyle LibreLink</td>\n",
       "      <td>1D48A10E-DDFB-4888-8158-026F08814832</td>\n",
       "      <td>18-02-2021 11:57</td>\n",
       "      <td>0</td>\n",
       "      <td>75.0</td>\n",
       "      <td>NaN</td>\n",
       "      <td>NaN</td>\n",
       "      <td>NaN</td>\n",
       "      <td>NaN</td>\n",
       "      <td>NaN</td>\n",
       "      <td>NaN</td>\n",
       "      <td>NaN</td>\n",
       "      <td>NaN</td>\n",
       "      <td>NaN</td>\n",
       "      <td>NaN</td>\n",
       "      <td>NaN</td>\n",
       "      <td>NaN</td>\n",
       "      <td>NaN</td>\n",
       "      <td>NaN</td>\n",
       "      <td>aaaaaaaa-aaaa-aaaa-aaaa-aaaaaaaaaaaa</td>\n",
       "    </tr>\n",
       "  </tbody>\n",
       "</table>\n",
       "</div>"
      ],
      "text/plain": [
       "                 Gerät                          Seriennummer  \\\n",
       "0  FreeStyle LibreLink  1D48A10E-DDFB-4888-8158-026F08814832   \n",
       "1  FreeStyle LibreLink  1D48A10E-DDFB-4888-8158-026F08814832   \n",
       "2  FreeStyle LibreLink  1D48A10E-DDFB-4888-8158-026F08814832   \n",
       "3  FreeStyle LibreLink  1D48A10E-DDFB-4888-8158-026F08814832   \n",
       "4  FreeStyle LibreLink  1D48A10E-DDFB-4888-8158-026F08814832   \n",
       "\n",
       "  Gerätezeitstempel  Aufzeichnungstyp  Glukosewert-Verlauf mg/dL  \\\n",
       "0  18-02-2021 10:57                 0                       77.0   \n",
       "1  18-02-2021 11:12                 0                       78.0   \n",
       "2  18-02-2021 11:27                 0                       78.0   \n",
       "3  18-02-2021 11:42                 0                       76.0   \n",
       "4  18-02-2021 11:57                 0                       75.0   \n",
       "\n",
       "   Glukose-Scan mg/dL  Nicht numerisches schnellwirkendes Insulin  \\\n",
       "0                 NaN                                         NaN   \n",
       "1                 NaN                                         NaN   \n",
       "2                 NaN                                         NaN   \n",
       "3                 NaN                                         NaN   \n",
       "4                 NaN                                         NaN   \n",
       "\n",
       "   Schnellwirkendes Insulin (Einheiten)  Nicht numerische Nahrungsdaten  \\\n",
       "0                                   NaN                             NaN   \n",
       "1                                   NaN                             NaN   \n",
       "2                                   NaN                             NaN   \n",
       "3                                   NaN                             NaN   \n",
       "4                                   NaN                             NaN   \n",
       "\n",
       "   Kohlenhydrate (Gramm)  Kohlenhydrate (Portionen)  \\\n",
       "0                    NaN                        NaN   \n",
       "1                    NaN                        NaN   \n",
       "2                    NaN                        NaN   \n",
       "3                    NaN                        NaN   \n",
       "4                    NaN                        NaN   \n",
       "\n",
       "   Nicht numerisches Depotinsulin  Depotinsulin (Einheiten)  Notizen  \\\n",
       "0                             NaN                       NaN      NaN   \n",
       "1                             NaN                       NaN      NaN   \n",
       "2                             NaN                       NaN      NaN   \n",
       "3                             NaN                       NaN      NaN   \n",
       "4                             NaN                       NaN      NaN   \n",
       "\n",
       "   Glukose-Teststreifen mg/dL  Keton mmol/L  Mahlzeiteninsulin (Einheiten)  \\\n",
       "0                         NaN           NaN                            NaN   \n",
       "1                         NaN           NaN                            NaN   \n",
       "2                         NaN           NaN                            NaN   \n",
       "3                         NaN           NaN                            NaN   \n",
       "4                         NaN           NaN                            NaN   \n",
       "\n",
       "   Korrekturinsulin (Einheiten)  Insulin-Änderung durch Anwender (Einheiten)  \\\n",
       "0                           NaN                                          NaN   \n",
       "1                           NaN                                          NaN   \n",
       "2                           NaN                                          NaN   \n",
       "3                           NaN                                          NaN   \n",
       "4                           NaN                                          NaN   \n",
       "\n",
       "                                user_id  \n",
       "0  aaaaaaaa-aaaa-aaaa-aaaa-aaaaaaaaaaaa  \n",
       "1  aaaaaaaa-aaaa-aaaa-aaaa-aaaaaaaaaaaa  \n",
       "2  aaaaaaaa-aaaa-aaaa-aaaa-aaaaaaaaaaaa  \n",
       "3  aaaaaaaa-aaaa-aaaa-aaaa-aaaaaaaaaaaa  \n",
       "4  aaaaaaaa-aaaa-aaaa-aaaa-aaaaaaaaaaaa  "
      ]
     },
     "execution_count": 328,
     "metadata": {},
     "output_type": "execute_result"
    }
   ],
   "source": [
    "df_levels.head()"
   ]
  },
  {
   "cell_type": "markdown",
   "metadata": {},
   "source": [
    "# Quick assessment"
   ]
  },
  {
   "cell_type": "code",
   "execution_count": 329,
   "metadata": {},
   "outputs": [
    {
     "name": "stdout",
     "output_type": "stream",
     "text": [
      "<class 'pandas.core.frame.DataFrame'>\n",
      "Int64Index: 38 entries, 0 to 6\n",
      "Data columns (total 9 columns):\n",
      " #   Column           Non-Null Count  Dtype  \n",
      "---  ------           --------------  -----  \n",
      " 0   id               38 non-null     object \n",
      " 1   user_id          38 non-null     object \n",
      " 2   record_type      38 non-null     object \n",
      " 3   description      38 non-null     object \n",
      " 4   timestamp_start  38 non-null     object \n",
      " 5   timestamp_end    2 non-null      object \n",
      " 6   payload          0 non-null      float64\n",
      " 7   created          0 non-null      float64\n",
      " 8   last_modified    0 non-null      float64\n",
      "dtypes: float64(3), object(6)\n",
      "memory usage: 3.0+ KB\n"
     ]
    }
   ],
   "source": [
    "df_activities.info()"
   ]
  },
  {
   "cell_type": "code",
   "execution_count": 330,
   "metadata": {},
   "outputs": [
    {
     "name": "stdout",
     "output_type": "stream",
     "text": [
      "<class 'pandas.core.frame.DataFrame'>\n",
      "Int64Index: 3991 entries, 0 to 1422\n",
      "Data columns (total 20 columns):\n",
      " #   Column                                       Non-Null Count  Dtype  \n",
      "---  ------                                       --------------  -----  \n",
      " 0   Gerät                                        3991 non-null   object \n",
      " 1   Seriennummer                                 3991 non-null   object \n",
      " 2   Gerätezeitstempel                            3991 non-null   object \n",
      " 3   Aufzeichnungstyp                             3991 non-null   int64  \n",
      " 4   Glukosewert-Verlauf mg/dL                    3579 non-null   float64\n",
      " 5   Glukose-Scan mg/dL                           345 non-null    float64\n",
      " 6   Nicht numerisches schnellwirkendes Insulin   0 non-null      float64\n",
      " 7   Schnellwirkendes Insulin (Einheiten)         0 non-null      float64\n",
      " 8   Nicht numerische Nahrungsdaten               1 non-null      float64\n",
      " 9   Kohlenhydrate (Gramm)                        0 non-null      float64\n",
      " 10  Kohlenhydrate (Portionen)                    0 non-null      float64\n",
      " 11  Nicht numerisches Depotinsulin               0 non-null      float64\n",
      " 12  Depotinsulin (Einheiten)                     0 non-null      float64\n",
      " 13  Notizen                                      0 non-null      float64\n",
      " 14  Glukose-Teststreifen mg/dL                   0 non-null      float64\n",
      " 15  Keton mmol/L                                 0 non-null      float64\n",
      " 16  Mahlzeiteninsulin (Einheiten)                0 non-null      float64\n",
      " 17  Korrekturinsulin (Einheiten)                 0 non-null      float64\n",
      " 18  Insulin-Änderung durch Anwender (Einheiten)  0 non-null      float64\n",
      " 19  user_id                                      3991 non-null   object \n",
      "dtypes: float64(15), int64(1), object(4)\n",
      "memory usage: 654.8+ KB\n"
     ]
    }
   ],
   "source": [
    "df_levels.info()"
   ]
  },
  {
   "cell_type": "markdown",
   "metadata": {},
   "source": [
    "# Data Preprocessing"
   ]
  },
  {
   "cell_type": "markdown",
   "metadata": {},
   "source": [
    "#### First the activities"
   ]
  },
  {
   "cell_type": "code",
   "execution_count": 333,
   "metadata": {
    "scrolled": false
   },
   "outputs": [
    {
     "data": {
      "text/html": [
       "<div>\n",
       "<style scoped>\n",
       "    .dataframe tbody tr th:only-of-type {\n",
       "        vertical-align: middle;\n",
       "    }\n",
       "\n",
       "    .dataframe tbody tr th {\n",
       "        vertical-align: top;\n",
       "    }\n",
       "\n",
       "    .dataframe thead th {\n",
       "        text-align: right;\n",
       "    }\n",
       "</style>\n",
       "<table border=\"1\" class=\"dataframe\">\n",
       "  <thead>\n",
       "    <tr style=\"text-align: right;\">\n",
       "      <th></th>\n",
       "      <th>id</th>\n",
       "      <th>user_id</th>\n",
       "      <th>record_type</th>\n",
       "      <th>description</th>\n",
       "      <th>timestamp_start</th>\n",
       "      <th>timestamp_aftermeal</th>\n",
       "    </tr>\n",
       "  </thead>\n",
       "  <tbody>\n",
       "    <tr>\n",
       "      <th>0</th>\n",
       "      <td>aaaaaaaa-aaaa-aaaa-aaaa-aaaaaaaaaa00</td>\n",
       "      <td>aaaaaaaa-aaaa-aaaa-aaaa-aaaaaaaaaaaa</td>\n",
       "      <td>MEAL_BREAKFAST</td>\n",
       "      <td>40 g Haferflocken, 230 g Joghurt 0,3 %, 90 g B...</td>\n",
       "      <td>2021-02-15 08:30:00</td>\n",
       "      <td>2021-02-15 11:30:00</td>\n",
       "    </tr>\n",
       "    <tr>\n",
       "      <th>1</th>\n",
       "      <td>aaaaaaaa-aaaa-aaaa-aaaa-aaaaaaaaaa01</td>\n",
       "      <td>aaaaaaaa-aaaa-aaaa-aaaa-aaaaaaaaaaaa</td>\n",
       "      <td>MEAL_LUNCH</td>\n",
       "      <td>98 g M�hren-Walnuss-VK-Brot, 87 g Gurke, 55 g ...</td>\n",
       "      <td>2021-02-15 12:45:00</td>\n",
       "      <td>2021-02-15 15:45:00</td>\n",
       "    </tr>\n",
       "    <tr>\n",
       "      <th>2</th>\n",
       "      <td>aaaaaaaa-aaaa-aaaa-aaaa-aaaaaaaaaa02</td>\n",
       "      <td>aaaaaaaa-aaaa-aaaa-aaaa-aaaaaaaaaaaa</td>\n",
       "      <td>MEAL_SNACK</td>\n",
       "      <td>Mandarine, Teel�ffel Erdnussmu�</td>\n",
       "      <td>2021-02-15 16:15:00</td>\n",
       "      <td>2021-02-15 19:15:00</td>\n",
       "    </tr>\n",
       "    <tr>\n",
       "      <th>4</th>\n",
       "      <td>aaaaaaaa-aaaa-aaaa-aaaa-aaaaaaaaaa04</td>\n",
       "      <td>aaaaaaaa-aaaa-aaaa-aaaa-aaaaaaaaaaaa</td>\n",
       "      <td>MEAL_DINNER</td>\n",
       "      <td>50 g BasmatiVollkorn Reis, 20g Currypaste, 15 ...</td>\n",
       "      <td>2021-02-15 19:30:00</td>\n",
       "      <td>2021-02-15 22:30:00</td>\n",
       "    </tr>\n",
       "    <tr>\n",
       "      <th>5</th>\n",
       "      <td>aaaaaaaa-aaaa-aaaa-aaaa-aaaaaaaaaa05</td>\n",
       "      <td>aaaaaaaa-aaaa-aaaa-aaaa-aaaaaaaaaaaa</td>\n",
       "      <td>MEAL_BREAKFAST</td>\n",
       "      <td>230 g Joghurt, 40g Haferflocken, 65 g Apfel</td>\n",
       "      <td>2021-02-17 08:15:00</td>\n",
       "      <td>2021-02-17 11:15:00</td>\n",
       "    </tr>\n",
       "  </tbody>\n",
       "</table>\n",
       "</div>"
      ],
      "text/plain": [
       "                                     id                               user_id  \\\n",
       "0  aaaaaaaa-aaaa-aaaa-aaaa-aaaaaaaaaa00  aaaaaaaa-aaaa-aaaa-aaaa-aaaaaaaaaaaa   \n",
       "1  aaaaaaaa-aaaa-aaaa-aaaa-aaaaaaaaaa01  aaaaaaaa-aaaa-aaaa-aaaa-aaaaaaaaaaaa   \n",
       "2  aaaaaaaa-aaaa-aaaa-aaaa-aaaaaaaaaa02  aaaaaaaa-aaaa-aaaa-aaaa-aaaaaaaaaaaa   \n",
       "4  aaaaaaaa-aaaa-aaaa-aaaa-aaaaaaaaaa04  aaaaaaaa-aaaa-aaaa-aaaa-aaaaaaaaaaaa   \n",
       "5  aaaaaaaa-aaaa-aaaa-aaaa-aaaaaaaaaa05  aaaaaaaa-aaaa-aaaa-aaaa-aaaaaaaaaaaa   \n",
       "\n",
       "      record_type                                        description  \\\n",
       "0  MEAL_BREAKFAST  40 g Haferflocken, 230 g Joghurt 0,3 %, 90 g B...   \n",
       "1      MEAL_LUNCH  98 g M�hren-Walnuss-VK-Brot, 87 g Gurke, 55 g ...   \n",
       "2      MEAL_SNACK                    Mandarine, Teel�ffel Erdnussmu�   \n",
       "4     MEAL_DINNER  50 g BasmatiVollkorn Reis, 20g Currypaste, 15 ...   \n",
       "5  MEAL_BREAKFAST        230 g Joghurt, 40g Haferflocken, 65 g Apfel   \n",
       "\n",
       "      timestamp_start timestamp_aftermeal  \n",
       "0 2021-02-15 08:30:00 2021-02-15 11:30:00  \n",
       "1 2021-02-15 12:45:00 2021-02-15 15:45:00  \n",
       "2 2021-02-15 16:15:00 2021-02-15 19:15:00  \n",
       "4 2021-02-15 19:30:00 2021-02-15 22:30:00  \n",
       "5 2021-02-17 08:15:00 2021-02-17 11:15:00  "
      ]
     },
     "execution_count": 333,
     "metadata": {},
     "output_type": "execute_result"
    }
   ],
   "source": [
    "df_activities_clean = df_activities.copy()\n",
    "\n",
    "#keep only rows about meals\n",
    "activities_to_keep = ['MEAL_DINNER', 'MEAL_LUNCH', 'MEAL_SNACK', 'MEAL_BREAKFAST']\n",
    "df_activities_clean = df_activities_clean[df_activities_clean['record_type'].isin(activities_to_keep)]\n",
    "\n",
    "#remove empty columns\n",
    "df_activities_clean = df_activities_clean.iloc[:,:-4] \n",
    "\n",
    "#format datetime as timestamp\n",
    "df_activities_clean['timestamp_start'] = df_activities_clean['timestamp_start'].apply(lambda x: pd.Timestamp(x[:-6]))\n",
    "\n",
    "#add timestamp for 3h after meal\n",
    "df_activities_clean['timestamp_aftermeal'] = df_activities_clean['timestamp_start'].apply(lambda x: x+pd.Timedelta(hours=3))\n",
    "\n",
    "\n",
    "df_activities_clean.head()\n"
   ]
  },
  {
   "cell_type": "markdown",
   "metadata": {},
   "source": [
    "Looking at the levels dataframe"
   ]
  },
  {
   "cell_type": "code",
   "execution_count": 334,
   "metadata": {},
   "outputs": [
    {
     "data": {
      "text/html": [
       "<div>\n",
       "<style scoped>\n",
       "    .dataframe tbody tr th:only-of-type {\n",
       "        vertical-align: middle;\n",
       "    }\n",
       "\n",
       "    .dataframe tbody tr th {\n",
       "        vertical-align: top;\n",
       "    }\n",
       "\n",
       "    .dataframe thead th {\n",
       "        text-align: right;\n",
       "    }\n",
       "</style>\n",
       "<table border=\"1\" class=\"dataframe\">\n",
       "  <thead>\n",
       "    <tr style=\"text-align: right;\">\n",
       "      <th></th>\n",
       "      <th>user_id</th>\n",
       "      <th>timestamp</th>\n",
       "      <th>Aufzeichnungstyp</th>\n",
       "      <th>Glukosewert-Verlauf mg/dL</th>\n",
       "    </tr>\n",
       "  </thead>\n",
       "  <tbody>\n",
       "    <tr>\n",
       "      <th>0</th>\n",
       "      <td>aaaaaaaa-aaaa-aaaa-aaaa-aaaaaaaaaaaa</td>\n",
       "      <td>2021-02-18 10:57:00</td>\n",
       "      <td>0</td>\n",
       "      <td>77.0</td>\n",
       "    </tr>\n",
       "    <tr>\n",
       "      <th>1</th>\n",
       "      <td>aaaaaaaa-aaaa-aaaa-aaaa-aaaaaaaaaaaa</td>\n",
       "      <td>2021-02-18 11:12:00</td>\n",
       "      <td>0</td>\n",
       "      <td>78.0</td>\n",
       "    </tr>\n",
       "    <tr>\n",
       "      <th>2</th>\n",
       "      <td>aaaaaaaa-aaaa-aaaa-aaaa-aaaaaaaaaaaa</td>\n",
       "      <td>2021-02-18 11:27:00</td>\n",
       "      <td>0</td>\n",
       "      <td>78.0</td>\n",
       "    </tr>\n",
       "    <tr>\n",
       "      <th>3</th>\n",
       "      <td>aaaaaaaa-aaaa-aaaa-aaaa-aaaaaaaaaaaa</td>\n",
       "      <td>2021-02-18 11:42:00</td>\n",
       "      <td>0</td>\n",
       "      <td>76.0</td>\n",
       "    </tr>\n",
       "    <tr>\n",
       "      <th>4</th>\n",
       "      <td>aaaaaaaa-aaaa-aaaa-aaaa-aaaaaaaaaaaa</td>\n",
       "      <td>2021-02-18 11:57:00</td>\n",
       "      <td>0</td>\n",
       "      <td>75.0</td>\n",
       "    </tr>\n",
       "    <tr>\n",
       "      <th>...</th>\n",
       "      <td>...</td>\n",
       "      <td>...</td>\n",
       "      <td>...</td>\n",
       "      <td>...</td>\n",
       "    </tr>\n",
       "    <tr>\n",
       "      <th>1407</th>\n",
       "      <td>cccccccc-cccc-cccc-cccc-cccccccccccc</td>\n",
       "      <td>2021-02-23 20:18:00</td>\n",
       "      <td>1</td>\n",
       "      <td>106.0</td>\n",
       "    </tr>\n",
       "    <tr>\n",
       "      <th>1408</th>\n",
       "      <td>cccccccc-cccc-cccc-cccc-cccccccccccc</td>\n",
       "      <td>2021-02-23 21:29:00</td>\n",
       "      <td>1</td>\n",
       "      <td>108.0</td>\n",
       "    </tr>\n",
       "    <tr>\n",
       "      <th>1409</th>\n",
       "      <td>cccccccc-cccc-cccc-cccc-cccccccccccc</td>\n",
       "      <td>2021-02-24 04:12:00</td>\n",
       "      <td>1</td>\n",
       "      <td>113.0</td>\n",
       "    </tr>\n",
       "    <tr>\n",
       "      <th>1410</th>\n",
       "      <td>cccccccc-cccc-cccc-cccc-cccccccccccc</td>\n",
       "      <td>2021-02-24 07:17:00</td>\n",
       "      <td>1</td>\n",
       "      <td>134.0</td>\n",
       "    </tr>\n",
       "    <tr>\n",
       "      <th>1411</th>\n",
       "      <td>cccccccc-cccc-cccc-cccc-cccccccccccc</td>\n",
       "      <td>2021-02-24 08:02:00</td>\n",
       "      <td>1</td>\n",
       "      <td>144.0</td>\n",
       "    </tr>\n",
       "  </tbody>\n",
       "</table>\n",
       "<p>3924 rows × 4 columns</p>\n",
       "</div>"
      ],
      "text/plain": [
       "                                   user_id           timestamp  \\\n",
       "0     aaaaaaaa-aaaa-aaaa-aaaa-aaaaaaaaaaaa 2021-02-18 10:57:00   \n",
       "1     aaaaaaaa-aaaa-aaaa-aaaa-aaaaaaaaaaaa 2021-02-18 11:12:00   \n",
       "2     aaaaaaaa-aaaa-aaaa-aaaa-aaaaaaaaaaaa 2021-02-18 11:27:00   \n",
       "3     aaaaaaaa-aaaa-aaaa-aaaa-aaaaaaaaaaaa 2021-02-18 11:42:00   \n",
       "4     aaaaaaaa-aaaa-aaaa-aaaa-aaaaaaaaaaaa 2021-02-18 11:57:00   \n",
       "...                                    ...                 ...   \n",
       "1407  cccccccc-cccc-cccc-cccc-cccccccccccc 2021-02-23 20:18:00   \n",
       "1408  cccccccc-cccc-cccc-cccc-cccccccccccc 2021-02-23 21:29:00   \n",
       "1409  cccccccc-cccc-cccc-cccc-cccccccccccc 2021-02-24 04:12:00   \n",
       "1410  cccccccc-cccc-cccc-cccc-cccccccccccc 2021-02-24 07:17:00   \n",
       "1411  cccccccc-cccc-cccc-cccc-cccccccccccc 2021-02-24 08:02:00   \n",
       "\n",
       "      Aufzeichnungstyp  Glukosewert-Verlauf mg/dL  \n",
       "0                    0                       77.0  \n",
       "1                    0                       78.0  \n",
       "2                    0                       78.0  \n",
       "3                    0                       76.0  \n",
       "4                    0                       75.0  \n",
       "...                ...                        ...  \n",
       "1407                 1                      106.0  \n",
       "1408                 1                      108.0  \n",
       "1409                 1                      113.0  \n",
       "1410                 1                      134.0  \n",
       "1411                 1                      144.0  \n",
       "\n",
       "[3924 rows x 4 columns]"
      ]
     },
     "execution_count": 334,
     "metadata": {},
     "output_type": "execute_result"
    }
   ],
   "source": [
    "df_levels_clean = df_levels.copy()\n",
    "\n",
    "#only Aufzeichnungstyp of 0 or 1\n",
    "df_levels_clean = df_levels_clean[df_levels_clean['Aufzeichnungstyp'].isin([0,1])]\n",
    "\n",
    "#Combine the info from verlauf and scan\n",
    "df_levels_clean['Glukosewert-Verlauf mg/dL'] = df_levels_clean['Glukosewert-Verlauf mg/dL'].fillna(df_levels_clean['Glukose-Scan mg/dL'])\n",
    "\n",
    "#Keep only columns with info\n",
    "df_levels_clean = df_levels_clean[['user_id', 'Gerätezeitstempel', 'Aufzeichnungstyp', 'Glukosewert-Verlauf mg/dL']]\n",
    "\n",
    "#Recode datetime as timestamp\n",
    "df_levels_clean['timestamp'] = df_levels_clean['Gerätezeitstempel'].apply(lambda x: pd.Timestamp(x))\n",
    "\n",
    "#Keep only the columns we are interested in\n",
    "df_levels_clean = df_levels_clean[['user_id', 'timestamp', 'Aufzeichnungstyp', 'Glukosewert-Verlauf mg/dL']]\n",
    "\n",
    "df_levels_clean"
   ]
  },
  {
   "cell_type": "markdown",
   "metadata": {},
   "source": [
    "Now we want to merge glucose levels information to the meals dataframe"
   ]
  },
  {
   "cell_type": "code",
   "execution_count": 335,
   "metadata": {},
   "outputs": [],
   "source": [
    "#Function to search for glucose level prior to meal start\n",
    "\n",
    "def get_glucose_before_meal_a(x):\n",
    "    #Search for this user's glucose levels in df_levels and sort by time\n",
    "    df_to_search = df_levels_clean[df_levels_clean['user_id']==create_customer('a')]\n",
    "    df_to_search = df_to_search.sort_values(by='timestamp')\n",
    "    #Return the last glucose measurement prior to the meal start\n",
    "    return df_to_search[df_to_search['timestamp']<x].iloc[-1:,]['Glukosewert-Verlauf mg/dL'].iloc[0]\n",
    "\n",
    "#Bad solution (should be integrated in the function but time was running out! and I only noticed in the end...)\n",
    "def get_glucose_before_meal_b(x):\n",
    "    df_to_search = df_levels_clean[df_levels_clean['user_id']==create_customer('b')]\n",
    "    df_to_search = df_to_search.sort_values(by='timestamp')\n",
    "    return df_to_search[df_to_search['timestamp']<x].iloc[-1:,]['Glukosewert-Verlauf mg/dL'].iloc[0]\n",
    "\n",
    "def get_glucose_before_meal_c(x):\n",
    "    df_to_search = df_levels_clean[df_levels_clean['user_id']==create_customer('c')]\n",
    "    df_to_search = df_to_search.sort_values(by='timestamp')\n",
    "    return df_to_search[df_to_search['timestamp']<x].iloc[-1:,]['Glukosewert-Verlauf mg/dL'].iloc[0]"
   ]
  },
  {
   "cell_type": "code",
   "execution_count": 336,
   "metadata": {},
   "outputs": [],
   "source": [
    "#Function to look for the max of glucose level in the 3h following meal start\n",
    "\n",
    "def get_glucose_after_meal_a(x):\n",
    "    #Search for this user's glucose levels in df_levels and sort by time\n",
    "    df_to_search = df_levels_clean[(df_levels_clean['user_id']==create_customer('a')) & (df_levels_clean['timestamp']>x-pd.Timedelta(hours=3))]\n",
    "    df_to_search = df_to_search.sort_values(by='timestamp')\n",
    "    #Return the highest value found in that interval\n",
    "    return df_to_search[df_to_search['timestamp']<x]['Glukosewert-Verlauf mg/dL'].max()\n",
    "\n",
    "#Bad solution (should be integrated in the function but time was running out! and I only noticed in the end...)\n",
    "def get_glucose_after_meal_b(x):\n",
    "    df_to_search = df_levels_clean[(df_levels_clean['user_id']==create_customer('b')) & (df_levels_clean['timestamp']>x-pd.Timedelta(hours=3))]\n",
    "    df_to_search = df_to_search.sort_values(by='timestamp')\n",
    "    return df_to_search[df_to_search['timestamp']<x]['Glukosewert-Verlauf mg/dL'].max()\n",
    "\n",
    "def get_glucose_after_meal_c(x):\n",
    "    df_to_search = df_levels_clean[(df_levels_clean['user_id']==create_customer('c')) & (df_levels_clean['timestamp']>x-pd.Timedelta(hours=3))]\n",
    "    df_to_search = df_to_search.sort_values(by='timestamp')\n",
    "    return df_to_search[df_to_search['timestamp']<x]['Glukosewert-Verlauf mg/dL'].max()"
   ]
  },
  {
   "cell_type": "code",
   "execution_count": 377,
   "metadata": {},
   "outputs": [],
   "source": [
    "#Function to look for the time at which the glucose was at the highest level in the 3h following the meal\n",
    "\n",
    "def get_glucose_after_meal_spike_time_a(x):\n",
    "    #Search for this user's glucose levels in df_levels and sort by time\n",
    "    df_to_search = df_levels_clean[(df_levels_clean['user_id']==create_customer('a')) & (df_levels_clean['timestamp']>x-pd.Timedelta(hours=3))]\n",
    "    df_to_search = df_to_search.sort_values(by='timestamp')\n",
    "    #Return the highest value found in that interval\n",
    "    max_index = df_to_search[df_to_search['timestamp']<x]['Glukosewert-Verlauf mg/dL'].idxmax()\n",
    "    return df_to_search.loc[max_index]['timestamp']\n",
    "\n",
    "def get_glucose_after_meal_spike_time_b(x):\n",
    "    #Search for this user's glucose levels in df_levels and sort by time\n",
    "    df_to_search = df_levels_clean[(df_levels_clean['user_id']==create_customer('b')) & (df_levels_clean['timestamp']>x-pd.Timedelta(hours=3))]\n",
    "    df_to_search = df_to_search.sort_values(by='timestamp')\n",
    "    #Return the highest value found in that interval\n",
    "    max_index = df_to_search[df_to_search['timestamp']<x]['Glukosewert-Verlauf mg/dL'].idxmax()\n",
    "    return df_to_search.loc[max_index]['timestamp']\n",
    "\n",
    "def get_glucose_after_meal_spike_time_c(x):\n",
    "    #Search for this user's glucose levels in df_levels and sort by time\n",
    "    df_to_search = df_levels_clean[(df_levels_clean['user_id']==create_customer('c')) & (df_levels_clean['timestamp']>x-pd.Timedelta(hours=3))]\n",
    "    df_to_search = df_to_search.sort_values(by='timestamp')\n",
    "    #Return the highest value found in that interval\n",
    "    max_index = df_to_search[df_to_search['timestamp']<x]['Glukosewert-Verlauf mg/dL'].idxmax()\n",
    "    return df_to_search.loc[max_index]['timestamp']"
   ]
  },
  {
   "cell_type": "code",
   "execution_count": 389,
   "metadata": {},
   "outputs": [
    {
     "data": {
      "text/html": [
       "<div>\n",
       "<style scoped>\n",
       "    .dataframe tbody tr th:only-of-type {\n",
       "        vertical-align: middle;\n",
       "    }\n",
       "\n",
       "    .dataframe tbody tr th {\n",
       "        vertical-align: top;\n",
       "    }\n",
       "\n",
       "    .dataframe thead th {\n",
       "        text-align: right;\n",
       "    }\n",
       "</style>\n",
       "<table border=\"1\" class=\"dataframe\">\n",
       "  <thead>\n",
       "    <tr style=\"text-align: right;\">\n",
       "      <th></th>\n",
       "      <th>id</th>\n",
       "      <th>user_id</th>\n",
       "      <th>record_type</th>\n",
       "      <th>description</th>\n",
       "      <th>timestamp_start</th>\n",
       "      <th>timestamp_aftermeal</th>\n",
       "      <th>glucose_start</th>\n",
       "      <th>glucose_after</th>\n",
       "      <th>peak time</th>\n",
       "      <th>minutes until peak</th>\n",
       "    </tr>\n",
       "  </thead>\n",
       "  <tbody>\n",
       "    <tr>\n",
       "      <th>0</th>\n",
       "      <td>aaaaaaaa-aaaa-aaaa-aaaa-aaaaaaaaaa00</td>\n",
       "      <td>aaaaaaaa-aaaa-aaaa-aaaa-aaaaaaaaaaaa</td>\n",
       "      <td>MEAL_BREAKFAST</td>\n",
       "      <td>40 g Haferflocken, 230 g Joghurt 0,3 %, 90 g B...</td>\n",
       "      <td>2021-02-15 08:30:00</td>\n",
       "      <td>2021-02-15 11:30:00</td>\n",
       "      <td>80.0</td>\n",
       "      <td>109.0</td>\n",
       "      <td>2021-02-15 08:55:00</td>\n",
       "      <td>25.0</td>\n",
       "    </tr>\n",
       "    <tr>\n",
       "      <th>1</th>\n",
       "      <td>aaaaaaaa-aaaa-aaaa-aaaa-aaaaaaaaaa01</td>\n",
       "      <td>aaaaaaaa-aaaa-aaaa-aaaa-aaaaaaaaaaaa</td>\n",
       "      <td>MEAL_LUNCH</td>\n",
       "      <td>98 g M�hren-Walnuss-VK-Brot, 87 g Gurke, 55 g ...</td>\n",
       "      <td>2021-02-15 12:45:00</td>\n",
       "      <td>2021-02-15 15:45:00</td>\n",
       "      <td>83.0</td>\n",
       "      <td>121.0</td>\n",
       "      <td>2021-02-15 13:44:00</td>\n",
       "      <td>59.0</td>\n",
       "    </tr>\n",
       "    <tr>\n",
       "      <th>2</th>\n",
       "      <td>aaaaaaaa-aaaa-aaaa-aaaa-aaaaaaaaaa02</td>\n",
       "      <td>aaaaaaaa-aaaa-aaaa-aaaa-aaaaaaaaaaaa</td>\n",
       "      <td>MEAL_SNACK</td>\n",
       "      <td>Mandarine, Teel�ffel Erdnussmu�</td>\n",
       "      <td>2021-02-15 16:15:00</td>\n",
       "      <td>2021-02-15 19:15:00</td>\n",
       "      <td>73.0</td>\n",
       "      <td>102.0</td>\n",
       "      <td>2021-02-15 16:57:00</td>\n",
       "      <td>42.0</td>\n",
       "    </tr>\n",
       "    <tr>\n",
       "      <th>4</th>\n",
       "      <td>aaaaaaaa-aaaa-aaaa-aaaa-aaaaaaaaaa04</td>\n",
       "      <td>aaaaaaaa-aaaa-aaaa-aaaa-aaaaaaaaaaaa</td>\n",
       "      <td>MEAL_DINNER</td>\n",
       "      <td>50 g BasmatiVollkorn Reis, 20g Currypaste, 15 ...</td>\n",
       "      <td>2021-02-15 19:30:00</td>\n",
       "      <td>2021-02-15 22:30:00</td>\n",
       "      <td>73.0</td>\n",
       "      <td>101.0</td>\n",
       "      <td>2021-02-15 21:21:00</td>\n",
       "      <td>111.0</td>\n",
       "    </tr>\n",
       "    <tr>\n",
       "      <th>5</th>\n",
       "      <td>aaaaaaaa-aaaa-aaaa-aaaa-aaaaaaaaaa05</td>\n",
       "      <td>aaaaaaaa-aaaa-aaaa-aaaa-aaaaaaaaaaaa</td>\n",
       "      <td>MEAL_BREAKFAST</td>\n",
       "      <td>230 g Joghurt, 40g Haferflocken, 65 g Apfel</td>\n",
       "      <td>2021-02-17 08:15:00</td>\n",
       "      <td>2021-02-17 11:15:00</td>\n",
       "      <td>78.0</td>\n",
       "      <td>108.0</td>\n",
       "      <td>2021-02-17 08:51:00</td>\n",
       "      <td>36.0</td>\n",
       "    </tr>\n",
       "  </tbody>\n",
       "</table>\n",
       "</div>"
      ],
      "text/plain": [
       "                                     id                               user_id  \\\n",
       "0  aaaaaaaa-aaaa-aaaa-aaaa-aaaaaaaaaa00  aaaaaaaa-aaaa-aaaa-aaaa-aaaaaaaaaaaa   \n",
       "1  aaaaaaaa-aaaa-aaaa-aaaa-aaaaaaaaaa01  aaaaaaaa-aaaa-aaaa-aaaa-aaaaaaaaaaaa   \n",
       "2  aaaaaaaa-aaaa-aaaa-aaaa-aaaaaaaaaa02  aaaaaaaa-aaaa-aaaa-aaaa-aaaaaaaaaaaa   \n",
       "4  aaaaaaaa-aaaa-aaaa-aaaa-aaaaaaaaaa04  aaaaaaaa-aaaa-aaaa-aaaa-aaaaaaaaaaaa   \n",
       "5  aaaaaaaa-aaaa-aaaa-aaaa-aaaaaaaaaa05  aaaaaaaa-aaaa-aaaa-aaaa-aaaaaaaaaaaa   \n",
       "\n",
       "      record_type                                        description  \\\n",
       "0  MEAL_BREAKFAST  40 g Haferflocken, 230 g Joghurt 0,3 %, 90 g B...   \n",
       "1      MEAL_LUNCH  98 g M�hren-Walnuss-VK-Brot, 87 g Gurke, 55 g ...   \n",
       "2      MEAL_SNACK                    Mandarine, Teel�ffel Erdnussmu�   \n",
       "4     MEAL_DINNER  50 g BasmatiVollkorn Reis, 20g Currypaste, 15 ...   \n",
       "5  MEAL_BREAKFAST        230 g Joghurt, 40g Haferflocken, 65 g Apfel   \n",
       "\n",
       "      timestamp_start timestamp_aftermeal  glucose_start  glucose_after  \\\n",
       "0 2021-02-15 08:30:00 2021-02-15 11:30:00           80.0          109.0   \n",
       "1 2021-02-15 12:45:00 2021-02-15 15:45:00           83.0          121.0   \n",
       "2 2021-02-15 16:15:00 2021-02-15 19:15:00           73.0          102.0   \n",
       "4 2021-02-15 19:30:00 2021-02-15 22:30:00           73.0          101.0   \n",
       "5 2021-02-17 08:15:00 2021-02-17 11:15:00           78.0          108.0   \n",
       "\n",
       "            peak time  minutes until peak  \n",
       "0 2021-02-15 08:55:00                25.0  \n",
       "1 2021-02-15 13:44:00                59.0  \n",
       "2 2021-02-15 16:57:00                42.0  \n",
       "4 2021-02-15 21:21:00               111.0  \n",
       "5 2021-02-17 08:51:00                36.0  "
      ]
     },
     "execution_count": 389,
     "metadata": {},
     "output_type": "execute_result"
    }
   ],
   "source": [
    "#Applying functions to get glucose levels (each user at a time)\n",
    "df_activities_a = df_activities_clean[df_activities_clean['user_id']==create_customer('a')]\n",
    "df_activities_a['glucose_start'] = df_activities_a['timestamp_start'].apply(get_glucose_before_meal)\n",
    "df_activities_a['glucose_after'] = df_activities_a['timestamp_aftermeal'].apply(get_glucose_after_meal)\n",
    "df_activities_a['peak time'] = df_activities_a['timestamp_aftermeal'].apply(get_glucose_after_meal_spike_time_a)\n",
    "df_activities_a['minutes until peak'] = (df_activities_a['peak time']-df_activities_a['timestamp_start']).astype('timedelta64[m]')\n",
    "df_activities_a.head()"
   ]
  },
  {
   "cell_type": "code",
   "execution_count": 390,
   "metadata": {},
   "outputs": [
    {
     "data": {
      "text/html": [
       "<div>\n",
       "<style scoped>\n",
       "    .dataframe tbody tr th:only-of-type {\n",
       "        vertical-align: middle;\n",
       "    }\n",
       "\n",
       "    .dataframe tbody tr th {\n",
       "        vertical-align: top;\n",
       "    }\n",
       "\n",
       "    .dataframe thead th {\n",
       "        text-align: right;\n",
       "    }\n",
       "</style>\n",
       "<table border=\"1\" class=\"dataframe\">\n",
       "  <thead>\n",
       "    <tr style=\"text-align: right;\">\n",
       "      <th></th>\n",
       "      <th>id</th>\n",
       "      <th>user_id</th>\n",
       "      <th>record_type</th>\n",
       "      <th>description</th>\n",
       "      <th>timestamp_start</th>\n",
       "      <th>timestamp_aftermeal</th>\n",
       "      <th>glucose_start</th>\n",
       "      <th>glucose_after</th>\n",
       "      <th>peak time</th>\n",
       "      <th>minutes until peak</th>\n",
       "    </tr>\n",
       "  </thead>\n",
       "  <tbody>\n",
       "    <tr>\n",
       "      <th>0</th>\n",
       "      <td>bbbbbbbb-bbbb-bbbb-bbbb-bbbbbbbbbb00</td>\n",
       "      <td>bbbbbbbb-bbbb-bbbb-bbbb-bbbbbbbbbbbb</td>\n",
       "      <td>MEAL_BREAKFAST</td>\n",
       "      <td>2 Pott Kaffe +Zucker</td>\n",
       "      <td>2021-02-19 06:30:00</td>\n",
       "      <td>2021-02-19 09:30:00</td>\n",
       "      <td>71.0</td>\n",
       "      <td>109.0</td>\n",
       "      <td>2021-02-19 08:14:00</td>\n",
       "      <td>104.0</td>\n",
       "    </tr>\n",
       "    <tr>\n",
       "      <th>1</th>\n",
       "      <td>bbbbbbbb-bbbb-bbbb-bbbb-bbbbbbbbbb01</td>\n",
       "      <td>bbbbbbbb-bbbb-bbbb-bbbb-bbbbbbbbbbbb</td>\n",
       "      <td>MEAL_BREAKFAST</td>\n",
       "      <td>Gem�sesuppe instant</td>\n",
       "      <td>2021-02-19 07:30:00</td>\n",
       "      <td>2021-02-19 10:30:00</td>\n",
       "      <td>80.0</td>\n",
       "      <td>109.0</td>\n",
       "      <td>2021-02-19 08:14:00</td>\n",
       "      <td>44.0</td>\n",
       "    </tr>\n",
       "    <tr>\n",
       "      <th>2</th>\n",
       "      <td>bbbbbbbb-bbbb-bbbb-bbbb-bbbbbbbbbb02</td>\n",
       "      <td>bbbbbbbb-bbbb-bbbb-bbbb-bbbbbbbbbbbb</td>\n",
       "      <td>MEAL_SNACK</td>\n",
       "      <td>Gem�sesuppe instant + Gr�ner Tee ohne alles</td>\n",
       "      <td>2021-02-19 09:00:00</td>\n",
       "      <td>2021-02-19 12:00:00</td>\n",
       "      <td>87.0</td>\n",
       "      <td>109.0</td>\n",
       "      <td>2021-02-19 09:29:00</td>\n",
       "      <td>29.0</td>\n",
       "    </tr>\n",
       "    <tr>\n",
       "      <th>4</th>\n",
       "      <td>bbbbbbbb-bbbb-bbbb-bbbb-bbbbbbbbbb04</td>\n",
       "      <td>bbbbbbbb-bbbb-bbbb-bbbb-bbbbbbbbbbbb</td>\n",
       "      <td>MEAL_LUNCH</td>\n",
       "      <td>Kartoffeln (150 g), Quark 250 g, Bohnen 250g ,...</td>\n",
       "      <td>2021-02-19 12:45:00</td>\n",
       "      <td>2021-02-19 15:45:00</td>\n",
       "      <td>102.0</td>\n",
       "      <td>111.0</td>\n",
       "      <td>2021-02-19 15:30:00</td>\n",
       "      <td>165.0</td>\n",
       "    </tr>\n",
       "    <tr>\n",
       "      <th>5</th>\n",
       "      <td>bbbbbbbb-bbbb-bbbb-bbbb-bbbbbbbbbb05</td>\n",
       "      <td>bbbbbbbb-bbbb-bbbb-bbbb-bbbbbbbbbbbb</td>\n",
       "      <td>MEAL_SNACK</td>\n",
       "      <td>kaffee und etwas zucker, scheibe Brot mit L�tt...</td>\n",
       "      <td>2021-02-19 15:30:00</td>\n",
       "      <td>2021-02-19 18:30:00</td>\n",
       "      <td>86.0</td>\n",
       "      <td>92.0</td>\n",
       "      <td>2021-02-19 16:15:00</td>\n",
       "      <td>45.0</td>\n",
       "    </tr>\n",
       "  </tbody>\n",
       "</table>\n",
       "</div>"
      ],
      "text/plain": [
       "                                     id                               user_id  \\\n",
       "0  bbbbbbbb-bbbb-bbbb-bbbb-bbbbbbbbbb00  bbbbbbbb-bbbb-bbbb-bbbb-bbbbbbbbbbbb   \n",
       "1  bbbbbbbb-bbbb-bbbb-bbbb-bbbbbbbbbb01  bbbbbbbb-bbbb-bbbb-bbbb-bbbbbbbbbbbb   \n",
       "2  bbbbbbbb-bbbb-bbbb-bbbb-bbbbbbbbbb02  bbbbbbbb-bbbb-bbbb-bbbb-bbbbbbbbbbbb   \n",
       "4  bbbbbbbb-bbbb-bbbb-bbbb-bbbbbbbbbb04  bbbbbbbb-bbbb-bbbb-bbbb-bbbbbbbbbbbb   \n",
       "5  bbbbbbbb-bbbb-bbbb-bbbb-bbbbbbbbbb05  bbbbbbbb-bbbb-bbbb-bbbb-bbbbbbbbbbbb   \n",
       "\n",
       "      record_type                                        description  \\\n",
       "0  MEAL_BREAKFAST                               2 Pott Kaffe +Zucker   \n",
       "1  MEAL_BREAKFAST                                Gem�sesuppe instant   \n",
       "2      MEAL_SNACK        Gem�sesuppe instant + Gr�ner Tee ohne alles   \n",
       "4      MEAL_LUNCH  Kartoffeln (150 g), Quark 250 g, Bohnen 250g ,...   \n",
       "5      MEAL_SNACK  kaffee und etwas zucker, scheibe Brot mit L�tt...   \n",
       "\n",
       "      timestamp_start timestamp_aftermeal  glucose_start  glucose_after  \\\n",
       "0 2021-02-19 06:30:00 2021-02-19 09:30:00           71.0          109.0   \n",
       "1 2021-02-19 07:30:00 2021-02-19 10:30:00           80.0          109.0   \n",
       "2 2021-02-19 09:00:00 2021-02-19 12:00:00           87.0          109.0   \n",
       "4 2021-02-19 12:45:00 2021-02-19 15:45:00          102.0          111.0   \n",
       "5 2021-02-19 15:30:00 2021-02-19 18:30:00           86.0           92.0   \n",
       "\n",
       "            peak time  minutes until peak  \n",
       "0 2021-02-19 08:14:00               104.0  \n",
       "1 2021-02-19 08:14:00                44.0  \n",
       "2 2021-02-19 09:29:00                29.0  \n",
       "4 2021-02-19 15:30:00               165.0  \n",
       "5 2021-02-19 16:15:00                45.0  "
      ]
     },
     "execution_count": 390,
     "metadata": {},
     "output_type": "execute_result"
    }
   ],
   "source": [
    "#Applying functions to get glucose levels (each user at a time)\n",
    "df_activities_b = df_activities_clean[df_activities_clean['user_id']==create_customer('b')]\n",
    "df_activities_b['glucose_start'] = df_activities_b['timestamp_start'].apply(get_glucose_before_meal)\n",
    "df_activities_b['glucose_after'] = df_activities_b['timestamp_aftermeal'].apply(get_glucose_after_meal)\n",
    "df_activities_b['peak time'] = df_activities_b['timestamp_aftermeal'].apply(get_glucose_after_meal_spike_time_b)\n",
    "df_activities_b['minutes until peak'] = (df_activities_b['peak time']-df_activities_b['timestamp_start']).astype('timedelta64[m]')\n",
    "df_activities_b.head()"
   ]
  },
  {
   "cell_type": "code",
   "execution_count": 391,
   "metadata": {},
   "outputs": [
    {
     "data": {
      "text/html": [
       "<div>\n",
       "<style scoped>\n",
       "    .dataframe tbody tr th:only-of-type {\n",
       "        vertical-align: middle;\n",
       "    }\n",
       "\n",
       "    .dataframe tbody tr th {\n",
       "        vertical-align: top;\n",
       "    }\n",
       "\n",
       "    .dataframe thead th {\n",
       "        text-align: right;\n",
       "    }\n",
       "</style>\n",
       "<table border=\"1\" class=\"dataframe\">\n",
       "  <thead>\n",
       "    <tr style=\"text-align: right;\">\n",
       "      <th></th>\n",
       "      <th>id</th>\n",
       "      <th>user_id</th>\n",
       "      <th>record_type</th>\n",
       "      <th>description</th>\n",
       "      <th>timestamp_start</th>\n",
       "      <th>timestamp_aftermeal</th>\n",
       "      <th>glucose_start</th>\n",
       "      <th>glucose_after</th>\n",
       "      <th>peak time</th>\n",
       "      <th>minutes until peak</th>\n",
       "    </tr>\n",
       "  </thead>\n",
       "  <tbody>\n",
       "    <tr>\n",
       "      <th>0</th>\n",
       "      <td>cccccccc-cccc-cccc-cccc-cccccccccc00</td>\n",
       "      <td>cccccccc-cccc-cccc-cccc-cccccccccccc</td>\n",
       "      <td>MEAL_BREAKFAST</td>\n",
       "      <td>3 Vollkorntoast, 75g Schmelzk�se, 35g Butter, ...</td>\n",
       "      <td>2021-02-17 06:00:00</td>\n",
       "      <td>2021-02-17 09:00:00</td>\n",
       "      <td>69.0</td>\n",
       "      <td>108.0</td>\n",
       "      <td>2021-02-17 07:16:00</td>\n",
       "      <td>76.0</td>\n",
       "    </tr>\n",
       "    <tr>\n",
       "      <th>1</th>\n",
       "      <td>cccccccc-cccc-cccc-cccc-cccccccccc01</td>\n",
       "      <td>cccccccc-cccc-cccc-cccc-cccccccccccc</td>\n",
       "      <td>MEAL_LUNCH</td>\n",
       "      <td>350g Spinat,250g Kartoffeln, 2 Spiegeleier, 40...</td>\n",
       "      <td>2021-02-17 13:45:00</td>\n",
       "      <td>2021-02-17 16:45:00</td>\n",
       "      <td>114.0</td>\n",
       "      <td>108.0</td>\n",
       "      <td>2021-02-17 16:04:00</td>\n",
       "      <td>139.0</td>\n",
       "    </tr>\n",
       "    <tr>\n",
       "      <th>2</th>\n",
       "      <td>cccccccc-cccc-cccc-cccc-cccccccccc02</td>\n",
       "      <td>cccccccc-cccc-cccc-cccc-cccccccccccc</td>\n",
       "      <td>MEAL_DINNER</td>\n",
       "      <td>1 Vollkornbrot, 25g Butter, 65g Romadur, 20g E...</td>\n",
       "      <td>2021-02-17 19:45:00</td>\n",
       "      <td>2021-02-17 22:45:00</td>\n",
       "      <td>90.0</td>\n",
       "      <td>117.0</td>\n",
       "      <td>2021-02-17 21:36:00</td>\n",
       "      <td>111.0</td>\n",
       "    </tr>\n",
       "    <tr>\n",
       "      <th>3</th>\n",
       "      <td>cccccccc-cccc-cccc-cccc-cccccccccc03</td>\n",
       "      <td>cccccccc-cccc-cccc-cccc-cccccccccccc</td>\n",
       "      <td>MEAL_LUNCH</td>\n",
       "      <td>140g gebackener Leberk�se, 150g Erbsen-M�hren,...</td>\n",
       "      <td>2021-02-19 11:45:00</td>\n",
       "      <td>2021-02-19 14:45:00</td>\n",
       "      <td>76.0</td>\n",
       "      <td>111.0</td>\n",
       "      <td>2021-02-19 12:37:00</td>\n",
       "      <td>52.0</td>\n",
       "    </tr>\n",
       "    <tr>\n",
       "      <th>4</th>\n",
       "      <td>cccccccc-cccc-cccc-cccc-cccccccccc04</td>\n",
       "      <td>cccccccc-cccc-cccc-cccc-cccccccccccc</td>\n",
       "      <td>MEAL_DINNER</td>\n",
       "      <td>1 Vollkornbr�tchen, 70g Leberk�se, 100g Mixed ...</td>\n",
       "      <td>2021-02-19 18:30:00</td>\n",
       "      <td>2021-02-19 21:30:00</td>\n",
       "      <td>81.0</td>\n",
       "      <td>125.0</td>\n",
       "      <td>2021-02-19 19:41:00</td>\n",
       "      <td>71.0</td>\n",
       "    </tr>\n",
       "  </tbody>\n",
       "</table>\n",
       "</div>"
      ],
      "text/plain": [
       "                                     id                               user_id  \\\n",
       "0  cccccccc-cccc-cccc-cccc-cccccccccc00  cccccccc-cccc-cccc-cccc-cccccccccccc   \n",
       "1  cccccccc-cccc-cccc-cccc-cccccccccc01  cccccccc-cccc-cccc-cccc-cccccccccccc   \n",
       "2  cccccccc-cccc-cccc-cccc-cccccccccc02  cccccccc-cccc-cccc-cccc-cccccccccccc   \n",
       "3  cccccccc-cccc-cccc-cccc-cccccccccc03  cccccccc-cccc-cccc-cccc-cccccccccccc   \n",
       "4  cccccccc-cccc-cccc-cccc-cccccccccc04  cccccccc-cccc-cccc-cccc-cccccccccccc   \n",
       "\n",
       "      record_type                                        description  \\\n",
       "0  MEAL_BREAKFAST  3 Vollkorntoast, 75g Schmelzk�se, 35g Butter, ...   \n",
       "1      MEAL_LUNCH  350g Spinat,250g Kartoffeln, 2 Spiegeleier, 40...   \n",
       "2     MEAL_DINNER  1 Vollkornbrot, 25g Butter, 65g Romadur, 20g E...   \n",
       "3      MEAL_LUNCH  140g gebackener Leberk�se, 150g Erbsen-M�hren,...   \n",
       "4     MEAL_DINNER  1 Vollkornbr�tchen, 70g Leberk�se, 100g Mixed ...   \n",
       "\n",
       "      timestamp_start timestamp_aftermeal  glucose_start  glucose_after  \\\n",
       "0 2021-02-17 06:00:00 2021-02-17 09:00:00           69.0          108.0   \n",
       "1 2021-02-17 13:45:00 2021-02-17 16:45:00          114.0          108.0   \n",
       "2 2021-02-17 19:45:00 2021-02-17 22:45:00           90.0          117.0   \n",
       "3 2021-02-19 11:45:00 2021-02-19 14:45:00           76.0          111.0   \n",
       "4 2021-02-19 18:30:00 2021-02-19 21:30:00           81.0          125.0   \n",
       "\n",
       "            peak time  minutes until peak  \n",
       "0 2021-02-17 07:16:00                76.0  \n",
       "1 2021-02-17 16:04:00               139.0  \n",
       "2 2021-02-17 21:36:00               111.0  \n",
       "3 2021-02-19 12:37:00                52.0  \n",
       "4 2021-02-19 19:41:00                71.0  "
      ]
     },
     "execution_count": 391,
     "metadata": {},
     "output_type": "execute_result"
    }
   ],
   "source": [
    "#Applying functions to get glucose levels (each user at a time)\n",
    "df_activities_c = df_activities_clean[df_activities_clean['user_id']==create_customer('c')]\n",
    "df_activities_c['glucose_start'] = df_activities_c['timestamp_start'].apply(get_glucose_before_meal)\n",
    "df_activities_c['glucose_after'] = df_activities_c['timestamp_aftermeal'].apply(get_glucose_after_meal)\n",
    "df_activities_c['peak time'] = df_activities_c['timestamp_aftermeal'].apply(get_glucose_after_meal_spike_time_c)\n",
    "df_activities_c['minutes until peak'] = (df_activities_c['peak time']-df_activities_c['timestamp_start']).astype('timedelta64[m]')\n",
    "df_activities_c.head()"
   ]
  },
  {
   "cell_type": "code",
   "execution_count": 393,
   "metadata": {
    "scrolled": false
   },
   "outputs": [
    {
     "data": {
      "text/html": [
       "<div>\n",
       "<style scoped>\n",
       "    .dataframe tbody tr th:only-of-type {\n",
       "        vertical-align: middle;\n",
       "    }\n",
       "\n",
       "    .dataframe tbody tr th {\n",
       "        vertical-align: top;\n",
       "    }\n",
       "\n",
       "    .dataframe thead th {\n",
       "        text-align: right;\n",
       "    }\n",
       "</style>\n",
       "<table border=\"1\" class=\"dataframe\">\n",
       "  <thead>\n",
       "    <tr style=\"text-align: right;\">\n",
       "      <th></th>\n",
       "      <th>id</th>\n",
       "      <th>user_id</th>\n",
       "      <th>record_type</th>\n",
       "      <th>description</th>\n",
       "      <th>timestamp_start</th>\n",
       "      <th>timestamp_aftermeal</th>\n",
       "      <th>glucose_start</th>\n",
       "      <th>glucose_after</th>\n",
       "      <th>peak time</th>\n",
       "      <th>minutes until peak</th>\n",
       "      <th>change_aftermeal</th>\n",
       "      <th>pct_change_aftermeal</th>\n",
       "      <th>number of components</th>\n",
       "    </tr>\n",
       "  </thead>\n",
       "  <tbody>\n",
       "    <tr>\n",
       "      <th>0</th>\n",
       "      <td>aaaaaaaa-aaaa-aaaa-aaaa-aaaaaaaaaa00</td>\n",
       "      <td>aaaaaaaa-aaaa-aaaa-aaaa-aaaaaaaaaaaa</td>\n",
       "      <td>BREAKFAST</td>\n",
       "      <td>40 g Haferflocken, 230 g Joghurt 0,3 %, 90 g B...</td>\n",
       "      <td>2021-02-15 08:30:00</td>\n",
       "      <td>2021-02-15 11:30:00</td>\n",
       "      <td>80.0</td>\n",
       "      <td>109.0</td>\n",
       "      <td>2021-02-15 08:55:00</td>\n",
       "      <td>25.0</td>\n",
       "      <td>29.0</td>\n",
       "      <td>36.25</td>\n",
       "      <td>5</td>\n",
       "    </tr>\n",
       "    <tr>\n",
       "      <th>1</th>\n",
       "      <td>aaaaaaaa-aaaa-aaaa-aaaa-aaaaaaaaaa01</td>\n",
       "      <td>aaaaaaaa-aaaa-aaaa-aaaa-aaaaaaaaaaaa</td>\n",
       "      <td>LUNCH</td>\n",
       "      <td>98 g M�hren-Walnuss-VK-Brot, 87 g Gurke, 55 g ...</td>\n",
       "      <td>2021-02-15 12:45:00</td>\n",
       "      <td>2021-02-15 15:45:00</td>\n",
       "      <td>83.0</td>\n",
       "      <td>121.0</td>\n",
       "      <td>2021-02-15 13:44:00</td>\n",
       "      <td>59.0</td>\n",
       "      <td>38.0</td>\n",
       "      <td>45.78</td>\n",
       "      <td>4</td>\n",
       "    </tr>\n",
       "    <tr>\n",
       "      <th>2</th>\n",
       "      <td>aaaaaaaa-aaaa-aaaa-aaaa-aaaaaaaaaa02</td>\n",
       "      <td>aaaaaaaa-aaaa-aaaa-aaaa-aaaaaaaaaaaa</td>\n",
       "      <td>SNACK</td>\n",
       "      <td>Mandarine, Teel�ffel Erdnussmu�</td>\n",
       "      <td>2021-02-15 16:15:00</td>\n",
       "      <td>2021-02-15 19:15:00</td>\n",
       "      <td>73.0</td>\n",
       "      <td>102.0</td>\n",
       "      <td>2021-02-15 16:57:00</td>\n",
       "      <td>42.0</td>\n",
       "      <td>29.0</td>\n",
       "      <td>39.73</td>\n",
       "      <td>2</td>\n",
       "    </tr>\n",
       "    <tr>\n",
       "      <th>4</th>\n",
       "      <td>aaaaaaaa-aaaa-aaaa-aaaa-aaaaaaaaaa04</td>\n",
       "      <td>aaaaaaaa-aaaa-aaaa-aaaa-aaaaaaaaaaaa</td>\n",
       "      <td>DINNER</td>\n",
       "      <td>50 g BasmatiVollkorn Reis, 20g Currypaste, 15 ...</td>\n",
       "      <td>2021-02-15 19:30:00</td>\n",
       "      <td>2021-02-15 22:30:00</td>\n",
       "      <td>73.0</td>\n",
       "      <td>101.0</td>\n",
       "      <td>2021-02-15 21:21:00</td>\n",
       "      <td>111.0</td>\n",
       "      <td>28.0</td>\n",
       "      <td>38.36</td>\n",
       "      <td>12</td>\n",
       "    </tr>\n",
       "    <tr>\n",
       "      <th>5</th>\n",
       "      <td>aaaaaaaa-aaaa-aaaa-aaaa-aaaaaaaaaa05</td>\n",
       "      <td>aaaaaaaa-aaaa-aaaa-aaaa-aaaaaaaaaaaa</td>\n",
       "      <td>BREAKFAST</td>\n",
       "      <td>230 g Joghurt, 40g Haferflocken, 65 g Apfel</td>\n",
       "      <td>2021-02-17 08:15:00</td>\n",
       "      <td>2021-02-17 11:15:00</td>\n",
       "      <td>78.0</td>\n",
       "      <td>108.0</td>\n",
       "      <td>2021-02-17 08:51:00</td>\n",
       "      <td>36.0</td>\n",
       "      <td>30.0</td>\n",
       "      <td>38.46</td>\n",
       "      <td>3</td>\n",
       "    </tr>\n",
       "  </tbody>\n",
       "</table>\n",
       "</div>"
      ],
      "text/plain": [
       "                                     id                               user_id  \\\n",
       "0  aaaaaaaa-aaaa-aaaa-aaaa-aaaaaaaaaa00  aaaaaaaa-aaaa-aaaa-aaaa-aaaaaaaaaaaa   \n",
       "1  aaaaaaaa-aaaa-aaaa-aaaa-aaaaaaaaaa01  aaaaaaaa-aaaa-aaaa-aaaa-aaaaaaaaaaaa   \n",
       "2  aaaaaaaa-aaaa-aaaa-aaaa-aaaaaaaaaa02  aaaaaaaa-aaaa-aaaa-aaaa-aaaaaaaaaaaa   \n",
       "4  aaaaaaaa-aaaa-aaaa-aaaa-aaaaaaaaaa04  aaaaaaaa-aaaa-aaaa-aaaa-aaaaaaaaaaaa   \n",
       "5  aaaaaaaa-aaaa-aaaa-aaaa-aaaaaaaaaa05  aaaaaaaa-aaaa-aaaa-aaaa-aaaaaaaaaaaa   \n",
       "\n",
       "  record_type                                        description  \\\n",
       "0   BREAKFAST  40 g Haferflocken, 230 g Joghurt 0,3 %, 90 g B...   \n",
       "1       LUNCH  98 g M�hren-Walnuss-VK-Brot, 87 g Gurke, 55 g ...   \n",
       "2       SNACK                    Mandarine, Teel�ffel Erdnussmu�   \n",
       "4      DINNER  50 g BasmatiVollkorn Reis, 20g Currypaste, 15 ...   \n",
       "5   BREAKFAST        230 g Joghurt, 40g Haferflocken, 65 g Apfel   \n",
       "\n",
       "      timestamp_start timestamp_aftermeal  glucose_start  glucose_after  \\\n",
       "0 2021-02-15 08:30:00 2021-02-15 11:30:00           80.0          109.0   \n",
       "1 2021-02-15 12:45:00 2021-02-15 15:45:00           83.0          121.0   \n",
       "2 2021-02-15 16:15:00 2021-02-15 19:15:00           73.0          102.0   \n",
       "4 2021-02-15 19:30:00 2021-02-15 22:30:00           73.0          101.0   \n",
       "5 2021-02-17 08:15:00 2021-02-17 11:15:00           78.0          108.0   \n",
       "\n",
       "            peak time  minutes until peak  change_aftermeal  \\\n",
       "0 2021-02-15 08:55:00                25.0              29.0   \n",
       "1 2021-02-15 13:44:00                59.0              38.0   \n",
       "2 2021-02-15 16:57:00                42.0              29.0   \n",
       "4 2021-02-15 21:21:00               111.0              28.0   \n",
       "5 2021-02-17 08:51:00                36.0              30.0   \n",
       "\n",
       "   pct_change_aftermeal  number of components  \n",
       "0                 36.25                     5  \n",
       "1                 45.78                     4  \n",
       "2                 39.73                     2  \n",
       "4                 38.36                    12  \n",
       "5                 38.46                     3  "
      ]
     },
     "execution_count": 393,
     "metadata": {},
     "output_type": "execute_result"
    }
   ],
   "source": [
    "#Combining the customers back into a single dataframe\n",
    "df_activities_ready = pd.concat([df_activities_a, df_activities_b, df_activities_c])\n",
    "\n",
    "#Adding column for difference in glucose between start and after meal\n",
    "df_activities_ready['change_aftermeal'] = df_activities_ready['glucose_after'] - df_activities_ready['glucose_start']\n",
    "\n",
    "#Adding column for pct difference\n",
    "df_activities_ready['pct_change_aftermeal'] = round((df_activities_ready['glucose_after'] - df_activities_ready['glucose_start'])/df_activities_ready['glucose_start'],4)*100\n",
    "\n",
    "#Adding column for number of ingredients in meal\n",
    "df_activities_ready['number of components'] = df_activities_ready['description'].apply(lambda x: len(x.split(',')))\n",
    "\n",
    "#Cleaning type of meal\n",
    "df_activities_ready['record_type'] = df_activities_ready['record_type'].apply(lambda x: x.split('_')[-1])\n",
    "\n",
    "\n",
    "df_activities_ready.head()"
   ]
  },
  {
   "cell_type": "markdown",
   "metadata": {},
   "source": [
    "Creating a dataframe that contains one line per meal component"
   ]
  },
  {
   "cell_type": "code",
   "execution_count": 343,
   "metadata": {},
   "outputs": [],
   "source": [
    "#Trying to get the quantity of each component\n",
    "def get_quantity(x):\n",
    "    quantity = '0'\n",
    "    for n in range(len(x)):\n",
    "        if str(x[n]) in ['0','1','2','3','4','5','6','7','8', '9']:\n",
    "            quantity+=x[n]\n",
    "    return float(quantity)\n",
    "            "
   ]
  },
  {
   "cell_type": "code",
   "execution_count": 402,
   "metadata": {},
   "outputs": [
    {
     "data": {
      "text/html": [
       "<div>\n",
       "<style scoped>\n",
       "    .dataframe tbody tr th:only-of-type {\n",
       "        vertical-align: middle;\n",
       "    }\n",
       "\n",
       "    .dataframe tbody tr th {\n",
       "        vertical-align: top;\n",
       "    }\n",
       "\n",
       "    .dataframe thead th {\n",
       "        text-align: right;\n",
       "    }\n",
       "</style>\n",
       "<table border=\"1\" class=\"dataframe\">\n",
       "  <thead>\n",
       "    <tr style=\"text-align: right;\">\n",
       "      <th></th>\n",
       "      <th>id</th>\n",
       "      <th>user_id</th>\n",
       "      <th>record_type</th>\n",
       "      <th>description</th>\n",
       "      <th>timestamp_start</th>\n",
       "      <th>timestamp_aftermeal</th>\n",
       "      <th>glucose_start</th>\n",
       "      <th>glucose_after</th>\n",
       "      <th>peak time</th>\n",
       "      <th>minutes until peak</th>\n",
       "      <th>change_aftermeal</th>\n",
       "      <th>pct_change_aftermeal</th>\n",
       "      <th>number of components</th>\n",
       "      <th>day</th>\n",
       "      <th>meal component</th>\n",
       "      <th>Quantity</th>\n",
       "    </tr>\n",
       "  </thead>\n",
       "  <tbody>\n",
       "    <tr>\n",
       "      <th>6</th>\n",
       "      <td>cccccccc-cccc-cccc-cccc-cccccccccc06</td>\n",
       "      <td>cccccccc-cccc-cccc-cccc-cccccccccccc</td>\n",
       "      <td>DINNER</td>\n",
       "      <td>1 Schb. Vollkorndinkelbrot, 30g Butter, 100g K...</td>\n",
       "      <td>2021-02-21 18:00:00</td>\n",
       "      <td>2021-02-21 21:00:00</td>\n",
       "      <td>90.0</td>\n",
       "      <td>104.0</td>\n",
       "      <td>2021-02-21 19:13:00</td>\n",
       "      <td>73.0</td>\n",
       "      <td>14.0</td>\n",
       "      <td>15.56</td>\n",
       "      <td>5</td>\n",
       "      <td>21</td>\n",
       "      <td>Vollkorndinkelbrot</td>\n",
       "      <td>1.0</td>\n",
       "    </tr>\n",
       "    <tr>\n",
       "      <th>6</th>\n",
       "      <td>cccccccc-cccc-cccc-cccc-cccccccccc06</td>\n",
       "      <td>cccccccc-cccc-cccc-cccc-cccccccccccc</td>\n",
       "      <td>DINNER</td>\n",
       "      <td>1 Schb. Vollkorndinkelbrot, 30g Butter, 100g K...</td>\n",
       "      <td>2021-02-21 18:00:00</td>\n",
       "      <td>2021-02-21 21:00:00</td>\n",
       "      <td>90.0</td>\n",
       "      <td>104.0</td>\n",
       "      <td>2021-02-21 19:13:00</td>\n",
       "      <td>73.0</td>\n",
       "      <td>14.0</td>\n",
       "      <td>15.56</td>\n",
       "      <td>5</td>\n",
       "      <td>21</td>\n",
       "      <td>Butter</td>\n",
       "      <td>30.0</td>\n",
       "    </tr>\n",
       "    <tr>\n",
       "      <th>6</th>\n",
       "      <td>cccccccc-cccc-cccc-cccc-cccccccccc06</td>\n",
       "      <td>cccccccc-cccc-cccc-cccc-cccccccccccc</td>\n",
       "      <td>DINNER</td>\n",
       "      <td>1 Schb. Vollkorndinkelbrot, 30g Butter, 100g K...</td>\n",
       "      <td>2021-02-21 18:00:00</td>\n",
       "      <td>2021-02-21 21:00:00</td>\n",
       "      <td>90.0</td>\n",
       "      <td>104.0</td>\n",
       "      <td>2021-02-21 19:13:00</td>\n",
       "      <td>73.0</td>\n",
       "      <td>14.0</td>\n",
       "      <td>15.56</td>\n",
       "      <td>5</td>\n",
       "      <td>21</td>\n",
       "      <td>Kartoffelsalat</td>\n",
       "      <td>100.0</td>\n",
       "    </tr>\n",
       "    <tr>\n",
       "      <th>6</th>\n",
       "      <td>cccccccc-cccc-cccc-cccc-cccccccccc06</td>\n",
       "      <td>cccccccc-cccc-cccc-cccc-cccccccccccc</td>\n",
       "      <td>DINNER</td>\n",
       "      <td>1 Schb. Vollkorndinkelbrot, 30g Butter, 100g K...</td>\n",
       "      <td>2021-02-21 18:00:00</td>\n",
       "      <td>2021-02-21 21:00:00</td>\n",
       "      <td>90.0</td>\n",
       "      <td>104.0</td>\n",
       "      <td>2021-02-21 19:13:00</td>\n",
       "      <td>73.0</td>\n",
       "      <td>14.0</td>\n",
       "      <td>15.56</td>\n",
       "      <td>5</td>\n",
       "      <td>21</td>\n",
       "      <td>Tomatensalat</td>\n",
       "      <td>100.0</td>\n",
       "    </tr>\n",
       "    <tr>\n",
       "      <th>6</th>\n",
       "      <td>cccccccc-cccc-cccc-cccc-cccccccccc06</td>\n",
       "      <td>cccccccc-cccc-cccc-cccc-cccccccccccc</td>\n",
       "      <td>DINNER</td>\n",
       "      <td>1 Schb. Vollkorndinkelbrot, 30g Butter, 100g K...</td>\n",
       "      <td>2021-02-21 18:00:00</td>\n",
       "      <td>2021-02-21 21:00:00</td>\n",
       "      <td>90.0</td>\n",
       "      <td>104.0</td>\n",
       "      <td>2021-02-21 19:13:00</td>\n",
       "      <td>73.0</td>\n",
       "      <td>14.0</td>\n",
       "      <td>15.56</td>\n",
       "      <td>5</td>\n",
       "      <td>21</td>\n",
       "      <td>Rotwein</td>\n",
       "      <td>400.0</td>\n",
       "    </tr>\n",
       "  </tbody>\n",
       "</table>\n",
       "</div>"
      ],
      "text/plain": [
       "                                     id                               user_id  \\\n",
       "6  cccccccc-cccc-cccc-cccc-cccccccccc06  cccccccc-cccc-cccc-cccc-cccccccccccc   \n",
       "6  cccccccc-cccc-cccc-cccc-cccccccccc06  cccccccc-cccc-cccc-cccc-cccccccccccc   \n",
       "6  cccccccc-cccc-cccc-cccc-cccccccccc06  cccccccc-cccc-cccc-cccc-cccccccccccc   \n",
       "6  cccccccc-cccc-cccc-cccc-cccccccccc06  cccccccc-cccc-cccc-cccc-cccccccccccc   \n",
       "6  cccccccc-cccc-cccc-cccc-cccccccccc06  cccccccc-cccc-cccc-cccc-cccccccccccc   \n",
       "\n",
       "  record_type                                        description  \\\n",
       "6      DINNER  1 Schb. Vollkorndinkelbrot, 30g Butter, 100g K...   \n",
       "6      DINNER  1 Schb. Vollkorndinkelbrot, 30g Butter, 100g K...   \n",
       "6      DINNER  1 Schb. Vollkorndinkelbrot, 30g Butter, 100g K...   \n",
       "6      DINNER  1 Schb. Vollkorndinkelbrot, 30g Butter, 100g K...   \n",
       "6      DINNER  1 Schb. Vollkorndinkelbrot, 30g Butter, 100g K...   \n",
       "\n",
       "      timestamp_start timestamp_aftermeal  glucose_start  glucose_after  \\\n",
       "6 2021-02-21 18:00:00 2021-02-21 21:00:00           90.0          104.0   \n",
       "6 2021-02-21 18:00:00 2021-02-21 21:00:00           90.0          104.0   \n",
       "6 2021-02-21 18:00:00 2021-02-21 21:00:00           90.0          104.0   \n",
       "6 2021-02-21 18:00:00 2021-02-21 21:00:00           90.0          104.0   \n",
       "6 2021-02-21 18:00:00 2021-02-21 21:00:00           90.0          104.0   \n",
       "\n",
       "            peak time  minutes until peak  change_aftermeal  \\\n",
       "6 2021-02-21 19:13:00                73.0              14.0   \n",
       "6 2021-02-21 19:13:00                73.0              14.0   \n",
       "6 2021-02-21 19:13:00                73.0              14.0   \n",
       "6 2021-02-21 19:13:00                73.0              14.0   \n",
       "6 2021-02-21 19:13:00                73.0              14.0   \n",
       "\n",
       "   pct_change_aftermeal  number of components  day      meal component  \\\n",
       "6                 15.56                     5   21  Vollkorndinkelbrot   \n",
       "6                 15.56                     5   21              Butter   \n",
       "6                 15.56                     5   21      Kartoffelsalat   \n",
       "6                 15.56                     5   21        Tomatensalat   \n",
       "6                 15.56                     5   21             Rotwein   \n",
       "\n",
       "   Quantity  \n",
       "6       1.0  \n",
       "6      30.0  \n",
       "6     100.0  \n",
       "6     100.0  \n",
       "6     400.0  "
      ]
     },
     "execution_count": 402,
     "metadata": {},
     "output_type": "execute_result"
    }
   ],
   "source": [
    "df_activities_meal_components = df_activities_ready.copy()\n",
    "\n",
    "#Separating components based on commas and exploding to create new rows\n",
    "df_activities_meal_components['meal component'] = df_activities_meal_components['description'].apply(lambda x: x.split(','))\n",
    "df_activities_meal_components = df_activities_meal_components.explode('meal component')\n",
    "\n",
    "#Getting the quantity of each component\n",
    "df_activities_meal_components['Quantity'] = df_activities_meal_components['meal component'].apply(get_quantity)\n",
    "\n",
    "#Getting only the name by splitting based on the spaces\n",
    "df_activities_meal_components['meal component'] = df_activities_meal_components['meal component'].apply(lambda x: x.split(' ')[-1])\n",
    "\n",
    "df_activities_meal_components.tail()"
   ]
  },
  {
   "cell_type": "markdown",
   "metadata": {},
   "source": [
    "### Note: Advanced text mining is not my stronger suit so if that is very important for the short-term, I might not be the person you are looking for! I can learn though but I am no expert at the moment :)"
   ]
  },
  {
   "cell_type": "markdown",
   "metadata": {},
   "source": [
    "# Visualizing data"
   ]
  },
  {
   "cell_type": "markdown",
   "metadata": {},
   "source": [
    "#### Important note\n",
    "All the observations made here are purely exploratory and intend only to demonstrate how the visualisations could help in finding hypothesis that would have to be verified with further investigation."
   ]
  },
  {
   "cell_type": "code",
   "execution_count": 403,
   "metadata": {},
   "outputs": [
    {
     "data": {
      "text/html": [
       "<div>\n",
       "<style scoped>\n",
       "    .dataframe tbody tr th:only-of-type {\n",
       "        vertical-align: middle;\n",
       "    }\n",
       "\n",
       "    .dataframe tbody tr th {\n",
       "        vertical-align: top;\n",
       "    }\n",
       "\n",
       "    .dataframe thead th {\n",
       "        text-align: right;\n",
       "    }\n",
       "</style>\n",
       "<table border=\"1\" class=\"dataframe\">\n",
       "  <thead>\n",
       "    <tr style=\"text-align: right;\">\n",
       "      <th></th>\n",
       "      <th>user_id</th>\n",
       "      <th>timestamp</th>\n",
       "      <th>Aufzeichnungstyp</th>\n",
       "      <th>Glukosewert-Verlauf mg/dL</th>\n",
       "    </tr>\n",
       "  </thead>\n",
       "  <tbody>\n",
       "    <tr>\n",
       "      <th>0</th>\n",
       "      <td>aaaaaaaa-aaaa-aaaa-aaaa-aaaaaaaaaaaa</td>\n",
       "      <td>2021-02-18 10:57:00</td>\n",
       "      <td>0</td>\n",
       "      <td>77.0</td>\n",
       "    </tr>\n",
       "    <tr>\n",
       "      <th>1</th>\n",
       "      <td>aaaaaaaa-aaaa-aaaa-aaaa-aaaaaaaaaaaa</td>\n",
       "      <td>2021-02-18 11:12:00</td>\n",
       "      <td>0</td>\n",
       "      <td>78.0</td>\n",
       "    </tr>\n",
       "    <tr>\n",
       "      <th>2</th>\n",
       "      <td>aaaaaaaa-aaaa-aaaa-aaaa-aaaaaaaaaaaa</td>\n",
       "      <td>2021-02-18 11:27:00</td>\n",
       "      <td>0</td>\n",
       "      <td>78.0</td>\n",
       "    </tr>\n",
       "    <tr>\n",
       "      <th>3</th>\n",
       "      <td>aaaaaaaa-aaaa-aaaa-aaaa-aaaaaaaaaaaa</td>\n",
       "      <td>2021-02-18 11:42:00</td>\n",
       "      <td>0</td>\n",
       "      <td>76.0</td>\n",
       "    </tr>\n",
       "    <tr>\n",
       "      <th>4</th>\n",
       "      <td>aaaaaaaa-aaaa-aaaa-aaaa-aaaaaaaaaaaa</td>\n",
       "      <td>2021-02-18 11:57:00</td>\n",
       "      <td>0</td>\n",
       "      <td>75.0</td>\n",
       "    </tr>\n",
       "  </tbody>\n",
       "</table>\n",
       "</div>"
      ],
      "text/plain": [
       "                                user_id           timestamp  Aufzeichnungstyp  \\\n",
       "0  aaaaaaaa-aaaa-aaaa-aaaa-aaaaaaaaaaaa 2021-02-18 10:57:00                 0   \n",
       "1  aaaaaaaa-aaaa-aaaa-aaaa-aaaaaaaaaaaa 2021-02-18 11:12:00                 0   \n",
       "2  aaaaaaaa-aaaa-aaaa-aaaa-aaaaaaaaaaaa 2021-02-18 11:27:00                 0   \n",
       "3  aaaaaaaa-aaaa-aaaa-aaaa-aaaaaaaaaaaa 2021-02-18 11:42:00                 0   \n",
       "4  aaaaaaaa-aaaa-aaaa-aaaa-aaaaaaaaaaaa 2021-02-18 11:57:00                 0   \n",
       "\n",
       "   Glukosewert-Verlauf mg/dL  \n",
       "0                       77.0  \n",
       "1                       78.0  \n",
       "2                       78.0  \n",
       "3                       76.0  \n",
       "4                       75.0  "
      ]
     },
     "execution_count": 403,
     "metadata": {},
     "output_type": "execute_result"
    }
   ],
   "source": [
    "df_levels_clean.head()"
   ]
  },
  {
   "cell_type": "code",
   "execution_count": 404,
   "metadata": {},
   "outputs": [
    {
     "data": {
      "text/html": [
       "<div>\n",
       "<style scoped>\n",
       "    .dataframe tbody tr th:only-of-type {\n",
       "        vertical-align: middle;\n",
       "    }\n",
       "\n",
       "    .dataframe tbody tr th {\n",
       "        vertical-align: top;\n",
       "    }\n",
       "\n",
       "    .dataframe thead th {\n",
       "        text-align: right;\n",
       "    }\n",
       "</style>\n",
       "<table border=\"1\" class=\"dataframe\">\n",
       "  <thead>\n",
       "    <tr style=\"text-align: right;\">\n",
       "      <th></th>\n",
       "      <th>id</th>\n",
       "      <th>user_id</th>\n",
       "      <th>record_type</th>\n",
       "      <th>description</th>\n",
       "      <th>timestamp_start</th>\n",
       "      <th>timestamp_aftermeal</th>\n",
       "      <th>glucose_start</th>\n",
       "      <th>glucose_after</th>\n",
       "      <th>peak time</th>\n",
       "      <th>minutes until peak</th>\n",
       "      <th>change_aftermeal</th>\n",
       "      <th>pct_change_aftermeal</th>\n",
       "      <th>number of components</th>\n",
       "      <th>day</th>\n",
       "    </tr>\n",
       "  </thead>\n",
       "  <tbody>\n",
       "    <tr>\n",
       "      <th>0</th>\n",
       "      <td>aaaaaaaa-aaaa-aaaa-aaaa-aaaaaaaaaa00</td>\n",
       "      <td>aaaaaaaa-aaaa-aaaa-aaaa-aaaaaaaaaaaa</td>\n",
       "      <td>BREAKFAST</td>\n",
       "      <td>40 g Haferflocken, 230 g Joghurt 0,3 %, 90 g B...</td>\n",
       "      <td>2021-02-15 08:30:00</td>\n",
       "      <td>2021-02-15 11:30:00</td>\n",
       "      <td>80.0</td>\n",
       "      <td>109.0</td>\n",
       "      <td>2021-02-15 08:55:00</td>\n",
       "      <td>25.0</td>\n",
       "      <td>29.0</td>\n",
       "      <td>36.25</td>\n",
       "      <td>5</td>\n",
       "      <td>15</td>\n",
       "    </tr>\n",
       "    <tr>\n",
       "      <th>1</th>\n",
       "      <td>aaaaaaaa-aaaa-aaaa-aaaa-aaaaaaaaaa01</td>\n",
       "      <td>aaaaaaaa-aaaa-aaaa-aaaa-aaaaaaaaaaaa</td>\n",
       "      <td>LUNCH</td>\n",
       "      <td>98 g M�hren-Walnuss-VK-Brot, 87 g Gurke, 55 g ...</td>\n",
       "      <td>2021-02-15 12:45:00</td>\n",
       "      <td>2021-02-15 15:45:00</td>\n",
       "      <td>83.0</td>\n",
       "      <td>121.0</td>\n",
       "      <td>2021-02-15 13:44:00</td>\n",
       "      <td>59.0</td>\n",
       "      <td>38.0</td>\n",
       "      <td>45.78</td>\n",
       "      <td>4</td>\n",
       "      <td>15</td>\n",
       "    </tr>\n",
       "    <tr>\n",
       "      <th>2</th>\n",
       "      <td>aaaaaaaa-aaaa-aaaa-aaaa-aaaaaaaaaa02</td>\n",
       "      <td>aaaaaaaa-aaaa-aaaa-aaaa-aaaaaaaaaaaa</td>\n",
       "      <td>SNACK</td>\n",
       "      <td>Mandarine, Teel�ffel Erdnussmu�</td>\n",
       "      <td>2021-02-15 16:15:00</td>\n",
       "      <td>2021-02-15 19:15:00</td>\n",
       "      <td>73.0</td>\n",
       "      <td>102.0</td>\n",
       "      <td>2021-02-15 16:57:00</td>\n",
       "      <td>42.0</td>\n",
       "      <td>29.0</td>\n",
       "      <td>39.73</td>\n",
       "      <td>2</td>\n",
       "      <td>15</td>\n",
       "    </tr>\n",
       "    <tr>\n",
       "      <th>4</th>\n",
       "      <td>aaaaaaaa-aaaa-aaaa-aaaa-aaaaaaaaaa04</td>\n",
       "      <td>aaaaaaaa-aaaa-aaaa-aaaa-aaaaaaaaaaaa</td>\n",
       "      <td>DINNER</td>\n",
       "      <td>50 g BasmatiVollkorn Reis, 20g Currypaste, 15 ...</td>\n",
       "      <td>2021-02-15 19:30:00</td>\n",
       "      <td>2021-02-15 22:30:00</td>\n",
       "      <td>73.0</td>\n",
       "      <td>101.0</td>\n",
       "      <td>2021-02-15 21:21:00</td>\n",
       "      <td>111.0</td>\n",
       "      <td>28.0</td>\n",
       "      <td>38.36</td>\n",
       "      <td>12</td>\n",
       "      <td>15</td>\n",
       "    </tr>\n",
       "    <tr>\n",
       "      <th>5</th>\n",
       "      <td>aaaaaaaa-aaaa-aaaa-aaaa-aaaaaaaaaa05</td>\n",
       "      <td>aaaaaaaa-aaaa-aaaa-aaaa-aaaaaaaaaaaa</td>\n",
       "      <td>BREAKFAST</td>\n",
       "      <td>230 g Joghurt, 40g Haferflocken, 65 g Apfel</td>\n",
       "      <td>2021-02-17 08:15:00</td>\n",
       "      <td>2021-02-17 11:15:00</td>\n",
       "      <td>78.0</td>\n",
       "      <td>108.0</td>\n",
       "      <td>2021-02-17 08:51:00</td>\n",
       "      <td>36.0</td>\n",
       "      <td>30.0</td>\n",
       "      <td>38.46</td>\n",
       "      <td>3</td>\n",
       "      <td>17</td>\n",
       "    </tr>\n",
       "  </tbody>\n",
       "</table>\n",
       "</div>"
      ],
      "text/plain": [
       "                                     id                               user_id  \\\n",
       "0  aaaaaaaa-aaaa-aaaa-aaaa-aaaaaaaaaa00  aaaaaaaa-aaaa-aaaa-aaaa-aaaaaaaaaaaa   \n",
       "1  aaaaaaaa-aaaa-aaaa-aaaa-aaaaaaaaaa01  aaaaaaaa-aaaa-aaaa-aaaa-aaaaaaaaaaaa   \n",
       "2  aaaaaaaa-aaaa-aaaa-aaaa-aaaaaaaaaa02  aaaaaaaa-aaaa-aaaa-aaaa-aaaaaaaaaaaa   \n",
       "4  aaaaaaaa-aaaa-aaaa-aaaa-aaaaaaaaaa04  aaaaaaaa-aaaa-aaaa-aaaa-aaaaaaaaaaaa   \n",
       "5  aaaaaaaa-aaaa-aaaa-aaaa-aaaaaaaaaa05  aaaaaaaa-aaaa-aaaa-aaaa-aaaaaaaaaaaa   \n",
       "\n",
       "  record_type                                        description  \\\n",
       "0   BREAKFAST  40 g Haferflocken, 230 g Joghurt 0,3 %, 90 g B...   \n",
       "1       LUNCH  98 g M�hren-Walnuss-VK-Brot, 87 g Gurke, 55 g ...   \n",
       "2       SNACK                    Mandarine, Teel�ffel Erdnussmu�   \n",
       "4      DINNER  50 g BasmatiVollkorn Reis, 20g Currypaste, 15 ...   \n",
       "5   BREAKFAST        230 g Joghurt, 40g Haferflocken, 65 g Apfel   \n",
       "\n",
       "      timestamp_start timestamp_aftermeal  glucose_start  glucose_after  \\\n",
       "0 2021-02-15 08:30:00 2021-02-15 11:30:00           80.0          109.0   \n",
       "1 2021-02-15 12:45:00 2021-02-15 15:45:00           83.0          121.0   \n",
       "2 2021-02-15 16:15:00 2021-02-15 19:15:00           73.0          102.0   \n",
       "4 2021-02-15 19:30:00 2021-02-15 22:30:00           73.0          101.0   \n",
       "5 2021-02-17 08:15:00 2021-02-17 11:15:00           78.0          108.0   \n",
       "\n",
       "            peak time  minutes until peak  change_aftermeal  \\\n",
       "0 2021-02-15 08:55:00                25.0              29.0   \n",
       "1 2021-02-15 13:44:00                59.0              38.0   \n",
       "2 2021-02-15 16:57:00                42.0              29.0   \n",
       "4 2021-02-15 21:21:00               111.0              28.0   \n",
       "5 2021-02-17 08:51:00                36.0              30.0   \n",
       "\n",
       "   pct_change_aftermeal  number of components  day  \n",
       "0                 36.25                     5   15  \n",
       "1                 45.78                     4   15  \n",
       "2                 39.73                     2   15  \n",
       "4                 38.36                    12   15  \n",
       "5                 38.46                     3   17  "
      ]
     },
     "execution_count": 404,
     "metadata": {},
     "output_type": "execute_result"
    }
   ],
   "source": [
    "df_activities_ready.head()"
   ]
  },
  {
   "cell_type": "code",
   "execution_count": 406,
   "metadata": {},
   "outputs": [
    {
     "data": {
      "text/html": [
       "<div>\n",
       "<style scoped>\n",
       "    .dataframe tbody tr th:only-of-type {\n",
       "        vertical-align: middle;\n",
       "    }\n",
       "\n",
       "    .dataframe tbody tr th {\n",
       "        vertical-align: top;\n",
       "    }\n",
       "\n",
       "    .dataframe thead th {\n",
       "        text-align: right;\n",
       "    }\n",
       "</style>\n",
       "<table border=\"1\" class=\"dataframe\">\n",
       "  <thead>\n",
       "    <tr style=\"text-align: right;\">\n",
       "      <th></th>\n",
       "      <th>id</th>\n",
       "      <th>user_id</th>\n",
       "      <th>record_type</th>\n",
       "      <th>description</th>\n",
       "      <th>timestamp_start</th>\n",
       "      <th>timestamp_aftermeal</th>\n",
       "      <th>glucose_start</th>\n",
       "      <th>glucose_after</th>\n",
       "      <th>peak time</th>\n",
       "      <th>minutes until peak</th>\n",
       "      <th>change_aftermeal</th>\n",
       "      <th>pct_change_aftermeal</th>\n",
       "      <th>number of components</th>\n",
       "      <th>day</th>\n",
       "      <th>meal component</th>\n",
       "      <th>Quantity</th>\n",
       "    </tr>\n",
       "  </thead>\n",
       "  <tbody>\n",
       "    <tr>\n",
       "      <th>6</th>\n",
       "      <td>cccccccc-cccc-cccc-cccc-cccccccccc06</td>\n",
       "      <td>cccccccc-cccc-cccc-cccc-cccccccccccc</td>\n",
       "      <td>DINNER</td>\n",
       "      <td>1 Schb. Vollkorndinkelbrot, 30g Butter, 100g K...</td>\n",
       "      <td>2021-02-21 18:00:00</td>\n",
       "      <td>2021-02-21 21:00:00</td>\n",
       "      <td>90.0</td>\n",
       "      <td>104.0</td>\n",
       "      <td>2021-02-21 19:13:00</td>\n",
       "      <td>73.0</td>\n",
       "      <td>14.0</td>\n",
       "      <td>15.56</td>\n",
       "      <td>5</td>\n",
       "      <td>21</td>\n",
       "      <td>Vollkorndinkelbrot</td>\n",
       "      <td>1.0</td>\n",
       "    </tr>\n",
       "    <tr>\n",
       "      <th>6</th>\n",
       "      <td>cccccccc-cccc-cccc-cccc-cccccccccc06</td>\n",
       "      <td>cccccccc-cccc-cccc-cccc-cccccccccccc</td>\n",
       "      <td>DINNER</td>\n",
       "      <td>1 Schb. Vollkorndinkelbrot, 30g Butter, 100g K...</td>\n",
       "      <td>2021-02-21 18:00:00</td>\n",
       "      <td>2021-02-21 21:00:00</td>\n",
       "      <td>90.0</td>\n",
       "      <td>104.0</td>\n",
       "      <td>2021-02-21 19:13:00</td>\n",
       "      <td>73.0</td>\n",
       "      <td>14.0</td>\n",
       "      <td>15.56</td>\n",
       "      <td>5</td>\n",
       "      <td>21</td>\n",
       "      <td>Butter</td>\n",
       "      <td>30.0</td>\n",
       "    </tr>\n",
       "    <tr>\n",
       "      <th>6</th>\n",
       "      <td>cccccccc-cccc-cccc-cccc-cccccccccc06</td>\n",
       "      <td>cccccccc-cccc-cccc-cccc-cccccccccccc</td>\n",
       "      <td>DINNER</td>\n",
       "      <td>1 Schb. Vollkorndinkelbrot, 30g Butter, 100g K...</td>\n",
       "      <td>2021-02-21 18:00:00</td>\n",
       "      <td>2021-02-21 21:00:00</td>\n",
       "      <td>90.0</td>\n",
       "      <td>104.0</td>\n",
       "      <td>2021-02-21 19:13:00</td>\n",
       "      <td>73.0</td>\n",
       "      <td>14.0</td>\n",
       "      <td>15.56</td>\n",
       "      <td>5</td>\n",
       "      <td>21</td>\n",
       "      <td>Kartoffelsalat</td>\n",
       "      <td>100.0</td>\n",
       "    </tr>\n",
       "    <tr>\n",
       "      <th>6</th>\n",
       "      <td>cccccccc-cccc-cccc-cccc-cccccccccc06</td>\n",
       "      <td>cccccccc-cccc-cccc-cccc-cccccccccccc</td>\n",
       "      <td>DINNER</td>\n",
       "      <td>1 Schb. Vollkorndinkelbrot, 30g Butter, 100g K...</td>\n",
       "      <td>2021-02-21 18:00:00</td>\n",
       "      <td>2021-02-21 21:00:00</td>\n",
       "      <td>90.0</td>\n",
       "      <td>104.0</td>\n",
       "      <td>2021-02-21 19:13:00</td>\n",
       "      <td>73.0</td>\n",
       "      <td>14.0</td>\n",
       "      <td>15.56</td>\n",
       "      <td>5</td>\n",
       "      <td>21</td>\n",
       "      <td>Tomatensalat</td>\n",
       "      <td>100.0</td>\n",
       "    </tr>\n",
       "    <tr>\n",
       "      <th>6</th>\n",
       "      <td>cccccccc-cccc-cccc-cccc-cccccccccc06</td>\n",
       "      <td>cccccccc-cccc-cccc-cccc-cccccccccccc</td>\n",
       "      <td>DINNER</td>\n",
       "      <td>1 Schb. Vollkorndinkelbrot, 30g Butter, 100g K...</td>\n",
       "      <td>2021-02-21 18:00:00</td>\n",
       "      <td>2021-02-21 21:00:00</td>\n",
       "      <td>90.0</td>\n",
       "      <td>104.0</td>\n",
       "      <td>2021-02-21 19:13:00</td>\n",
       "      <td>73.0</td>\n",
       "      <td>14.0</td>\n",
       "      <td>15.56</td>\n",
       "      <td>5</td>\n",
       "      <td>21</td>\n",
       "      <td>Rotwein</td>\n",
       "      <td>400.0</td>\n",
       "    </tr>\n",
       "  </tbody>\n",
       "</table>\n",
       "</div>"
      ],
      "text/plain": [
       "                                     id                               user_id  \\\n",
       "6  cccccccc-cccc-cccc-cccc-cccccccccc06  cccccccc-cccc-cccc-cccc-cccccccccccc   \n",
       "6  cccccccc-cccc-cccc-cccc-cccccccccc06  cccccccc-cccc-cccc-cccc-cccccccccccc   \n",
       "6  cccccccc-cccc-cccc-cccc-cccccccccc06  cccccccc-cccc-cccc-cccc-cccccccccccc   \n",
       "6  cccccccc-cccc-cccc-cccc-cccccccccc06  cccccccc-cccc-cccc-cccc-cccccccccccc   \n",
       "6  cccccccc-cccc-cccc-cccc-cccccccccc06  cccccccc-cccc-cccc-cccc-cccccccccccc   \n",
       "\n",
       "  record_type                                        description  \\\n",
       "6      DINNER  1 Schb. Vollkorndinkelbrot, 30g Butter, 100g K...   \n",
       "6      DINNER  1 Schb. Vollkorndinkelbrot, 30g Butter, 100g K...   \n",
       "6      DINNER  1 Schb. Vollkorndinkelbrot, 30g Butter, 100g K...   \n",
       "6      DINNER  1 Schb. Vollkorndinkelbrot, 30g Butter, 100g K...   \n",
       "6      DINNER  1 Schb. Vollkorndinkelbrot, 30g Butter, 100g K...   \n",
       "\n",
       "      timestamp_start timestamp_aftermeal  glucose_start  glucose_after  \\\n",
       "6 2021-02-21 18:00:00 2021-02-21 21:00:00           90.0          104.0   \n",
       "6 2021-02-21 18:00:00 2021-02-21 21:00:00           90.0          104.0   \n",
       "6 2021-02-21 18:00:00 2021-02-21 21:00:00           90.0          104.0   \n",
       "6 2021-02-21 18:00:00 2021-02-21 21:00:00           90.0          104.0   \n",
       "6 2021-02-21 18:00:00 2021-02-21 21:00:00           90.0          104.0   \n",
       "\n",
       "            peak time  minutes until peak  change_aftermeal  \\\n",
       "6 2021-02-21 19:13:00                73.0              14.0   \n",
       "6 2021-02-21 19:13:00                73.0              14.0   \n",
       "6 2021-02-21 19:13:00                73.0              14.0   \n",
       "6 2021-02-21 19:13:00                73.0              14.0   \n",
       "6 2021-02-21 19:13:00                73.0              14.0   \n",
       "\n",
       "   pct_change_aftermeal  number of components  day      meal component  \\\n",
       "6                 15.56                     5   21  Vollkorndinkelbrot   \n",
       "6                 15.56                     5   21              Butter   \n",
       "6                 15.56                     5   21      Kartoffelsalat   \n",
       "6                 15.56                     5   21        Tomatensalat   \n",
       "6                 15.56                     5   21             Rotwein   \n",
       "\n",
       "   Quantity  \n",
       "6       1.0  \n",
       "6      30.0  \n",
       "6     100.0  \n",
       "6     100.0  \n",
       "6     400.0  "
      ]
     },
     "execution_count": 406,
     "metadata": {},
     "output_type": "execute_result"
    }
   ],
   "source": [
    "df_activities_meal_components.tail()"
   ]
  },
  {
   "cell_type": "markdown",
   "metadata": {},
   "source": [
    "#### Evolution of glucose for one user (a)"
   ]
  },
  {
   "cell_type": "code",
   "execution_count": 348,
   "metadata": {},
   "outputs": [
    {
     "data": {
      "application/vnd.plotly.v1+json": {
       "config": {
        "plotlyServerURL": "https://plot.ly"
       },
       "data": [
        {
         "hovertemplate": "timestamp=%{x}<br>Glukosewert-Verlauf mg/dL=%{y}<extra></extra>",
         "legendgroup": "",
         "line": {
          "color": "#636efa",
          "dash": "solid"
         },
         "mode": "lines",
         "name": "",
         "showlegend": false,
         "type": "scattergl",
         "x": [
          "2021-02-14T16:50:00",
          "2021-02-14T16:52:00",
          "2021-02-14T16:57:00",
          "2021-02-14T17:03:00",
          "2021-02-14T17:07:00",
          "2021-02-14T17:10:00",
          "2021-02-14T17:20:00",
          "2021-02-14T17:22:00",
          "2021-02-14T17:36:00",
          "2021-02-14T17:39:00",
          "2021-02-14T17:51:00",
          "2021-02-14T18:06:00",
          "2021-02-14T18:22:00",
          "2021-02-14T18:27:00",
          "2021-02-14T18:37:00",
          "2021-02-14T18:52:00",
          "2021-02-14T18:53:00",
          "2021-02-14T19:08:00",
          "2021-02-14T19:22:00",
          "2021-02-14T19:35:00",
          "2021-02-14T19:37:00",
          "2021-02-14T19:52:00",
          "2021-02-14T20:07:00",
          "2021-02-14T20:23:00",
          "2021-02-14T20:33:00",
          "2021-02-14T20:38:00",
          "2021-02-14T20:53:00",
          "2021-02-14T21:08:00",
          "2021-02-14T21:23:00",
          "2021-02-14T21:52:00",
          "2021-02-14T23:40:00",
          "2021-02-14T23:55:00",
          "2021-02-15T00:10:00",
          "2021-02-15T00:25:00",
          "2021-02-15T00:40:00",
          "2021-02-15T00:55:00",
          "2021-02-15T01:10:00",
          "2021-02-15T01:25:00",
          "2021-02-15T01:40:00",
          "2021-02-15T01:55:00",
          "2021-02-15T02:10:00",
          "2021-02-15T02:25:00",
          "2021-02-15T02:40:00",
          "2021-02-15T02:55:00",
          "2021-02-15T03:10:00",
          "2021-02-15T03:25:00",
          "2021-02-15T03:40:00",
          "2021-02-15T03:55:00",
          "2021-02-15T04:10:00",
          "2021-02-15T04:25:00",
          "2021-02-15T04:40:00",
          "2021-02-15T04:55:00",
          "2021-02-15T05:10:00",
          "2021-02-15T05:25:00",
          "2021-02-15T05:40:00",
          "2021-02-15T05:55:00",
          "2021-02-15T06:10:00",
          "2021-02-15T06:25:00",
          "2021-02-15T06:40:00",
          "2021-02-15T06:55:00",
          "2021-02-15T07:10:00",
          "2021-02-15T07:25:00",
          "2021-02-15T07:29:00",
          "2021-02-15T07:40:00",
          "2021-02-15T07:55:00",
          "2021-02-15T08:10:00",
          "2021-02-15T08:22:00",
          "2021-02-15T08:25:00",
          "2021-02-15T08:40:00",
          "2021-02-15T08:45:00",
          "2021-02-15T08:55:00",
          "2021-02-15T09:10:00",
          "2021-02-15T09:14:00",
          "2021-02-15T09:25:00",
          "2021-02-15T09:40:00",
          "2021-02-15T09:55:00",
          "2021-02-15T10:10:00",
          "2021-02-15T10:25:00",
          "2021-02-15T10:40:00",
          "2021-02-15T10:55:00",
          "2021-02-15T11:11:00",
          "2021-02-15T11:20:00",
          "2021-02-15T11:26:00",
          "2021-02-15T11:41:00",
          "2021-02-15T11:56:00",
          "2021-02-15T12:11:00",
          "2021-02-15T12:26:00",
          "2021-02-15T12:38:00",
          "2021-02-15T12:41:00",
          "2021-02-15T12:56:00",
          "2021-02-15T12:58:00",
          "2021-02-15T13:11:00",
          "2021-02-15T13:26:00",
          "2021-02-15T13:41:00",
          "2021-02-15T13:44:00",
          "2021-02-15T13:56:00",
          "2021-02-15T14:11:00",
          "2021-02-15T14:26:00",
          "2021-02-15T14:41:00",
          "2021-02-15T14:56:00",
          "2021-02-15T15:12:00",
          "2021-02-15T15:19:00",
          "2021-02-15T15:27:00",
          "2021-02-15T15:42:00",
          "2021-02-15T15:57:00",
          "2021-02-15T16:12:00",
          "2021-02-15T16:18:00",
          "2021-02-15T16:22:00",
          "2021-02-15T16:27:00",
          "2021-02-15T16:32:00",
          "2021-02-15T16:42:00",
          "2021-02-15T16:57:00",
          "2021-02-15T17:12:00",
          "2021-02-15T17:27:00",
          "2021-02-15T17:33:00",
          "2021-02-15T17:42:00",
          "2021-02-15T17:54:00",
          "2021-02-15T17:57:00",
          "2021-02-15T18:02:00",
          "2021-02-15T18:12:00",
          "2021-02-15T18:12:00",
          "2021-02-15T18:19:00",
          "2021-02-15T18:26:00",
          "2021-02-15T18:27:00",
          "2021-02-15T18:42:00",
          "2021-02-15T18:57:00",
          "2021-02-15T19:12:00",
          "2021-02-15T19:27:00",
          "2021-02-15T19:34:00",
          "2021-02-15T19:43:00",
          "2021-02-15T19:47:00",
          "2021-02-15T19:58:00",
          "2021-02-15T20:00:00",
          "2021-02-15T20:13:00",
          "2021-02-15T20:28:00",
          "2021-02-15T20:43:00",
          "2021-02-15T20:58:00",
          "2021-02-15T21:13:00",
          "2021-02-15T21:21:00",
          "2021-02-15T21:28:00",
          "2021-02-15T21:43:00",
          "2021-02-15T21:58:00",
          "2021-02-15T22:13:00",
          "2021-02-15T22:28:00",
          "2021-02-15T22:43:00",
          "2021-02-15T22:58:00",
          "2021-02-15T23:13:00",
          "2021-02-15T23:28:00",
          "2021-02-15T23:30:00",
          "2021-02-15T23:45:00",
          "2021-02-16T00:00:00",
          "2021-02-16T00:15:00",
          "2021-02-16T00:30:00",
          "2021-02-16T00:45:00",
          "2021-02-16T01:00:00",
          "2021-02-16T01:15:00",
          "2021-02-16T01:30:00",
          "2021-02-16T01:45:00",
          "2021-02-16T02:00:00",
          "2021-02-16T02:15:00",
          "2021-02-16T02:30:00",
          "2021-02-16T02:45:00",
          "2021-02-16T03:00:00",
          "2021-02-16T03:15:00",
          "2021-02-16T03:30:00",
          "2021-02-16T03:45:00",
          "2021-02-16T04:00:00",
          "2021-02-16T04:15:00",
          "2021-02-16T04:30:00",
          "2021-02-16T04:45:00",
          "2021-02-16T05:00:00",
          "2021-02-16T05:15:00",
          "2021-02-16T05:30:00",
          "2021-02-16T05:45:00",
          "2021-02-16T06:00:00",
          "2021-02-16T06:15:00",
          "2021-02-16T06:30:00",
          "2021-02-16T06:45:00",
          "2021-02-16T07:00:00",
          "2021-02-16T07:15:00",
          "2021-02-16T07:16:00",
          "2021-02-16T07:30:00",
          "2021-02-16T07:45:00",
          "2021-02-16T08:00:00",
          "2021-02-16T08:14:00",
          "2021-02-16T08:16:00",
          "2021-02-16T08:29:00",
          "2021-02-16T08:31:00",
          "2021-02-16T08:39:00",
          "2021-02-16T08:46:00",
          "2021-02-16T09:01:00",
          "2021-02-16T09:16:00",
          "2021-02-16T09:22:00",
          "2021-02-16T09:31:00",
          "2021-02-16T09:46:00",
          "2021-02-16T10:01:00",
          "2021-02-16T10:16:00",
          "2021-02-16T10:17:00",
          "2021-02-16T10:31:00",
          "2021-02-16T10:46:00",
          "2021-02-16T11:01:00",
          "2021-02-16T11:16:00",
          "2021-02-16T11:31:00",
          "2021-02-16T11:46:00",
          "2021-02-16T12:01:00",
          "2021-02-16T12:16:00",
          "2021-02-16T12:31:00",
          "2021-02-16T12:37:00",
          "2021-02-16T12:46:00",
          "2021-02-16T13:02:00",
          "2021-02-16T13:09:00",
          "2021-02-16T13:17:00",
          "2021-02-16T13:32:00",
          "2021-02-16T13:47:00",
          "2021-02-16T14:02:00",
          "2021-02-16T14:17:00",
          "2021-02-16T14:32:00",
          "2021-02-16T14:47:00",
          "2021-02-16T15:02:00",
          "2021-02-16T15:17:00",
          "2021-02-16T15:32:00",
          "2021-02-16T15:47:00",
          "2021-02-16T16:02:00",
          "2021-02-16T16:17:00",
          "2021-02-16T16:32:00",
          "2021-02-16T16:47:00",
          "2021-02-16T17:02:00",
          "2021-02-16T17:12:00",
          "2021-02-16T17:17:00",
          "2021-02-16T17:22:00",
          "2021-02-16T17:32:00",
          "2021-02-16T17:47:00",
          "2021-02-16T17:53:00",
          "2021-02-16T18:02:00",
          "2021-02-16T18:17:00",
          "2021-02-16T18:32:00",
          "2021-02-16T18:47:00",
          "2021-02-16T19:03:00",
          "2021-02-16T19:13:00",
          "2021-02-16T19:18:00",
          "2021-02-16T19:33:00",
          "2021-02-16T19:48:00",
          "2021-02-16T20:03:00",
          "2021-02-16T20:18:00",
          "2021-02-16T20:30:00",
          "2021-02-16T20:33:00",
          "2021-02-16T20:47:00",
          "2021-02-16T20:48:00",
          "2021-02-16T20:57:00",
          "2021-02-16T21:03:00",
          "2021-02-16T21:08:00",
          "2021-02-16T21:18:00",
          "2021-02-16T21:33:00",
          "2021-02-16T21:48:00",
          "2021-02-16T22:03:00",
          "2021-02-16T22:18:00",
          "2021-02-16T22:22:00",
          "2021-02-16T22:33:00",
          "2021-02-16T22:48:00",
          "2021-02-16T23:03:00",
          "2021-02-16T23:18:00",
          "2021-02-16T23:35:00",
          "2021-02-16T23:41:00",
          "2021-02-16T23:50:00",
          "2021-02-17T00:05:00",
          "2021-02-17T00:20:00",
          "2021-02-17T00:35:00",
          "2021-02-17T00:50:00",
          "2021-02-17T01:05:00",
          "2021-02-17T01:20:00",
          "2021-02-17T01:35:00",
          "2021-02-17T01:50:00",
          "2021-02-17T02:05:00",
          "2021-02-17T02:20:00",
          "2021-02-17T02:35:00",
          "2021-02-17T02:50:00",
          "2021-02-17T03:05:00",
          "2021-02-17T03:20:00",
          "2021-02-17T03:35:00",
          "2021-02-17T03:50:00",
          "2021-02-17T04:05:00",
          "2021-02-17T04:20:00",
          "2021-02-17T04:35:00",
          "2021-02-17T04:50:00",
          "2021-02-17T05:05:00",
          "2021-02-17T05:20:00",
          "2021-02-17T05:35:00",
          "2021-02-17T05:50:00",
          "2021-02-17T06:05:00",
          "2021-02-17T06:20:00",
          "2021-02-17T06:35:00",
          "2021-02-17T06:50:00",
          "2021-02-17T07:06:00",
          "2021-02-17T07:11:00",
          "2021-02-17T07:21:00",
          "2021-02-17T07:36:00",
          "2021-02-17T07:51:00",
          "2021-02-17T08:06:00",
          "2021-02-17T08:09:00",
          "2021-02-17T08:16:00",
          "2021-02-17T08:21:00",
          "2021-02-17T08:36:00",
          "2021-02-17T08:51:00",
          "2021-02-17T09:06:00",
          "2021-02-17T09:21:00",
          "2021-02-17T09:22:00",
          "2021-02-17T09:35:00",
          "2021-02-17T09:36:00",
          "2021-02-17T09:51:00",
          "2021-02-17T10:06:00",
          "2021-02-17T10:10:00",
          "2021-02-17T10:21:00",
          "2021-02-17T10:36:00",
          "2021-02-17T10:51:00",
          "2021-02-17T11:06:00",
          "2021-02-17T11:21:00",
          "2021-02-17T11:36:00",
          "2021-02-17T11:51:00",
          "2021-02-17T12:06:00",
          "2021-02-17T12:22:00",
          "2021-02-17T12:23:00",
          "2021-02-17T12:32:00",
          "2021-02-17T12:37:00",
          "2021-02-17T12:52:00",
          "2021-02-17T12:56:00",
          "2021-02-17T13:07:00",
          "2021-02-17T13:22:00",
          "2021-02-17T13:38:00",
          "2021-02-17T13:40:00",
          "2021-02-17T13:53:00",
          "2021-02-17T14:08:00",
          "2021-02-17T14:23:00",
          "2021-02-17T14:38:00",
          "2021-02-17T14:53:00",
          "2021-02-17T15:08:00",
          "2021-02-17T15:23:00",
          "2021-02-17T15:27:00",
          "2021-02-17T15:38:00",
          "2021-02-17T15:53:00",
          "2021-02-17T16:07:00",
          "2021-02-17T16:15:00",
          "2021-02-17T16:22:00",
          "2021-02-17T16:23:00",
          "2021-02-17T16:38:00",
          "2021-02-17T16:53:00",
          "2021-02-17T17:08:00",
          "2021-02-17T17:12:00",
          "2021-02-17T17:23:00",
          "2021-02-17T17:38:00",
          "2021-02-17T17:53:00",
          "2021-02-17T18:08:00",
          "2021-02-17T18:23:00",
          "2021-02-17T18:38:00",
          "2021-02-17T18:53:00",
          "2021-02-17T19:08:00",
          "2021-02-17T19:23:00",
          "2021-02-17T19:30:00",
          "2021-02-17T19:39:00",
          "2021-02-17T19:45:00",
          "2021-02-17T19:54:00",
          "2021-02-17T20:09:00",
          "2021-02-17T20:24:00",
          "2021-02-17T20:39:00",
          "2021-02-17T20:54:00",
          "2021-02-17T21:09:00",
          "2021-02-17T21:24:00",
          "2021-02-17T21:39:00",
          "2021-02-17T21:54:00",
          "2021-02-17T22:09:00",
          "2021-02-17T22:24:00",
          "2021-02-17T22:47:00",
          "2021-02-17T23:25:00",
          "2021-02-17T23:40:00",
          "2021-02-17T23:55:00",
          "2021-02-18T00:10:00",
          "2021-02-18T00:25:00",
          "2021-02-18T00:40:00",
          "2021-02-18T00:55:00",
          "2021-02-18T01:10:00",
          "2021-02-18T01:25:00",
          "2021-02-18T01:40:00",
          "2021-02-18T01:55:00",
          "2021-02-18T02:10:00",
          "2021-02-18T02:25:00",
          "2021-02-18T02:40:00",
          "2021-02-18T02:55:00",
          "2021-02-18T03:10:00",
          "2021-02-18T03:25:00",
          "2021-02-18T03:40:00",
          "2021-02-18T03:55:00",
          "2021-02-18T04:10:00",
          "2021-02-18T04:25:00",
          "2021-02-18T04:40:00",
          "2021-02-18T04:55:00",
          "2021-02-18T05:10:00",
          "2021-02-18T05:25:00",
          "2021-02-18T05:40:00",
          "2021-02-18T05:55:00",
          "2021-02-18T06:10:00",
          "2021-02-18T06:25:00",
          "2021-02-18T06:40:00",
          "2021-02-18T06:55:00",
          "2021-02-18T07:11:00",
          "2021-02-18T07:11:00",
          "2021-02-18T07:26:00",
          "2021-02-18T07:41:00",
          "2021-02-18T07:56:00",
          "2021-02-18T08:11:00",
          "2021-02-18T08:17:00",
          "2021-02-18T08:26:00",
          "2021-02-18T08:42:00",
          "2021-02-18T08:44:00",
          "2021-02-18T08:55:00",
          "2021-02-18T08:57:00",
          "2021-02-18T09:12:00",
          "2021-02-18T09:27:00",
          "2021-02-18T09:42:00",
          "2021-02-18T09:57:00",
          "2021-02-18T10:12:00",
          "2021-02-18T10:27:00",
          "2021-02-18T10:42:00",
          "2021-02-18T10:57:00",
          "2021-02-18T11:12:00",
          "2021-02-18T11:27:00",
          "2021-02-18T11:42:00",
          "2021-02-18T11:57:00",
          "2021-02-18T12:12:00",
          "2021-02-18T12:27:00",
          "2021-02-18T12:42:00",
          "2021-02-18T12:47:00",
          "2021-02-18T12:57:00",
          "2021-02-18T13:11:00",
          "2021-02-18T13:12:00",
          "2021-02-18T13:27:00",
          "2021-02-18T13:43:00",
          "2021-02-18T13:54:00",
          "2021-02-18T13:58:00",
          "2021-02-18T14:13:00",
          "2021-02-18T14:28:00",
          "2021-02-18T14:43:00",
          "2021-02-18T14:54:00",
          "2021-02-18T14:58:00",
          "2021-02-18T15:13:00",
          "2021-02-18T15:28:00",
          "2021-02-18T15:43:00",
          "2021-02-18T15:58:00",
          "2021-02-18T16:13:00",
          "2021-02-18T16:28:00",
          "2021-02-18T16:37:00",
          "2021-02-18T16:43:00",
          "2021-02-18T16:58:00",
          "2021-02-18T17:00:00",
          "2021-02-18T17:13:00",
          "2021-02-18T17:28:00",
          "2021-02-18T17:43:00",
          "2021-02-18T17:46:00",
          "2021-02-18T17:58:00",
          "2021-02-18T18:13:00",
          "2021-02-18T18:28:00",
          "2021-02-18T18:43:00",
          "2021-02-18T18:58:00",
          "2021-02-18T19:13:00",
          "2021-02-18T19:29:00",
          "2021-02-18T19:35:00",
          "2021-02-18T19:44:00",
          "2021-02-18T19:59:00",
          "2021-02-18T20:14:00",
          "2021-02-18T20:30:00",
          "2021-02-18T23:46:00",
          "2021-02-19T00:01:00",
          "2021-02-19T00:16:00",
          "2021-02-19T00:31:00",
          "2021-02-19T00:46:00",
          "2021-02-19T01:01:00",
          "2021-02-19T01:16:00",
          "2021-02-19T01:31:00",
          "2021-02-19T01:46:00",
          "2021-02-19T02:01:00",
          "2021-02-19T02:16:00",
          "2021-02-19T02:31:00",
          "2021-02-19T02:46:00",
          "2021-02-19T03:01:00",
          "2021-02-19T03:16:00",
          "2021-02-19T03:31:00",
          "2021-02-19T03:46:00",
          "2021-02-19T04:01:00",
          "2021-02-19T04:16:00",
          "2021-02-19T04:31:00",
          "2021-02-19T04:46:00",
          "2021-02-19T05:01:00",
          "2021-02-19T05:16:00",
          "2021-02-19T05:31:00",
          "2021-02-19T05:46:00",
          "2021-02-19T06:01:00",
          "2021-02-19T06:16:00",
          "2021-02-19T06:31:00",
          "2021-02-19T06:46:00",
          "2021-02-19T07:01:00",
          "2021-02-19T07:16:00",
          "2021-02-19T07:31:00",
          "2021-02-19T07:40:00",
          "2021-02-19T07:46:00",
          "2021-02-19T08:01:00",
          "2021-02-19T08:17:00",
          "2021-02-19T08:28:00",
          "2021-02-19T08:32:00",
          "2021-02-19T08:41:00",
          "2021-02-19T08:47:00",
          "2021-02-19T09:02:00",
          "2021-02-19T09:17:00",
          "2021-02-19T09:32:00",
          "2021-02-19T09:47:00",
          "2021-02-19T09:59:00",
          "2021-02-19T10:02:00",
          "2021-02-19T10:17:00",
          "2021-02-19T10:32:00",
          "2021-02-19T10:47:00",
          "2021-02-19T11:02:00",
          "2021-02-19T11:05:00",
          "2021-02-19T11:17:00",
          "2021-02-19T11:31:00",
          "2021-02-19T11:32:00",
          "2021-02-19T11:47:00",
          "2021-02-19T11:49:00",
          "2021-02-19T12:02:00",
          "2021-02-19T12:17:00",
          "2021-02-19T12:32:00",
          "2021-02-19T12:47:00",
          "2021-02-19T13:03:00",
          "2021-02-19T13:06:00",
          "2021-02-19T13:18:00",
          "2021-02-19T13:33:00",
          "2021-02-19T13:43:00",
          "2021-02-19T13:48:00",
          "2021-02-19T14:03:00",
          "2021-02-19T14:18:00",
          "2021-02-19T14:33:00",
          "2021-02-19T14:48:00",
          "2021-02-19T15:03:00",
          "2021-02-19T15:03:00",
          "2021-02-19T15:18:00",
          "2021-02-19T15:33:00",
          "2021-02-19T15:48:00",
          "2021-02-19T16:03:00",
          "2021-02-19T16:18:00",
          "2021-02-19T16:18:00",
          "2021-02-19T16:33:00",
          "2021-02-19T16:48:00",
          "2021-02-19T17:03:00",
          "2021-02-19T17:18:00",
          "2021-02-19T17:33:00",
          "2021-02-19T17:49:00",
          "2021-02-19T17:54:00",
          "2021-02-19T18:04:00",
          "2021-02-19T18:19:00",
          "2021-02-19T18:34:00",
          "2021-02-19T18:49:00",
          "2021-02-19T19:04:00",
          "2021-02-19T19:19:00",
          "2021-02-19T19:25:00",
          "2021-02-19T19:34:00",
          "2021-02-19T19:49:00",
          "2021-02-19T20:03:00",
          "2021-02-19T20:04:00",
          "2021-02-19T20:19:00",
          "2021-02-19T20:34:00",
          "2021-02-19T20:49:00",
          "2021-02-19T21:04:00",
          "2021-02-19T21:19:00",
          "2021-02-19T21:34:00",
          "2021-02-19T21:49:00",
          "2021-02-19T22:04:00",
          "2021-02-19T22:20:00",
          "2021-02-19T22:24:00",
          "2021-02-19T22:35:00",
          "2021-02-19T22:50:00",
          "2021-02-19T23:05:00",
          "2021-02-19T23:20:00",
          "2021-02-19T23:35:00",
          "2021-02-19T23:50:00",
          "2021-02-20T00:05:00",
          "2021-02-20T00:20:00",
          "2021-02-20T00:35:00",
          "2021-02-20T00:52:00",
          "2021-02-20T00:53:00",
          "2021-02-20T01:07:00",
          "2021-02-20T01:22:00",
          "2021-02-20T01:37:00",
          "2021-02-20T01:52:00",
          "2021-02-20T02:07:00",
          "2021-02-20T02:22:00",
          "2021-02-20T02:37:00",
          "2021-02-20T02:52:00",
          "2021-02-20T03:07:00",
          "2021-02-20T03:22:00",
          "2021-02-20T03:37:00",
          "2021-02-20T03:52:00",
          "2021-02-20T04:07:00",
          "2021-02-20T04:22:00",
          "2021-02-20T04:37:00",
          "2021-02-20T04:52:00",
          "2021-02-20T05:07:00",
          "2021-02-20T05:22:00",
          "2021-02-20T05:37:00",
          "2021-02-20T05:52:00",
          "2021-02-20T06:07:00",
          "2021-02-20T06:22:00",
          "2021-02-20T06:37:00",
          "2021-02-20T06:52:00",
          "2021-02-20T07:07:00",
          "2021-02-20T07:22:00",
          "2021-02-20T07:37:00",
          "2021-02-20T07:52:00",
          "2021-02-20T08:07:00",
          "2021-02-20T08:19:00",
          "2021-02-20T08:22:00",
          "2021-02-20T08:37:00",
          "2021-02-20T08:52:00",
          "2021-02-20T09:07:00",
          "2021-02-20T09:22:00",
          "2021-02-20T09:30:00",
          "2021-02-20T09:37:00",
          "2021-02-20T09:50:00",
          "2021-02-20T09:52:00",
          "2021-02-20T10:07:00",
          "2021-02-20T10:22:00",
          "2021-02-20T10:32:00",
          "2021-02-20T10:37:00",
          "2021-02-20T10:53:00",
          "2021-02-20T10:59:00",
          "2021-02-20T11:08:00",
          "2021-02-20T11:23:00",
          "2021-02-20T11:38:00",
          "2021-02-20T11:53:00",
          "2021-02-20T12:08:00",
          "2021-02-20T12:23:00",
          "2021-02-20T12:38:00",
          "2021-02-20T12:53:00",
          "2021-02-20T13:08:00",
          "2021-02-20T13:23:00",
          "2021-02-20T13:38:00",
          "2021-02-20T13:53:00",
          "2021-02-20T14:08:00",
          "2021-02-20T14:20:00",
          "2021-02-20T14:23:00",
          "2021-02-20T14:38:00",
          "2021-02-20T14:53:00",
          "2021-02-20T15:08:00",
          "2021-02-20T15:22:00",
          "2021-02-20T15:23:00",
          "2021-02-20T15:38:00",
          "2021-02-20T15:54:00",
          "2021-02-20T15:54:00",
          "2021-02-20T16:09:00",
          "2021-02-20T16:24:00",
          "2021-02-20T16:39:00",
          "2021-02-20T16:54:00",
          "2021-02-20T17:09:00",
          "2021-02-20T17:24:00",
          "2021-02-20T17:39:00",
          "2021-02-20T17:46:00",
          "2021-02-20T17:54:00",
          "2021-02-20T18:09:00",
          "2021-02-20T18:24:00",
          "2021-02-20T18:39:00",
          "2021-02-20T18:54:00",
          "2021-02-20T19:09:00",
          "2021-02-20T19:24:00",
          "2021-02-20T19:39:00",
          "2021-02-20T19:54:00",
          "2021-02-20T20:09:00",
          "2021-02-20T20:24:00",
          "2021-02-20T20:39:00",
          "2021-02-20T20:54:00",
          "2021-02-20T21:09:00",
          "2021-02-20T21:24:00",
          "2021-02-20T21:39:00",
          "2021-02-20T21:54:00",
          "2021-02-20T22:02:00",
          "2021-02-20T22:09:00",
          "2021-02-20T22:24:00",
          "2021-02-20T22:40:00",
          "2021-02-20T22:49:00",
          "2021-02-20T22:55:00",
          "2021-02-20T23:10:00",
          "2021-02-20T23:25:00",
          "2021-02-20T23:40:00",
          "2021-02-20T23:55:00",
          "2021-02-21T00:10:00",
          "2021-02-21T00:25:00",
          "2021-02-21T00:33:00",
          "2021-02-21T00:40:00",
          "2021-02-21T00:55:00",
          "2021-02-21T01:10:00",
          "2021-02-21T01:25:00",
          "2021-02-21T01:40:00",
          "2021-02-21T01:57:00",
          "2021-02-21T02:02:00",
          "2021-02-21T02:12:00",
          "2021-02-21T02:27:00",
          "2021-02-21T02:42:00",
          "2021-02-21T02:57:00",
          "2021-02-21T03:12:00",
          "2021-02-21T03:27:00",
          "2021-02-21T03:42:00",
          "2021-02-21T03:57:00",
          "2021-02-21T04:12:00",
          "2021-02-21T04:27:00",
          "2021-02-21T04:42:00",
          "2021-02-21T04:57:00",
          "2021-02-21T05:12:00",
          "2021-02-21T05:27:00",
          "2021-02-21T05:42:00",
          "2021-02-21T05:57:00",
          "2021-02-21T06:12:00",
          "2021-02-21T06:27:00",
          "2021-02-21T06:42:00",
          "2021-02-21T06:57:00",
          "2021-02-21T07:12:00",
          "2021-02-21T07:27:00",
          "2021-02-21T07:42:00",
          "2021-02-21T07:57:00",
          "2021-02-21T08:12:00",
          "2021-02-21T08:27:00",
          "2021-02-21T08:42:00",
          "2021-02-21T08:57:00",
          "2021-02-21T09:12:00",
          "2021-02-21T09:21:00",
          "2021-02-21T09:27:00",
          "2021-02-21T09:42:00",
          "2021-02-21T09:57:00",
          "2021-02-21T10:13:00",
          "2021-02-21T10:18:00",
          "2021-02-21T10:28:00",
          "2021-02-21T10:43:00",
          "2021-02-21T10:58:00",
          "2021-02-21T11:13:00",
          "2021-02-21T11:28:00",
          "2021-02-21T11:43:00",
          "2021-02-21T11:58:00",
          "2021-02-21T12:13:00",
          "2021-02-21T12:28:00",
          "2021-02-21T12:38:00",
          "2021-02-21T12:43:00",
          "2021-02-21T12:58:00",
          "2021-02-21T13:13:00",
          "2021-02-21T13:28:00",
          "2021-02-21T13:43:00",
          "2021-02-21T13:58:00",
          "2021-02-21T14:13:00",
          "2021-02-21T14:28:00",
          "2021-02-21T14:43:00",
          "2021-02-21T14:58:00",
          "2021-02-21T15:13:00",
          "2021-02-21T15:28:00",
          "2021-02-21T15:44:00",
          "2021-02-21T15:44:00",
          "2021-02-21T15:59:00",
          "2021-02-21T16:14:00",
          "2021-02-21T16:29:00",
          "2021-02-21T16:44:00",
          "2021-02-21T16:59:00",
          "2021-02-21T17:14:00",
          "2021-02-21T17:27:00",
          "2021-02-21T17:29:00",
          "2021-02-21T17:44:00",
          "2021-02-21T17:59:00",
          "2021-02-21T18:14:00",
          "2021-02-21T18:21:00",
          "2021-02-21T18:29:00",
          "2021-02-21T18:44:00",
          "2021-02-21T18:59:00",
          "2021-02-21T19:14:00",
          "2021-02-21T19:29:00",
          "2021-02-21T19:44:00",
          "2021-02-21T19:59:00",
          "2021-02-21T20:08:00",
          "2021-02-21T20:14:00",
          "2021-02-21T20:30:00",
          "2021-02-21T20:39:00",
          "2021-02-21T20:45:00",
          "2021-02-21T20:56:00",
          "2021-02-21T21:00:00",
          "2021-02-21T21:15:00",
          "2021-02-21T21:30:00",
          "2021-02-21T21:45:00",
          "2021-02-21T21:48:00",
          "2021-02-21T22:00:00",
          "2021-02-21T22:15:00",
          "2021-02-21T22:43:00",
          "2021-02-21T23:17:00",
          "2021-02-21T23:32:00",
          "2021-02-21T23:47:00",
          "2021-02-22T00:02:00",
          "2021-02-22T00:17:00",
          "2021-02-22T00:32:00",
          "2021-02-22T00:47:00",
          "2021-02-22T01:02:00",
          "2021-02-22T01:17:00",
          "2021-02-22T01:32:00",
          "2021-02-22T01:47:00",
          "2021-02-22T02:02:00",
          "2021-02-22T02:17:00",
          "2021-02-22T02:32:00",
          "2021-02-22T02:47:00",
          "2021-02-22T03:02:00",
          "2021-02-22T03:17:00",
          "2021-02-22T03:32:00",
          "2021-02-22T03:47:00",
          "2021-02-22T04:02:00",
          "2021-02-22T04:17:00",
          "2021-02-22T04:32:00",
          "2021-02-22T04:47:00",
          "2021-02-22T05:02:00",
          "2021-02-22T05:17:00",
          "2021-02-22T05:32:00",
          "2021-02-22T05:47:00",
          "2021-02-22T06:02:00",
          "2021-02-22T06:17:00",
          "2021-02-22T06:32:00",
          "2021-02-22T06:47:00",
          "2021-02-22T07:02:00",
          "2021-02-22T07:16:00",
          "2021-02-22T07:17:00",
          "2021-02-22T07:32:00",
          "2021-02-22T07:47:00",
          "2021-02-22T08:02:00",
          "2021-02-22T08:17:00",
          "2021-02-22T08:32:00",
          "2021-02-22T08:47:00",
          "2021-02-22T08:56:00",
          "2021-02-22T09:02:00",
          "2021-02-22T09:17:00",
          "2021-02-22T09:32:00",
          "2021-02-22T09:47:00",
          "2021-02-22T10:02:00",
          "2021-02-22T10:17:00",
          "2021-02-22T10:33:00",
          "2021-02-22T10:40:00",
          "2021-02-22T10:48:00",
          "2021-02-22T11:03:00",
          "2021-02-22T11:18:00",
          "2021-02-22T11:33:00",
          "2021-02-22T11:48:00",
          "2021-02-22T12:03:00",
          "2021-02-22T12:18:00",
          "2021-02-22T12:33:00",
          "2021-02-22T12:48:00",
          "2021-02-22T12:57:00",
          "2021-02-22T13:03:00",
          "2021-02-22T13:18:00",
          "2021-02-22T13:33:00",
          "2021-02-22T13:48:00",
          "2021-02-22T14:03:00",
          "2021-02-22T14:18:00",
          "2021-02-22T14:33:00",
          "2021-02-22T14:39:00",
          "2021-02-22T14:48:00",
          "2021-02-22T15:03:00",
          "2021-02-22T15:18:00",
          "2021-02-22T15:33:00",
          "2021-02-22T15:48:00",
          "2021-02-22T16:03:00",
          "2021-02-22T16:19:00",
          "2021-02-22T16:26:00",
          "2021-02-22T16:34:00",
          "2021-02-22T16:49:00",
          "2021-02-22T17:04:00",
          "2021-02-22T17:19:00",
          "2021-02-22T17:34:00",
          "2021-02-22T17:49:00",
          "2021-02-22T18:04:00",
          "2021-02-22T18:19:00",
          "2021-02-22T18:34:00",
          "2021-02-22T18:49:00",
          "2021-02-22T18:51:00",
          "2021-02-22T19:04:00",
          "2021-02-22T19:05:00",
          "2021-02-22T19:20:00",
          "2021-02-22T19:35:00",
          "2021-02-22T19:50:00",
          "2021-02-22T20:05:00",
          "2021-02-22T20:20:00",
          "2021-02-22T20:35:00",
          "2021-02-22T20:41:00",
          "2021-02-22T20:50:00",
          "2021-02-22T21:05:00",
          "2021-02-22T21:20:00",
          "2021-02-22T21:35:00",
          "2021-02-22T21:50:00",
          "2021-02-22T22:05:00",
          "2021-02-22T22:06:00",
          "2021-02-22T22:20:00",
          "2021-02-22T22:35:00",
          "2021-02-22T22:50:00",
          "2021-02-22T23:05:00",
          "2021-02-22T23:20:00",
          "2021-02-22T23:35:00",
          "2021-02-22T23:50:00",
          "2021-02-22T23:52:00",
          "2021-02-23T00:07:00",
          "2021-02-23T00:22:00",
          "2021-02-23T00:37:00",
          "2021-02-23T00:52:00",
          "2021-02-23T01:07:00",
          "2021-02-23T01:22:00",
          "2021-02-23T01:37:00",
          "2021-02-23T01:52:00",
          "2021-02-23T02:07:00",
          "2021-02-23T02:22:00",
          "2021-02-23T02:37:00",
          "2021-02-23T02:52:00",
          "2021-02-23T03:07:00",
          "2021-02-23T03:22:00",
          "2021-02-23T03:37:00",
          "2021-02-23T03:52:00",
          "2021-02-23T04:07:00",
          "2021-02-23T04:22:00",
          "2021-02-23T04:37:00",
          "2021-02-23T04:52:00",
          "2021-02-23T05:07:00",
          "2021-02-23T05:22:00",
          "2021-02-23T05:37:00",
          "2021-02-23T05:52:00",
          "2021-02-23T06:07:00",
          "2021-02-23T06:22:00",
          "2021-02-23T06:37:00",
          "2021-02-23T06:52:00",
          "2021-02-23T07:07:00",
          "2021-02-23T07:22:00",
          "2021-02-23T07:25:00",
          "2021-02-23T07:37:00",
          "2021-02-23T07:52:00",
          "2021-02-23T08:07:00",
          "2021-02-23T08:22:00",
          "2021-02-23T08:37:00",
          "2021-02-23T08:52:00",
          "2021-02-23T09:07:00",
          "2021-02-23T09:22:00",
          "2021-02-23T09:38:00",
          "2021-02-23T09:46:00",
          "2021-02-23T09:53:00",
          "2021-02-23T10:08:00",
          "2021-02-23T10:23:00",
          "2021-02-23T10:38:00",
          "2021-02-23T10:53:00",
          "2021-02-23T11:08:00",
          "2021-02-23T11:23:00",
          "2021-02-23T11:38:00",
          "2021-02-23T11:53:00",
          "2021-02-23T12:08:00",
          "2021-02-23T12:22:00",
          "2021-02-23T12:23:00",
          "2021-02-23T12:40:00",
          "2021-02-23T12:43:00",
          "2021-02-23T12:55:00",
          "2021-02-23T13:10:00",
          "2021-02-23T13:25:00",
          "2021-02-23T13:40:00",
          "2021-02-23T13:55:00",
          "2021-02-23T14:10:00",
          "2021-02-23T14:25:00",
          "2021-02-23T14:40:00",
          "2021-02-23T14:55:00",
          "2021-02-23T15:10:00",
          "2021-02-23T15:25:00",
          "2021-02-23T15:40:00",
          "2021-02-23T15:55:00",
          "2021-02-23T16:10:00",
          "2021-02-23T16:25:00",
          "2021-02-23T16:40:00",
          "2021-02-23T16:55:00",
          "2021-02-23T17:10:00",
          "2021-02-23T17:25:00",
          "2021-02-23T17:40:00",
          "2021-02-23T17:55:00",
          "2021-02-23T18:10:00",
          "2021-02-23T18:25:00",
          "2021-02-23T18:40:00",
          "2021-02-23T18:55:00",
          "2021-02-23T19:10:00",
          "2021-02-23T19:25:00",
          "2021-02-23T19:25:00",
          "2021-02-23T19:39:00",
          "2021-02-23T19:47:00",
          "2021-02-23T19:54:00",
          "2021-02-23T20:10:00",
          "2021-02-23T20:12:00",
          "2021-02-23T20:25:00",
          "2021-02-23T20:40:00",
          "2021-02-23T20:55:00",
          "2021-02-23T21:10:00",
          "2021-02-23T21:25:00",
          "2021-02-23T21:40:00",
          "2021-02-23T21:55:00",
          "2021-02-23T22:09:00",
          "2021-02-23T22:10:00",
          "2021-02-23T22:25:00",
          "2021-02-23T22:40:00",
          "2021-02-23T22:55:00",
          "2021-02-23T23:10:00",
          "2021-02-23T23:25:00",
          "2021-02-23T23:40:00",
          "2021-02-23T23:55:00",
          "2021-02-24T00:12:00",
          "2021-02-24T00:18:00",
          "2021-02-24T00:27:00",
          "2021-02-24T00:42:00",
          "2021-02-24T00:57:00",
          "2021-02-24T01:12:00",
          "2021-02-24T01:27:00",
          "2021-02-24T01:42:00",
          "2021-02-24T01:57:00",
          "2021-02-24T02:12:00",
          "2021-02-24T02:27:00",
          "2021-02-24T02:42:00",
          "2021-02-24T02:57:00",
          "2021-02-24T03:12:00",
          "2021-02-24T03:27:00",
          "2021-02-24T03:42:00",
          "2021-02-24T03:57:00",
          "2021-02-24T04:12:00",
          "2021-02-24T04:27:00",
          "2021-02-24T04:42:00",
          "2021-02-24T04:57:00",
          "2021-02-24T05:12:00",
          "2021-02-24T05:27:00",
          "2021-02-24T05:42:00",
          "2021-02-24T05:57:00",
          "2021-02-24T06:12:00",
          "2021-02-24T06:27:00",
          "2021-02-24T06:42:00",
          "2021-02-24T06:57:00",
          "2021-02-24T07:12:00",
          "2021-02-24T07:27:00",
          "2021-02-24T07:35:00",
          "2021-02-24T07:42:00",
          "2021-02-24T07:57:00",
          "2021-02-24T08:12:00",
          "2021-02-24T08:13:00",
          "2021-02-24T08:27:00",
          "2021-02-24T08:42:00",
          "2021-02-24T08:57:00",
          "2021-02-24T09:00:00",
          "2021-02-24T09:12:00",
          "2021-02-24T09:27:00",
          "2021-02-24T09:42:00",
          "2021-02-24T09:57:00",
          "2021-02-24T10:12:00",
          "2021-02-24T10:27:00",
          "2021-02-24T10:43:00",
          "2021-02-24T10:52:00",
          "2021-02-24T10:58:00",
          "2021-02-24T11:13:00",
          "2021-02-24T11:28:00",
          "2021-02-24T11:43:00",
          "2021-02-24T11:58:00",
          "2021-02-24T12:13:00",
          "2021-02-24T12:28:00",
          "2021-02-24T12:43:00",
          "2021-02-24T12:50:00",
          "2021-02-24T12:58:00",
          "2021-02-24T13:13:00",
          "2021-02-24T13:28:00",
          "2021-02-24T13:43:00",
          "2021-02-24T13:59:00",
          "2021-02-24T13:59:00",
          "2021-02-24T14:14:00",
          "2021-02-24T14:29:00",
          "2021-02-24T14:44:00",
          "2021-02-24T14:59:00",
          "2021-02-24T15:14:00",
          "2021-02-24T15:29:00",
          "2021-02-24T15:36:00",
          "2021-02-24T15:44:00",
          "2021-02-24T15:59:00",
          "2021-02-24T16:13:00",
          "2021-02-24T16:14:00",
          "2021-02-24T16:30:00",
          "2021-02-24T16:42:00",
          "2021-02-24T16:45:00",
          "2021-02-24T17:00:00",
          "2021-02-24T17:15:00",
          "2021-02-24T17:30:00",
          "2021-02-24T17:45:00",
          "2021-02-24T18:00:00",
          "2021-02-24T18:15:00",
          "2021-02-24T18:30:00",
          "2021-02-24T18:45:00",
          "2021-02-24T18:59:00",
          "2021-02-24T19:03:00",
          "2021-02-24T19:14:00",
          "2021-02-24T19:30:00",
          "2021-02-24T19:31:00",
          "2021-02-24T19:45:00",
          "2021-02-24T19:58:00",
          "2021-02-24T20:00:00",
          "2021-02-24T20:15:00",
          "2021-02-24T20:30:00",
          "2021-02-24T20:32:00",
          "2021-02-24T20:45:00",
          "2021-02-24T21:00:00",
          "2021-02-24T21:15:00",
          "2021-02-24T21:30:00",
          "2021-02-24T21:45:00",
          "2021-02-24T21:50:00",
          "2021-02-24T22:00:00",
          "2021-02-24T22:15:00",
          "2021-02-24T22:40:00",
          "2021-02-24T23:32:00",
          "2021-02-24T23:47:00",
          "2021-02-25T00:02:00",
          "2021-02-25T00:17:00",
          "2021-02-25T00:32:00",
          "2021-02-25T00:47:00",
          "2021-02-25T01:02:00",
          "2021-02-25T01:17:00",
          "2021-02-25T01:32:00",
          "2021-02-25T01:47:00",
          "2021-02-25T02:02:00",
          "2021-02-25T02:17:00",
          "2021-02-25T02:32:00",
          "2021-02-25T02:47:00",
          "2021-02-25T03:02:00",
          "2021-02-25T03:17:00",
          "2021-02-25T03:32:00",
          "2021-02-25T03:47:00",
          "2021-02-25T04:02:00",
          "2021-02-25T04:17:00",
          "2021-02-25T04:32:00",
          "2021-02-25T04:47:00",
          "2021-02-25T05:02:00",
          "2021-02-25T05:17:00",
          "2021-02-25T05:32:00",
          "2021-02-25T05:47:00",
          "2021-02-25T06:02:00",
          "2021-02-25T06:17:00",
          "2021-02-25T06:32:00",
          "2021-02-25T06:47:00",
          "2021-02-25T07:02:00",
          "2021-02-25T07:17:00",
          "2021-02-25T07:26:00",
          "2021-02-25T07:32:00",
          "2021-02-25T07:47:00",
          "2021-02-25T08:02:00",
          "2021-02-25T08:17:00",
          "2021-02-25T08:32:00",
          "2021-02-25T08:47:00",
          "2021-02-25T09:03:00",
          "2021-02-25T09:08:00",
          "2021-02-25T09:18:00",
          "2021-02-25T09:33:00",
          "2021-02-25T09:48:00",
          "2021-02-25T10:03:00",
          "2021-02-25T10:18:00",
          "2021-02-25T10:33:00",
          "2021-02-25T10:48:00",
          "2021-02-25T11:03:00",
          "2021-02-25T11:18:00",
          "2021-02-25T11:33:00",
          "2021-02-25T11:48:00",
          "2021-02-25T12:00:00",
          "2021-02-25T12:03:00",
          "2021-02-25T12:18:00",
          "2021-02-25T12:33:00",
          "2021-02-25T12:48:00",
          "2021-02-25T13:03:00",
          "2021-02-25T13:18:00",
          "2021-02-25T13:33:00",
          "2021-02-25T13:48:00",
          "2021-02-25T14:03:00",
          "2021-02-25T14:18:00",
          "2021-02-25T14:33:00",
          "2021-02-25T14:48:00",
          "2021-02-25T15:03:00",
          "2021-02-25T15:18:00",
          "2021-02-25T15:34:00",
          "2021-02-25T15:37:00",
          "2021-02-25T15:49:00",
          "2021-02-25T16:04:00",
          "2021-02-25T16:18:00",
          "2021-02-25T16:19:00",
          "2021-02-25T16:34:00",
          "2021-02-25T16:49:00",
          "2021-02-25T17:08:00"
         ],
         "xaxis": "x",
         "y": [
          53,
          68,
          63,
          66,
          72,
          74,
          80,
          68,
          81,
          83,
          76,
          75,
          77,
          93,
          83,
          80,
          81,
          84,
          92,
          94,
          94,
          89,
          86,
          90,
          88,
          84,
          72,
          66,
          66,
          57,
          91,
          90,
          92,
          85,
          80,
          85,
          90,
          87,
          84,
          81,
          82,
          87,
          83,
          78,
          81,
          76,
          72,
          77,
          66,
          56,
          60,
          69,
          73,
          81,
          85,
          81,
          78,
          74,
          71,
          75,
          80,
          83,
          88,
          81,
          76,
          74,
          87,
          80,
          92,
          108,
          109,
          100,
          85,
          87,
          87,
          81,
          75,
          70,
          68,
          69,
          76,
          76,
          73,
          69,
          73,
          76,
          82,
          86,
          83,
          82,
          83,
          101,
          120,
          108,
          121,
          88,
          86,
          83,
          78,
          77,
          80,
          80,
          83,
          78,
          70,
          73,
          82,
          81,
          83,
          84,
          96,
          102,
          87,
          74,
          74,
          80,
          86,
          89,
          91,
          98,
          96,
          97,
          82,
          92,
          84,
          83,
          77,
          73,
          76,
          79,
          76,
          86,
          93,
          89,
          94,
          95,
          89,
          100,
          101,
          93,
          80,
          84,
          89,
          89,
          86,
          88,
          97,
          92,
          88,
          81,
          78,
          80,
          81,
          76,
          72,
          75,
          81,
          77,
          72,
          73,
          77,
          78,
          78,
          79,
          79,
          79,
          85,
          87,
          81,
          78,
          78,
          77,
          74,
          71,
          68,
          66,
          64,
          65,
          70,
          81,
          90,
          80,
          73,
          69,
          65,
          73,
          78,
          79,
          73,
          85,
          95,
          90,
          88,
          85,
          83,
          77,
          78,
          84,
          74,
          76,
          80,
          77,
          74,
          75,
          75,
          75,
          78,
          79,
          83,
          97,
          104,
          119,
          132,
          129,
          119,
          107,
          97,
          86,
          77,
          77,
          81,
          82,
          82,
          81,
          77,
          77,
          77,
          74,
          78,
          81,
          78,
          76,
          81,
          72,
          70,
          73,
          77,
          80,
          84,
          83,
          83,
          83,
          88,
          111,
          148,
          157,
          159,
          141,
          142,
          126,
          128,
          120,
          101,
          91,
          91,
          87,
          69,
          83,
          81,
          81,
          84,
          96,
          104,
          97,
          95,
          92,
          88,
          80,
          76,
          77,
          75,
          72,
          72,
          74,
          77,
          80,
          76,
          71,
          77,
          79,
          73,
          71,
          72,
          72,
          72,
          71,
          70,
          69,
          69,
          67,
          67,
          75,
          81,
          80,
          79,
          78,
          77,
          77,
          78,
          76,
          84,
          103,
          108,
          95,
          83,
          86,
          78,
          83,
          83,
          76,
          73,
          73,
          72,
          72,
          76,
          76,
          76,
          81,
          83,
          81,
          78,
          83,
          84,
          95,
          103,
          109,
          116,
          111,
          114,
          108,
          108,
          104,
          100,
          96,
          92,
          90,
          92,
          85,
          79,
          78,
          90,
          90,
          90,
          88,
          86,
          78,
          74,
          80,
          84,
          80,
          78,
          78,
          79,
          79,
          77,
          82,
          82,
          90,
          102,
          104,
          117,
          116,
          102,
          91,
          86,
          87,
          87,
          81,
          86,
          91,
          81,
          79,
          78,
          81,
          83,
          86,
          86,
          84,
          83,
          82,
          81,
          80,
          77,
          75,
          74,
          74,
          77,
          78,
          78,
          76,
          69,
          66,
          69,
          75,
          73,
          73,
          78,
          75,
          69,
          68,
          73,
          80,
          78,
          78,
          76,
          76,
          77,
          77,
          80,
          82,
          88,
          90,
          90,
          90,
          91,
          89,
          83,
          78,
          78,
          77,
          76,
          77,
          78,
          78,
          76,
          75,
          74,
          74,
          75,
          74,
          82,
          97,
          106,
          120,
          115,
          121,
          113,
          107,
          100,
          91,
          82,
          88,
          91,
          90,
          82,
          80,
          84,
          86,
          84,
          86,
          91,
          89,
          98,
          98,
          89,
          85,
          83,
          83,
          85,
          86,
          86,
          92,
          114,
          133,
          128,
          129,
          128,
          118,
          83,
          81,
          81,
          84,
          88,
          86,
          81,
          81,
          82,
          79,
          78,
          79,
          81,
          80,
          81,
          85,
          87,
          84,
          83,
          82,
          82,
          82,
          81,
          76,
          74,
          74,
          71,
          77,
          84,
          83,
          80,
          86,
          92,
          84,
          82,
          82,
          81,
          81,
          77,
          87,
          101,
          109,
          101,
          83,
          73,
          77,
          76,
          75,
          74,
          75,
          80,
          75,
          76,
          76,
          76,
          76,
          75,
          86,
          102,
          110,
          108,
          111,
          106,
          104,
          104,
          103,
          102,
          98,
          90,
          84,
          85,
          85,
          86,
          87,
          85,
          82,
          89,
          88,
          91,
          92,
          91,
          82,
          74,
          76,
          80,
          79,
          81,
          82,
          82,
          84,
          93,
          99,
          97,
          109,
          125,
          114,
          110,
          107,
          100,
          89,
          84,
          91,
          96,
          92,
          87,
          93,
          87,
          89,
          87,
          86,
          89,
          90,
          84,
          76,
          73,
          77,
          81,
          76,
          71,
          68,
          71,
          75,
          77,
          78,
          77,
          79,
          84,
          84,
          82,
          77,
          74,
          73,
          73,
          75,
          76,
          76,
          78,
          80,
          76,
          72,
          73,
          76,
          80,
          81,
          81,
          82,
          85,
          81,
          79,
          79,
          80,
          77,
          77,
          77,
          78,
          82,
          90,
          95,
          97,
          92,
          87,
          93,
          86,
          86,
          85,
          81,
          76,
          74,
          75,
          77,
          78,
          80,
          85,
          89,
          89,
          87,
          88,
          84,
          80,
          78,
          78,
          77,
          76,
          96,
          95,
          106,
          99,
          88,
          85,
          88,
          92,
          94,
          88,
          92,
          90,
          86,
          82,
          79,
          79,
          80,
          78,
          81,
          85,
          90,
          94,
          96,
          97,
          96,
          96,
          94,
          86,
          92,
          95,
          104,
          107,
          107,
          103,
          100,
          99,
          94,
          88,
          84,
          89,
          81,
          78,
          79,
          79,
          79,
          80,
          82,
          77,
          71,
          72,
          74,
          73,
          73,
          77,
          78,
          79,
          77,
          72,
          72,
          75,
          78,
          75,
          71,
          70,
          76,
          82,
          83,
          84,
          83,
          78,
          71,
          67,
          72,
          79,
          79,
          78,
          76,
          78,
          79,
          78,
          79,
          78,
          86,
          101,
          107,
          98,
          87,
          81,
          79,
          80,
          83,
          78,
          81,
          80,
          81,
          79,
          77,
          77,
          79,
          76,
          73,
          74,
          80,
          86,
          107,
          108,
          112,
          102,
          88,
          75,
          70,
          80,
          90,
          83,
          84,
          90,
          95,
          97,
          96,
          90,
          83,
          87,
          101,
          104,
          99,
          95,
          99,
          101,
          93,
          88,
          81,
          80,
          87,
          97,
          101,
          114,
          89,
          89,
          117,
          100,
          97,
          97,
          93,
          95,
          101,
          102,
          102,
          98,
          88,
          86,
          94,
          92,
          76,
          71,
          82,
          89,
          89,
          90,
          88,
          87,
          82,
          77,
          79,
          80,
          80,
          84,
          85,
          78,
          75,
          76,
          76,
          78,
          83,
          82,
          76,
          78,
          79,
          81,
          98,
          117,
          108,
          99,
          89,
          86,
          81,
          77,
          78,
          77,
          80,
          80,
          79,
          78,
          77,
          77,
          78,
          80,
          80,
          82,
          90,
          106,
          111,
          103,
          94,
          90,
          90,
          85,
          93,
          99,
          102,
          97,
          86,
          84,
          97,
          99,
          88,
          79,
          84,
          88,
          87,
          85,
          85,
          85,
          83,
          83,
          84,
          87,
          91,
          102,
          106,
          96,
          85,
          85,
          94,
          99,
          98,
          97,
          96,
          95,
          93,
          93,
          97,
          91,
          89,
          87,
          89,
          90,
          87,
          87,
          86,
          86,
          82,
          75,
          75,
          79,
          81,
          86,
          86,
          80,
          81,
          83,
          84,
          85,
          81,
          74,
          71,
          77,
          83,
          82,
          82,
          81,
          78,
          78,
          80,
          83,
          82,
          80,
          77,
          75,
          80,
          78,
          81,
          81,
          81,
          81,
          81,
          81,
          81,
          81,
          83,
          86,
          94,
          107,
          112,
          107,
          99,
          94,
          91,
          89,
          87,
          82,
          84,
          84,
          85,
          86,
          85,
          95,
          107,
          110,
          108,
          103,
          100,
          99,
          98,
          94,
          89,
          87,
          90,
          97,
          103,
          101,
          97,
          94,
          88,
          88,
          89,
          88,
          86,
          85,
          85,
          86,
          85,
          84,
          83,
          79,
          87,
          98,
          94,
          131,
          159,
          162,
          143,
          111,
          108,
          136,
          148,
          129,
          113,
          114,
          114,
          114,
          113,
          109,
          105,
          98,
          95,
          92,
          86,
          84,
          94,
          101,
          96,
          95,
          99,
          96,
          88,
          85,
          81,
          81,
          89,
          91,
          84,
          83,
          86,
          86,
          82,
          84,
          85,
          82,
          81,
          80,
          81,
          85,
          83,
          82,
          84,
          87,
          87,
          84,
          83,
          84,
          83,
          84,
          79,
          99,
          114,
          108,
          91,
          79,
          73,
          73,
          71,
          73,
          74,
          77,
          82,
          85,
          83,
          79,
          79,
          81,
          91,
          105,
          106,
          100,
          92,
          90,
          95,
          98,
          100,
          102,
          99,
          89,
          74,
          84,
          88,
          94,
          93,
          94,
          91,
          91,
          88,
          88,
          90,
          91,
          90,
          92,
          92,
          92,
          93,
          94,
          94,
          102,
          111,
          109,
          115,
          114,
          112,
          102,
          95,
          93,
          91,
          93,
          96,
          96,
          91,
          92,
          89,
          117,
          100,
          98,
          97,
          92,
          87,
          87,
          88,
          90,
          88,
          85,
          85,
          87,
          90,
          89,
          89,
          91,
          95,
          96,
          95,
          92,
          88,
          85,
          88,
          91,
          93,
          91,
          89,
          89,
          88,
          86,
          87,
          90,
          89,
          88,
          85,
          86,
          87,
          92,
          99,
          101,
          105,
          94,
          92,
          92,
          92,
          92,
          91,
          86,
          87,
          89,
          88,
          87,
          91,
          86,
          85,
          86,
          86,
          86,
          94,
          110,
          117,
          110,
          100,
          94,
          92,
          89,
          86,
          90,
          96,
          95,
          102,
          98,
          107,
          100,
          93,
          97
         ],
         "yaxis": "y"
        }
       ],
       "layout": {
        "legend": {
         "tracegroupgap": 0
        },
        "margin": {
         "t": 60
        },
        "template": {
         "data": {
          "bar": [
           {
            "error_x": {
             "color": "#2a3f5f"
            },
            "error_y": {
             "color": "#2a3f5f"
            },
            "marker": {
             "line": {
              "color": "#E5ECF6",
              "width": 0.5
             }
            },
            "type": "bar"
           }
          ],
          "barpolar": [
           {
            "marker": {
             "line": {
              "color": "#E5ECF6",
              "width": 0.5
             }
            },
            "type": "barpolar"
           }
          ],
          "carpet": [
           {
            "aaxis": {
             "endlinecolor": "#2a3f5f",
             "gridcolor": "white",
             "linecolor": "white",
             "minorgridcolor": "white",
             "startlinecolor": "#2a3f5f"
            },
            "baxis": {
             "endlinecolor": "#2a3f5f",
             "gridcolor": "white",
             "linecolor": "white",
             "minorgridcolor": "white",
             "startlinecolor": "#2a3f5f"
            },
            "type": "carpet"
           }
          ],
          "choropleth": [
           {
            "colorbar": {
             "outlinewidth": 0,
             "ticks": ""
            },
            "type": "choropleth"
           }
          ],
          "contour": [
           {
            "colorbar": {
             "outlinewidth": 0,
             "ticks": ""
            },
            "colorscale": [
             [
              0,
              "#0d0887"
             ],
             [
              0.1111111111111111,
              "#46039f"
             ],
             [
              0.2222222222222222,
              "#7201a8"
             ],
             [
              0.3333333333333333,
              "#9c179e"
             ],
             [
              0.4444444444444444,
              "#bd3786"
             ],
             [
              0.5555555555555556,
              "#d8576b"
             ],
             [
              0.6666666666666666,
              "#ed7953"
             ],
             [
              0.7777777777777778,
              "#fb9f3a"
             ],
             [
              0.8888888888888888,
              "#fdca26"
             ],
             [
              1,
              "#f0f921"
             ]
            ],
            "type": "contour"
           }
          ],
          "contourcarpet": [
           {
            "colorbar": {
             "outlinewidth": 0,
             "ticks": ""
            },
            "type": "contourcarpet"
           }
          ],
          "heatmap": [
           {
            "colorbar": {
             "outlinewidth": 0,
             "ticks": ""
            },
            "colorscale": [
             [
              0,
              "#0d0887"
             ],
             [
              0.1111111111111111,
              "#46039f"
             ],
             [
              0.2222222222222222,
              "#7201a8"
             ],
             [
              0.3333333333333333,
              "#9c179e"
             ],
             [
              0.4444444444444444,
              "#bd3786"
             ],
             [
              0.5555555555555556,
              "#d8576b"
             ],
             [
              0.6666666666666666,
              "#ed7953"
             ],
             [
              0.7777777777777778,
              "#fb9f3a"
             ],
             [
              0.8888888888888888,
              "#fdca26"
             ],
             [
              1,
              "#f0f921"
             ]
            ],
            "type": "heatmap"
           }
          ],
          "heatmapgl": [
           {
            "colorbar": {
             "outlinewidth": 0,
             "ticks": ""
            },
            "colorscale": [
             [
              0,
              "#0d0887"
             ],
             [
              0.1111111111111111,
              "#46039f"
             ],
             [
              0.2222222222222222,
              "#7201a8"
             ],
             [
              0.3333333333333333,
              "#9c179e"
             ],
             [
              0.4444444444444444,
              "#bd3786"
             ],
             [
              0.5555555555555556,
              "#d8576b"
             ],
             [
              0.6666666666666666,
              "#ed7953"
             ],
             [
              0.7777777777777778,
              "#fb9f3a"
             ],
             [
              0.8888888888888888,
              "#fdca26"
             ],
             [
              1,
              "#f0f921"
             ]
            ],
            "type": "heatmapgl"
           }
          ],
          "histogram": [
           {
            "marker": {
             "colorbar": {
              "outlinewidth": 0,
              "ticks": ""
             }
            },
            "type": "histogram"
           }
          ],
          "histogram2d": [
           {
            "colorbar": {
             "outlinewidth": 0,
             "ticks": ""
            },
            "colorscale": [
             [
              0,
              "#0d0887"
             ],
             [
              0.1111111111111111,
              "#46039f"
             ],
             [
              0.2222222222222222,
              "#7201a8"
             ],
             [
              0.3333333333333333,
              "#9c179e"
             ],
             [
              0.4444444444444444,
              "#bd3786"
             ],
             [
              0.5555555555555556,
              "#d8576b"
             ],
             [
              0.6666666666666666,
              "#ed7953"
             ],
             [
              0.7777777777777778,
              "#fb9f3a"
             ],
             [
              0.8888888888888888,
              "#fdca26"
             ],
             [
              1,
              "#f0f921"
             ]
            ],
            "type": "histogram2d"
           }
          ],
          "histogram2dcontour": [
           {
            "colorbar": {
             "outlinewidth": 0,
             "ticks": ""
            },
            "colorscale": [
             [
              0,
              "#0d0887"
             ],
             [
              0.1111111111111111,
              "#46039f"
             ],
             [
              0.2222222222222222,
              "#7201a8"
             ],
             [
              0.3333333333333333,
              "#9c179e"
             ],
             [
              0.4444444444444444,
              "#bd3786"
             ],
             [
              0.5555555555555556,
              "#d8576b"
             ],
             [
              0.6666666666666666,
              "#ed7953"
             ],
             [
              0.7777777777777778,
              "#fb9f3a"
             ],
             [
              0.8888888888888888,
              "#fdca26"
             ],
             [
              1,
              "#f0f921"
             ]
            ],
            "type": "histogram2dcontour"
           }
          ],
          "mesh3d": [
           {
            "colorbar": {
             "outlinewidth": 0,
             "ticks": ""
            },
            "type": "mesh3d"
           }
          ],
          "parcoords": [
           {
            "line": {
             "colorbar": {
              "outlinewidth": 0,
              "ticks": ""
             }
            },
            "type": "parcoords"
           }
          ],
          "pie": [
           {
            "automargin": true,
            "type": "pie"
           }
          ],
          "scatter": [
           {
            "marker": {
             "colorbar": {
              "outlinewidth": 0,
              "ticks": ""
             }
            },
            "type": "scatter"
           }
          ],
          "scatter3d": [
           {
            "line": {
             "colorbar": {
              "outlinewidth": 0,
              "ticks": ""
             }
            },
            "marker": {
             "colorbar": {
              "outlinewidth": 0,
              "ticks": ""
             }
            },
            "type": "scatter3d"
           }
          ],
          "scattercarpet": [
           {
            "marker": {
             "colorbar": {
              "outlinewidth": 0,
              "ticks": ""
             }
            },
            "type": "scattercarpet"
           }
          ],
          "scattergeo": [
           {
            "marker": {
             "colorbar": {
              "outlinewidth": 0,
              "ticks": ""
             }
            },
            "type": "scattergeo"
           }
          ],
          "scattergl": [
           {
            "marker": {
             "colorbar": {
              "outlinewidth": 0,
              "ticks": ""
             }
            },
            "type": "scattergl"
           }
          ],
          "scattermapbox": [
           {
            "marker": {
             "colorbar": {
              "outlinewidth": 0,
              "ticks": ""
             }
            },
            "type": "scattermapbox"
           }
          ],
          "scatterpolar": [
           {
            "marker": {
             "colorbar": {
              "outlinewidth": 0,
              "ticks": ""
             }
            },
            "type": "scatterpolar"
           }
          ],
          "scatterpolargl": [
           {
            "marker": {
             "colorbar": {
              "outlinewidth": 0,
              "ticks": ""
             }
            },
            "type": "scatterpolargl"
           }
          ],
          "scatterternary": [
           {
            "marker": {
             "colorbar": {
              "outlinewidth": 0,
              "ticks": ""
             }
            },
            "type": "scatterternary"
           }
          ],
          "surface": [
           {
            "colorbar": {
             "outlinewidth": 0,
             "ticks": ""
            },
            "colorscale": [
             [
              0,
              "#0d0887"
             ],
             [
              0.1111111111111111,
              "#46039f"
             ],
             [
              0.2222222222222222,
              "#7201a8"
             ],
             [
              0.3333333333333333,
              "#9c179e"
             ],
             [
              0.4444444444444444,
              "#bd3786"
             ],
             [
              0.5555555555555556,
              "#d8576b"
             ],
             [
              0.6666666666666666,
              "#ed7953"
             ],
             [
              0.7777777777777778,
              "#fb9f3a"
             ],
             [
              0.8888888888888888,
              "#fdca26"
             ],
             [
              1,
              "#f0f921"
             ]
            ],
            "type": "surface"
           }
          ],
          "table": [
           {
            "cells": {
             "fill": {
              "color": "#EBF0F8"
             },
             "line": {
              "color": "white"
             }
            },
            "header": {
             "fill": {
              "color": "#C8D4E3"
             },
             "line": {
              "color": "white"
             }
            },
            "type": "table"
           }
          ]
         },
         "layout": {
          "annotationdefaults": {
           "arrowcolor": "#2a3f5f",
           "arrowhead": 0,
           "arrowwidth": 1
          },
          "autotypenumbers": "strict",
          "coloraxis": {
           "colorbar": {
            "outlinewidth": 0,
            "ticks": ""
           }
          },
          "colorscale": {
           "diverging": [
            [
             0,
             "#8e0152"
            ],
            [
             0.1,
             "#c51b7d"
            ],
            [
             0.2,
             "#de77ae"
            ],
            [
             0.3,
             "#f1b6da"
            ],
            [
             0.4,
             "#fde0ef"
            ],
            [
             0.5,
             "#f7f7f7"
            ],
            [
             0.6,
             "#e6f5d0"
            ],
            [
             0.7,
             "#b8e186"
            ],
            [
             0.8,
             "#7fbc41"
            ],
            [
             0.9,
             "#4d9221"
            ],
            [
             1,
             "#276419"
            ]
           ],
           "sequential": [
            [
             0,
             "#0d0887"
            ],
            [
             0.1111111111111111,
             "#46039f"
            ],
            [
             0.2222222222222222,
             "#7201a8"
            ],
            [
             0.3333333333333333,
             "#9c179e"
            ],
            [
             0.4444444444444444,
             "#bd3786"
            ],
            [
             0.5555555555555556,
             "#d8576b"
            ],
            [
             0.6666666666666666,
             "#ed7953"
            ],
            [
             0.7777777777777778,
             "#fb9f3a"
            ],
            [
             0.8888888888888888,
             "#fdca26"
            ],
            [
             1,
             "#f0f921"
            ]
           ],
           "sequentialminus": [
            [
             0,
             "#0d0887"
            ],
            [
             0.1111111111111111,
             "#46039f"
            ],
            [
             0.2222222222222222,
             "#7201a8"
            ],
            [
             0.3333333333333333,
             "#9c179e"
            ],
            [
             0.4444444444444444,
             "#bd3786"
            ],
            [
             0.5555555555555556,
             "#d8576b"
            ],
            [
             0.6666666666666666,
             "#ed7953"
            ],
            [
             0.7777777777777778,
             "#fb9f3a"
            ],
            [
             0.8888888888888888,
             "#fdca26"
            ],
            [
             1,
             "#f0f921"
            ]
           ]
          },
          "colorway": [
           "#636efa",
           "#EF553B",
           "#00cc96",
           "#ab63fa",
           "#FFA15A",
           "#19d3f3",
           "#FF6692",
           "#B6E880",
           "#FF97FF",
           "#FECB52"
          ],
          "font": {
           "color": "#2a3f5f"
          },
          "geo": {
           "bgcolor": "white",
           "lakecolor": "white",
           "landcolor": "#E5ECF6",
           "showlakes": true,
           "showland": true,
           "subunitcolor": "white"
          },
          "hoverlabel": {
           "align": "left"
          },
          "hovermode": "closest",
          "mapbox": {
           "style": "light"
          },
          "paper_bgcolor": "white",
          "plot_bgcolor": "#E5ECF6",
          "polar": {
           "angularaxis": {
            "gridcolor": "white",
            "linecolor": "white",
            "ticks": ""
           },
           "bgcolor": "#E5ECF6",
           "radialaxis": {
            "gridcolor": "white",
            "linecolor": "white",
            "ticks": ""
           }
          },
          "scene": {
           "xaxis": {
            "backgroundcolor": "#E5ECF6",
            "gridcolor": "white",
            "gridwidth": 2,
            "linecolor": "white",
            "showbackground": true,
            "ticks": "",
            "zerolinecolor": "white"
           },
           "yaxis": {
            "backgroundcolor": "#E5ECF6",
            "gridcolor": "white",
            "gridwidth": 2,
            "linecolor": "white",
            "showbackground": true,
            "ticks": "",
            "zerolinecolor": "white"
           },
           "zaxis": {
            "backgroundcolor": "#E5ECF6",
            "gridcolor": "white",
            "gridwidth": 2,
            "linecolor": "white",
            "showbackground": true,
            "ticks": "",
            "zerolinecolor": "white"
           }
          },
          "shapedefaults": {
           "line": {
            "color": "#2a3f5f"
           }
          },
          "ternary": {
           "aaxis": {
            "gridcolor": "white",
            "linecolor": "white",
            "ticks": ""
           },
           "baxis": {
            "gridcolor": "white",
            "linecolor": "white",
            "ticks": ""
           },
           "bgcolor": "#E5ECF6",
           "caxis": {
            "gridcolor": "white",
            "linecolor": "white",
            "ticks": ""
           }
          },
          "title": {
           "x": 0.05
          },
          "xaxis": {
           "automargin": true,
           "gridcolor": "white",
           "linecolor": "white",
           "ticks": "",
           "title": {
            "standoff": 15
           },
           "zerolinecolor": "white",
           "zerolinewidth": 2
          },
          "yaxis": {
           "automargin": true,
           "gridcolor": "white",
           "linecolor": "white",
           "ticks": "",
           "title": {
            "standoff": 15
           },
           "zerolinecolor": "white",
           "zerolinewidth": 2
          }
         }
        },
        "xaxis": {
         "anchor": "y",
         "domain": [
          0,
          1
         ],
         "title": {
          "text": "timestamp"
         }
        },
        "yaxis": {
         "anchor": "x",
         "domain": [
          0,
          1
         ],
         "title": {
          "text": "Glukosewert-Verlauf mg/dL"
         }
        }
       }
      },
      "text/html": [
       "<div>                            <div id=\"8be44a95-714f-4f8e-b72f-91ec7d88a7cc\" class=\"plotly-graph-div\" style=\"height:525px; width:100%;\"></div>            <script type=\"text/javascript\">                require([\"plotly\"], function(Plotly) {                    window.PLOTLYENV=window.PLOTLYENV || {};                                    if (document.getElementById(\"8be44a95-714f-4f8e-b72f-91ec7d88a7cc\")) {                    Plotly.newPlot(                        \"8be44a95-714f-4f8e-b72f-91ec7d88a7cc\",                        [{\"hovertemplate\": \"timestamp=%{x}<br>Glukosewert-Verlauf mg/dL=%{y}<extra></extra>\", \"legendgroup\": \"\", \"line\": {\"color\": \"#636efa\", \"dash\": \"solid\"}, \"mode\": \"lines\", \"name\": \"\", \"showlegend\": false, \"type\": \"scattergl\", \"x\": [\"2021-02-14T16:50:00\", \"2021-02-14T16:52:00\", \"2021-02-14T16:57:00\", \"2021-02-14T17:03:00\", \"2021-02-14T17:07:00\", \"2021-02-14T17:10:00\", \"2021-02-14T17:20:00\", \"2021-02-14T17:22:00\", \"2021-02-14T17:36:00\", \"2021-02-14T17:39:00\", \"2021-02-14T17:51:00\", \"2021-02-14T18:06:00\", \"2021-02-14T18:22:00\", \"2021-02-14T18:27:00\", \"2021-02-14T18:37:00\", \"2021-02-14T18:52:00\", \"2021-02-14T18:53:00\", \"2021-02-14T19:08:00\", \"2021-02-14T19:22:00\", \"2021-02-14T19:35:00\", \"2021-02-14T19:37:00\", \"2021-02-14T19:52:00\", \"2021-02-14T20:07:00\", \"2021-02-14T20:23:00\", \"2021-02-14T20:33:00\", \"2021-02-14T20:38:00\", \"2021-02-14T20:53:00\", \"2021-02-14T21:08:00\", \"2021-02-14T21:23:00\", \"2021-02-14T21:52:00\", \"2021-02-14T23:40:00\", \"2021-02-14T23:55:00\", \"2021-02-15T00:10:00\", \"2021-02-15T00:25:00\", \"2021-02-15T00:40:00\", \"2021-02-15T00:55:00\", \"2021-02-15T01:10:00\", \"2021-02-15T01:25:00\", \"2021-02-15T01:40:00\", \"2021-02-15T01:55:00\", \"2021-02-15T02:10:00\", \"2021-02-15T02:25:00\", \"2021-02-15T02:40:00\", \"2021-02-15T02:55:00\", \"2021-02-15T03:10:00\", \"2021-02-15T03:25:00\", \"2021-02-15T03:40:00\", \"2021-02-15T03:55:00\", \"2021-02-15T04:10:00\", \"2021-02-15T04:25:00\", \"2021-02-15T04:40:00\", \"2021-02-15T04:55:00\", \"2021-02-15T05:10:00\", \"2021-02-15T05:25:00\", \"2021-02-15T05:40:00\", \"2021-02-15T05:55:00\", \"2021-02-15T06:10:00\", \"2021-02-15T06:25:00\", \"2021-02-15T06:40:00\", \"2021-02-15T06:55:00\", \"2021-02-15T07:10:00\", \"2021-02-15T07:25:00\", \"2021-02-15T07:29:00\", \"2021-02-15T07:40:00\", \"2021-02-15T07:55:00\", \"2021-02-15T08:10:00\", \"2021-02-15T08:22:00\", \"2021-02-15T08:25:00\", \"2021-02-15T08:40:00\", \"2021-02-15T08:45:00\", \"2021-02-15T08:55:00\", \"2021-02-15T09:10:00\", \"2021-02-15T09:14:00\", \"2021-02-15T09:25:00\", \"2021-02-15T09:40:00\", \"2021-02-15T09:55:00\", \"2021-02-15T10:10:00\", \"2021-02-15T10:25:00\", \"2021-02-15T10:40:00\", \"2021-02-15T10:55:00\", \"2021-02-15T11:11:00\", \"2021-02-15T11:20:00\", \"2021-02-15T11:26:00\", \"2021-02-15T11:41:00\", \"2021-02-15T11:56:00\", \"2021-02-15T12:11:00\", \"2021-02-15T12:26:00\", \"2021-02-15T12:38:00\", \"2021-02-15T12:41:00\", \"2021-02-15T12:56:00\", \"2021-02-15T12:58:00\", \"2021-02-15T13:11:00\", \"2021-02-15T13:26:00\", \"2021-02-15T13:41:00\", \"2021-02-15T13:44:00\", \"2021-02-15T13:56:00\", \"2021-02-15T14:11:00\", \"2021-02-15T14:26:00\", \"2021-02-15T14:41:00\", \"2021-02-15T14:56:00\", \"2021-02-15T15:12:00\", \"2021-02-15T15:19:00\", \"2021-02-15T15:27:00\", \"2021-02-15T15:42:00\", \"2021-02-15T15:57:00\", \"2021-02-15T16:12:00\", \"2021-02-15T16:18:00\", \"2021-02-15T16:22:00\", \"2021-02-15T16:27:00\", \"2021-02-15T16:32:00\", \"2021-02-15T16:42:00\", \"2021-02-15T16:57:00\", \"2021-02-15T17:12:00\", \"2021-02-15T17:27:00\", \"2021-02-15T17:33:00\", \"2021-02-15T17:42:00\", \"2021-02-15T17:54:00\", \"2021-02-15T17:57:00\", \"2021-02-15T18:02:00\", \"2021-02-15T18:12:00\", \"2021-02-15T18:12:00\", \"2021-02-15T18:19:00\", \"2021-02-15T18:26:00\", \"2021-02-15T18:27:00\", \"2021-02-15T18:42:00\", \"2021-02-15T18:57:00\", \"2021-02-15T19:12:00\", \"2021-02-15T19:27:00\", \"2021-02-15T19:34:00\", \"2021-02-15T19:43:00\", \"2021-02-15T19:47:00\", \"2021-02-15T19:58:00\", \"2021-02-15T20:00:00\", \"2021-02-15T20:13:00\", \"2021-02-15T20:28:00\", \"2021-02-15T20:43:00\", \"2021-02-15T20:58:00\", \"2021-02-15T21:13:00\", \"2021-02-15T21:21:00\", \"2021-02-15T21:28:00\", \"2021-02-15T21:43:00\", \"2021-02-15T21:58:00\", \"2021-02-15T22:13:00\", \"2021-02-15T22:28:00\", \"2021-02-15T22:43:00\", \"2021-02-15T22:58:00\", \"2021-02-15T23:13:00\", \"2021-02-15T23:28:00\", \"2021-02-15T23:30:00\", \"2021-02-15T23:45:00\", \"2021-02-16T00:00:00\", \"2021-02-16T00:15:00\", \"2021-02-16T00:30:00\", \"2021-02-16T00:45:00\", \"2021-02-16T01:00:00\", \"2021-02-16T01:15:00\", \"2021-02-16T01:30:00\", \"2021-02-16T01:45:00\", \"2021-02-16T02:00:00\", \"2021-02-16T02:15:00\", \"2021-02-16T02:30:00\", \"2021-02-16T02:45:00\", \"2021-02-16T03:00:00\", \"2021-02-16T03:15:00\", \"2021-02-16T03:30:00\", \"2021-02-16T03:45:00\", \"2021-02-16T04:00:00\", \"2021-02-16T04:15:00\", \"2021-02-16T04:30:00\", \"2021-02-16T04:45:00\", \"2021-02-16T05:00:00\", \"2021-02-16T05:15:00\", \"2021-02-16T05:30:00\", \"2021-02-16T05:45:00\", \"2021-02-16T06:00:00\", \"2021-02-16T06:15:00\", \"2021-02-16T06:30:00\", \"2021-02-16T06:45:00\", \"2021-02-16T07:00:00\", \"2021-02-16T07:15:00\", \"2021-02-16T07:16:00\", \"2021-02-16T07:30:00\", \"2021-02-16T07:45:00\", \"2021-02-16T08:00:00\", \"2021-02-16T08:14:00\", \"2021-02-16T08:16:00\", \"2021-02-16T08:29:00\", \"2021-02-16T08:31:00\", \"2021-02-16T08:39:00\", \"2021-02-16T08:46:00\", \"2021-02-16T09:01:00\", \"2021-02-16T09:16:00\", \"2021-02-16T09:22:00\", \"2021-02-16T09:31:00\", \"2021-02-16T09:46:00\", \"2021-02-16T10:01:00\", \"2021-02-16T10:16:00\", \"2021-02-16T10:17:00\", \"2021-02-16T10:31:00\", \"2021-02-16T10:46:00\", \"2021-02-16T11:01:00\", \"2021-02-16T11:16:00\", \"2021-02-16T11:31:00\", \"2021-02-16T11:46:00\", \"2021-02-16T12:01:00\", \"2021-02-16T12:16:00\", \"2021-02-16T12:31:00\", \"2021-02-16T12:37:00\", \"2021-02-16T12:46:00\", \"2021-02-16T13:02:00\", \"2021-02-16T13:09:00\", \"2021-02-16T13:17:00\", \"2021-02-16T13:32:00\", \"2021-02-16T13:47:00\", \"2021-02-16T14:02:00\", \"2021-02-16T14:17:00\", \"2021-02-16T14:32:00\", \"2021-02-16T14:47:00\", \"2021-02-16T15:02:00\", \"2021-02-16T15:17:00\", \"2021-02-16T15:32:00\", \"2021-02-16T15:47:00\", \"2021-02-16T16:02:00\", \"2021-02-16T16:17:00\", \"2021-02-16T16:32:00\", \"2021-02-16T16:47:00\", \"2021-02-16T17:02:00\", \"2021-02-16T17:12:00\", \"2021-02-16T17:17:00\", \"2021-02-16T17:22:00\", \"2021-02-16T17:32:00\", \"2021-02-16T17:47:00\", \"2021-02-16T17:53:00\", \"2021-02-16T18:02:00\", \"2021-02-16T18:17:00\", \"2021-02-16T18:32:00\", \"2021-02-16T18:47:00\", \"2021-02-16T19:03:00\", \"2021-02-16T19:13:00\", \"2021-02-16T19:18:00\", \"2021-02-16T19:33:00\", \"2021-02-16T19:48:00\", \"2021-02-16T20:03:00\", \"2021-02-16T20:18:00\", \"2021-02-16T20:30:00\", \"2021-02-16T20:33:00\", \"2021-02-16T20:47:00\", \"2021-02-16T20:48:00\", \"2021-02-16T20:57:00\", \"2021-02-16T21:03:00\", \"2021-02-16T21:08:00\", \"2021-02-16T21:18:00\", \"2021-02-16T21:33:00\", \"2021-02-16T21:48:00\", \"2021-02-16T22:03:00\", \"2021-02-16T22:18:00\", \"2021-02-16T22:22:00\", \"2021-02-16T22:33:00\", \"2021-02-16T22:48:00\", \"2021-02-16T23:03:00\", \"2021-02-16T23:18:00\", \"2021-02-16T23:35:00\", \"2021-02-16T23:41:00\", \"2021-02-16T23:50:00\", \"2021-02-17T00:05:00\", \"2021-02-17T00:20:00\", \"2021-02-17T00:35:00\", \"2021-02-17T00:50:00\", \"2021-02-17T01:05:00\", \"2021-02-17T01:20:00\", \"2021-02-17T01:35:00\", \"2021-02-17T01:50:00\", \"2021-02-17T02:05:00\", \"2021-02-17T02:20:00\", \"2021-02-17T02:35:00\", \"2021-02-17T02:50:00\", \"2021-02-17T03:05:00\", \"2021-02-17T03:20:00\", \"2021-02-17T03:35:00\", \"2021-02-17T03:50:00\", \"2021-02-17T04:05:00\", \"2021-02-17T04:20:00\", \"2021-02-17T04:35:00\", \"2021-02-17T04:50:00\", \"2021-02-17T05:05:00\", \"2021-02-17T05:20:00\", \"2021-02-17T05:35:00\", \"2021-02-17T05:50:00\", \"2021-02-17T06:05:00\", \"2021-02-17T06:20:00\", \"2021-02-17T06:35:00\", \"2021-02-17T06:50:00\", \"2021-02-17T07:06:00\", \"2021-02-17T07:11:00\", \"2021-02-17T07:21:00\", \"2021-02-17T07:36:00\", \"2021-02-17T07:51:00\", \"2021-02-17T08:06:00\", \"2021-02-17T08:09:00\", \"2021-02-17T08:16:00\", \"2021-02-17T08:21:00\", \"2021-02-17T08:36:00\", \"2021-02-17T08:51:00\", \"2021-02-17T09:06:00\", \"2021-02-17T09:21:00\", \"2021-02-17T09:22:00\", \"2021-02-17T09:35:00\", \"2021-02-17T09:36:00\", \"2021-02-17T09:51:00\", \"2021-02-17T10:06:00\", \"2021-02-17T10:10:00\", \"2021-02-17T10:21:00\", \"2021-02-17T10:36:00\", \"2021-02-17T10:51:00\", \"2021-02-17T11:06:00\", \"2021-02-17T11:21:00\", \"2021-02-17T11:36:00\", \"2021-02-17T11:51:00\", \"2021-02-17T12:06:00\", \"2021-02-17T12:22:00\", \"2021-02-17T12:23:00\", \"2021-02-17T12:32:00\", \"2021-02-17T12:37:00\", \"2021-02-17T12:52:00\", \"2021-02-17T12:56:00\", \"2021-02-17T13:07:00\", \"2021-02-17T13:22:00\", \"2021-02-17T13:38:00\", \"2021-02-17T13:40:00\", \"2021-02-17T13:53:00\", \"2021-02-17T14:08:00\", \"2021-02-17T14:23:00\", \"2021-02-17T14:38:00\", \"2021-02-17T14:53:00\", \"2021-02-17T15:08:00\", \"2021-02-17T15:23:00\", \"2021-02-17T15:27:00\", \"2021-02-17T15:38:00\", \"2021-02-17T15:53:00\", \"2021-02-17T16:07:00\", \"2021-02-17T16:15:00\", \"2021-02-17T16:22:00\", \"2021-02-17T16:23:00\", \"2021-02-17T16:38:00\", \"2021-02-17T16:53:00\", \"2021-02-17T17:08:00\", \"2021-02-17T17:12:00\", \"2021-02-17T17:23:00\", \"2021-02-17T17:38:00\", \"2021-02-17T17:53:00\", \"2021-02-17T18:08:00\", \"2021-02-17T18:23:00\", \"2021-02-17T18:38:00\", \"2021-02-17T18:53:00\", \"2021-02-17T19:08:00\", \"2021-02-17T19:23:00\", \"2021-02-17T19:30:00\", \"2021-02-17T19:39:00\", \"2021-02-17T19:45:00\", \"2021-02-17T19:54:00\", \"2021-02-17T20:09:00\", \"2021-02-17T20:24:00\", \"2021-02-17T20:39:00\", \"2021-02-17T20:54:00\", \"2021-02-17T21:09:00\", \"2021-02-17T21:24:00\", \"2021-02-17T21:39:00\", \"2021-02-17T21:54:00\", \"2021-02-17T22:09:00\", \"2021-02-17T22:24:00\", \"2021-02-17T22:47:00\", \"2021-02-17T23:25:00\", \"2021-02-17T23:40:00\", \"2021-02-17T23:55:00\", \"2021-02-18T00:10:00\", \"2021-02-18T00:25:00\", \"2021-02-18T00:40:00\", \"2021-02-18T00:55:00\", \"2021-02-18T01:10:00\", \"2021-02-18T01:25:00\", \"2021-02-18T01:40:00\", \"2021-02-18T01:55:00\", \"2021-02-18T02:10:00\", \"2021-02-18T02:25:00\", \"2021-02-18T02:40:00\", \"2021-02-18T02:55:00\", \"2021-02-18T03:10:00\", \"2021-02-18T03:25:00\", \"2021-02-18T03:40:00\", \"2021-02-18T03:55:00\", \"2021-02-18T04:10:00\", \"2021-02-18T04:25:00\", \"2021-02-18T04:40:00\", \"2021-02-18T04:55:00\", \"2021-02-18T05:10:00\", \"2021-02-18T05:25:00\", \"2021-02-18T05:40:00\", \"2021-02-18T05:55:00\", \"2021-02-18T06:10:00\", \"2021-02-18T06:25:00\", \"2021-02-18T06:40:00\", \"2021-02-18T06:55:00\", \"2021-02-18T07:11:00\", \"2021-02-18T07:11:00\", \"2021-02-18T07:26:00\", \"2021-02-18T07:41:00\", \"2021-02-18T07:56:00\", \"2021-02-18T08:11:00\", \"2021-02-18T08:17:00\", \"2021-02-18T08:26:00\", \"2021-02-18T08:42:00\", \"2021-02-18T08:44:00\", \"2021-02-18T08:55:00\", \"2021-02-18T08:57:00\", \"2021-02-18T09:12:00\", \"2021-02-18T09:27:00\", \"2021-02-18T09:42:00\", \"2021-02-18T09:57:00\", \"2021-02-18T10:12:00\", \"2021-02-18T10:27:00\", \"2021-02-18T10:42:00\", \"2021-02-18T10:57:00\", \"2021-02-18T11:12:00\", \"2021-02-18T11:27:00\", \"2021-02-18T11:42:00\", \"2021-02-18T11:57:00\", \"2021-02-18T12:12:00\", \"2021-02-18T12:27:00\", \"2021-02-18T12:42:00\", \"2021-02-18T12:47:00\", \"2021-02-18T12:57:00\", \"2021-02-18T13:11:00\", \"2021-02-18T13:12:00\", \"2021-02-18T13:27:00\", \"2021-02-18T13:43:00\", \"2021-02-18T13:54:00\", \"2021-02-18T13:58:00\", \"2021-02-18T14:13:00\", \"2021-02-18T14:28:00\", \"2021-02-18T14:43:00\", \"2021-02-18T14:54:00\", \"2021-02-18T14:58:00\", \"2021-02-18T15:13:00\", \"2021-02-18T15:28:00\", \"2021-02-18T15:43:00\", \"2021-02-18T15:58:00\", \"2021-02-18T16:13:00\", \"2021-02-18T16:28:00\", \"2021-02-18T16:37:00\", \"2021-02-18T16:43:00\", \"2021-02-18T16:58:00\", \"2021-02-18T17:00:00\", \"2021-02-18T17:13:00\", \"2021-02-18T17:28:00\", \"2021-02-18T17:43:00\", \"2021-02-18T17:46:00\", \"2021-02-18T17:58:00\", \"2021-02-18T18:13:00\", \"2021-02-18T18:28:00\", \"2021-02-18T18:43:00\", \"2021-02-18T18:58:00\", \"2021-02-18T19:13:00\", \"2021-02-18T19:29:00\", \"2021-02-18T19:35:00\", \"2021-02-18T19:44:00\", \"2021-02-18T19:59:00\", \"2021-02-18T20:14:00\", \"2021-02-18T20:30:00\", \"2021-02-18T23:46:00\", \"2021-02-19T00:01:00\", \"2021-02-19T00:16:00\", \"2021-02-19T00:31:00\", \"2021-02-19T00:46:00\", \"2021-02-19T01:01:00\", \"2021-02-19T01:16:00\", \"2021-02-19T01:31:00\", \"2021-02-19T01:46:00\", \"2021-02-19T02:01:00\", \"2021-02-19T02:16:00\", \"2021-02-19T02:31:00\", \"2021-02-19T02:46:00\", \"2021-02-19T03:01:00\", \"2021-02-19T03:16:00\", \"2021-02-19T03:31:00\", \"2021-02-19T03:46:00\", \"2021-02-19T04:01:00\", \"2021-02-19T04:16:00\", \"2021-02-19T04:31:00\", \"2021-02-19T04:46:00\", \"2021-02-19T05:01:00\", \"2021-02-19T05:16:00\", \"2021-02-19T05:31:00\", \"2021-02-19T05:46:00\", \"2021-02-19T06:01:00\", \"2021-02-19T06:16:00\", \"2021-02-19T06:31:00\", \"2021-02-19T06:46:00\", \"2021-02-19T07:01:00\", \"2021-02-19T07:16:00\", \"2021-02-19T07:31:00\", \"2021-02-19T07:40:00\", \"2021-02-19T07:46:00\", \"2021-02-19T08:01:00\", \"2021-02-19T08:17:00\", \"2021-02-19T08:28:00\", \"2021-02-19T08:32:00\", \"2021-02-19T08:41:00\", \"2021-02-19T08:47:00\", \"2021-02-19T09:02:00\", \"2021-02-19T09:17:00\", \"2021-02-19T09:32:00\", \"2021-02-19T09:47:00\", \"2021-02-19T09:59:00\", \"2021-02-19T10:02:00\", \"2021-02-19T10:17:00\", \"2021-02-19T10:32:00\", \"2021-02-19T10:47:00\", \"2021-02-19T11:02:00\", \"2021-02-19T11:05:00\", \"2021-02-19T11:17:00\", \"2021-02-19T11:31:00\", \"2021-02-19T11:32:00\", \"2021-02-19T11:47:00\", \"2021-02-19T11:49:00\", \"2021-02-19T12:02:00\", \"2021-02-19T12:17:00\", \"2021-02-19T12:32:00\", \"2021-02-19T12:47:00\", \"2021-02-19T13:03:00\", \"2021-02-19T13:06:00\", \"2021-02-19T13:18:00\", \"2021-02-19T13:33:00\", \"2021-02-19T13:43:00\", \"2021-02-19T13:48:00\", \"2021-02-19T14:03:00\", \"2021-02-19T14:18:00\", \"2021-02-19T14:33:00\", \"2021-02-19T14:48:00\", \"2021-02-19T15:03:00\", \"2021-02-19T15:03:00\", \"2021-02-19T15:18:00\", \"2021-02-19T15:33:00\", \"2021-02-19T15:48:00\", \"2021-02-19T16:03:00\", \"2021-02-19T16:18:00\", \"2021-02-19T16:18:00\", \"2021-02-19T16:33:00\", \"2021-02-19T16:48:00\", \"2021-02-19T17:03:00\", \"2021-02-19T17:18:00\", \"2021-02-19T17:33:00\", \"2021-02-19T17:49:00\", \"2021-02-19T17:54:00\", \"2021-02-19T18:04:00\", \"2021-02-19T18:19:00\", \"2021-02-19T18:34:00\", \"2021-02-19T18:49:00\", \"2021-02-19T19:04:00\", \"2021-02-19T19:19:00\", \"2021-02-19T19:25:00\", \"2021-02-19T19:34:00\", \"2021-02-19T19:49:00\", \"2021-02-19T20:03:00\", \"2021-02-19T20:04:00\", \"2021-02-19T20:19:00\", \"2021-02-19T20:34:00\", \"2021-02-19T20:49:00\", \"2021-02-19T21:04:00\", \"2021-02-19T21:19:00\", \"2021-02-19T21:34:00\", \"2021-02-19T21:49:00\", \"2021-02-19T22:04:00\", \"2021-02-19T22:20:00\", \"2021-02-19T22:24:00\", \"2021-02-19T22:35:00\", \"2021-02-19T22:50:00\", \"2021-02-19T23:05:00\", \"2021-02-19T23:20:00\", \"2021-02-19T23:35:00\", \"2021-02-19T23:50:00\", \"2021-02-20T00:05:00\", \"2021-02-20T00:20:00\", \"2021-02-20T00:35:00\", \"2021-02-20T00:52:00\", \"2021-02-20T00:53:00\", \"2021-02-20T01:07:00\", \"2021-02-20T01:22:00\", \"2021-02-20T01:37:00\", \"2021-02-20T01:52:00\", \"2021-02-20T02:07:00\", \"2021-02-20T02:22:00\", \"2021-02-20T02:37:00\", \"2021-02-20T02:52:00\", \"2021-02-20T03:07:00\", \"2021-02-20T03:22:00\", \"2021-02-20T03:37:00\", \"2021-02-20T03:52:00\", \"2021-02-20T04:07:00\", \"2021-02-20T04:22:00\", \"2021-02-20T04:37:00\", \"2021-02-20T04:52:00\", \"2021-02-20T05:07:00\", \"2021-02-20T05:22:00\", \"2021-02-20T05:37:00\", \"2021-02-20T05:52:00\", \"2021-02-20T06:07:00\", \"2021-02-20T06:22:00\", \"2021-02-20T06:37:00\", \"2021-02-20T06:52:00\", \"2021-02-20T07:07:00\", \"2021-02-20T07:22:00\", \"2021-02-20T07:37:00\", \"2021-02-20T07:52:00\", \"2021-02-20T08:07:00\", \"2021-02-20T08:19:00\", \"2021-02-20T08:22:00\", \"2021-02-20T08:37:00\", \"2021-02-20T08:52:00\", \"2021-02-20T09:07:00\", \"2021-02-20T09:22:00\", \"2021-02-20T09:30:00\", \"2021-02-20T09:37:00\", \"2021-02-20T09:50:00\", \"2021-02-20T09:52:00\", \"2021-02-20T10:07:00\", \"2021-02-20T10:22:00\", \"2021-02-20T10:32:00\", \"2021-02-20T10:37:00\", \"2021-02-20T10:53:00\", \"2021-02-20T10:59:00\", \"2021-02-20T11:08:00\", \"2021-02-20T11:23:00\", \"2021-02-20T11:38:00\", \"2021-02-20T11:53:00\", \"2021-02-20T12:08:00\", \"2021-02-20T12:23:00\", \"2021-02-20T12:38:00\", \"2021-02-20T12:53:00\", \"2021-02-20T13:08:00\", \"2021-02-20T13:23:00\", \"2021-02-20T13:38:00\", \"2021-02-20T13:53:00\", \"2021-02-20T14:08:00\", \"2021-02-20T14:20:00\", \"2021-02-20T14:23:00\", \"2021-02-20T14:38:00\", \"2021-02-20T14:53:00\", \"2021-02-20T15:08:00\", \"2021-02-20T15:22:00\", \"2021-02-20T15:23:00\", \"2021-02-20T15:38:00\", \"2021-02-20T15:54:00\", \"2021-02-20T15:54:00\", \"2021-02-20T16:09:00\", \"2021-02-20T16:24:00\", \"2021-02-20T16:39:00\", \"2021-02-20T16:54:00\", \"2021-02-20T17:09:00\", \"2021-02-20T17:24:00\", \"2021-02-20T17:39:00\", \"2021-02-20T17:46:00\", \"2021-02-20T17:54:00\", \"2021-02-20T18:09:00\", \"2021-02-20T18:24:00\", \"2021-02-20T18:39:00\", \"2021-02-20T18:54:00\", \"2021-02-20T19:09:00\", \"2021-02-20T19:24:00\", \"2021-02-20T19:39:00\", \"2021-02-20T19:54:00\", \"2021-02-20T20:09:00\", \"2021-02-20T20:24:00\", \"2021-02-20T20:39:00\", \"2021-02-20T20:54:00\", \"2021-02-20T21:09:00\", \"2021-02-20T21:24:00\", \"2021-02-20T21:39:00\", \"2021-02-20T21:54:00\", \"2021-02-20T22:02:00\", \"2021-02-20T22:09:00\", \"2021-02-20T22:24:00\", \"2021-02-20T22:40:00\", \"2021-02-20T22:49:00\", \"2021-02-20T22:55:00\", \"2021-02-20T23:10:00\", \"2021-02-20T23:25:00\", \"2021-02-20T23:40:00\", \"2021-02-20T23:55:00\", \"2021-02-21T00:10:00\", \"2021-02-21T00:25:00\", \"2021-02-21T00:33:00\", \"2021-02-21T00:40:00\", \"2021-02-21T00:55:00\", \"2021-02-21T01:10:00\", \"2021-02-21T01:25:00\", \"2021-02-21T01:40:00\", \"2021-02-21T01:57:00\", \"2021-02-21T02:02:00\", \"2021-02-21T02:12:00\", \"2021-02-21T02:27:00\", \"2021-02-21T02:42:00\", \"2021-02-21T02:57:00\", \"2021-02-21T03:12:00\", \"2021-02-21T03:27:00\", \"2021-02-21T03:42:00\", \"2021-02-21T03:57:00\", \"2021-02-21T04:12:00\", \"2021-02-21T04:27:00\", \"2021-02-21T04:42:00\", \"2021-02-21T04:57:00\", \"2021-02-21T05:12:00\", \"2021-02-21T05:27:00\", \"2021-02-21T05:42:00\", \"2021-02-21T05:57:00\", \"2021-02-21T06:12:00\", \"2021-02-21T06:27:00\", \"2021-02-21T06:42:00\", \"2021-02-21T06:57:00\", \"2021-02-21T07:12:00\", \"2021-02-21T07:27:00\", \"2021-02-21T07:42:00\", \"2021-02-21T07:57:00\", \"2021-02-21T08:12:00\", \"2021-02-21T08:27:00\", \"2021-02-21T08:42:00\", \"2021-02-21T08:57:00\", \"2021-02-21T09:12:00\", \"2021-02-21T09:21:00\", \"2021-02-21T09:27:00\", \"2021-02-21T09:42:00\", \"2021-02-21T09:57:00\", \"2021-02-21T10:13:00\", \"2021-02-21T10:18:00\", \"2021-02-21T10:28:00\", \"2021-02-21T10:43:00\", \"2021-02-21T10:58:00\", \"2021-02-21T11:13:00\", \"2021-02-21T11:28:00\", \"2021-02-21T11:43:00\", \"2021-02-21T11:58:00\", \"2021-02-21T12:13:00\", \"2021-02-21T12:28:00\", \"2021-02-21T12:38:00\", \"2021-02-21T12:43:00\", \"2021-02-21T12:58:00\", \"2021-02-21T13:13:00\", \"2021-02-21T13:28:00\", \"2021-02-21T13:43:00\", \"2021-02-21T13:58:00\", \"2021-02-21T14:13:00\", \"2021-02-21T14:28:00\", \"2021-02-21T14:43:00\", \"2021-02-21T14:58:00\", \"2021-02-21T15:13:00\", \"2021-02-21T15:28:00\", \"2021-02-21T15:44:00\", \"2021-02-21T15:44:00\", \"2021-02-21T15:59:00\", \"2021-02-21T16:14:00\", \"2021-02-21T16:29:00\", \"2021-02-21T16:44:00\", \"2021-02-21T16:59:00\", \"2021-02-21T17:14:00\", \"2021-02-21T17:27:00\", \"2021-02-21T17:29:00\", \"2021-02-21T17:44:00\", \"2021-02-21T17:59:00\", \"2021-02-21T18:14:00\", \"2021-02-21T18:21:00\", \"2021-02-21T18:29:00\", \"2021-02-21T18:44:00\", \"2021-02-21T18:59:00\", \"2021-02-21T19:14:00\", \"2021-02-21T19:29:00\", \"2021-02-21T19:44:00\", \"2021-02-21T19:59:00\", \"2021-02-21T20:08:00\", \"2021-02-21T20:14:00\", \"2021-02-21T20:30:00\", \"2021-02-21T20:39:00\", \"2021-02-21T20:45:00\", \"2021-02-21T20:56:00\", \"2021-02-21T21:00:00\", \"2021-02-21T21:15:00\", \"2021-02-21T21:30:00\", \"2021-02-21T21:45:00\", \"2021-02-21T21:48:00\", \"2021-02-21T22:00:00\", \"2021-02-21T22:15:00\", \"2021-02-21T22:43:00\", \"2021-02-21T23:17:00\", \"2021-02-21T23:32:00\", \"2021-02-21T23:47:00\", \"2021-02-22T00:02:00\", \"2021-02-22T00:17:00\", \"2021-02-22T00:32:00\", \"2021-02-22T00:47:00\", \"2021-02-22T01:02:00\", \"2021-02-22T01:17:00\", \"2021-02-22T01:32:00\", \"2021-02-22T01:47:00\", \"2021-02-22T02:02:00\", \"2021-02-22T02:17:00\", \"2021-02-22T02:32:00\", \"2021-02-22T02:47:00\", \"2021-02-22T03:02:00\", \"2021-02-22T03:17:00\", \"2021-02-22T03:32:00\", \"2021-02-22T03:47:00\", \"2021-02-22T04:02:00\", \"2021-02-22T04:17:00\", \"2021-02-22T04:32:00\", \"2021-02-22T04:47:00\", \"2021-02-22T05:02:00\", \"2021-02-22T05:17:00\", \"2021-02-22T05:32:00\", \"2021-02-22T05:47:00\", \"2021-02-22T06:02:00\", \"2021-02-22T06:17:00\", \"2021-02-22T06:32:00\", \"2021-02-22T06:47:00\", \"2021-02-22T07:02:00\", \"2021-02-22T07:16:00\", \"2021-02-22T07:17:00\", \"2021-02-22T07:32:00\", \"2021-02-22T07:47:00\", \"2021-02-22T08:02:00\", \"2021-02-22T08:17:00\", \"2021-02-22T08:32:00\", \"2021-02-22T08:47:00\", \"2021-02-22T08:56:00\", \"2021-02-22T09:02:00\", \"2021-02-22T09:17:00\", \"2021-02-22T09:32:00\", \"2021-02-22T09:47:00\", \"2021-02-22T10:02:00\", \"2021-02-22T10:17:00\", \"2021-02-22T10:33:00\", \"2021-02-22T10:40:00\", \"2021-02-22T10:48:00\", \"2021-02-22T11:03:00\", \"2021-02-22T11:18:00\", \"2021-02-22T11:33:00\", \"2021-02-22T11:48:00\", \"2021-02-22T12:03:00\", \"2021-02-22T12:18:00\", \"2021-02-22T12:33:00\", \"2021-02-22T12:48:00\", \"2021-02-22T12:57:00\", \"2021-02-22T13:03:00\", \"2021-02-22T13:18:00\", \"2021-02-22T13:33:00\", \"2021-02-22T13:48:00\", \"2021-02-22T14:03:00\", \"2021-02-22T14:18:00\", \"2021-02-22T14:33:00\", \"2021-02-22T14:39:00\", \"2021-02-22T14:48:00\", \"2021-02-22T15:03:00\", \"2021-02-22T15:18:00\", \"2021-02-22T15:33:00\", \"2021-02-22T15:48:00\", \"2021-02-22T16:03:00\", \"2021-02-22T16:19:00\", \"2021-02-22T16:26:00\", \"2021-02-22T16:34:00\", \"2021-02-22T16:49:00\", \"2021-02-22T17:04:00\", \"2021-02-22T17:19:00\", \"2021-02-22T17:34:00\", \"2021-02-22T17:49:00\", \"2021-02-22T18:04:00\", \"2021-02-22T18:19:00\", \"2021-02-22T18:34:00\", \"2021-02-22T18:49:00\", \"2021-02-22T18:51:00\", \"2021-02-22T19:04:00\", \"2021-02-22T19:05:00\", \"2021-02-22T19:20:00\", \"2021-02-22T19:35:00\", \"2021-02-22T19:50:00\", \"2021-02-22T20:05:00\", \"2021-02-22T20:20:00\", \"2021-02-22T20:35:00\", \"2021-02-22T20:41:00\", \"2021-02-22T20:50:00\", \"2021-02-22T21:05:00\", \"2021-02-22T21:20:00\", \"2021-02-22T21:35:00\", \"2021-02-22T21:50:00\", \"2021-02-22T22:05:00\", \"2021-02-22T22:06:00\", \"2021-02-22T22:20:00\", \"2021-02-22T22:35:00\", \"2021-02-22T22:50:00\", \"2021-02-22T23:05:00\", \"2021-02-22T23:20:00\", \"2021-02-22T23:35:00\", \"2021-02-22T23:50:00\", \"2021-02-22T23:52:00\", \"2021-02-23T00:07:00\", \"2021-02-23T00:22:00\", \"2021-02-23T00:37:00\", \"2021-02-23T00:52:00\", \"2021-02-23T01:07:00\", \"2021-02-23T01:22:00\", \"2021-02-23T01:37:00\", \"2021-02-23T01:52:00\", \"2021-02-23T02:07:00\", \"2021-02-23T02:22:00\", \"2021-02-23T02:37:00\", \"2021-02-23T02:52:00\", \"2021-02-23T03:07:00\", \"2021-02-23T03:22:00\", \"2021-02-23T03:37:00\", \"2021-02-23T03:52:00\", \"2021-02-23T04:07:00\", \"2021-02-23T04:22:00\", \"2021-02-23T04:37:00\", \"2021-02-23T04:52:00\", \"2021-02-23T05:07:00\", \"2021-02-23T05:22:00\", \"2021-02-23T05:37:00\", \"2021-02-23T05:52:00\", \"2021-02-23T06:07:00\", \"2021-02-23T06:22:00\", \"2021-02-23T06:37:00\", \"2021-02-23T06:52:00\", \"2021-02-23T07:07:00\", \"2021-02-23T07:22:00\", \"2021-02-23T07:25:00\", \"2021-02-23T07:37:00\", \"2021-02-23T07:52:00\", \"2021-02-23T08:07:00\", \"2021-02-23T08:22:00\", \"2021-02-23T08:37:00\", \"2021-02-23T08:52:00\", \"2021-02-23T09:07:00\", \"2021-02-23T09:22:00\", \"2021-02-23T09:38:00\", \"2021-02-23T09:46:00\", \"2021-02-23T09:53:00\", \"2021-02-23T10:08:00\", \"2021-02-23T10:23:00\", \"2021-02-23T10:38:00\", \"2021-02-23T10:53:00\", \"2021-02-23T11:08:00\", \"2021-02-23T11:23:00\", \"2021-02-23T11:38:00\", \"2021-02-23T11:53:00\", \"2021-02-23T12:08:00\", \"2021-02-23T12:22:00\", \"2021-02-23T12:23:00\", \"2021-02-23T12:40:00\", \"2021-02-23T12:43:00\", \"2021-02-23T12:55:00\", \"2021-02-23T13:10:00\", \"2021-02-23T13:25:00\", \"2021-02-23T13:40:00\", \"2021-02-23T13:55:00\", \"2021-02-23T14:10:00\", \"2021-02-23T14:25:00\", \"2021-02-23T14:40:00\", \"2021-02-23T14:55:00\", \"2021-02-23T15:10:00\", \"2021-02-23T15:25:00\", \"2021-02-23T15:40:00\", \"2021-02-23T15:55:00\", \"2021-02-23T16:10:00\", \"2021-02-23T16:25:00\", \"2021-02-23T16:40:00\", \"2021-02-23T16:55:00\", \"2021-02-23T17:10:00\", \"2021-02-23T17:25:00\", \"2021-02-23T17:40:00\", \"2021-02-23T17:55:00\", \"2021-02-23T18:10:00\", \"2021-02-23T18:25:00\", \"2021-02-23T18:40:00\", \"2021-02-23T18:55:00\", \"2021-02-23T19:10:00\", \"2021-02-23T19:25:00\", \"2021-02-23T19:25:00\", \"2021-02-23T19:39:00\", \"2021-02-23T19:47:00\", \"2021-02-23T19:54:00\", \"2021-02-23T20:10:00\", \"2021-02-23T20:12:00\", \"2021-02-23T20:25:00\", \"2021-02-23T20:40:00\", \"2021-02-23T20:55:00\", \"2021-02-23T21:10:00\", \"2021-02-23T21:25:00\", \"2021-02-23T21:40:00\", \"2021-02-23T21:55:00\", \"2021-02-23T22:09:00\", \"2021-02-23T22:10:00\", \"2021-02-23T22:25:00\", \"2021-02-23T22:40:00\", \"2021-02-23T22:55:00\", \"2021-02-23T23:10:00\", \"2021-02-23T23:25:00\", \"2021-02-23T23:40:00\", \"2021-02-23T23:55:00\", \"2021-02-24T00:12:00\", \"2021-02-24T00:18:00\", \"2021-02-24T00:27:00\", \"2021-02-24T00:42:00\", \"2021-02-24T00:57:00\", \"2021-02-24T01:12:00\", \"2021-02-24T01:27:00\", \"2021-02-24T01:42:00\", \"2021-02-24T01:57:00\", \"2021-02-24T02:12:00\", \"2021-02-24T02:27:00\", \"2021-02-24T02:42:00\", \"2021-02-24T02:57:00\", \"2021-02-24T03:12:00\", \"2021-02-24T03:27:00\", \"2021-02-24T03:42:00\", \"2021-02-24T03:57:00\", \"2021-02-24T04:12:00\", \"2021-02-24T04:27:00\", \"2021-02-24T04:42:00\", \"2021-02-24T04:57:00\", \"2021-02-24T05:12:00\", \"2021-02-24T05:27:00\", \"2021-02-24T05:42:00\", \"2021-02-24T05:57:00\", \"2021-02-24T06:12:00\", \"2021-02-24T06:27:00\", \"2021-02-24T06:42:00\", \"2021-02-24T06:57:00\", \"2021-02-24T07:12:00\", \"2021-02-24T07:27:00\", \"2021-02-24T07:35:00\", \"2021-02-24T07:42:00\", \"2021-02-24T07:57:00\", \"2021-02-24T08:12:00\", \"2021-02-24T08:13:00\", \"2021-02-24T08:27:00\", \"2021-02-24T08:42:00\", \"2021-02-24T08:57:00\", \"2021-02-24T09:00:00\", \"2021-02-24T09:12:00\", \"2021-02-24T09:27:00\", \"2021-02-24T09:42:00\", \"2021-02-24T09:57:00\", \"2021-02-24T10:12:00\", \"2021-02-24T10:27:00\", \"2021-02-24T10:43:00\", \"2021-02-24T10:52:00\", \"2021-02-24T10:58:00\", \"2021-02-24T11:13:00\", \"2021-02-24T11:28:00\", \"2021-02-24T11:43:00\", \"2021-02-24T11:58:00\", \"2021-02-24T12:13:00\", \"2021-02-24T12:28:00\", \"2021-02-24T12:43:00\", \"2021-02-24T12:50:00\", \"2021-02-24T12:58:00\", \"2021-02-24T13:13:00\", \"2021-02-24T13:28:00\", \"2021-02-24T13:43:00\", \"2021-02-24T13:59:00\", \"2021-02-24T13:59:00\", \"2021-02-24T14:14:00\", \"2021-02-24T14:29:00\", \"2021-02-24T14:44:00\", \"2021-02-24T14:59:00\", \"2021-02-24T15:14:00\", \"2021-02-24T15:29:00\", \"2021-02-24T15:36:00\", \"2021-02-24T15:44:00\", \"2021-02-24T15:59:00\", \"2021-02-24T16:13:00\", \"2021-02-24T16:14:00\", \"2021-02-24T16:30:00\", \"2021-02-24T16:42:00\", \"2021-02-24T16:45:00\", \"2021-02-24T17:00:00\", \"2021-02-24T17:15:00\", \"2021-02-24T17:30:00\", \"2021-02-24T17:45:00\", \"2021-02-24T18:00:00\", \"2021-02-24T18:15:00\", \"2021-02-24T18:30:00\", \"2021-02-24T18:45:00\", \"2021-02-24T18:59:00\", \"2021-02-24T19:03:00\", \"2021-02-24T19:14:00\", \"2021-02-24T19:30:00\", \"2021-02-24T19:31:00\", \"2021-02-24T19:45:00\", \"2021-02-24T19:58:00\", \"2021-02-24T20:00:00\", \"2021-02-24T20:15:00\", \"2021-02-24T20:30:00\", \"2021-02-24T20:32:00\", \"2021-02-24T20:45:00\", \"2021-02-24T21:00:00\", \"2021-02-24T21:15:00\", \"2021-02-24T21:30:00\", \"2021-02-24T21:45:00\", \"2021-02-24T21:50:00\", \"2021-02-24T22:00:00\", \"2021-02-24T22:15:00\", \"2021-02-24T22:40:00\", \"2021-02-24T23:32:00\", \"2021-02-24T23:47:00\", \"2021-02-25T00:02:00\", \"2021-02-25T00:17:00\", \"2021-02-25T00:32:00\", \"2021-02-25T00:47:00\", \"2021-02-25T01:02:00\", \"2021-02-25T01:17:00\", \"2021-02-25T01:32:00\", \"2021-02-25T01:47:00\", \"2021-02-25T02:02:00\", \"2021-02-25T02:17:00\", \"2021-02-25T02:32:00\", \"2021-02-25T02:47:00\", \"2021-02-25T03:02:00\", \"2021-02-25T03:17:00\", \"2021-02-25T03:32:00\", \"2021-02-25T03:47:00\", \"2021-02-25T04:02:00\", \"2021-02-25T04:17:00\", \"2021-02-25T04:32:00\", \"2021-02-25T04:47:00\", \"2021-02-25T05:02:00\", \"2021-02-25T05:17:00\", \"2021-02-25T05:32:00\", \"2021-02-25T05:47:00\", \"2021-02-25T06:02:00\", \"2021-02-25T06:17:00\", \"2021-02-25T06:32:00\", \"2021-02-25T06:47:00\", \"2021-02-25T07:02:00\", \"2021-02-25T07:17:00\", \"2021-02-25T07:26:00\", \"2021-02-25T07:32:00\", \"2021-02-25T07:47:00\", \"2021-02-25T08:02:00\", \"2021-02-25T08:17:00\", \"2021-02-25T08:32:00\", \"2021-02-25T08:47:00\", \"2021-02-25T09:03:00\", \"2021-02-25T09:08:00\", \"2021-02-25T09:18:00\", \"2021-02-25T09:33:00\", \"2021-02-25T09:48:00\", \"2021-02-25T10:03:00\", \"2021-02-25T10:18:00\", \"2021-02-25T10:33:00\", \"2021-02-25T10:48:00\", \"2021-02-25T11:03:00\", \"2021-02-25T11:18:00\", \"2021-02-25T11:33:00\", \"2021-02-25T11:48:00\", \"2021-02-25T12:00:00\", \"2021-02-25T12:03:00\", \"2021-02-25T12:18:00\", \"2021-02-25T12:33:00\", \"2021-02-25T12:48:00\", \"2021-02-25T13:03:00\", \"2021-02-25T13:18:00\", \"2021-02-25T13:33:00\", \"2021-02-25T13:48:00\", \"2021-02-25T14:03:00\", \"2021-02-25T14:18:00\", \"2021-02-25T14:33:00\", \"2021-02-25T14:48:00\", \"2021-02-25T15:03:00\", \"2021-02-25T15:18:00\", \"2021-02-25T15:34:00\", \"2021-02-25T15:37:00\", \"2021-02-25T15:49:00\", \"2021-02-25T16:04:00\", \"2021-02-25T16:18:00\", \"2021-02-25T16:19:00\", \"2021-02-25T16:34:00\", \"2021-02-25T16:49:00\", \"2021-02-25T17:08:00\"], \"xaxis\": \"x\", \"y\": [53.0, 68.0, 63.0, 66.0, 72.0, 74.0, 80.0, 68.0, 81.0, 83.0, 76.0, 75.0, 77.0, 93.0, 83.0, 80.0, 81.0, 84.0, 92.0, 94.0, 94.0, 89.0, 86.0, 90.0, 88.0, 84.0, 72.0, 66.0, 66.0, 57.0, 91.0, 90.0, 92.0, 85.0, 80.0, 85.0, 90.0, 87.0, 84.0, 81.0, 82.0, 87.0, 83.0, 78.0, 81.0, 76.0, 72.0, 77.0, 66.0, 56.0, 60.0, 69.0, 73.0, 81.0, 85.0, 81.0, 78.0, 74.0, 71.0, 75.0, 80.0, 83.0, 88.0, 81.0, 76.0, 74.0, 87.0, 80.0, 92.0, 108.0, 109.0, 100.0, 85.0, 87.0, 87.0, 81.0, 75.0, 70.0, 68.0, 69.0, 76.0, 76.0, 73.0, 69.0, 73.0, 76.0, 82.0, 86.0, 83.0, 82.0, 83.0, 101.0, 120.0, 108.0, 121.0, 88.0, 86.0, 83.0, 78.0, 77.0, 80.0, 80.0, 83.0, 78.0, 70.0, 73.0, 82.0, 81.0, 83.0, 84.0, 96.0, 102.0, 87.0, 74.0, 74.0, 80.0, 86.0, 89.0, 91.0, 98.0, 96.0, 97.0, 82.0, 92.0, 84.0, 83.0, 77.0, 73.0, 76.0, 79.0, 76.0, 86.0, 93.0, 89.0, 94.0, 95.0, 89.0, 100.0, 101.0, 93.0, 80.0, 84.0, 89.0, 89.0, 86.0, 88.0, 97.0, 92.0, 88.0, 81.0, 78.0, 80.0, 81.0, 76.0, 72.0, 75.0, 81.0, 77.0, 72.0, 73.0, 77.0, 78.0, 78.0, 79.0, 79.0, 79.0, 85.0, 87.0, 81.0, 78.0, 78.0, 77.0, 74.0, 71.0, 68.0, 66.0, 64.0, 65.0, 70.0, 81.0, 90.0, 80.0, 73.0, 69.0, 65.0, 73.0, 78.0, 79.0, 73.0, 85.0, 95.0, 90.0, 88.0, 85.0, 83.0, 77.0, 78.0, 84.0, 74.0, 76.0, 80.0, 77.0, 74.0, 75.0, 75.0, 75.0, 78.0, 79.0, 83.0, 97.0, 104.0, 119.0, 132.0, 129.0, 119.0, 107.0, 97.0, 86.0, 77.0, 77.0, 81.0, 82.0, 82.0, 81.0, 77.0, 77.0, 77.0, 74.0, 78.0, 81.0, 78.0, 76.0, 81.0, 72.0, 70.0, 73.0, 77.0, 80.0, 84.0, 83.0, 83.0, 83.0, 88.0, 111.0, 148.0, 157.0, 159.0, 141.0, 142.0, 126.0, 128.0, 120.0, 101.0, 91.0, 91.0, 87.0, 69.0, 83.0, 81.0, 81.0, 84.0, 96.0, 104.0, 97.0, 95.0, 92.0, 88.0, 80.0, 76.0, 77.0, 75.0, 72.0, 72.0, 74.0, 77.0, 80.0, 76.0, 71.0, 77.0, 79.0, 73.0, 71.0, 72.0, 72.0, 72.0, 71.0, 70.0, 69.0, 69.0, 67.0, 67.0, 75.0, 81.0, 80.0, 79.0, 78.0, 77.0, 77.0, 78.0, 76.0, 84.0, 103.0, 108.0, 95.0, 83.0, 86.0, 78.0, 83.0, 83.0, 76.0, 73.0, 73.0, 72.0, 72.0, 76.0, 76.0, 76.0, 81.0, 83.0, 81.0, 78.0, 83.0, 84.0, 95.0, 103.0, 109.0, 116.0, 111.0, 114.0, 108.0, 108.0, 104.0, 100.0, 96.0, 92.0, 90.0, 92.0, 85.0, 79.0, 78.0, 90.0, 90.0, 90.0, 88.0, 86.0, 78.0, 74.0, 80.0, 84.0, 80.0, 78.0, 78.0, 79.0, 79.0, 77.0, 82.0, 82.0, 90.0, 102.0, 104.0, 117.0, 116.0, 102.0, 91.0, 86.0, 87.0, 87.0, 81.0, 86.0, 91.0, 81.0, 79.0, 78.0, 81.0, 83.0, 86.0, 86.0, 84.0, 83.0, 82.0, 81.0, 80.0, 77.0, 75.0, 74.0, 74.0, 77.0, 78.0, 78.0, 76.0, 69.0, 66.0, 69.0, 75.0, 73.0, 73.0, 78.0, 75.0, 69.0, 68.0, 73.0, 80.0, 78.0, 78.0, 76.0, 76.0, 77.0, 77.0, 80.0, 82.0, 88.0, 90.0, 90.0, 90.0, 91.0, 89.0, 83.0, 78.0, 78.0, 77.0, 76.0, 77.0, 78.0, 78.0, 76.0, 75.0, 74.0, 74.0, 75.0, 74.0, 82.0, 97.0, 106.0, 120.0, 115.0, 121.0, 113.0, 107.0, 100.0, 91.0, 82.0, 88.0, 91.0, 90.0, 82.0, 80.0, 84.0, 86.0, 84.0, 86.0, 91.0, 89.0, 98.0, 98.0, 89.0, 85.0, 83.0, 83.0, 85.0, 86.0, 86.0, 92.0, 114.0, 133.0, 128.0, 129.0, 128.0, 118.0, 83.0, 81.0, 81.0, 84.0, 88.0, 86.0, 81.0, 81.0, 82.0, 79.0, 78.0, 79.0, 81.0, 80.0, 81.0, 85.0, 87.0, 84.0, 83.0, 82.0, 82.0, 82.0, 81.0, 76.0, 74.0, 74.0, 71.0, 77.0, 84.0, 83.0, 80.0, 86.0, 92.0, 84.0, 82.0, 82.0, 81.0, 81.0, 77.0, 87.0, 101.0, 109.0, 101.0, 83.0, 73.0, 77.0, 76.0, 75.0, 74.0, 75.0, 80.0, 75.0, 76.0, 76.0, 76.0, 76.0, 75.0, 86.0, 102.0, 110.0, 108.0, 111.0, 106.0, 104.0, 104.0, 103.0, 102.0, 98.0, 90.0, 84.0, 85.0, 85.0, 86.0, 87.0, 85.0, 82.0, 89.0, 88.0, 91.0, 92.0, 91.0, 82.0, 74.0, 76.0, 80.0, 79.0, 81.0, 82.0, 82.0, 84.0, 93.0, 99.0, 97.0, 109.0, 125.0, 114.0, 110.0, 107.0, 100.0, 89.0, 84.0, 91.0, 96.0, 92.0, 87.0, 93.0, 87.0, 89.0, 87.0, 86.0, 89.0, 90.0, 84.0, 76.0, 73.0, 77.0, 81.0, 76.0, 71.0, 68.0, 71.0, 75.0, 77.0, 78.0, 77.0, 79.0, 84.0, 84.0, 82.0, 77.0, 74.0, 73.0, 73.0, 75.0, 76.0, 76.0, 78.0, 80.0, 76.0, 72.0, 73.0, 76.0, 80.0, 81.0, 81.0, 82.0, 85.0, 81.0, 79.0, 79.0, 80.0, 77.0, 77.0, 77.0, 78.0, 82.0, 90.0, 95.0, 97.0, 92.0, 87.0, 93.0, 86.0, 86.0, 85.0, 81.0, 76.0, 74.0, 75.0, 77.0, 78.0, 80.0, 85.0, 89.0, 89.0, 87.0, 88.0, 84.0, 80.0, 78.0, 78.0, 77.0, 76.0, 96.0, 95.0, 106.0, 99.0, 88.0, 85.0, 88.0, 92.0, 94.0, 88.0, 92.0, 90.0, 86.0, 82.0, 79.0, 79.0, 80.0, 78.0, 81.0, 85.0, 90.0, 94.0, 96.0, 97.0, 96.0, 96.0, 94.0, 86.0, 92.0, 95.0, 104.0, 107.0, 107.0, 103.0, 100.0, 99.0, 94.0, 88.0, 84.0, 89.0, 81.0, 78.0, 79.0, 79.0, 79.0, 80.0, 82.0, 77.0, 71.0, 72.0, 74.0, 73.0, 73.0, 77.0, 78.0, 79.0, 77.0, 72.0, 72.0, 75.0, 78.0, 75.0, 71.0, 70.0, 76.0, 82.0, 83.0, 84.0, 83.0, 78.0, 71.0, 67.0, 72.0, 79.0, 79.0, 78.0, 76.0, 78.0, 79.0, 78.0, 79.0, 78.0, 86.0, 101.0, 107.0, 98.0, 87.0, 81.0, 79.0, 80.0, 83.0, 78.0, 81.0, 80.0, 81.0, 79.0, 77.0, 77.0, 79.0, 76.0, 73.0, 74.0, 80.0, 86.0, 107.0, 108.0, 112.0, 102.0, 88.0, 75.0, 70.0, 80.0, 90.0, 83.0, 84.0, 90.0, 95.0, 97.0, 96.0, 90.0, 83.0, 87.0, 101.0, 104.0, 99.0, 95.0, 99.0, 101.0, 93.0, 88.0, 81.0, 80.0, 87.0, 97.0, 101.0, 114.0, 89.0, 89.0, 117.0, 100.0, 97.0, 97.0, 93.0, 95.0, 101.0, 102.0, 102.0, 98.0, 88.0, 86.0, 94.0, 92.0, 76.0, 71.0, 82.0, 89.0, 89.0, 90.0, 88.0, 87.0, 82.0, 77.0, 79.0, 80.0, 80.0, 84.0, 85.0, 78.0, 75.0, 76.0, 76.0, 78.0, 83.0, 82.0, 76.0, 78.0, 79.0, 81.0, 98.0, 117.0, 108.0, 99.0, 89.0, 86.0, 81.0, 77.0, 78.0, 77.0, 80.0, 80.0, 79.0, 78.0, 77.0, 77.0, 78.0, 80.0, 80.0, 82.0, 90.0, 106.0, 111.0, 103.0, 94.0, 90.0, 90.0, 85.0, 93.0, 99.0, 102.0, 97.0, 86.0, 84.0, 97.0, 99.0, 88.0, 79.0, 84.0, 88.0, 87.0, 85.0, 85.0, 85.0, 83.0, 83.0, 84.0, 87.0, 91.0, 102.0, 106.0, 96.0, 85.0, 85.0, 94.0, 99.0, 98.0, 97.0, 96.0, 95.0, 93.0, 93.0, 97.0, 91.0, 89.0, 87.0, 89.0, 90.0, 87.0, 87.0, 86.0, 86.0, 82.0, 75.0, 75.0, 79.0, 81.0, 86.0, 86.0, 80.0, 81.0, 83.0, 84.0, 85.0, 81.0, 74.0, 71.0, 77.0, 83.0, 82.0, 82.0, 81.0, 78.0, 78.0, 80.0, 83.0, 82.0, 80.0, 77.0, 75.0, 80.0, 78.0, 81.0, 81.0, 81.0, 81.0, 81.0, 81.0, 81.0, 81.0, 83.0, 86.0, 94.0, 107.0, 112.0, 107.0, 99.0, 94.0, 91.0, 89.0, 87.0, 82.0, 84.0, 84.0, 85.0, 86.0, 85.0, 95.0, 107.0, 110.0, 108.0, 103.0, 100.0, 99.0, 98.0, 94.0, 89.0, 87.0, 90.0, 97.0, 103.0, 101.0, 97.0, 94.0, 88.0, 88.0, 89.0, 88.0, 86.0, 85.0, 85.0, 86.0, 85.0, 84.0, 83.0, 79.0, 87.0, 98.0, 94.0, 131.0, 159.0, 162.0, 143.0, 111.0, 108.0, 136.0, 148.0, 129.0, 113.0, 114.0, 114.0, 114.0, 113.0, 109.0, 105.0, 98.0, 95.0, 92.0, 86.0, 84.0, 94.0, 101.0, 96.0, 95.0, 99.0, 96.0, 88.0, 85.0, 81.0, 81.0, 89.0, 91.0, 84.0, 83.0, 86.0, 86.0, 82.0, 84.0, 85.0, 82.0, 81.0, 80.0, 81.0, 85.0, 83.0, 82.0, 84.0, 87.0, 87.0, 84.0, 83.0, 84.0, 83.0, 84.0, 79.0, 99.0, 114.0, 108.0, 91.0, 79.0, 73.0, 73.0, 71.0, 73.0, 74.0, 77.0, 82.0, 85.0, 83.0, 79.0, 79.0, 81.0, 91.0, 105.0, 106.0, 100.0, 92.0, 90.0, 95.0, 98.0, 100.0, 102.0, 99.0, 89.0, 74.0, 84.0, 88.0, 94.0, 93.0, 94.0, 91.0, 91.0, 88.0, 88.0, 90.0, 91.0, 90.0, 92.0, 92.0, 92.0, 93.0, 94.0, 94.0, 102.0, 111.0, 109.0, 115.0, 114.0, 112.0, 102.0, 95.0, 93.0, 91.0, 93.0, 96.0, 96.0, 91.0, 92.0, 89.0, 117.0, 100.0, 98.0, 97.0, 92.0, 87.0, 87.0, 88.0, 90.0, 88.0, 85.0, 85.0, 87.0, 90.0, 89.0, 89.0, 91.0, 95.0, 96.0, 95.0, 92.0, 88.0, 85.0, 88.0, 91.0, 93.0, 91.0, 89.0, 89.0, 88.0, 86.0, 87.0, 90.0, 89.0, 88.0, 85.0, 86.0, 87.0, 92.0, 99.0, 101.0, 105.0, 94.0, 92.0, 92.0, 92.0, 92.0, 91.0, 86.0, 87.0, 89.0, 88.0, 87.0, 91.0, 86.0, 85.0, 86.0, 86.0, 86.0, 94.0, 110.0, 117.0, 110.0, 100.0, 94.0, 92.0, 89.0, 86.0, 90.0, 96.0, 95.0, 102.0, 98.0, 107.0, 100.0, 93.0, 97.0], \"yaxis\": \"y\"}],                        {\"legend\": {\"tracegroupgap\": 0}, \"margin\": {\"t\": 60}, \"template\": {\"data\": {\"bar\": [{\"error_x\": {\"color\": \"#2a3f5f\"}, \"error_y\": {\"color\": \"#2a3f5f\"}, \"marker\": {\"line\": {\"color\": \"#E5ECF6\", \"width\": 0.5}}, \"type\": \"bar\"}], \"barpolar\": [{\"marker\": {\"line\": {\"color\": \"#E5ECF6\", \"width\": 0.5}}, \"type\": \"barpolar\"}], \"carpet\": [{\"aaxis\": {\"endlinecolor\": \"#2a3f5f\", \"gridcolor\": \"white\", \"linecolor\": \"white\", \"minorgridcolor\": \"white\", \"startlinecolor\": \"#2a3f5f\"}, \"baxis\": {\"endlinecolor\": \"#2a3f5f\", \"gridcolor\": \"white\", \"linecolor\": \"white\", \"minorgridcolor\": \"white\", \"startlinecolor\": \"#2a3f5f\"}, \"type\": \"carpet\"}], \"choropleth\": [{\"colorbar\": {\"outlinewidth\": 0, \"ticks\": \"\"}, \"type\": \"choropleth\"}], \"contour\": [{\"colorbar\": {\"outlinewidth\": 0, \"ticks\": \"\"}, \"colorscale\": [[0.0, \"#0d0887\"], [0.1111111111111111, \"#46039f\"], [0.2222222222222222, \"#7201a8\"], [0.3333333333333333, \"#9c179e\"], [0.4444444444444444, \"#bd3786\"], [0.5555555555555556, \"#d8576b\"], [0.6666666666666666, \"#ed7953\"], [0.7777777777777778, \"#fb9f3a\"], [0.8888888888888888, \"#fdca26\"], [1.0, \"#f0f921\"]], \"type\": \"contour\"}], \"contourcarpet\": [{\"colorbar\": {\"outlinewidth\": 0, \"ticks\": \"\"}, \"type\": \"contourcarpet\"}], \"heatmap\": [{\"colorbar\": {\"outlinewidth\": 0, \"ticks\": \"\"}, \"colorscale\": [[0.0, \"#0d0887\"], [0.1111111111111111, \"#46039f\"], [0.2222222222222222, \"#7201a8\"], [0.3333333333333333, \"#9c179e\"], [0.4444444444444444, \"#bd3786\"], [0.5555555555555556, \"#d8576b\"], [0.6666666666666666, \"#ed7953\"], [0.7777777777777778, \"#fb9f3a\"], [0.8888888888888888, \"#fdca26\"], [1.0, \"#f0f921\"]], \"type\": \"heatmap\"}], \"heatmapgl\": [{\"colorbar\": {\"outlinewidth\": 0, \"ticks\": \"\"}, \"colorscale\": [[0.0, \"#0d0887\"], [0.1111111111111111, \"#46039f\"], [0.2222222222222222, \"#7201a8\"], [0.3333333333333333, \"#9c179e\"], [0.4444444444444444, \"#bd3786\"], [0.5555555555555556, \"#d8576b\"], [0.6666666666666666, \"#ed7953\"], [0.7777777777777778, \"#fb9f3a\"], [0.8888888888888888, \"#fdca26\"], [1.0, \"#f0f921\"]], \"type\": \"heatmapgl\"}], \"histogram\": [{\"marker\": {\"colorbar\": {\"outlinewidth\": 0, \"ticks\": \"\"}}, \"type\": \"histogram\"}], \"histogram2d\": [{\"colorbar\": {\"outlinewidth\": 0, \"ticks\": \"\"}, \"colorscale\": [[0.0, \"#0d0887\"], [0.1111111111111111, \"#46039f\"], [0.2222222222222222, \"#7201a8\"], [0.3333333333333333, \"#9c179e\"], [0.4444444444444444, \"#bd3786\"], [0.5555555555555556, \"#d8576b\"], [0.6666666666666666, \"#ed7953\"], [0.7777777777777778, \"#fb9f3a\"], [0.8888888888888888, \"#fdca26\"], [1.0, \"#f0f921\"]], \"type\": \"histogram2d\"}], \"histogram2dcontour\": [{\"colorbar\": {\"outlinewidth\": 0, \"ticks\": \"\"}, \"colorscale\": [[0.0, \"#0d0887\"], [0.1111111111111111, \"#46039f\"], [0.2222222222222222, \"#7201a8\"], [0.3333333333333333, \"#9c179e\"], [0.4444444444444444, \"#bd3786\"], [0.5555555555555556, \"#d8576b\"], [0.6666666666666666, \"#ed7953\"], [0.7777777777777778, \"#fb9f3a\"], [0.8888888888888888, \"#fdca26\"], [1.0, \"#f0f921\"]], \"type\": \"histogram2dcontour\"}], \"mesh3d\": [{\"colorbar\": {\"outlinewidth\": 0, \"ticks\": \"\"}, \"type\": \"mesh3d\"}], \"parcoords\": [{\"line\": {\"colorbar\": {\"outlinewidth\": 0, \"ticks\": \"\"}}, \"type\": \"parcoords\"}], \"pie\": [{\"automargin\": true, \"type\": \"pie\"}], \"scatter\": [{\"marker\": {\"colorbar\": {\"outlinewidth\": 0, \"ticks\": \"\"}}, \"type\": \"scatter\"}], \"scatter3d\": [{\"line\": {\"colorbar\": {\"outlinewidth\": 0, \"ticks\": \"\"}}, \"marker\": {\"colorbar\": {\"outlinewidth\": 0, \"ticks\": \"\"}}, \"type\": \"scatter3d\"}], \"scattercarpet\": [{\"marker\": {\"colorbar\": {\"outlinewidth\": 0, \"ticks\": \"\"}}, \"type\": \"scattercarpet\"}], \"scattergeo\": [{\"marker\": {\"colorbar\": {\"outlinewidth\": 0, \"ticks\": \"\"}}, \"type\": \"scattergeo\"}], \"scattergl\": [{\"marker\": {\"colorbar\": {\"outlinewidth\": 0, \"ticks\": \"\"}}, \"type\": \"scattergl\"}], \"scattermapbox\": [{\"marker\": {\"colorbar\": {\"outlinewidth\": 0, \"ticks\": \"\"}}, \"type\": \"scattermapbox\"}], \"scatterpolar\": [{\"marker\": {\"colorbar\": {\"outlinewidth\": 0, \"ticks\": \"\"}}, \"type\": \"scatterpolar\"}], \"scatterpolargl\": [{\"marker\": {\"colorbar\": {\"outlinewidth\": 0, \"ticks\": \"\"}}, \"type\": \"scatterpolargl\"}], \"scatterternary\": [{\"marker\": {\"colorbar\": {\"outlinewidth\": 0, \"ticks\": \"\"}}, \"type\": \"scatterternary\"}], \"surface\": [{\"colorbar\": {\"outlinewidth\": 0, \"ticks\": \"\"}, \"colorscale\": [[0.0, \"#0d0887\"], [0.1111111111111111, \"#46039f\"], [0.2222222222222222, \"#7201a8\"], [0.3333333333333333, \"#9c179e\"], [0.4444444444444444, \"#bd3786\"], [0.5555555555555556, \"#d8576b\"], [0.6666666666666666, \"#ed7953\"], [0.7777777777777778, \"#fb9f3a\"], [0.8888888888888888, \"#fdca26\"], [1.0, \"#f0f921\"]], \"type\": \"surface\"}], \"table\": [{\"cells\": {\"fill\": {\"color\": \"#EBF0F8\"}, \"line\": {\"color\": \"white\"}}, \"header\": {\"fill\": {\"color\": \"#C8D4E3\"}, \"line\": {\"color\": \"white\"}}, \"type\": \"table\"}]}, \"layout\": {\"annotationdefaults\": {\"arrowcolor\": \"#2a3f5f\", \"arrowhead\": 0, \"arrowwidth\": 1}, \"autotypenumbers\": \"strict\", \"coloraxis\": {\"colorbar\": {\"outlinewidth\": 0, \"ticks\": \"\"}}, \"colorscale\": {\"diverging\": [[0, \"#8e0152\"], [0.1, \"#c51b7d\"], [0.2, \"#de77ae\"], [0.3, \"#f1b6da\"], [0.4, \"#fde0ef\"], [0.5, \"#f7f7f7\"], [0.6, \"#e6f5d0\"], [0.7, \"#b8e186\"], [0.8, \"#7fbc41\"], [0.9, \"#4d9221\"], [1, \"#276419\"]], \"sequential\": [[0.0, \"#0d0887\"], [0.1111111111111111, \"#46039f\"], [0.2222222222222222, \"#7201a8\"], [0.3333333333333333, \"#9c179e\"], [0.4444444444444444, \"#bd3786\"], [0.5555555555555556, \"#d8576b\"], [0.6666666666666666, \"#ed7953\"], [0.7777777777777778, \"#fb9f3a\"], [0.8888888888888888, \"#fdca26\"], [1.0, \"#f0f921\"]], \"sequentialminus\": [[0.0, \"#0d0887\"], [0.1111111111111111, \"#46039f\"], [0.2222222222222222, \"#7201a8\"], [0.3333333333333333, \"#9c179e\"], [0.4444444444444444, \"#bd3786\"], [0.5555555555555556, \"#d8576b\"], [0.6666666666666666, \"#ed7953\"], [0.7777777777777778, \"#fb9f3a\"], [0.8888888888888888, \"#fdca26\"], [1.0, \"#f0f921\"]]}, \"colorway\": [\"#636efa\", \"#EF553B\", \"#00cc96\", \"#ab63fa\", \"#FFA15A\", \"#19d3f3\", \"#FF6692\", \"#B6E880\", \"#FF97FF\", \"#FECB52\"], \"font\": {\"color\": \"#2a3f5f\"}, \"geo\": {\"bgcolor\": \"white\", \"lakecolor\": \"white\", \"landcolor\": \"#E5ECF6\", \"showlakes\": true, \"showland\": true, \"subunitcolor\": \"white\"}, \"hoverlabel\": {\"align\": \"left\"}, \"hovermode\": \"closest\", \"mapbox\": {\"style\": \"light\"}, \"paper_bgcolor\": \"white\", \"plot_bgcolor\": \"#E5ECF6\", \"polar\": {\"angularaxis\": {\"gridcolor\": \"white\", \"linecolor\": \"white\", \"ticks\": \"\"}, \"bgcolor\": \"#E5ECF6\", \"radialaxis\": {\"gridcolor\": \"white\", \"linecolor\": \"white\", \"ticks\": \"\"}}, \"scene\": {\"xaxis\": {\"backgroundcolor\": \"#E5ECF6\", \"gridcolor\": \"white\", \"gridwidth\": 2, \"linecolor\": \"white\", \"showbackground\": true, \"ticks\": \"\", \"zerolinecolor\": \"white\"}, \"yaxis\": {\"backgroundcolor\": \"#E5ECF6\", \"gridcolor\": \"white\", \"gridwidth\": 2, \"linecolor\": \"white\", \"showbackground\": true, \"ticks\": \"\", \"zerolinecolor\": \"white\"}, \"zaxis\": {\"backgroundcolor\": \"#E5ECF6\", \"gridcolor\": \"white\", \"gridwidth\": 2, \"linecolor\": \"white\", \"showbackground\": true, \"ticks\": \"\", \"zerolinecolor\": \"white\"}}, \"shapedefaults\": {\"line\": {\"color\": \"#2a3f5f\"}}, \"ternary\": {\"aaxis\": {\"gridcolor\": \"white\", \"linecolor\": \"white\", \"ticks\": \"\"}, \"baxis\": {\"gridcolor\": \"white\", \"linecolor\": \"white\", \"ticks\": \"\"}, \"bgcolor\": \"#E5ECF6\", \"caxis\": {\"gridcolor\": \"white\", \"linecolor\": \"white\", \"ticks\": \"\"}}, \"title\": {\"x\": 0.05}, \"xaxis\": {\"automargin\": true, \"gridcolor\": \"white\", \"linecolor\": \"white\", \"ticks\": \"\", \"title\": {\"standoff\": 15}, \"zerolinecolor\": \"white\", \"zerolinewidth\": 2}, \"yaxis\": {\"automargin\": true, \"gridcolor\": \"white\", \"linecolor\": \"white\", \"ticks\": \"\", \"title\": {\"standoff\": 15}, \"zerolinecolor\": \"white\", \"zerolinewidth\": 2}}}, \"xaxis\": {\"anchor\": \"y\", \"domain\": [0.0, 1.0], \"title\": {\"text\": \"timestamp\"}}, \"yaxis\": {\"anchor\": \"x\", \"domain\": [0.0, 1.0], \"title\": {\"text\": \"Glukosewert-Verlauf mg/dL\"}}},                        {\"responsive\": true}                    ).then(function(){\n",
       "                            \n",
       "var gd = document.getElementById('8be44a95-714f-4f8e-b72f-91ec7d88a7cc');\n",
       "var x = new MutationObserver(function (mutations, observer) {{\n",
       "        var display = window.getComputedStyle(gd).display;\n",
       "        if (!display || display === 'none') {{\n",
       "            console.log([gd, 'removed!']);\n",
       "            Plotly.purge(gd);\n",
       "            observer.disconnect();\n",
       "        }}\n",
       "}});\n",
       "\n",
       "// Listen for the removal of the full notebook cells\n",
       "var notebookContainer = gd.closest('#notebook-container');\n",
       "if (notebookContainer) {{\n",
       "    x.observe(notebookContainer, {childList: true});\n",
       "}}\n",
       "\n",
       "// Listen for the clearing of the current output cell\n",
       "var outputEl = gd.closest('.output');\n",
       "if (outputEl) {{\n",
       "    x.observe(outputEl, {childList: true});\n",
       "}}\n",
       "\n",
       "                        })                };                });            </script>        </div>"
      ]
     },
     "metadata": {},
     "output_type": "display_data"
    }
   ],
   "source": [
    "df = df_levels_clean[df_levels_clean['user_id']==create_customer('a')].sort_values(by='timestamp')\n",
    "fig = px.line(df, x='timestamp', y=\"Glukosewert-Verlauf mg/dL\")\n",
    "fig.show()"
   ]
  },
  {
   "cell_type": "code",
   "execution_count": 349,
   "metadata": {
    "scrolled": false
   },
   "outputs": [
    {
     "data": {
      "application/vnd.plotly.v1+json": {
       "config": {
        "plotlyServerURL": "https://plot.ly"
       },
       "data": [
        {
         "hovertemplate": "day=14<br>hour=%{x}<br>glucose=%{y}<extra></extra>",
         "legendgroup": "",
         "line": {
          "color": "#636efa",
          "dash": "solid"
         },
         "mode": "lines",
         "name": "",
         "showlegend": false,
         "type": "scattergl",
         "x": [
          16,
          16,
          16,
          17,
          17,
          17,
          17,
          17,
          17,
          17,
          17,
          18,
          18,
          18,
          18,
          18,
          18,
          19,
          19,
          19,
          19,
          19,
          20,
          20,
          20,
          20,
          20,
          21,
          21,
          21,
          23,
          23
         ],
         "xaxis": "x11",
         "y": [
          53,
          68,
          63,
          66,
          72,
          74,
          80,
          68,
          81,
          83,
          76,
          75,
          77,
          93,
          83,
          80,
          81,
          84,
          92,
          94,
          94,
          89,
          86,
          90,
          88,
          84,
          72,
          66,
          66,
          57,
          91,
          90
         ],
         "yaxis": "y11"
        },
        {
         "hovertemplate": "day=15<br>hour=%{x}<br>glucose=%{y}<extra></extra>",
         "legendgroup": "",
         "line": {
          "color": "#636efa",
          "dash": "solid"
         },
         "mode": "lines",
         "name": "",
         "showlegend": false,
         "type": "scattergl",
         "x": [
          0,
          0,
          0,
          0,
          1,
          1,
          1,
          1,
          2,
          2,
          2,
          2,
          3,
          3,
          3,
          3,
          4,
          4,
          4,
          4,
          5,
          5,
          5,
          5,
          6,
          6,
          6,
          6,
          7,
          7,
          7,
          7,
          7,
          8,
          8,
          8,
          8,
          8,
          8,
          9,
          9,
          9,
          9,
          9,
          10,
          10,
          10,
          10,
          11,
          11,
          11,
          11,
          11,
          12,
          12,
          12,
          12,
          12,
          12,
          13,
          13,
          13,
          13,
          13,
          14,
          14,
          14,
          14,
          15,
          15,
          15,
          15,
          15,
          16,
          16,
          16,
          16,
          16,
          16,
          16,
          17,
          17,
          17,
          17,
          17,
          17,
          18,
          18,
          18,
          18,
          18,
          18,
          18,
          18,
          19,
          19,
          19,
          19,
          19,
          19,
          20,
          20,
          20,
          20,
          20,
          21,
          21,
          21,
          21,
          21,
          22,
          22,
          22,
          22,
          23,
          23,
          23,
          23
         ],
         "xaxis": "x12",
         "y": [
          92,
          85,
          80,
          85,
          90,
          87,
          84,
          81,
          82,
          87,
          83,
          78,
          81,
          76,
          72,
          77,
          66,
          56,
          60,
          69,
          73,
          81,
          85,
          81,
          78,
          74,
          71,
          75,
          80,
          83,
          88,
          81,
          76,
          74,
          87,
          80,
          92,
          108,
          109,
          100,
          85,
          87,
          87,
          81,
          75,
          70,
          68,
          69,
          76,
          76,
          73,
          69,
          73,
          76,
          82,
          86,
          83,
          82,
          83,
          101,
          120,
          108,
          121,
          88,
          86,
          83,
          78,
          77,
          80,
          80,
          83,
          78,
          70,
          73,
          82,
          81,
          83,
          84,
          96,
          102,
          87,
          74,
          74,
          80,
          86,
          89,
          91,
          98,
          96,
          97,
          82,
          92,
          84,
          83,
          77,
          73,
          76,
          79,
          76,
          86,
          93,
          89,
          94,
          95,
          89,
          100,
          101,
          93,
          80,
          84,
          89,
          89,
          86,
          88,
          97,
          92,
          88,
          81
         ],
         "yaxis": "y12"
        },
        {
         "hovertemplate": "day=16<br>hour=%{x}<br>glucose=%{y}<extra></extra>",
         "legendgroup": "",
         "line": {
          "color": "#636efa",
          "dash": "solid"
         },
         "mode": "lines",
         "name": "",
         "showlegend": false,
         "type": "scattergl",
         "x": [
          0,
          0,
          0,
          0,
          1,
          1,
          1,
          1,
          2,
          2,
          2,
          2,
          3,
          3,
          3,
          3,
          4,
          4,
          4,
          4,
          5,
          5,
          5,
          5,
          6,
          6,
          6,
          6,
          7,
          7,
          7,
          7,
          7,
          8,
          8,
          8,
          8,
          8,
          8,
          8,
          9,
          9,
          9,
          9,
          9,
          10,
          10,
          10,
          10,
          10,
          11,
          11,
          11,
          11,
          12,
          12,
          12,
          12,
          12,
          13,
          13,
          13,
          13,
          13,
          14,
          14,
          14,
          14,
          15,
          15,
          15,
          15,
          16,
          16,
          16,
          16,
          17,
          17,
          17,
          17,
          17,
          17,
          17,
          18,
          18,
          18,
          18,
          19,
          19,
          19,
          19,
          19,
          20,
          20,
          20,
          20,
          20,
          20,
          20,
          21,
          21,
          21,
          21,
          21,
          22,
          22,
          22,
          22,
          22,
          23,
          23,
          23,
          23,
          23
         ],
         "xaxis": "x9",
         "y": [
          78,
          80,
          81,
          76,
          72,
          75,
          81,
          77,
          72,
          73,
          77,
          78,
          78,
          79,
          79,
          79,
          85,
          87,
          81,
          78,
          78,
          77,
          74,
          71,
          68,
          66,
          64,
          65,
          70,
          81,
          90,
          80,
          73,
          69,
          65,
          73,
          78,
          79,
          73,
          85,
          95,
          90,
          88,
          85,
          83,
          77,
          78,
          84,
          74,
          76,
          80,
          77,
          74,
          75,
          75,
          75,
          78,
          79,
          83,
          97,
          104,
          119,
          132,
          129,
          119,
          107,
          97,
          86,
          77,
          77,
          81,
          82,
          82,
          81,
          77,
          77,
          77,
          74,
          78,
          81,
          78,
          76,
          81,
          72,
          70,
          73,
          77,
          80,
          84,
          83,
          83,
          83,
          88,
          111,
          148,
          157,
          159,
          141,
          142,
          126,
          128,
          120,
          101,
          91,
          91,
          87,
          69,
          83,
          81,
          81,
          84,
          96,
          104,
          97
         ],
         "yaxis": "y9"
        },
        {
         "hovertemplate": "day=17<br>hour=%{x}<br>glucose=%{y}<extra></extra>",
         "legendgroup": "",
         "line": {
          "color": "#636efa",
          "dash": "solid"
         },
         "mode": "lines",
         "name": "",
         "showlegend": false,
         "type": "scattergl",
         "x": [
          0,
          0,
          0,
          0,
          1,
          1,
          1,
          1,
          2,
          2,
          2,
          2,
          3,
          3,
          3,
          3,
          4,
          4,
          4,
          4,
          5,
          5,
          5,
          5,
          6,
          6,
          6,
          6,
          7,
          7,
          7,
          7,
          7,
          8,
          8,
          8,
          8,
          8,
          8,
          9,
          9,
          9,
          9,
          9,
          9,
          10,
          10,
          10,
          10,
          10,
          11,
          11,
          11,
          11,
          12,
          12,
          12,
          12,
          12,
          12,
          12,
          13,
          13,
          13,
          13,
          13,
          14,
          14,
          14,
          14,
          15,
          15,
          15,
          15,
          15,
          16,
          16,
          16,
          16,
          16,
          16,
          17,
          17,
          17,
          17,
          17,
          18,
          18,
          18,
          18,
          19,
          19,
          19,
          19,
          19,
          19,
          20,
          20,
          20,
          20,
          21,
          21,
          21,
          21,
          22,
          22,
          22,
          23,
          23,
          23
         ],
         "xaxis": "x10",
         "y": [
          95,
          92,
          88,
          80,
          76,
          77,
          75,
          72,
          72,
          74,
          77,
          80,
          76,
          71,
          77,
          79,
          73,
          71,
          72,
          72,
          72,
          71,
          70,
          69,
          69,
          67,
          67,
          75,
          81,
          80,
          79,
          78,
          77,
          77,
          78,
          76,
          84,
          103,
          108,
          95,
          83,
          86,
          78,
          83,
          83,
          76,
          73,
          73,
          72,
          72,
          76,
          76,
          76,
          81,
          83,
          81,
          78,
          83,
          84,
          95,
          103,
          109,
          116,
          111,
          114,
          108,
          108,
          104,
          100,
          96,
          92,
          90,
          92,
          85,
          79,
          78,
          90,
          90,
          90,
          88,
          86,
          78,
          74,
          80,
          84,
          80,
          78,
          78,
          79,
          79,
          77,
          82,
          82,
          90,
          102,
          104,
          117,
          116,
          102,
          91,
          86,
          87,
          87,
          81,
          86,
          91,
          81,
          79,
          78,
          81
         ],
         "yaxis": "y10"
        },
        {
         "hovertemplate": "day=18<br>hour=%{x}<br>glucose=%{y}<extra></extra>",
         "legendgroup": "",
         "line": {
          "color": "#636efa",
          "dash": "solid"
         },
         "mode": "lines",
         "name": "",
         "showlegend": false,
         "type": "scattergl",
         "x": [
          0,
          0,
          0,
          0,
          1,
          1,
          1,
          1,
          2,
          2,
          2,
          2,
          3,
          3,
          3,
          3,
          4,
          4,
          4,
          4,
          5,
          5,
          5,
          5,
          6,
          6,
          6,
          6,
          7,
          7,
          7,
          7,
          7,
          8,
          8,
          8,
          8,
          8,
          8,
          8,
          9,
          9,
          9,
          9,
          10,
          10,
          10,
          10,
          11,
          11,
          11,
          11,
          12,
          12,
          12,
          12,
          12,
          13,
          13,
          13,
          13,
          13,
          13,
          14,
          14,
          14,
          14,
          14,
          15,
          15,
          15,
          15,
          16,
          16,
          16,
          16,
          16,
          17,
          17,
          17,
          17,
          17,
          17,
          18,
          18,
          18,
          18,
          19,
          19,
          19,
          19,
          19,
          20,
          20,
          23
         ],
         "xaxis": "x7",
         "y": [
          83,
          86,
          86,
          84,
          83,
          82,
          81,
          80,
          77,
          75,
          74,
          74,
          77,
          78,
          78,
          76,
          69,
          66,
          69,
          75,
          73,
          73,
          78,
          75,
          69,
          68,
          73,
          80,
          78,
          78,
          76,
          76,
          77,
          77,
          80,
          82,
          88,
          90,
          90,
          90,
          91,
          89,
          83,
          78,
          78,
          77,
          76,
          77,
          78,
          78,
          76,
          75,
          74,
          74,
          75,
          74,
          82,
          97,
          106,
          120,
          115,
          121,
          113,
          107,
          100,
          91,
          82,
          88,
          91,
          90,
          82,
          80,
          84,
          86,
          84,
          86,
          91,
          89,
          98,
          98,
          89,
          85,
          83,
          83,
          85,
          86,
          86,
          92,
          114,
          133,
          128,
          129,
          128,
          118,
          83
         ],
         "yaxis": "y7"
        },
        {
         "hovertemplate": "day=19<br>hour=%{x}<br>glucose=%{y}<extra></extra>",
         "legendgroup": "",
         "line": {
          "color": "#636efa",
          "dash": "solid"
         },
         "mode": "lines",
         "name": "",
         "showlegend": false,
         "type": "scattergl",
         "x": [
          0,
          0,
          0,
          0,
          1,
          1,
          1,
          1,
          2,
          2,
          2,
          2,
          3,
          3,
          3,
          3,
          4,
          4,
          4,
          4,
          5,
          5,
          5,
          5,
          6,
          6,
          6,
          6,
          7,
          7,
          7,
          7,
          7,
          8,
          8,
          8,
          8,
          8,
          8,
          9,
          9,
          9,
          9,
          9,
          10,
          10,
          10,
          10,
          11,
          11,
          11,
          11,
          11,
          11,
          11,
          12,
          12,
          12,
          12,
          13,
          13,
          13,
          13,
          13,
          13,
          14,
          14,
          14,
          14,
          15,
          15,
          15,
          15,
          15,
          16,
          16,
          16,
          16,
          16,
          17,
          17,
          17,
          17,
          17,
          18,
          18,
          18,
          18,
          19,
          19,
          19,
          19,
          19,
          20,
          20,
          20,
          20,
          20,
          21,
          21,
          21,
          21,
          22,
          22,
          22,
          22,
          22,
          23,
          23,
          23,
          23
         ],
         "xaxis": "x8",
         "y": [
          81,
          81,
          84,
          88,
          86,
          81,
          81,
          82,
          79,
          78,
          79,
          81,
          80,
          81,
          85,
          87,
          84,
          83,
          82,
          82,
          82,
          81,
          76,
          74,
          74,
          71,
          77,
          84,
          83,
          80,
          86,
          92,
          84,
          82,
          82,
          81,
          81,
          77,
          87,
          101,
          109,
          101,
          83,
          73,
          77,
          76,
          75,
          74,
          75,
          80,
          75,
          76,
          76,
          76,
          76,
          75,
          86,
          102,
          110,
          108,
          111,
          106,
          104,
          104,
          103,
          102,
          98,
          90,
          84,
          85,
          85,
          86,
          87,
          85,
          82,
          89,
          88,
          91,
          92,
          91,
          82,
          74,
          76,
          80,
          79,
          81,
          82,
          82,
          84,
          93,
          99,
          97,
          109,
          125,
          114,
          110,
          107,
          100,
          89,
          84,
          91,
          96,
          92,
          87,
          93,
          87,
          89,
          87,
          86,
          89,
          90
         ],
         "yaxis": "y8"
        },
        {
         "hovertemplate": "day=20<br>hour=%{x}<br>glucose=%{y}<extra></extra>",
         "legendgroup": "",
         "line": {
          "color": "#636efa",
          "dash": "solid"
         },
         "mode": "lines",
         "name": "",
         "showlegend": false,
         "type": "scattergl",
         "x": [
          0,
          0,
          0,
          0,
          0,
          1,
          1,
          1,
          1,
          2,
          2,
          2,
          2,
          3,
          3,
          3,
          3,
          4,
          4,
          4,
          4,
          5,
          5,
          5,
          5,
          6,
          6,
          6,
          6,
          7,
          7,
          7,
          7,
          8,
          8,
          8,
          8,
          8,
          9,
          9,
          9,
          9,
          9,
          9,
          10,
          10,
          10,
          10,
          10,
          10,
          11,
          11,
          11,
          11,
          12,
          12,
          12,
          12,
          13,
          13,
          13,
          13,
          14,
          14,
          14,
          14,
          14,
          15,
          15,
          15,
          15,
          15,
          15,
          16,
          16,
          16,
          16,
          17,
          17,
          17,
          17,
          17,
          18,
          18,
          18,
          18,
          19,
          19,
          19,
          19,
          20,
          20,
          20,
          20,
          21,
          21,
          21,
          21,
          22,
          22,
          22,
          22,
          22,
          22,
          23,
          23,
          23,
          23
         ],
         "xaxis": "x5",
         "y": [
          84,
          76,
          73,
          77,
          81,
          76,
          71,
          68,
          71,
          75,
          77,
          78,
          77,
          79,
          84,
          84,
          82,
          77,
          74,
          73,
          73,
          75,
          76,
          76,
          78,
          80,
          76,
          72,
          73,
          76,
          80,
          81,
          81,
          82,
          85,
          81,
          79,
          79,
          80,
          77,
          77,
          77,
          78,
          82,
          90,
          95,
          97,
          92,
          87,
          93,
          86,
          86,
          85,
          81,
          76,
          74,
          75,
          77,
          78,
          80,
          85,
          89,
          89,
          87,
          88,
          84,
          80,
          78,
          78,
          77,
          76,
          96,
          95,
          106,
          99,
          88,
          85,
          88,
          92,
          94,
          88,
          92,
          90,
          86,
          82,
          79,
          79,
          80,
          78,
          81,
          85,
          90,
          94,
          96,
          97,
          96,
          96,
          94,
          86,
          92,
          95,
          104,
          107,
          107,
          103,
          100,
          99,
          94
         ],
         "yaxis": "y5"
        },
        {
         "hovertemplate": "day=21<br>hour=%{x}<br>glucose=%{y}<extra></extra>",
         "legendgroup": "",
         "line": {
          "color": "#636efa",
          "dash": "solid"
         },
         "mode": "lines",
         "name": "",
         "showlegend": false,
         "type": "scattergl",
         "x": [
          0,
          0,
          0,
          0,
          0,
          1,
          1,
          1,
          1,
          2,
          2,
          2,
          2,
          2,
          3,
          3,
          3,
          3,
          4,
          4,
          4,
          4,
          5,
          5,
          5,
          5,
          6,
          6,
          6,
          6,
          7,
          7,
          7,
          7,
          8,
          8,
          8,
          8,
          9,
          9,
          9,
          9,
          9,
          10,
          10,
          10,
          10,
          10,
          11,
          11,
          11,
          11,
          12,
          12,
          12,
          12,
          12,
          13,
          13,
          13,
          13,
          14,
          14,
          14,
          14,
          15,
          15,
          15,
          15,
          15,
          16,
          16,
          16,
          16,
          17,
          17,
          17,
          17,
          17,
          18,
          18,
          18,
          18,
          18,
          19,
          19,
          19,
          19,
          20,
          20,
          20,
          20,
          20,
          20,
          21,
          21,
          21,
          21,
          21,
          22,
          22,
          22,
          23,
          23,
          23
         ],
         "xaxis": "x6",
         "y": [
          88,
          84,
          89,
          81,
          78,
          79,
          79,
          79,
          80,
          82,
          77,
          71,
          72,
          74,
          73,
          73,
          77,
          78,
          79,
          77,
          72,
          72,
          75,
          78,
          75,
          71,
          70,
          76,
          82,
          83,
          84,
          83,
          78,
          71,
          67,
          72,
          79,
          79,
          78,
          76,
          78,
          79,
          78,
          79,
          78,
          86,
          101,
          107,
          98,
          87,
          81,
          79,
          80,
          83,
          78,
          81,
          80,
          81,
          79,
          77,
          77,
          79,
          76,
          73,
          74,
          80,
          86,
          107,
          108,
          112,
          102,
          88,
          75,
          70,
          80,
          90,
          83,
          84,
          90,
          95,
          97,
          96,
          90,
          83,
          87,
          101,
          104,
          99,
          95,
          99,
          101,
          93,
          88,
          81,
          80,
          87,
          97,
          101,
          114,
          89,
          89,
          117,
          100,
          97,
          97
         ],
         "yaxis": "y6"
        },
        {
         "hovertemplate": "day=22<br>hour=%{x}<br>glucose=%{y}<extra></extra>",
         "legendgroup": "",
         "line": {
          "color": "#636efa",
          "dash": "solid"
         },
         "mode": "lines",
         "name": "",
         "showlegend": false,
         "type": "scattergl",
         "x": [
          0,
          0,
          0,
          0,
          1,
          1,
          1,
          1,
          2,
          2,
          2,
          2,
          3,
          3,
          3,
          3,
          4,
          4,
          4,
          4,
          5,
          5,
          5,
          5,
          6,
          6,
          6,
          6,
          7,
          7,
          7,
          7,
          7,
          8,
          8,
          8,
          8,
          8,
          9,
          9,
          9,
          9,
          10,
          10,
          10,
          10,
          10,
          11,
          11,
          11,
          11,
          12,
          12,
          12,
          12,
          12,
          13,
          13,
          13,
          13,
          14,
          14,
          14,
          14,
          14,
          15,
          15,
          15,
          15,
          16,
          16,
          16,
          16,
          16,
          17,
          17,
          17,
          17,
          18,
          18,
          18,
          18,
          18,
          19,
          19,
          19,
          19,
          19,
          20,
          20,
          20,
          20,
          20,
          21,
          21,
          21,
          21,
          22,
          22,
          22,
          22,
          22,
          23,
          23,
          23,
          23,
          23
         ],
         "xaxis": "x3",
         "y": [
          93,
          95,
          101,
          102,
          102,
          98,
          88,
          86,
          94,
          92,
          76,
          71,
          82,
          89,
          89,
          90,
          88,
          87,
          82,
          77,
          79,
          80,
          80,
          84,
          85,
          78,
          75,
          76,
          76,
          78,
          83,
          82,
          76,
          78,
          79,
          81,
          98,
          117,
          108,
          99,
          89,
          86,
          81,
          77,
          78,
          77,
          80,
          80,
          79,
          78,
          77,
          77,
          78,
          80,
          80,
          82,
          90,
          106,
          111,
          103,
          94,
          90,
          90,
          85,
          93,
          99,
          102,
          97,
          86,
          84,
          97,
          99,
          88,
          79,
          84,
          88,
          87,
          85,
          85,
          85,
          83,
          83,
          84,
          87,
          91,
          102,
          106,
          96,
          85,
          85,
          94,
          99,
          98,
          97,
          96,
          95,
          93,
          93,
          97,
          91,
          89,
          87,
          89,
          90,
          87,
          87,
          86
         ],
         "yaxis": "y3"
        },
        {
         "hovertemplate": "day=23<br>hour=%{x}<br>glucose=%{y}<extra></extra>",
         "legendgroup": "",
         "line": {
          "color": "#636efa",
          "dash": "solid"
         },
         "mode": "lines",
         "name": "",
         "showlegend": false,
         "type": "scattergl",
         "x": [
          0,
          0,
          0,
          0,
          1,
          1,
          1,
          1,
          2,
          2,
          2,
          2,
          3,
          3,
          3,
          3,
          4,
          4,
          4,
          4,
          5,
          5,
          5,
          5,
          6,
          6,
          6,
          6,
          7,
          7,
          7,
          7,
          7,
          8,
          8,
          8,
          8,
          9,
          9,
          9,
          9,
          9,
          10,
          10,
          10,
          10,
          11,
          11,
          11,
          11,
          12,
          12,
          12,
          12,
          12,
          12,
          13,
          13,
          13,
          13,
          14,
          14,
          14,
          14,
          15,
          15,
          15,
          15,
          16,
          16,
          16,
          16,
          17,
          17,
          17,
          17,
          18,
          18,
          18,
          18,
          19,
          19,
          19,
          19,
          19,
          19,
          20,
          20,
          20,
          20,
          20,
          21,
          21,
          21,
          21,
          22,
          22,
          22,
          22,
          22,
          23,
          23,
          23,
          23
         ],
         "xaxis": "x4",
         "y": [
          86,
          82,
          75,
          75,
          79,
          81,
          86,
          86,
          80,
          81,
          83,
          84,
          85,
          81,
          74,
          71,
          77,
          83,
          82,
          82,
          81,
          78,
          78,
          80,
          83,
          82,
          80,
          77,
          75,
          80,
          78,
          81,
          81,
          81,
          81,
          81,
          81,
          81,
          81,
          83,
          86,
          94,
          107,
          112,
          107,
          99,
          94,
          91,
          89,
          87,
          82,
          84,
          84,
          85,
          86,
          85,
          95,
          107,
          110,
          108,
          103,
          100,
          99,
          98,
          94,
          89,
          87,
          90,
          97,
          103,
          101,
          97,
          94,
          88,
          88,
          89,
          88,
          86,
          85,
          85,
          86,
          85,
          84,
          83,
          79,
          87,
          98,
          94,
          131,
          159,
          162,
          143,
          111,
          108,
          136,
          148,
          129,
          113,
          114,
          114,
          114,
          113,
          109,
          105
         ],
         "yaxis": "y4"
        },
        {
         "hovertemplate": "day=24<br>hour=%{x}<br>glucose=%{y}<extra></extra>",
         "legendgroup": "",
         "line": {
          "color": "#636efa",
          "dash": "solid"
         },
         "mode": "lines",
         "name": "",
         "showlegend": false,
         "type": "scattergl",
         "x": [
          0,
          0,
          0,
          0,
          0,
          1,
          1,
          1,
          1,
          2,
          2,
          2,
          2,
          3,
          3,
          3,
          3,
          4,
          4,
          4,
          4,
          5,
          5,
          5,
          5,
          6,
          6,
          6,
          6,
          7,
          7,
          7,
          7,
          7,
          8,
          8,
          8,
          8,
          8,
          9,
          9,
          9,
          9,
          9,
          10,
          10,
          10,
          10,
          10,
          11,
          11,
          11,
          11,
          12,
          12,
          12,
          12,
          12,
          13,
          13,
          13,
          13,
          13,
          14,
          14,
          14,
          14,
          15,
          15,
          15,
          15,
          15,
          16,
          16,
          16,
          16,
          16,
          17,
          17,
          17,
          17,
          18,
          18,
          18,
          18,
          18,
          19,
          19,
          19,
          19,
          19,
          19,
          20,
          20,
          20,
          20,
          20,
          21,
          21,
          21,
          21,
          21,
          22,
          22,
          22,
          23,
          23
         ],
         "xaxis": "x",
         "y": [
          98,
          95,
          92,
          86,
          84,
          94,
          101,
          96,
          95,
          99,
          96,
          88,
          85,
          81,
          81,
          89,
          91,
          84,
          83,
          86,
          86,
          82,
          84,
          85,
          82,
          81,
          80,
          81,
          85,
          83,
          82,
          84,
          87,
          87,
          84,
          83,
          84,
          83,
          84,
          79,
          99,
          114,
          108,
          91,
          79,
          73,
          73,
          71,
          73,
          74,
          77,
          82,
          85,
          83,
          79,
          79,
          81,
          91,
          105,
          106,
          100,
          92,
          90,
          95,
          98,
          100,
          102,
          99,
          89,
          74,
          84,
          88,
          94,
          93,
          94,
          91,
          91,
          88,
          88,
          90,
          91,
          90,
          92,
          92,
          92,
          93,
          94,
          94,
          102,
          111,
          109,
          115,
          114,
          112,
          102,
          95,
          93,
          91,
          93,
          96,
          96,
          91,
          92,
          89,
          117,
          100,
          98
         ],
         "yaxis": "y"
        },
        {
         "hovertemplate": "day=25<br>hour=%{x}<br>glucose=%{y}<extra></extra>",
         "legendgroup": "",
         "line": {
          "color": "#636efa",
          "dash": "solid"
         },
         "mode": "lines",
         "name": "",
         "showlegend": false,
         "type": "scattergl",
         "x": [
          0,
          0,
          0,
          0,
          1,
          1,
          1,
          1,
          2,
          2,
          2,
          2,
          3,
          3,
          3,
          3,
          4,
          4,
          4,
          4,
          5,
          5,
          5,
          5,
          6,
          6,
          6,
          6,
          7,
          7,
          7,
          7,
          7,
          8,
          8,
          8,
          8,
          9,
          9,
          9,
          9,
          9,
          10,
          10,
          10,
          10,
          11,
          11,
          11,
          11,
          12,
          12,
          12,
          12,
          12,
          13,
          13,
          13,
          13,
          14,
          14,
          14,
          14,
          15,
          15,
          15,
          15,
          15,
          16,
          16,
          16,
          16,
          16,
          17
         ],
         "xaxis": "x2",
         "y": [
          97,
          92,
          87,
          87,
          88,
          90,
          88,
          85,
          85,
          87,
          90,
          89,
          89,
          91,
          95,
          96,
          95,
          92,
          88,
          85,
          88,
          91,
          93,
          91,
          89,
          89,
          88,
          86,
          87,
          90,
          89,
          88,
          85,
          86,
          87,
          92,
          99,
          101,
          105,
          94,
          92,
          92,
          92,
          92,
          91,
          86,
          87,
          89,
          88,
          87,
          91,
          86,
          85,
          86,
          86,
          86,
          94,
          110,
          117,
          110,
          100,
          94,
          92,
          89,
          86,
          90,
          96,
          95,
          102,
          98,
          107,
          100,
          93,
          97
         ],
         "yaxis": "y2"
        }
       ],
       "layout": {
        "annotations": [
         {
          "font": {},
          "showarrow": false,
          "text": "day=24",
          "x": 0.245,
          "xanchor": "center",
          "xref": "paper",
          "y": 0.10833333333333331,
          "yanchor": "bottom",
          "yref": "paper"
         },
         {
          "font": {},
          "showarrow": false,
          "text": "day=25",
          "x": 0.755,
          "xanchor": "center",
          "xref": "paper",
          "y": 0.10833333333333331,
          "yanchor": "bottom",
          "yref": "paper"
         },
         {
          "font": {},
          "showarrow": false,
          "text": "day=22",
          "x": 0.245,
          "xanchor": "center",
          "xref": "paper",
          "y": 0.2866666666666666,
          "yanchor": "bottom",
          "yref": "paper"
         },
         {
          "font": {},
          "showarrow": false,
          "text": "day=23",
          "x": 0.755,
          "xanchor": "center",
          "xref": "paper",
          "y": 0.2866666666666666,
          "yanchor": "bottom",
          "yref": "paper"
         },
         {
          "font": {},
          "showarrow": false,
          "text": "day=20",
          "x": 0.245,
          "xanchor": "center",
          "xref": "paper",
          "y": 0.46499999999999997,
          "yanchor": "bottom",
          "yref": "paper"
         },
         {
          "font": {},
          "showarrow": false,
          "text": "day=21",
          "x": 0.755,
          "xanchor": "center",
          "xref": "paper",
          "y": 0.46499999999999997,
          "yanchor": "bottom",
          "yref": "paper"
         },
         {
          "font": {},
          "showarrow": false,
          "text": "day=18",
          "x": 0.245,
          "xanchor": "center",
          "xref": "paper",
          "y": 0.6433333333333332,
          "yanchor": "bottom",
          "yref": "paper"
         },
         {
          "font": {},
          "showarrow": false,
          "text": "day=19",
          "x": 0.755,
          "xanchor": "center",
          "xref": "paper",
          "y": 0.6433333333333332,
          "yanchor": "bottom",
          "yref": "paper"
         },
         {
          "font": {},
          "showarrow": false,
          "text": "day=16",
          "x": 0.245,
          "xanchor": "center",
          "xref": "paper",
          "y": 0.8216666666666665,
          "yanchor": "bottom",
          "yref": "paper"
         },
         {
          "font": {},
          "showarrow": false,
          "text": "day=17",
          "x": 0.755,
          "xanchor": "center",
          "xref": "paper",
          "y": 0.8216666666666665,
          "yanchor": "bottom",
          "yref": "paper"
         },
         {
          "font": {},
          "showarrow": false,
          "text": "day=14",
          "x": 0.245,
          "xanchor": "center",
          "xref": "paper",
          "y": 0.9999999999999999,
          "yanchor": "bottom",
          "yref": "paper"
         },
         {
          "font": {},
          "showarrow": false,
          "text": "day=15",
          "x": 0.755,
          "xanchor": "center",
          "xref": "paper",
          "y": 0.9999999999999999,
          "yanchor": "bottom",
          "yref": "paper"
         }
        ],
        "legend": {
         "tracegroupgap": 0
        },
        "template": {
         "data": {
          "bar": [
           {
            "error_x": {
             "color": "#2a3f5f"
            },
            "error_y": {
             "color": "#2a3f5f"
            },
            "marker": {
             "line": {
              "color": "#E5ECF6",
              "width": 0.5
             }
            },
            "type": "bar"
           }
          ],
          "barpolar": [
           {
            "marker": {
             "line": {
              "color": "#E5ECF6",
              "width": 0.5
             }
            },
            "type": "barpolar"
           }
          ],
          "carpet": [
           {
            "aaxis": {
             "endlinecolor": "#2a3f5f",
             "gridcolor": "white",
             "linecolor": "white",
             "minorgridcolor": "white",
             "startlinecolor": "#2a3f5f"
            },
            "baxis": {
             "endlinecolor": "#2a3f5f",
             "gridcolor": "white",
             "linecolor": "white",
             "minorgridcolor": "white",
             "startlinecolor": "#2a3f5f"
            },
            "type": "carpet"
           }
          ],
          "choropleth": [
           {
            "colorbar": {
             "outlinewidth": 0,
             "ticks": ""
            },
            "type": "choropleth"
           }
          ],
          "contour": [
           {
            "colorbar": {
             "outlinewidth": 0,
             "ticks": ""
            },
            "colorscale": [
             [
              0,
              "#0d0887"
             ],
             [
              0.1111111111111111,
              "#46039f"
             ],
             [
              0.2222222222222222,
              "#7201a8"
             ],
             [
              0.3333333333333333,
              "#9c179e"
             ],
             [
              0.4444444444444444,
              "#bd3786"
             ],
             [
              0.5555555555555556,
              "#d8576b"
             ],
             [
              0.6666666666666666,
              "#ed7953"
             ],
             [
              0.7777777777777778,
              "#fb9f3a"
             ],
             [
              0.8888888888888888,
              "#fdca26"
             ],
             [
              1,
              "#f0f921"
             ]
            ],
            "type": "contour"
           }
          ],
          "contourcarpet": [
           {
            "colorbar": {
             "outlinewidth": 0,
             "ticks": ""
            },
            "type": "contourcarpet"
           }
          ],
          "heatmap": [
           {
            "colorbar": {
             "outlinewidth": 0,
             "ticks": ""
            },
            "colorscale": [
             [
              0,
              "#0d0887"
             ],
             [
              0.1111111111111111,
              "#46039f"
             ],
             [
              0.2222222222222222,
              "#7201a8"
             ],
             [
              0.3333333333333333,
              "#9c179e"
             ],
             [
              0.4444444444444444,
              "#bd3786"
             ],
             [
              0.5555555555555556,
              "#d8576b"
             ],
             [
              0.6666666666666666,
              "#ed7953"
             ],
             [
              0.7777777777777778,
              "#fb9f3a"
             ],
             [
              0.8888888888888888,
              "#fdca26"
             ],
             [
              1,
              "#f0f921"
             ]
            ],
            "type": "heatmap"
           }
          ],
          "heatmapgl": [
           {
            "colorbar": {
             "outlinewidth": 0,
             "ticks": ""
            },
            "colorscale": [
             [
              0,
              "#0d0887"
             ],
             [
              0.1111111111111111,
              "#46039f"
             ],
             [
              0.2222222222222222,
              "#7201a8"
             ],
             [
              0.3333333333333333,
              "#9c179e"
             ],
             [
              0.4444444444444444,
              "#bd3786"
             ],
             [
              0.5555555555555556,
              "#d8576b"
             ],
             [
              0.6666666666666666,
              "#ed7953"
             ],
             [
              0.7777777777777778,
              "#fb9f3a"
             ],
             [
              0.8888888888888888,
              "#fdca26"
             ],
             [
              1,
              "#f0f921"
             ]
            ],
            "type": "heatmapgl"
           }
          ],
          "histogram": [
           {
            "marker": {
             "colorbar": {
              "outlinewidth": 0,
              "ticks": ""
             }
            },
            "type": "histogram"
           }
          ],
          "histogram2d": [
           {
            "colorbar": {
             "outlinewidth": 0,
             "ticks": ""
            },
            "colorscale": [
             [
              0,
              "#0d0887"
             ],
             [
              0.1111111111111111,
              "#46039f"
             ],
             [
              0.2222222222222222,
              "#7201a8"
             ],
             [
              0.3333333333333333,
              "#9c179e"
             ],
             [
              0.4444444444444444,
              "#bd3786"
             ],
             [
              0.5555555555555556,
              "#d8576b"
             ],
             [
              0.6666666666666666,
              "#ed7953"
             ],
             [
              0.7777777777777778,
              "#fb9f3a"
             ],
             [
              0.8888888888888888,
              "#fdca26"
             ],
             [
              1,
              "#f0f921"
             ]
            ],
            "type": "histogram2d"
           }
          ],
          "histogram2dcontour": [
           {
            "colorbar": {
             "outlinewidth": 0,
             "ticks": ""
            },
            "colorscale": [
             [
              0,
              "#0d0887"
             ],
             [
              0.1111111111111111,
              "#46039f"
             ],
             [
              0.2222222222222222,
              "#7201a8"
             ],
             [
              0.3333333333333333,
              "#9c179e"
             ],
             [
              0.4444444444444444,
              "#bd3786"
             ],
             [
              0.5555555555555556,
              "#d8576b"
             ],
             [
              0.6666666666666666,
              "#ed7953"
             ],
             [
              0.7777777777777778,
              "#fb9f3a"
             ],
             [
              0.8888888888888888,
              "#fdca26"
             ],
             [
              1,
              "#f0f921"
             ]
            ],
            "type": "histogram2dcontour"
           }
          ],
          "mesh3d": [
           {
            "colorbar": {
             "outlinewidth": 0,
             "ticks": ""
            },
            "type": "mesh3d"
           }
          ],
          "parcoords": [
           {
            "line": {
             "colorbar": {
              "outlinewidth": 0,
              "ticks": ""
             }
            },
            "type": "parcoords"
           }
          ],
          "pie": [
           {
            "automargin": true,
            "type": "pie"
           }
          ],
          "scatter": [
           {
            "marker": {
             "colorbar": {
              "outlinewidth": 0,
              "ticks": ""
             }
            },
            "type": "scatter"
           }
          ],
          "scatter3d": [
           {
            "line": {
             "colorbar": {
              "outlinewidth": 0,
              "ticks": ""
             }
            },
            "marker": {
             "colorbar": {
              "outlinewidth": 0,
              "ticks": ""
             }
            },
            "type": "scatter3d"
           }
          ],
          "scattercarpet": [
           {
            "marker": {
             "colorbar": {
              "outlinewidth": 0,
              "ticks": ""
             }
            },
            "type": "scattercarpet"
           }
          ],
          "scattergeo": [
           {
            "marker": {
             "colorbar": {
              "outlinewidth": 0,
              "ticks": ""
             }
            },
            "type": "scattergeo"
           }
          ],
          "scattergl": [
           {
            "marker": {
             "colorbar": {
              "outlinewidth": 0,
              "ticks": ""
             }
            },
            "type": "scattergl"
           }
          ],
          "scattermapbox": [
           {
            "marker": {
             "colorbar": {
              "outlinewidth": 0,
              "ticks": ""
             }
            },
            "type": "scattermapbox"
           }
          ],
          "scatterpolar": [
           {
            "marker": {
             "colorbar": {
              "outlinewidth": 0,
              "ticks": ""
             }
            },
            "type": "scatterpolar"
           }
          ],
          "scatterpolargl": [
           {
            "marker": {
             "colorbar": {
              "outlinewidth": 0,
              "ticks": ""
             }
            },
            "type": "scatterpolargl"
           }
          ],
          "scatterternary": [
           {
            "marker": {
             "colorbar": {
              "outlinewidth": 0,
              "ticks": ""
             }
            },
            "type": "scatterternary"
           }
          ],
          "surface": [
           {
            "colorbar": {
             "outlinewidth": 0,
             "ticks": ""
            },
            "colorscale": [
             [
              0,
              "#0d0887"
             ],
             [
              0.1111111111111111,
              "#46039f"
             ],
             [
              0.2222222222222222,
              "#7201a8"
             ],
             [
              0.3333333333333333,
              "#9c179e"
             ],
             [
              0.4444444444444444,
              "#bd3786"
             ],
             [
              0.5555555555555556,
              "#d8576b"
             ],
             [
              0.6666666666666666,
              "#ed7953"
             ],
             [
              0.7777777777777778,
              "#fb9f3a"
             ],
             [
              0.8888888888888888,
              "#fdca26"
             ],
             [
              1,
              "#f0f921"
             ]
            ],
            "type": "surface"
           }
          ],
          "table": [
           {
            "cells": {
             "fill": {
              "color": "#EBF0F8"
             },
             "line": {
              "color": "white"
             }
            },
            "header": {
             "fill": {
              "color": "#C8D4E3"
             },
             "line": {
              "color": "white"
             }
            },
            "type": "table"
           }
          ]
         },
         "layout": {
          "annotationdefaults": {
           "arrowcolor": "#2a3f5f",
           "arrowhead": 0,
           "arrowwidth": 1
          },
          "autotypenumbers": "strict",
          "coloraxis": {
           "colorbar": {
            "outlinewidth": 0,
            "ticks": ""
           }
          },
          "colorscale": {
           "diverging": [
            [
             0,
             "#8e0152"
            ],
            [
             0.1,
             "#c51b7d"
            ],
            [
             0.2,
             "#de77ae"
            ],
            [
             0.3,
             "#f1b6da"
            ],
            [
             0.4,
             "#fde0ef"
            ],
            [
             0.5,
             "#f7f7f7"
            ],
            [
             0.6,
             "#e6f5d0"
            ],
            [
             0.7,
             "#b8e186"
            ],
            [
             0.8,
             "#7fbc41"
            ],
            [
             0.9,
             "#4d9221"
            ],
            [
             1,
             "#276419"
            ]
           ],
           "sequential": [
            [
             0,
             "#0d0887"
            ],
            [
             0.1111111111111111,
             "#46039f"
            ],
            [
             0.2222222222222222,
             "#7201a8"
            ],
            [
             0.3333333333333333,
             "#9c179e"
            ],
            [
             0.4444444444444444,
             "#bd3786"
            ],
            [
             0.5555555555555556,
             "#d8576b"
            ],
            [
             0.6666666666666666,
             "#ed7953"
            ],
            [
             0.7777777777777778,
             "#fb9f3a"
            ],
            [
             0.8888888888888888,
             "#fdca26"
            ],
            [
             1,
             "#f0f921"
            ]
           ],
           "sequentialminus": [
            [
             0,
             "#0d0887"
            ],
            [
             0.1111111111111111,
             "#46039f"
            ],
            [
             0.2222222222222222,
             "#7201a8"
            ],
            [
             0.3333333333333333,
             "#9c179e"
            ],
            [
             0.4444444444444444,
             "#bd3786"
            ],
            [
             0.5555555555555556,
             "#d8576b"
            ],
            [
             0.6666666666666666,
             "#ed7953"
            ],
            [
             0.7777777777777778,
             "#fb9f3a"
            ],
            [
             0.8888888888888888,
             "#fdca26"
            ],
            [
             1,
             "#f0f921"
            ]
           ]
          },
          "colorway": [
           "#636efa",
           "#EF553B",
           "#00cc96",
           "#ab63fa",
           "#FFA15A",
           "#19d3f3",
           "#FF6692",
           "#B6E880",
           "#FF97FF",
           "#FECB52"
          ],
          "font": {
           "color": "#2a3f5f"
          },
          "geo": {
           "bgcolor": "white",
           "lakecolor": "white",
           "landcolor": "#E5ECF6",
           "showlakes": true,
           "showland": true,
           "subunitcolor": "white"
          },
          "hoverlabel": {
           "align": "left"
          },
          "hovermode": "closest",
          "mapbox": {
           "style": "light"
          },
          "paper_bgcolor": "white",
          "plot_bgcolor": "#E5ECF6",
          "polar": {
           "angularaxis": {
            "gridcolor": "white",
            "linecolor": "white",
            "ticks": ""
           },
           "bgcolor": "#E5ECF6",
           "radialaxis": {
            "gridcolor": "white",
            "linecolor": "white",
            "ticks": ""
           }
          },
          "scene": {
           "xaxis": {
            "backgroundcolor": "#E5ECF6",
            "gridcolor": "white",
            "gridwidth": 2,
            "linecolor": "white",
            "showbackground": true,
            "ticks": "",
            "zerolinecolor": "white"
           },
           "yaxis": {
            "backgroundcolor": "#E5ECF6",
            "gridcolor": "white",
            "gridwidth": 2,
            "linecolor": "white",
            "showbackground": true,
            "ticks": "",
            "zerolinecolor": "white"
           },
           "zaxis": {
            "backgroundcolor": "#E5ECF6",
            "gridcolor": "white",
            "gridwidth": 2,
            "linecolor": "white",
            "showbackground": true,
            "ticks": "",
            "zerolinecolor": "white"
           }
          },
          "shapedefaults": {
           "line": {
            "color": "#2a3f5f"
           }
          },
          "ternary": {
           "aaxis": {
            "gridcolor": "white",
            "linecolor": "white",
            "ticks": ""
           },
           "baxis": {
            "gridcolor": "white",
            "linecolor": "white",
            "ticks": ""
           },
           "bgcolor": "#E5ECF6",
           "caxis": {
            "gridcolor": "white",
            "linecolor": "white",
            "ticks": ""
           }
          },
          "title": {
           "x": 0.05
          },
          "xaxis": {
           "automargin": true,
           "gridcolor": "white",
           "linecolor": "white",
           "ticks": "",
           "title": {
            "standoff": 15
           },
           "zerolinecolor": "white",
           "zerolinewidth": 2
          },
          "yaxis": {
           "automargin": true,
           "gridcolor": "white",
           "linecolor": "white",
           "ticks": "",
           "title": {
            "standoff": 15
           },
           "zerolinecolor": "white",
           "zerolinewidth": 2
          }
         }
        },
        "title": {
         "text": "Hourly evolution of glucose levels per day"
        },
        "xaxis": {
         "anchor": "y",
         "domain": [
          0,
          0.49
         ],
         "title": {
          "text": "hour"
         }
        },
        "xaxis10": {
         "anchor": "y10",
         "domain": [
          0.51,
          1
         ],
         "matches": "x",
         "showticklabels": false
        },
        "xaxis11": {
         "anchor": "y11",
         "domain": [
          0,
          0.49
         ],
         "matches": "x",
         "showticklabels": false
        },
        "xaxis12": {
         "anchor": "y12",
         "domain": [
          0.51,
          1
         ],
         "matches": "x",
         "showticklabels": false
        },
        "xaxis2": {
         "anchor": "y2",
         "domain": [
          0.51,
          1
         ],
         "matches": "x",
         "title": {
          "text": "hour"
         }
        },
        "xaxis3": {
         "anchor": "y3",
         "domain": [
          0,
          0.49
         ],
         "matches": "x",
         "showticklabels": false
        },
        "xaxis4": {
         "anchor": "y4",
         "domain": [
          0.51,
          1
         ],
         "matches": "x",
         "showticklabels": false
        },
        "xaxis5": {
         "anchor": "y5",
         "domain": [
          0,
          0.49
         ],
         "matches": "x",
         "showticklabels": false
        },
        "xaxis6": {
         "anchor": "y6",
         "domain": [
          0.51,
          1
         ],
         "matches": "x",
         "showticklabels": false
        },
        "xaxis7": {
         "anchor": "y7",
         "domain": [
          0,
          0.49
         ],
         "matches": "x",
         "showticklabels": false
        },
        "xaxis8": {
         "anchor": "y8",
         "domain": [
          0.51,
          1
         ],
         "matches": "x",
         "showticklabels": false
        },
        "xaxis9": {
         "anchor": "y9",
         "domain": [
          0,
          0.49
         ],
         "matches": "x",
         "showticklabels": false
        },
        "yaxis": {
         "anchor": "x",
         "domain": [
          0,
          0.10833333333333331
         ],
         "title": {
          "text": "glucose"
         }
        },
        "yaxis10": {
         "anchor": "x10",
         "domain": [
          0.7133333333333333,
          0.8216666666666665
         ],
         "matches": "y",
         "showticklabels": false
        },
        "yaxis11": {
         "anchor": "x11",
         "domain": [
          0.8916666666666666,
          0.9999999999999999
         ],
         "matches": "y",
         "title": {
          "text": "glucose"
         }
        },
        "yaxis12": {
         "anchor": "x12",
         "domain": [
          0.8916666666666666,
          0.9999999999999999
         ],
         "matches": "y",
         "showticklabels": false
        },
        "yaxis2": {
         "anchor": "x2",
         "domain": [
          0,
          0.10833333333333331
         ],
         "matches": "y",
         "showticklabels": false
        },
        "yaxis3": {
         "anchor": "x3",
         "domain": [
          0.17833333333333332,
          0.2866666666666666
         ],
         "matches": "y",
         "title": {
          "text": "glucose"
         }
        },
        "yaxis4": {
         "anchor": "x4",
         "domain": [
          0.17833333333333332,
          0.2866666666666666
         ],
         "matches": "y",
         "showticklabels": false
        },
        "yaxis5": {
         "anchor": "x5",
         "domain": [
          0.35666666666666663,
          0.46499999999999997
         ],
         "matches": "y",
         "title": {
          "text": "glucose"
         }
        },
        "yaxis6": {
         "anchor": "x6",
         "domain": [
          0.35666666666666663,
          0.46499999999999997
         ],
         "matches": "y",
         "showticklabels": false
        },
        "yaxis7": {
         "anchor": "x7",
         "domain": [
          0.5349999999999999,
          0.6433333333333332
         ],
         "matches": "y",
         "title": {
          "text": "glucose"
         }
        },
        "yaxis8": {
         "anchor": "x8",
         "domain": [
          0.5349999999999999,
          0.6433333333333332
         ],
         "matches": "y",
         "showticklabels": false
        },
        "yaxis9": {
         "anchor": "x9",
         "domain": [
          0.7133333333333333,
          0.8216666666666665
         ],
         "matches": "y",
         "title": {
          "text": "glucose"
         }
        }
       }
      },
      "text/html": [
       "<div>                            <div id=\"995a4788-1f0b-4065-bf82-37c2df29ba2b\" class=\"plotly-graph-div\" style=\"height:525px; width:100%;\"></div>            <script type=\"text/javascript\">                require([\"plotly\"], function(Plotly) {                    window.PLOTLYENV=window.PLOTLYENV || {};                                    if (document.getElementById(\"995a4788-1f0b-4065-bf82-37c2df29ba2b\")) {                    Plotly.newPlot(                        \"995a4788-1f0b-4065-bf82-37c2df29ba2b\",                        [{\"hovertemplate\": \"day=14<br>hour=%{x}<br>glucose=%{y}<extra></extra>\", \"legendgroup\": \"\", \"line\": {\"color\": \"#636efa\", \"dash\": \"solid\"}, \"mode\": \"lines\", \"name\": \"\", \"showlegend\": false, \"type\": \"scattergl\", \"x\": [16, 16, 16, 17, 17, 17, 17, 17, 17, 17, 17, 18, 18, 18, 18, 18, 18, 19, 19, 19, 19, 19, 20, 20, 20, 20, 20, 21, 21, 21, 23, 23], \"xaxis\": \"x11\", \"y\": [53.0, 68.0, 63.0, 66.0, 72.0, 74.0, 80.0, 68.0, 81.0, 83.0, 76.0, 75.0, 77.0, 93.0, 83.0, 80.0, 81.0, 84.0, 92.0, 94.0, 94.0, 89.0, 86.0, 90.0, 88.0, 84.0, 72.0, 66.0, 66.0, 57.0, 91.0, 90.0], \"yaxis\": \"y11\"}, {\"hovertemplate\": \"day=15<br>hour=%{x}<br>glucose=%{y}<extra></extra>\", \"legendgroup\": \"\", \"line\": {\"color\": \"#636efa\", \"dash\": \"solid\"}, \"mode\": \"lines\", \"name\": \"\", \"showlegend\": false, \"type\": \"scattergl\", \"x\": [0, 0, 0, 0, 1, 1, 1, 1, 2, 2, 2, 2, 3, 3, 3, 3, 4, 4, 4, 4, 5, 5, 5, 5, 6, 6, 6, 6, 7, 7, 7, 7, 7, 8, 8, 8, 8, 8, 8, 9, 9, 9, 9, 9, 10, 10, 10, 10, 11, 11, 11, 11, 11, 12, 12, 12, 12, 12, 12, 13, 13, 13, 13, 13, 14, 14, 14, 14, 15, 15, 15, 15, 15, 16, 16, 16, 16, 16, 16, 16, 17, 17, 17, 17, 17, 17, 18, 18, 18, 18, 18, 18, 18, 18, 19, 19, 19, 19, 19, 19, 20, 20, 20, 20, 20, 21, 21, 21, 21, 21, 22, 22, 22, 22, 23, 23, 23, 23], \"xaxis\": \"x12\", \"y\": [92.0, 85.0, 80.0, 85.0, 90.0, 87.0, 84.0, 81.0, 82.0, 87.0, 83.0, 78.0, 81.0, 76.0, 72.0, 77.0, 66.0, 56.0, 60.0, 69.0, 73.0, 81.0, 85.0, 81.0, 78.0, 74.0, 71.0, 75.0, 80.0, 83.0, 88.0, 81.0, 76.0, 74.0, 87.0, 80.0, 92.0, 108.0, 109.0, 100.0, 85.0, 87.0, 87.0, 81.0, 75.0, 70.0, 68.0, 69.0, 76.0, 76.0, 73.0, 69.0, 73.0, 76.0, 82.0, 86.0, 83.0, 82.0, 83.0, 101.0, 120.0, 108.0, 121.0, 88.0, 86.0, 83.0, 78.0, 77.0, 80.0, 80.0, 83.0, 78.0, 70.0, 73.0, 82.0, 81.0, 83.0, 84.0, 96.0, 102.0, 87.0, 74.0, 74.0, 80.0, 86.0, 89.0, 91.0, 98.0, 96.0, 97.0, 82.0, 92.0, 84.0, 83.0, 77.0, 73.0, 76.0, 79.0, 76.0, 86.0, 93.0, 89.0, 94.0, 95.0, 89.0, 100.0, 101.0, 93.0, 80.0, 84.0, 89.0, 89.0, 86.0, 88.0, 97.0, 92.0, 88.0, 81.0], \"yaxis\": \"y12\"}, {\"hovertemplate\": \"day=16<br>hour=%{x}<br>glucose=%{y}<extra></extra>\", \"legendgroup\": \"\", \"line\": {\"color\": \"#636efa\", \"dash\": \"solid\"}, \"mode\": \"lines\", \"name\": \"\", \"showlegend\": false, \"type\": \"scattergl\", \"x\": [0, 0, 0, 0, 1, 1, 1, 1, 2, 2, 2, 2, 3, 3, 3, 3, 4, 4, 4, 4, 5, 5, 5, 5, 6, 6, 6, 6, 7, 7, 7, 7, 7, 8, 8, 8, 8, 8, 8, 8, 9, 9, 9, 9, 9, 10, 10, 10, 10, 10, 11, 11, 11, 11, 12, 12, 12, 12, 12, 13, 13, 13, 13, 13, 14, 14, 14, 14, 15, 15, 15, 15, 16, 16, 16, 16, 17, 17, 17, 17, 17, 17, 17, 18, 18, 18, 18, 19, 19, 19, 19, 19, 20, 20, 20, 20, 20, 20, 20, 21, 21, 21, 21, 21, 22, 22, 22, 22, 22, 23, 23, 23, 23, 23], \"xaxis\": \"x9\", \"y\": [78.0, 80.0, 81.0, 76.0, 72.0, 75.0, 81.0, 77.0, 72.0, 73.0, 77.0, 78.0, 78.0, 79.0, 79.0, 79.0, 85.0, 87.0, 81.0, 78.0, 78.0, 77.0, 74.0, 71.0, 68.0, 66.0, 64.0, 65.0, 70.0, 81.0, 90.0, 80.0, 73.0, 69.0, 65.0, 73.0, 78.0, 79.0, 73.0, 85.0, 95.0, 90.0, 88.0, 85.0, 83.0, 77.0, 78.0, 84.0, 74.0, 76.0, 80.0, 77.0, 74.0, 75.0, 75.0, 75.0, 78.0, 79.0, 83.0, 97.0, 104.0, 119.0, 132.0, 129.0, 119.0, 107.0, 97.0, 86.0, 77.0, 77.0, 81.0, 82.0, 82.0, 81.0, 77.0, 77.0, 77.0, 74.0, 78.0, 81.0, 78.0, 76.0, 81.0, 72.0, 70.0, 73.0, 77.0, 80.0, 84.0, 83.0, 83.0, 83.0, 88.0, 111.0, 148.0, 157.0, 159.0, 141.0, 142.0, 126.0, 128.0, 120.0, 101.0, 91.0, 91.0, 87.0, 69.0, 83.0, 81.0, 81.0, 84.0, 96.0, 104.0, 97.0], \"yaxis\": \"y9\"}, {\"hovertemplate\": \"day=17<br>hour=%{x}<br>glucose=%{y}<extra></extra>\", \"legendgroup\": \"\", \"line\": {\"color\": \"#636efa\", \"dash\": \"solid\"}, \"mode\": \"lines\", \"name\": \"\", \"showlegend\": false, \"type\": \"scattergl\", \"x\": [0, 0, 0, 0, 1, 1, 1, 1, 2, 2, 2, 2, 3, 3, 3, 3, 4, 4, 4, 4, 5, 5, 5, 5, 6, 6, 6, 6, 7, 7, 7, 7, 7, 8, 8, 8, 8, 8, 8, 9, 9, 9, 9, 9, 9, 10, 10, 10, 10, 10, 11, 11, 11, 11, 12, 12, 12, 12, 12, 12, 12, 13, 13, 13, 13, 13, 14, 14, 14, 14, 15, 15, 15, 15, 15, 16, 16, 16, 16, 16, 16, 17, 17, 17, 17, 17, 18, 18, 18, 18, 19, 19, 19, 19, 19, 19, 20, 20, 20, 20, 21, 21, 21, 21, 22, 22, 22, 23, 23, 23], \"xaxis\": \"x10\", \"y\": [95.0, 92.0, 88.0, 80.0, 76.0, 77.0, 75.0, 72.0, 72.0, 74.0, 77.0, 80.0, 76.0, 71.0, 77.0, 79.0, 73.0, 71.0, 72.0, 72.0, 72.0, 71.0, 70.0, 69.0, 69.0, 67.0, 67.0, 75.0, 81.0, 80.0, 79.0, 78.0, 77.0, 77.0, 78.0, 76.0, 84.0, 103.0, 108.0, 95.0, 83.0, 86.0, 78.0, 83.0, 83.0, 76.0, 73.0, 73.0, 72.0, 72.0, 76.0, 76.0, 76.0, 81.0, 83.0, 81.0, 78.0, 83.0, 84.0, 95.0, 103.0, 109.0, 116.0, 111.0, 114.0, 108.0, 108.0, 104.0, 100.0, 96.0, 92.0, 90.0, 92.0, 85.0, 79.0, 78.0, 90.0, 90.0, 90.0, 88.0, 86.0, 78.0, 74.0, 80.0, 84.0, 80.0, 78.0, 78.0, 79.0, 79.0, 77.0, 82.0, 82.0, 90.0, 102.0, 104.0, 117.0, 116.0, 102.0, 91.0, 86.0, 87.0, 87.0, 81.0, 86.0, 91.0, 81.0, 79.0, 78.0, 81.0], \"yaxis\": \"y10\"}, {\"hovertemplate\": \"day=18<br>hour=%{x}<br>glucose=%{y}<extra></extra>\", \"legendgroup\": \"\", \"line\": {\"color\": \"#636efa\", \"dash\": \"solid\"}, \"mode\": \"lines\", \"name\": \"\", \"showlegend\": false, \"type\": \"scattergl\", \"x\": [0, 0, 0, 0, 1, 1, 1, 1, 2, 2, 2, 2, 3, 3, 3, 3, 4, 4, 4, 4, 5, 5, 5, 5, 6, 6, 6, 6, 7, 7, 7, 7, 7, 8, 8, 8, 8, 8, 8, 8, 9, 9, 9, 9, 10, 10, 10, 10, 11, 11, 11, 11, 12, 12, 12, 12, 12, 13, 13, 13, 13, 13, 13, 14, 14, 14, 14, 14, 15, 15, 15, 15, 16, 16, 16, 16, 16, 17, 17, 17, 17, 17, 17, 18, 18, 18, 18, 19, 19, 19, 19, 19, 20, 20, 23], \"xaxis\": \"x7\", \"y\": [83.0, 86.0, 86.0, 84.0, 83.0, 82.0, 81.0, 80.0, 77.0, 75.0, 74.0, 74.0, 77.0, 78.0, 78.0, 76.0, 69.0, 66.0, 69.0, 75.0, 73.0, 73.0, 78.0, 75.0, 69.0, 68.0, 73.0, 80.0, 78.0, 78.0, 76.0, 76.0, 77.0, 77.0, 80.0, 82.0, 88.0, 90.0, 90.0, 90.0, 91.0, 89.0, 83.0, 78.0, 78.0, 77.0, 76.0, 77.0, 78.0, 78.0, 76.0, 75.0, 74.0, 74.0, 75.0, 74.0, 82.0, 97.0, 106.0, 120.0, 115.0, 121.0, 113.0, 107.0, 100.0, 91.0, 82.0, 88.0, 91.0, 90.0, 82.0, 80.0, 84.0, 86.0, 84.0, 86.0, 91.0, 89.0, 98.0, 98.0, 89.0, 85.0, 83.0, 83.0, 85.0, 86.0, 86.0, 92.0, 114.0, 133.0, 128.0, 129.0, 128.0, 118.0, 83.0], \"yaxis\": \"y7\"}, {\"hovertemplate\": \"day=19<br>hour=%{x}<br>glucose=%{y}<extra></extra>\", \"legendgroup\": \"\", \"line\": {\"color\": \"#636efa\", \"dash\": \"solid\"}, \"mode\": \"lines\", \"name\": \"\", \"showlegend\": false, \"type\": \"scattergl\", \"x\": [0, 0, 0, 0, 1, 1, 1, 1, 2, 2, 2, 2, 3, 3, 3, 3, 4, 4, 4, 4, 5, 5, 5, 5, 6, 6, 6, 6, 7, 7, 7, 7, 7, 8, 8, 8, 8, 8, 8, 9, 9, 9, 9, 9, 10, 10, 10, 10, 11, 11, 11, 11, 11, 11, 11, 12, 12, 12, 12, 13, 13, 13, 13, 13, 13, 14, 14, 14, 14, 15, 15, 15, 15, 15, 16, 16, 16, 16, 16, 17, 17, 17, 17, 17, 18, 18, 18, 18, 19, 19, 19, 19, 19, 20, 20, 20, 20, 20, 21, 21, 21, 21, 22, 22, 22, 22, 22, 23, 23, 23, 23], \"xaxis\": \"x8\", \"y\": [81.0, 81.0, 84.0, 88.0, 86.0, 81.0, 81.0, 82.0, 79.0, 78.0, 79.0, 81.0, 80.0, 81.0, 85.0, 87.0, 84.0, 83.0, 82.0, 82.0, 82.0, 81.0, 76.0, 74.0, 74.0, 71.0, 77.0, 84.0, 83.0, 80.0, 86.0, 92.0, 84.0, 82.0, 82.0, 81.0, 81.0, 77.0, 87.0, 101.0, 109.0, 101.0, 83.0, 73.0, 77.0, 76.0, 75.0, 74.0, 75.0, 80.0, 75.0, 76.0, 76.0, 76.0, 76.0, 75.0, 86.0, 102.0, 110.0, 108.0, 111.0, 106.0, 104.0, 104.0, 103.0, 102.0, 98.0, 90.0, 84.0, 85.0, 85.0, 86.0, 87.0, 85.0, 82.0, 89.0, 88.0, 91.0, 92.0, 91.0, 82.0, 74.0, 76.0, 80.0, 79.0, 81.0, 82.0, 82.0, 84.0, 93.0, 99.0, 97.0, 109.0, 125.0, 114.0, 110.0, 107.0, 100.0, 89.0, 84.0, 91.0, 96.0, 92.0, 87.0, 93.0, 87.0, 89.0, 87.0, 86.0, 89.0, 90.0], \"yaxis\": \"y8\"}, {\"hovertemplate\": \"day=20<br>hour=%{x}<br>glucose=%{y}<extra></extra>\", \"legendgroup\": \"\", \"line\": {\"color\": \"#636efa\", \"dash\": \"solid\"}, \"mode\": \"lines\", \"name\": \"\", \"showlegend\": false, \"type\": \"scattergl\", \"x\": [0, 0, 0, 0, 0, 1, 1, 1, 1, 2, 2, 2, 2, 3, 3, 3, 3, 4, 4, 4, 4, 5, 5, 5, 5, 6, 6, 6, 6, 7, 7, 7, 7, 8, 8, 8, 8, 8, 9, 9, 9, 9, 9, 9, 10, 10, 10, 10, 10, 10, 11, 11, 11, 11, 12, 12, 12, 12, 13, 13, 13, 13, 14, 14, 14, 14, 14, 15, 15, 15, 15, 15, 15, 16, 16, 16, 16, 17, 17, 17, 17, 17, 18, 18, 18, 18, 19, 19, 19, 19, 20, 20, 20, 20, 21, 21, 21, 21, 22, 22, 22, 22, 22, 22, 23, 23, 23, 23], \"xaxis\": \"x5\", \"y\": [84.0, 76.0, 73.0, 77.0, 81.0, 76.0, 71.0, 68.0, 71.0, 75.0, 77.0, 78.0, 77.0, 79.0, 84.0, 84.0, 82.0, 77.0, 74.0, 73.0, 73.0, 75.0, 76.0, 76.0, 78.0, 80.0, 76.0, 72.0, 73.0, 76.0, 80.0, 81.0, 81.0, 82.0, 85.0, 81.0, 79.0, 79.0, 80.0, 77.0, 77.0, 77.0, 78.0, 82.0, 90.0, 95.0, 97.0, 92.0, 87.0, 93.0, 86.0, 86.0, 85.0, 81.0, 76.0, 74.0, 75.0, 77.0, 78.0, 80.0, 85.0, 89.0, 89.0, 87.0, 88.0, 84.0, 80.0, 78.0, 78.0, 77.0, 76.0, 96.0, 95.0, 106.0, 99.0, 88.0, 85.0, 88.0, 92.0, 94.0, 88.0, 92.0, 90.0, 86.0, 82.0, 79.0, 79.0, 80.0, 78.0, 81.0, 85.0, 90.0, 94.0, 96.0, 97.0, 96.0, 96.0, 94.0, 86.0, 92.0, 95.0, 104.0, 107.0, 107.0, 103.0, 100.0, 99.0, 94.0], \"yaxis\": \"y5\"}, {\"hovertemplate\": \"day=21<br>hour=%{x}<br>glucose=%{y}<extra></extra>\", \"legendgroup\": \"\", \"line\": {\"color\": \"#636efa\", \"dash\": \"solid\"}, \"mode\": \"lines\", \"name\": \"\", \"showlegend\": false, \"type\": \"scattergl\", \"x\": [0, 0, 0, 0, 0, 1, 1, 1, 1, 2, 2, 2, 2, 2, 3, 3, 3, 3, 4, 4, 4, 4, 5, 5, 5, 5, 6, 6, 6, 6, 7, 7, 7, 7, 8, 8, 8, 8, 9, 9, 9, 9, 9, 10, 10, 10, 10, 10, 11, 11, 11, 11, 12, 12, 12, 12, 12, 13, 13, 13, 13, 14, 14, 14, 14, 15, 15, 15, 15, 15, 16, 16, 16, 16, 17, 17, 17, 17, 17, 18, 18, 18, 18, 18, 19, 19, 19, 19, 20, 20, 20, 20, 20, 20, 21, 21, 21, 21, 21, 22, 22, 22, 23, 23, 23], \"xaxis\": \"x6\", \"y\": [88.0, 84.0, 89.0, 81.0, 78.0, 79.0, 79.0, 79.0, 80.0, 82.0, 77.0, 71.0, 72.0, 74.0, 73.0, 73.0, 77.0, 78.0, 79.0, 77.0, 72.0, 72.0, 75.0, 78.0, 75.0, 71.0, 70.0, 76.0, 82.0, 83.0, 84.0, 83.0, 78.0, 71.0, 67.0, 72.0, 79.0, 79.0, 78.0, 76.0, 78.0, 79.0, 78.0, 79.0, 78.0, 86.0, 101.0, 107.0, 98.0, 87.0, 81.0, 79.0, 80.0, 83.0, 78.0, 81.0, 80.0, 81.0, 79.0, 77.0, 77.0, 79.0, 76.0, 73.0, 74.0, 80.0, 86.0, 107.0, 108.0, 112.0, 102.0, 88.0, 75.0, 70.0, 80.0, 90.0, 83.0, 84.0, 90.0, 95.0, 97.0, 96.0, 90.0, 83.0, 87.0, 101.0, 104.0, 99.0, 95.0, 99.0, 101.0, 93.0, 88.0, 81.0, 80.0, 87.0, 97.0, 101.0, 114.0, 89.0, 89.0, 117.0, 100.0, 97.0, 97.0], \"yaxis\": \"y6\"}, {\"hovertemplate\": \"day=22<br>hour=%{x}<br>glucose=%{y}<extra></extra>\", \"legendgroup\": \"\", \"line\": {\"color\": \"#636efa\", \"dash\": \"solid\"}, \"mode\": \"lines\", \"name\": \"\", \"showlegend\": false, \"type\": \"scattergl\", \"x\": [0, 0, 0, 0, 1, 1, 1, 1, 2, 2, 2, 2, 3, 3, 3, 3, 4, 4, 4, 4, 5, 5, 5, 5, 6, 6, 6, 6, 7, 7, 7, 7, 7, 8, 8, 8, 8, 8, 9, 9, 9, 9, 10, 10, 10, 10, 10, 11, 11, 11, 11, 12, 12, 12, 12, 12, 13, 13, 13, 13, 14, 14, 14, 14, 14, 15, 15, 15, 15, 16, 16, 16, 16, 16, 17, 17, 17, 17, 18, 18, 18, 18, 18, 19, 19, 19, 19, 19, 20, 20, 20, 20, 20, 21, 21, 21, 21, 22, 22, 22, 22, 22, 23, 23, 23, 23, 23], \"xaxis\": \"x3\", \"y\": [93.0, 95.0, 101.0, 102.0, 102.0, 98.0, 88.0, 86.0, 94.0, 92.0, 76.0, 71.0, 82.0, 89.0, 89.0, 90.0, 88.0, 87.0, 82.0, 77.0, 79.0, 80.0, 80.0, 84.0, 85.0, 78.0, 75.0, 76.0, 76.0, 78.0, 83.0, 82.0, 76.0, 78.0, 79.0, 81.0, 98.0, 117.0, 108.0, 99.0, 89.0, 86.0, 81.0, 77.0, 78.0, 77.0, 80.0, 80.0, 79.0, 78.0, 77.0, 77.0, 78.0, 80.0, 80.0, 82.0, 90.0, 106.0, 111.0, 103.0, 94.0, 90.0, 90.0, 85.0, 93.0, 99.0, 102.0, 97.0, 86.0, 84.0, 97.0, 99.0, 88.0, 79.0, 84.0, 88.0, 87.0, 85.0, 85.0, 85.0, 83.0, 83.0, 84.0, 87.0, 91.0, 102.0, 106.0, 96.0, 85.0, 85.0, 94.0, 99.0, 98.0, 97.0, 96.0, 95.0, 93.0, 93.0, 97.0, 91.0, 89.0, 87.0, 89.0, 90.0, 87.0, 87.0, 86.0], \"yaxis\": \"y3\"}, {\"hovertemplate\": \"day=23<br>hour=%{x}<br>glucose=%{y}<extra></extra>\", \"legendgroup\": \"\", \"line\": {\"color\": \"#636efa\", \"dash\": \"solid\"}, \"mode\": \"lines\", \"name\": \"\", \"showlegend\": false, \"type\": \"scattergl\", \"x\": [0, 0, 0, 0, 1, 1, 1, 1, 2, 2, 2, 2, 3, 3, 3, 3, 4, 4, 4, 4, 5, 5, 5, 5, 6, 6, 6, 6, 7, 7, 7, 7, 7, 8, 8, 8, 8, 9, 9, 9, 9, 9, 10, 10, 10, 10, 11, 11, 11, 11, 12, 12, 12, 12, 12, 12, 13, 13, 13, 13, 14, 14, 14, 14, 15, 15, 15, 15, 16, 16, 16, 16, 17, 17, 17, 17, 18, 18, 18, 18, 19, 19, 19, 19, 19, 19, 20, 20, 20, 20, 20, 21, 21, 21, 21, 22, 22, 22, 22, 22, 23, 23, 23, 23], \"xaxis\": \"x4\", \"y\": [86.0, 82.0, 75.0, 75.0, 79.0, 81.0, 86.0, 86.0, 80.0, 81.0, 83.0, 84.0, 85.0, 81.0, 74.0, 71.0, 77.0, 83.0, 82.0, 82.0, 81.0, 78.0, 78.0, 80.0, 83.0, 82.0, 80.0, 77.0, 75.0, 80.0, 78.0, 81.0, 81.0, 81.0, 81.0, 81.0, 81.0, 81.0, 81.0, 83.0, 86.0, 94.0, 107.0, 112.0, 107.0, 99.0, 94.0, 91.0, 89.0, 87.0, 82.0, 84.0, 84.0, 85.0, 86.0, 85.0, 95.0, 107.0, 110.0, 108.0, 103.0, 100.0, 99.0, 98.0, 94.0, 89.0, 87.0, 90.0, 97.0, 103.0, 101.0, 97.0, 94.0, 88.0, 88.0, 89.0, 88.0, 86.0, 85.0, 85.0, 86.0, 85.0, 84.0, 83.0, 79.0, 87.0, 98.0, 94.0, 131.0, 159.0, 162.0, 143.0, 111.0, 108.0, 136.0, 148.0, 129.0, 113.0, 114.0, 114.0, 114.0, 113.0, 109.0, 105.0], \"yaxis\": \"y4\"}, {\"hovertemplate\": \"day=24<br>hour=%{x}<br>glucose=%{y}<extra></extra>\", \"legendgroup\": \"\", \"line\": {\"color\": \"#636efa\", \"dash\": \"solid\"}, \"mode\": \"lines\", \"name\": \"\", \"showlegend\": false, \"type\": \"scattergl\", \"x\": [0, 0, 0, 0, 0, 1, 1, 1, 1, 2, 2, 2, 2, 3, 3, 3, 3, 4, 4, 4, 4, 5, 5, 5, 5, 6, 6, 6, 6, 7, 7, 7, 7, 7, 8, 8, 8, 8, 8, 9, 9, 9, 9, 9, 10, 10, 10, 10, 10, 11, 11, 11, 11, 12, 12, 12, 12, 12, 13, 13, 13, 13, 13, 14, 14, 14, 14, 15, 15, 15, 15, 15, 16, 16, 16, 16, 16, 17, 17, 17, 17, 18, 18, 18, 18, 18, 19, 19, 19, 19, 19, 19, 20, 20, 20, 20, 20, 21, 21, 21, 21, 21, 22, 22, 22, 23, 23], \"xaxis\": \"x\", \"y\": [98.0, 95.0, 92.0, 86.0, 84.0, 94.0, 101.0, 96.0, 95.0, 99.0, 96.0, 88.0, 85.0, 81.0, 81.0, 89.0, 91.0, 84.0, 83.0, 86.0, 86.0, 82.0, 84.0, 85.0, 82.0, 81.0, 80.0, 81.0, 85.0, 83.0, 82.0, 84.0, 87.0, 87.0, 84.0, 83.0, 84.0, 83.0, 84.0, 79.0, 99.0, 114.0, 108.0, 91.0, 79.0, 73.0, 73.0, 71.0, 73.0, 74.0, 77.0, 82.0, 85.0, 83.0, 79.0, 79.0, 81.0, 91.0, 105.0, 106.0, 100.0, 92.0, 90.0, 95.0, 98.0, 100.0, 102.0, 99.0, 89.0, 74.0, 84.0, 88.0, 94.0, 93.0, 94.0, 91.0, 91.0, 88.0, 88.0, 90.0, 91.0, 90.0, 92.0, 92.0, 92.0, 93.0, 94.0, 94.0, 102.0, 111.0, 109.0, 115.0, 114.0, 112.0, 102.0, 95.0, 93.0, 91.0, 93.0, 96.0, 96.0, 91.0, 92.0, 89.0, 117.0, 100.0, 98.0], \"yaxis\": \"y\"}, {\"hovertemplate\": \"day=25<br>hour=%{x}<br>glucose=%{y}<extra></extra>\", \"legendgroup\": \"\", \"line\": {\"color\": \"#636efa\", \"dash\": \"solid\"}, \"mode\": \"lines\", \"name\": \"\", \"showlegend\": false, \"type\": \"scattergl\", \"x\": [0, 0, 0, 0, 1, 1, 1, 1, 2, 2, 2, 2, 3, 3, 3, 3, 4, 4, 4, 4, 5, 5, 5, 5, 6, 6, 6, 6, 7, 7, 7, 7, 7, 8, 8, 8, 8, 9, 9, 9, 9, 9, 10, 10, 10, 10, 11, 11, 11, 11, 12, 12, 12, 12, 12, 13, 13, 13, 13, 14, 14, 14, 14, 15, 15, 15, 15, 15, 16, 16, 16, 16, 16, 17], \"xaxis\": \"x2\", \"y\": [97.0, 92.0, 87.0, 87.0, 88.0, 90.0, 88.0, 85.0, 85.0, 87.0, 90.0, 89.0, 89.0, 91.0, 95.0, 96.0, 95.0, 92.0, 88.0, 85.0, 88.0, 91.0, 93.0, 91.0, 89.0, 89.0, 88.0, 86.0, 87.0, 90.0, 89.0, 88.0, 85.0, 86.0, 87.0, 92.0, 99.0, 101.0, 105.0, 94.0, 92.0, 92.0, 92.0, 92.0, 91.0, 86.0, 87.0, 89.0, 88.0, 87.0, 91.0, 86.0, 85.0, 86.0, 86.0, 86.0, 94.0, 110.0, 117.0, 110.0, 100.0, 94.0, 92.0, 89.0, 86.0, 90.0, 96.0, 95.0, 102.0, 98.0, 107.0, 100.0, 93.0, 97.0], \"yaxis\": \"y2\"}],                        {\"annotations\": [{\"font\": {}, \"showarrow\": false, \"text\": \"day=24\", \"x\": 0.245, \"xanchor\": \"center\", \"xref\": \"paper\", \"y\": 0.10833333333333331, \"yanchor\": \"bottom\", \"yref\": \"paper\"}, {\"font\": {}, \"showarrow\": false, \"text\": \"day=25\", \"x\": 0.755, \"xanchor\": \"center\", \"xref\": \"paper\", \"y\": 0.10833333333333331, \"yanchor\": \"bottom\", \"yref\": \"paper\"}, {\"font\": {}, \"showarrow\": false, \"text\": \"day=22\", \"x\": 0.245, \"xanchor\": \"center\", \"xref\": \"paper\", \"y\": 0.2866666666666666, \"yanchor\": \"bottom\", \"yref\": \"paper\"}, {\"font\": {}, \"showarrow\": false, \"text\": \"day=23\", \"x\": 0.755, \"xanchor\": \"center\", \"xref\": \"paper\", \"y\": 0.2866666666666666, \"yanchor\": \"bottom\", \"yref\": \"paper\"}, {\"font\": {}, \"showarrow\": false, \"text\": \"day=20\", \"x\": 0.245, \"xanchor\": \"center\", \"xref\": \"paper\", \"y\": 0.46499999999999997, \"yanchor\": \"bottom\", \"yref\": \"paper\"}, {\"font\": {}, \"showarrow\": false, \"text\": \"day=21\", \"x\": 0.755, \"xanchor\": \"center\", \"xref\": \"paper\", \"y\": 0.46499999999999997, \"yanchor\": \"bottom\", \"yref\": \"paper\"}, {\"font\": {}, \"showarrow\": false, \"text\": \"day=18\", \"x\": 0.245, \"xanchor\": \"center\", \"xref\": \"paper\", \"y\": 0.6433333333333332, \"yanchor\": \"bottom\", \"yref\": \"paper\"}, {\"font\": {}, \"showarrow\": false, \"text\": \"day=19\", \"x\": 0.755, \"xanchor\": \"center\", \"xref\": \"paper\", \"y\": 0.6433333333333332, \"yanchor\": \"bottom\", \"yref\": \"paper\"}, {\"font\": {}, \"showarrow\": false, \"text\": \"day=16\", \"x\": 0.245, \"xanchor\": \"center\", \"xref\": \"paper\", \"y\": 0.8216666666666665, \"yanchor\": \"bottom\", \"yref\": \"paper\"}, {\"font\": {}, \"showarrow\": false, \"text\": \"day=17\", \"x\": 0.755, \"xanchor\": \"center\", \"xref\": \"paper\", \"y\": 0.8216666666666665, \"yanchor\": \"bottom\", \"yref\": \"paper\"}, {\"font\": {}, \"showarrow\": false, \"text\": \"day=14\", \"x\": 0.245, \"xanchor\": \"center\", \"xref\": \"paper\", \"y\": 0.9999999999999999, \"yanchor\": \"bottom\", \"yref\": \"paper\"}, {\"font\": {}, \"showarrow\": false, \"text\": \"day=15\", \"x\": 0.755, \"xanchor\": \"center\", \"xref\": \"paper\", \"y\": 0.9999999999999999, \"yanchor\": \"bottom\", \"yref\": \"paper\"}], \"legend\": {\"tracegroupgap\": 0}, \"template\": {\"data\": {\"bar\": [{\"error_x\": {\"color\": \"#2a3f5f\"}, \"error_y\": {\"color\": \"#2a3f5f\"}, \"marker\": {\"line\": {\"color\": \"#E5ECF6\", \"width\": 0.5}}, \"type\": \"bar\"}], \"barpolar\": [{\"marker\": {\"line\": {\"color\": \"#E5ECF6\", \"width\": 0.5}}, \"type\": \"barpolar\"}], \"carpet\": [{\"aaxis\": {\"endlinecolor\": \"#2a3f5f\", \"gridcolor\": \"white\", \"linecolor\": \"white\", \"minorgridcolor\": \"white\", \"startlinecolor\": \"#2a3f5f\"}, \"baxis\": {\"endlinecolor\": \"#2a3f5f\", \"gridcolor\": \"white\", \"linecolor\": \"white\", \"minorgridcolor\": \"white\", \"startlinecolor\": \"#2a3f5f\"}, \"type\": \"carpet\"}], \"choropleth\": [{\"colorbar\": {\"outlinewidth\": 0, \"ticks\": \"\"}, \"type\": \"choropleth\"}], \"contour\": [{\"colorbar\": {\"outlinewidth\": 0, \"ticks\": \"\"}, \"colorscale\": [[0.0, \"#0d0887\"], [0.1111111111111111, \"#46039f\"], [0.2222222222222222, \"#7201a8\"], [0.3333333333333333, \"#9c179e\"], [0.4444444444444444, \"#bd3786\"], [0.5555555555555556, \"#d8576b\"], [0.6666666666666666, \"#ed7953\"], [0.7777777777777778, \"#fb9f3a\"], [0.8888888888888888, \"#fdca26\"], [1.0, \"#f0f921\"]], \"type\": \"contour\"}], \"contourcarpet\": [{\"colorbar\": {\"outlinewidth\": 0, \"ticks\": \"\"}, \"type\": \"contourcarpet\"}], \"heatmap\": [{\"colorbar\": {\"outlinewidth\": 0, \"ticks\": \"\"}, \"colorscale\": [[0.0, \"#0d0887\"], [0.1111111111111111, \"#46039f\"], [0.2222222222222222, \"#7201a8\"], [0.3333333333333333, \"#9c179e\"], [0.4444444444444444, \"#bd3786\"], [0.5555555555555556, \"#d8576b\"], [0.6666666666666666, \"#ed7953\"], [0.7777777777777778, \"#fb9f3a\"], [0.8888888888888888, \"#fdca26\"], [1.0, \"#f0f921\"]], \"type\": \"heatmap\"}], \"heatmapgl\": [{\"colorbar\": {\"outlinewidth\": 0, \"ticks\": \"\"}, \"colorscale\": [[0.0, \"#0d0887\"], [0.1111111111111111, \"#46039f\"], [0.2222222222222222, \"#7201a8\"], [0.3333333333333333, \"#9c179e\"], [0.4444444444444444, \"#bd3786\"], [0.5555555555555556, \"#d8576b\"], [0.6666666666666666, \"#ed7953\"], [0.7777777777777778, \"#fb9f3a\"], [0.8888888888888888, \"#fdca26\"], [1.0, \"#f0f921\"]], \"type\": \"heatmapgl\"}], \"histogram\": [{\"marker\": {\"colorbar\": {\"outlinewidth\": 0, \"ticks\": \"\"}}, \"type\": \"histogram\"}], \"histogram2d\": [{\"colorbar\": {\"outlinewidth\": 0, \"ticks\": \"\"}, \"colorscale\": [[0.0, \"#0d0887\"], [0.1111111111111111, \"#46039f\"], [0.2222222222222222, \"#7201a8\"], [0.3333333333333333, \"#9c179e\"], [0.4444444444444444, \"#bd3786\"], [0.5555555555555556, \"#d8576b\"], [0.6666666666666666, \"#ed7953\"], [0.7777777777777778, \"#fb9f3a\"], [0.8888888888888888, \"#fdca26\"], [1.0, \"#f0f921\"]], \"type\": \"histogram2d\"}], \"histogram2dcontour\": [{\"colorbar\": {\"outlinewidth\": 0, \"ticks\": \"\"}, \"colorscale\": [[0.0, \"#0d0887\"], [0.1111111111111111, \"#46039f\"], [0.2222222222222222, \"#7201a8\"], [0.3333333333333333, \"#9c179e\"], [0.4444444444444444, \"#bd3786\"], [0.5555555555555556, \"#d8576b\"], [0.6666666666666666, \"#ed7953\"], [0.7777777777777778, \"#fb9f3a\"], [0.8888888888888888, \"#fdca26\"], [1.0, \"#f0f921\"]], \"type\": \"histogram2dcontour\"}], \"mesh3d\": [{\"colorbar\": {\"outlinewidth\": 0, \"ticks\": \"\"}, \"type\": \"mesh3d\"}], \"parcoords\": [{\"line\": {\"colorbar\": {\"outlinewidth\": 0, \"ticks\": \"\"}}, \"type\": \"parcoords\"}], \"pie\": [{\"automargin\": true, \"type\": \"pie\"}], \"scatter\": [{\"marker\": {\"colorbar\": {\"outlinewidth\": 0, \"ticks\": \"\"}}, \"type\": \"scatter\"}], \"scatter3d\": [{\"line\": {\"colorbar\": {\"outlinewidth\": 0, \"ticks\": \"\"}}, \"marker\": {\"colorbar\": {\"outlinewidth\": 0, \"ticks\": \"\"}}, \"type\": \"scatter3d\"}], \"scattercarpet\": [{\"marker\": {\"colorbar\": {\"outlinewidth\": 0, \"ticks\": \"\"}}, \"type\": \"scattercarpet\"}], \"scattergeo\": [{\"marker\": {\"colorbar\": {\"outlinewidth\": 0, \"ticks\": \"\"}}, \"type\": \"scattergeo\"}], \"scattergl\": [{\"marker\": {\"colorbar\": {\"outlinewidth\": 0, \"ticks\": \"\"}}, \"type\": \"scattergl\"}], \"scattermapbox\": [{\"marker\": {\"colorbar\": {\"outlinewidth\": 0, \"ticks\": \"\"}}, \"type\": \"scattermapbox\"}], \"scatterpolar\": [{\"marker\": {\"colorbar\": {\"outlinewidth\": 0, \"ticks\": \"\"}}, \"type\": \"scatterpolar\"}], \"scatterpolargl\": [{\"marker\": {\"colorbar\": {\"outlinewidth\": 0, \"ticks\": \"\"}}, \"type\": \"scatterpolargl\"}], \"scatterternary\": [{\"marker\": {\"colorbar\": {\"outlinewidth\": 0, \"ticks\": \"\"}}, \"type\": \"scatterternary\"}], \"surface\": [{\"colorbar\": {\"outlinewidth\": 0, \"ticks\": \"\"}, \"colorscale\": [[0.0, \"#0d0887\"], [0.1111111111111111, \"#46039f\"], [0.2222222222222222, \"#7201a8\"], [0.3333333333333333, \"#9c179e\"], [0.4444444444444444, \"#bd3786\"], [0.5555555555555556, \"#d8576b\"], [0.6666666666666666, \"#ed7953\"], [0.7777777777777778, \"#fb9f3a\"], [0.8888888888888888, \"#fdca26\"], [1.0, \"#f0f921\"]], \"type\": \"surface\"}], \"table\": [{\"cells\": {\"fill\": {\"color\": \"#EBF0F8\"}, \"line\": {\"color\": \"white\"}}, \"header\": {\"fill\": {\"color\": \"#C8D4E3\"}, \"line\": {\"color\": \"white\"}}, \"type\": \"table\"}]}, \"layout\": {\"annotationdefaults\": {\"arrowcolor\": \"#2a3f5f\", \"arrowhead\": 0, \"arrowwidth\": 1}, \"autotypenumbers\": \"strict\", \"coloraxis\": {\"colorbar\": {\"outlinewidth\": 0, \"ticks\": \"\"}}, \"colorscale\": {\"diverging\": [[0, \"#8e0152\"], [0.1, \"#c51b7d\"], [0.2, \"#de77ae\"], [0.3, \"#f1b6da\"], [0.4, \"#fde0ef\"], [0.5, \"#f7f7f7\"], [0.6, \"#e6f5d0\"], [0.7, \"#b8e186\"], [0.8, \"#7fbc41\"], [0.9, \"#4d9221\"], [1, \"#276419\"]], \"sequential\": [[0.0, \"#0d0887\"], [0.1111111111111111, \"#46039f\"], [0.2222222222222222, \"#7201a8\"], [0.3333333333333333, \"#9c179e\"], [0.4444444444444444, \"#bd3786\"], [0.5555555555555556, \"#d8576b\"], [0.6666666666666666, \"#ed7953\"], [0.7777777777777778, \"#fb9f3a\"], [0.8888888888888888, \"#fdca26\"], [1.0, \"#f0f921\"]], \"sequentialminus\": [[0.0, \"#0d0887\"], [0.1111111111111111, \"#46039f\"], [0.2222222222222222, \"#7201a8\"], [0.3333333333333333, \"#9c179e\"], [0.4444444444444444, \"#bd3786\"], [0.5555555555555556, \"#d8576b\"], [0.6666666666666666, \"#ed7953\"], [0.7777777777777778, \"#fb9f3a\"], [0.8888888888888888, \"#fdca26\"], [1.0, \"#f0f921\"]]}, \"colorway\": [\"#636efa\", \"#EF553B\", \"#00cc96\", \"#ab63fa\", \"#FFA15A\", \"#19d3f3\", \"#FF6692\", \"#B6E880\", \"#FF97FF\", \"#FECB52\"], \"font\": {\"color\": \"#2a3f5f\"}, \"geo\": {\"bgcolor\": \"white\", \"lakecolor\": \"white\", \"landcolor\": \"#E5ECF6\", \"showlakes\": true, \"showland\": true, \"subunitcolor\": \"white\"}, \"hoverlabel\": {\"align\": \"left\"}, \"hovermode\": \"closest\", \"mapbox\": {\"style\": \"light\"}, \"paper_bgcolor\": \"white\", \"plot_bgcolor\": \"#E5ECF6\", \"polar\": {\"angularaxis\": {\"gridcolor\": \"white\", \"linecolor\": \"white\", \"ticks\": \"\"}, \"bgcolor\": \"#E5ECF6\", \"radialaxis\": {\"gridcolor\": \"white\", \"linecolor\": \"white\", \"ticks\": \"\"}}, \"scene\": {\"xaxis\": {\"backgroundcolor\": \"#E5ECF6\", \"gridcolor\": \"white\", \"gridwidth\": 2, \"linecolor\": \"white\", \"showbackground\": true, \"ticks\": \"\", \"zerolinecolor\": \"white\"}, \"yaxis\": {\"backgroundcolor\": \"#E5ECF6\", \"gridcolor\": \"white\", \"gridwidth\": 2, \"linecolor\": \"white\", \"showbackground\": true, \"ticks\": \"\", \"zerolinecolor\": \"white\"}, \"zaxis\": {\"backgroundcolor\": \"#E5ECF6\", \"gridcolor\": \"white\", \"gridwidth\": 2, \"linecolor\": \"white\", \"showbackground\": true, \"ticks\": \"\", \"zerolinecolor\": \"white\"}}, \"shapedefaults\": {\"line\": {\"color\": \"#2a3f5f\"}}, \"ternary\": {\"aaxis\": {\"gridcolor\": \"white\", \"linecolor\": \"white\", \"ticks\": \"\"}, \"baxis\": {\"gridcolor\": \"white\", \"linecolor\": \"white\", \"ticks\": \"\"}, \"bgcolor\": \"#E5ECF6\", \"caxis\": {\"gridcolor\": \"white\", \"linecolor\": \"white\", \"ticks\": \"\"}}, \"title\": {\"x\": 0.05}, \"xaxis\": {\"automargin\": true, \"gridcolor\": \"white\", \"linecolor\": \"white\", \"ticks\": \"\", \"title\": {\"standoff\": 15}, \"zerolinecolor\": \"white\", \"zerolinewidth\": 2}, \"yaxis\": {\"automargin\": true, \"gridcolor\": \"white\", \"linecolor\": \"white\", \"ticks\": \"\", \"title\": {\"standoff\": 15}, \"zerolinecolor\": \"white\", \"zerolinewidth\": 2}}}, \"title\": {\"text\": \"Hourly evolution of glucose levels per day\"}, \"xaxis\": {\"anchor\": \"y\", \"domain\": [0.0, 0.49], \"title\": {\"text\": \"hour\"}}, \"xaxis10\": {\"anchor\": \"y10\", \"domain\": [0.51, 1.0], \"matches\": \"x\", \"showticklabels\": false}, \"xaxis11\": {\"anchor\": \"y11\", \"domain\": [0.0, 0.49], \"matches\": \"x\", \"showticklabels\": false}, \"xaxis12\": {\"anchor\": \"y12\", \"domain\": [0.51, 1.0], \"matches\": \"x\", \"showticklabels\": false}, \"xaxis2\": {\"anchor\": \"y2\", \"domain\": [0.51, 1.0], \"matches\": \"x\", \"title\": {\"text\": \"hour\"}}, \"xaxis3\": {\"anchor\": \"y3\", \"domain\": [0.0, 0.49], \"matches\": \"x\", \"showticklabels\": false}, \"xaxis4\": {\"anchor\": \"y4\", \"domain\": [0.51, 1.0], \"matches\": \"x\", \"showticklabels\": false}, \"xaxis5\": {\"anchor\": \"y5\", \"domain\": [0.0, 0.49], \"matches\": \"x\", \"showticklabels\": false}, \"xaxis6\": {\"anchor\": \"y6\", \"domain\": [0.51, 1.0], \"matches\": \"x\", \"showticklabels\": false}, \"xaxis7\": {\"anchor\": \"y7\", \"domain\": [0.0, 0.49], \"matches\": \"x\", \"showticklabels\": false}, \"xaxis8\": {\"anchor\": \"y8\", \"domain\": [0.51, 1.0], \"matches\": \"x\", \"showticklabels\": false}, \"xaxis9\": {\"anchor\": \"y9\", \"domain\": [0.0, 0.49], \"matches\": \"x\", \"showticklabels\": false}, \"yaxis\": {\"anchor\": \"x\", \"domain\": [0.0, 0.10833333333333331], \"title\": {\"text\": \"glucose\"}}, \"yaxis10\": {\"anchor\": \"x10\", \"domain\": [0.7133333333333333, 0.8216666666666665], \"matches\": \"y\", \"showticklabels\": false}, \"yaxis11\": {\"anchor\": \"x11\", \"domain\": [0.8916666666666666, 0.9999999999999999], \"matches\": \"y\", \"title\": {\"text\": \"glucose\"}}, \"yaxis12\": {\"anchor\": \"x12\", \"domain\": [0.8916666666666666, 0.9999999999999999], \"matches\": \"y\", \"showticklabels\": false}, \"yaxis2\": {\"anchor\": \"x2\", \"domain\": [0.0, 0.10833333333333331], \"matches\": \"y\", \"showticklabels\": false}, \"yaxis3\": {\"anchor\": \"x3\", \"domain\": [0.17833333333333332, 0.2866666666666666], \"matches\": \"y\", \"title\": {\"text\": \"glucose\"}}, \"yaxis4\": {\"anchor\": \"x4\", \"domain\": [0.17833333333333332, 0.2866666666666666], \"matches\": \"y\", \"showticklabels\": false}, \"yaxis5\": {\"anchor\": \"x5\", \"domain\": [0.35666666666666663, 0.46499999999999997], \"matches\": \"y\", \"title\": {\"text\": \"glucose\"}}, \"yaxis6\": {\"anchor\": \"x6\", \"domain\": [0.35666666666666663, 0.46499999999999997], \"matches\": \"y\", \"showticklabels\": false}, \"yaxis7\": {\"anchor\": \"x7\", \"domain\": [0.5349999999999999, 0.6433333333333332], \"matches\": \"y\", \"title\": {\"text\": \"glucose\"}}, \"yaxis8\": {\"anchor\": \"x8\", \"domain\": [0.5349999999999999, 0.6433333333333332], \"matches\": \"y\", \"showticklabels\": false}, \"yaxis9\": {\"anchor\": \"x9\", \"domain\": [0.7133333333333333, 0.8216666666666665], \"matches\": \"y\", \"title\": {\"text\": \"glucose\"}}},                        {\"responsive\": true}                    ).then(function(){\n",
       "                            \n",
       "var gd = document.getElementById('995a4788-1f0b-4065-bf82-37c2df29ba2b');\n",
       "var x = new MutationObserver(function (mutations, observer) {{\n",
       "        var display = window.getComputedStyle(gd).display;\n",
       "        if (!display || display === 'none') {{\n",
       "            console.log([gd, 'removed!']);\n",
       "            Plotly.purge(gd);\n",
       "            observer.disconnect();\n",
       "        }}\n",
       "}});\n",
       "\n",
       "// Listen for the removal of the full notebook cells\n",
       "var notebookContainer = gd.closest('#notebook-container');\n",
       "if (notebookContainer) {{\n",
       "    x.observe(notebookContainer, {childList: true});\n",
       "}}\n",
       "\n",
       "// Listen for the clearing of the current output cell\n",
       "var outputEl = gd.closest('.output');\n",
       "if (outputEl) {{\n",
       "    x.observe(outputEl, {childList: true});\n",
       "}}\n",
       "\n",
       "                        })                };                });            </script>        </div>"
      ]
     },
     "metadata": {},
     "output_type": "display_data"
    }
   ],
   "source": [
    "df = df_levels_clean[df_levels_clean['user_id']==create_customer('a')].sort_values(by='timestamp')\n",
    "df['day'] = df['timestamp'].dt.day\n",
    "df['hour'] = df['timestamp'].dt.hour\n",
    "df['glucose'] = df['Glukosewert-Verlauf mg/dL']\n",
    "\n",
    "fig = px.line(df, x='hour', y=\"glucose\", \n",
    "             facet_col=\"day\", facet_col_wrap=2,\n",
    "             title=\"Hourly evolution of glucose levels per day\")\n",
    "fig.show()"
   ]
  },
  {
   "cell_type": "markdown",
   "metadata": {},
   "source": [
    "- Glucose levels ranged between 53 and 162 mg/dl for user 'a'\n",
    "- Althought we are able to see a general trend of 3 spikes a day that should correspod to the periods after the 3 major meals, it is also possible to observe differences in glucose levels variability across days. For example, on the 20th and 22th the night peak seems less steep when compared to days 16 or 18. Would be interesting to explore what changed in terms of meals on those dates.\n",
    "- Since the days for which we have meal data (15, 17 and 19) seem to show a similar pattern in glucose variability, we would expect that the meal composition and schedule would also be similar on those days"
   ]
  },
  {
   "cell_type": "markdown",
   "metadata": {},
   "source": [
    "#### Are there differences in the impact of differnet meal types on glucose levels?"
   ]
  },
  {
   "cell_type": "code",
   "execution_count": 350,
   "metadata": {},
   "outputs": [
    {
     "data": {
      "application/vnd.plotly.v1+json": {
       "config": {
        "plotlyServerURL": "https://plot.ly"
       },
       "data": [
        {
         "alignmentgroup": "True",
         "hovertemplate": "Type of measurement=Before the meal<br>Meal type=%{x}<br>Glucose level=%{y}<extra></extra>",
         "legendgroup": "Before the meal",
         "marker": {
          "color": "#636efa"
         },
         "name": "Before the meal",
         "notched": false,
         "offsetgroup": "Before the meal",
         "orientation": "v",
         "showlegend": true,
         "type": "box",
         "x": [
          "MEAL_BREAKFAST",
          "MEAL_LUNCH",
          "MEAL_SNACK",
          "MEAL_DINNER",
          "MEAL_BREAKFAST",
          "MEAL_LUNCH",
          "MEAL_DINNER",
          "MEAL_BREAKFAST",
          "MEAL_LUNCH",
          "MEAL_SNACK",
          "MEAL_DINNER"
         ],
         "x0": " ",
         "xaxis": "x",
         "y": [
          80,
          83,
          73,
          73,
          78,
          83,
          82,
          81,
          76,
          87,
          82
         ],
         "y0": " ",
         "yaxis": "y"
        },
        {
         "alignmentgroup": "True",
         "hovertemplate": "Type of measurement=Max in 3h after meal<br>Meal type=%{x}<br>Glucose level=%{y}<extra></extra>",
         "legendgroup": "Max in 3h after meal",
         "marker": {
          "color": "#EF553B"
         },
         "name": "Max in 3h after meal",
         "notched": false,
         "offsetgroup": "Max in 3h after meal",
         "orientation": "v",
         "showlegend": true,
         "type": "box",
         "x": [
          "MEAL_BREAKFAST",
          "MEAL_LUNCH",
          "MEAL_SNACK",
          "MEAL_DINNER",
          "MEAL_BREAKFAST",
          "MEAL_LUNCH",
          "MEAL_DINNER",
          "MEAL_BREAKFAST",
          "MEAL_LUNCH",
          "MEAL_SNACK",
          "MEAL_DINNER"
         ],
         "x0": " ",
         "xaxis": "x",
         "y": [
          109,
          121,
          102,
          101,
          108,
          116,
          117,
          109,
          111,
          92,
          125
         ],
         "y0": " ",
         "yaxis": "y"
        }
       ],
       "layout": {
        "boxmode": "group",
        "legend": {
         "title": {
          "text": "Type of measurement"
         },
         "tracegroupgap": 0
        },
        "template": {
         "data": {
          "bar": [
           {
            "error_x": {
             "color": "#2a3f5f"
            },
            "error_y": {
             "color": "#2a3f5f"
            },
            "marker": {
             "line": {
              "color": "#E5ECF6",
              "width": 0.5
             }
            },
            "type": "bar"
           }
          ],
          "barpolar": [
           {
            "marker": {
             "line": {
              "color": "#E5ECF6",
              "width": 0.5
             }
            },
            "type": "barpolar"
           }
          ],
          "carpet": [
           {
            "aaxis": {
             "endlinecolor": "#2a3f5f",
             "gridcolor": "white",
             "linecolor": "white",
             "minorgridcolor": "white",
             "startlinecolor": "#2a3f5f"
            },
            "baxis": {
             "endlinecolor": "#2a3f5f",
             "gridcolor": "white",
             "linecolor": "white",
             "minorgridcolor": "white",
             "startlinecolor": "#2a3f5f"
            },
            "type": "carpet"
           }
          ],
          "choropleth": [
           {
            "colorbar": {
             "outlinewidth": 0,
             "ticks": ""
            },
            "type": "choropleth"
           }
          ],
          "contour": [
           {
            "colorbar": {
             "outlinewidth": 0,
             "ticks": ""
            },
            "colorscale": [
             [
              0,
              "#0d0887"
             ],
             [
              0.1111111111111111,
              "#46039f"
             ],
             [
              0.2222222222222222,
              "#7201a8"
             ],
             [
              0.3333333333333333,
              "#9c179e"
             ],
             [
              0.4444444444444444,
              "#bd3786"
             ],
             [
              0.5555555555555556,
              "#d8576b"
             ],
             [
              0.6666666666666666,
              "#ed7953"
             ],
             [
              0.7777777777777778,
              "#fb9f3a"
             ],
             [
              0.8888888888888888,
              "#fdca26"
             ],
             [
              1,
              "#f0f921"
             ]
            ],
            "type": "contour"
           }
          ],
          "contourcarpet": [
           {
            "colorbar": {
             "outlinewidth": 0,
             "ticks": ""
            },
            "type": "contourcarpet"
           }
          ],
          "heatmap": [
           {
            "colorbar": {
             "outlinewidth": 0,
             "ticks": ""
            },
            "colorscale": [
             [
              0,
              "#0d0887"
             ],
             [
              0.1111111111111111,
              "#46039f"
             ],
             [
              0.2222222222222222,
              "#7201a8"
             ],
             [
              0.3333333333333333,
              "#9c179e"
             ],
             [
              0.4444444444444444,
              "#bd3786"
             ],
             [
              0.5555555555555556,
              "#d8576b"
             ],
             [
              0.6666666666666666,
              "#ed7953"
             ],
             [
              0.7777777777777778,
              "#fb9f3a"
             ],
             [
              0.8888888888888888,
              "#fdca26"
             ],
             [
              1,
              "#f0f921"
             ]
            ],
            "type": "heatmap"
           }
          ],
          "heatmapgl": [
           {
            "colorbar": {
             "outlinewidth": 0,
             "ticks": ""
            },
            "colorscale": [
             [
              0,
              "#0d0887"
             ],
             [
              0.1111111111111111,
              "#46039f"
             ],
             [
              0.2222222222222222,
              "#7201a8"
             ],
             [
              0.3333333333333333,
              "#9c179e"
             ],
             [
              0.4444444444444444,
              "#bd3786"
             ],
             [
              0.5555555555555556,
              "#d8576b"
             ],
             [
              0.6666666666666666,
              "#ed7953"
             ],
             [
              0.7777777777777778,
              "#fb9f3a"
             ],
             [
              0.8888888888888888,
              "#fdca26"
             ],
             [
              1,
              "#f0f921"
             ]
            ],
            "type": "heatmapgl"
           }
          ],
          "histogram": [
           {
            "marker": {
             "colorbar": {
              "outlinewidth": 0,
              "ticks": ""
             }
            },
            "type": "histogram"
           }
          ],
          "histogram2d": [
           {
            "colorbar": {
             "outlinewidth": 0,
             "ticks": ""
            },
            "colorscale": [
             [
              0,
              "#0d0887"
             ],
             [
              0.1111111111111111,
              "#46039f"
             ],
             [
              0.2222222222222222,
              "#7201a8"
             ],
             [
              0.3333333333333333,
              "#9c179e"
             ],
             [
              0.4444444444444444,
              "#bd3786"
             ],
             [
              0.5555555555555556,
              "#d8576b"
             ],
             [
              0.6666666666666666,
              "#ed7953"
             ],
             [
              0.7777777777777778,
              "#fb9f3a"
             ],
             [
              0.8888888888888888,
              "#fdca26"
             ],
             [
              1,
              "#f0f921"
             ]
            ],
            "type": "histogram2d"
           }
          ],
          "histogram2dcontour": [
           {
            "colorbar": {
             "outlinewidth": 0,
             "ticks": ""
            },
            "colorscale": [
             [
              0,
              "#0d0887"
             ],
             [
              0.1111111111111111,
              "#46039f"
             ],
             [
              0.2222222222222222,
              "#7201a8"
             ],
             [
              0.3333333333333333,
              "#9c179e"
             ],
             [
              0.4444444444444444,
              "#bd3786"
             ],
             [
              0.5555555555555556,
              "#d8576b"
             ],
             [
              0.6666666666666666,
              "#ed7953"
             ],
             [
              0.7777777777777778,
              "#fb9f3a"
             ],
             [
              0.8888888888888888,
              "#fdca26"
             ],
             [
              1,
              "#f0f921"
             ]
            ],
            "type": "histogram2dcontour"
           }
          ],
          "mesh3d": [
           {
            "colorbar": {
             "outlinewidth": 0,
             "ticks": ""
            },
            "type": "mesh3d"
           }
          ],
          "parcoords": [
           {
            "line": {
             "colorbar": {
              "outlinewidth": 0,
              "ticks": ""
             }
            },
            "type": "parcoords"
           }
          ],
          "pie": [
           {
            "automargin": true,
            "type": "pie"
           }
          ],
          "scatter": [
           {
            "marker": {
             "colorbar": {
              "outlinewidth": 0,
              "ticks": ""
             }
            },
            "type": "scatter"
           }
          ],
          "scatter3d": [
           {
            "line": {
             "colorbar": {
              "outlinewidth": 0,
              "ticks": ""
             }
            },
            "marker": {
             "colorbar": {
              "outlinewidth": 0,
              "ticks": ""
             }
            },
            "type": "scatter3d"
           }
          ],
          "scattercarpet": [
           {
            "marker": {
             "colorbar": {
              "outlinewidth": 0,
              "ticks": ""
             }
            },
            "type": "scattercarpet"
           }
          ],
          "scattergeo": [
           {
            "marker": {
             "colorbar": {
              "outlinewidth": 0,
              "ticks": ""
             }
            },
            "type": "scattergeo"
           }
          ],
          "scattergl": [
           {
            "marker": {
             "colorbar": {
              "outlinewidth": 0,
              "ticks": ""
             }
            },
            "type": "scattergl"
           }
          ],
          "scattermapbox": [
           {
            "marker": {
             "colorbar": {
              "outlinewidth": 0,
              "ticks": ""
             }
            },
            "type": "scattermapbox"
           }
          ],
          "scatterpolar": [
           {
            "marker": {
             "colorbar": {
              "outlinewidth": 0,
              "ticks": ""
             }
            },
            "type": "scatterpolar"
           }
          ],
          "scatterpolargl": [
           {
            "marker": {
             "colorbar": {
              "outlinewidth": 0,
              "ticks": ""
             }
            },
            "type": "scatterpolargl"
           }
          ],
          "scatterternary": [
           {
            "marker": {
             "colorbar": {
              "outlinewidth": 0,
              "ticks": ""
             }
            },
            "type": "scatterternary"
           }
          ],
          "surface": [
           {
            "colorbar": {
             "outlinewidth": 0,
             "ticks": ""
            },
            "colorscale": [
             [
              0,
              "#0d0887"
             ],
             [
              0.1111111111111111,
              "#46039f"
             ],
             [
              0.2222222222222222,
              "#7201a8"
             ],
             [
              0.3333333333333333,
              "#9c179e"
             ],
             [
              0.4444444444444444,
              "#bd3786"
             ],
             [
              0.5555555555555556,
              "#d8576b"
             ],
             [
              0.6666666666666666,
              "#ed7953"
             ],
             [
              0.7777777777777778,
              "#fb9f3a"
             ],
             [
              0.8888888888888888,
              "#fdca26"
             ],
             [
              1,
              "#f0f921"
             ]
            ],
            "type": "surface"
           }
          ],
          "table": [
           {
            "cells": {
             "fill": {
              "color": "#EBF0F8"
             },
             "line": {
              "color": "white"
             }
            },
            "header": {
             "fill": {
              "color": "#C8D4E3"
             },
             "line": {
              "color": "white"
             }
            },
            "type": "table"
           }
          ]
         },
         "layout": {
          "annotationdefaults": {
           "arrowcolor": "#2a3f5f",
           "arrowhead": 0,
           "arrowwidth": 1
          },
          "autotypenumbers": "strict",
          "coloraxis": {
           "colorbar": {
            "outlinewidth": 0,
            "ticks": ""
           }
          },
          "colorscale": {
           "diverging": [
            [
             0,
             "#8e0152"
            ],
            [
             0.1,
             "#c51b7d"
            ],
            [
             0.2,
             "#de77ae"
            ],
            [
             0.3,
             "#f1b6da"
            ],
            [
             0.4,
             "#fde0ef"
            ],
            [
             0.5,
             "#f7f7f7"
            ],
            [
             0.6,
             "#e6f5d0"
            ],
            [
             0.7,
             "#b8e186"
            ],
            [
             0.8,
             "#7fbc41"
            ],
            [
             0.9,
             "#4d9221"
            ],
            [
             1,
             "#276419"
            ]
           ],
           "sequential": [
            [
             0,
             "#0d0887"
            ],
            [
             0.1111111111111111,
             "#46039f"
            ],
            [
             0.2222222222222222,
             "#7201a8"
            ],
            [
             0.3333333333333333,
             "#9c179e"
            ],
            [
             0.4444444444444444,
             "#bd3786"
            ],
            [
             0.5555555555555556,
             "#d8576b"
            ],
            [
             0.6666666666666666,
             "#ed7953"
            ],
            [
             0.7777777777777778,
             "#fb9f3a"
            ],
            [
             0.8888888888888888,
             "#fdca26"
            ],
            [
             1,
             "#f0f921"
            ]
           ],
           "sequentialminus": [
            [
             0,
             "#0d0887"
            ],
            [
             0.1111111111111111,
             "#46039f"
            ],
            [
             0.2222222222222222,
             "#7201a8"
            ],
            [
             0.3333333333333333,
             "#9c179e"
            ],
            [
             0.4444444444444444,
             "#bd3786"
            ],
            [
             0.5555555555555556,
             "#d8576b"
            ],
            [
             0.6666666666666666,
             "#ed7953"
            ],
            [
             0.7777777777777778,
             "#fb9f3a"
            ],
            [
             0.8888888888888888,
             "#fdca26"
            ],
            [
             1,
             "#f0f921"
            ]
           ]
          },
          "colorway": [
           "#636efa",
           "#EF553B",
           "#00cc96",
           "#ab63fa",
           "#FFA15A",
           "#19d3f3",
           "#FF6692",
           "#B6E880",
           "#FF97FF",
           "#FECB52"
          ],
          "font": {
           "color": "#2a3f5f"
          },
          "geo": {
           "bgcolor": "white",
           "lakecolor": "white",
           "landcolor": "#E5ECF6",
           "showlakes": true,
           "showland": true,
           "subunitcolor": "white"
          },
          "hoverlabel": {
           "align": "left"
          },
          "hovermode": "closest",
          "mapbox": {
           "style": "light"
          },
          "paper_bgcolor": "white",
          "plot_bgcolor": "#E5ECF6",
          "polar": {
           "angularaxis": {
            "gridcolor": "white",
            "linecolor": "white",
            "ticks": ""
           },
           "bgcolor": "#E5ECF6",
           "radialaxis": {
            "gridcolor": "white",
            "linecolor": "white",
            "ticks": ""
           }
          },
          "scene": {
           "xaxis": {
            "backgroundcolor": "#E5ECF6",
            "gridcolor": "white",
            "gridwidth": 2,
            "linecolor": "white",
            "showbackground": true,
            "ticks": "",
            "zerolinecolor": "white"
           },
           "yaxis": {
            "backgroundcolor": "#E5ECF6",
            "gridcolor": "white",
            "gridwidth": 2,
            "linecolor": "white",
            "showbackground": true,
            "ticks": "",
            "zerolinecolor": "white"
           },
           "zaxis": {
            "backgroundcolor": "#E5ECF6",
            "gridcolor": "white",
            "gridwidth": 2,
            "linecolor": "white",
            "showbackground": true,
            "ticks": "",
            "zerolinecolor": "white"
           }
          },
          "shapedefaults": {
           "line": {
            "color": "#2a3f5f"
           }
          },
          "ternary": {
           "aaxis": {
            "gridcolor": "white",
            "linecolor": "white",
            "ticks": ""
           },
           "baxis": {
            "gridcolor": "white",
            "linecolor": "white",
            "ticks": ""
           },
           "bgcolor": "#E5ECF6",
           "caxis": {
            "gridcolor": "white",
            "linecolor": "white",
            "ticks": ""
           }
          },
          "title": {
           "x": 0.05
          },
          "xaxis": {
           "automargin": true,
           "gridcolor": "white",
           "linecolor": "white",
           "ticks": "",
           "title": {
            "standoff": 15
           },
           "zerolinecolor": "white",
           "zerolinewidth": 2
          },
          "yaxis": {
           "automargin": true,
           "gridcolor": "white",
           "linecolor": "white",
           "ticks": "",
           "title": {
            "standoff": 15
           },
           "zerolinecolor": "white",
           "zerolinewidth": 2
          }
         }
        },
        "title": {
         "text": "Distribution of glucose levels before and after meal by meal type"
        },
        "xaxis": {
         "anchor": "y",
         "domain": [
          0,
          1
         ],
         "title": {
          "text": "Meal type"
         }
        },
        "yaxis": {
         "anchor": "x",
         "domain": [
          0,
          1
         ],
         "title": {
          "text": "Glucose level"
         }
        }
       }
      },
      "text/html": [
       "<div>                            <div id=\"48c986b3-810c-41de-a533-1b84230a4347\" class=\"plotly-graph-div\" style=\"height:525px; width:100%;\"></div>            <script type=\"text/javascript\">                require([\"plotly\"], function(Plotly) {                    window.PLOTLYENV=window.PLOTLYENV || {};                                    if (document.getElementById(\"48c986b3-810c-41de-a533-1b84230a4347\")) {                    Plotly.newPlot(                        \"48c986b3-810c-41de-a533-1b84230a4347\",                        [{\"alignmentgroup\": \"True\", \"hovertemplate\": \"Type of measurement=Before the meal<br>Meal type=%{x}<br>Glucose level=%{y}<extra></extra>\", \"legendgroup\": \"Before the meal\", \"marker\": {\"color\": \"#636efa\"}, \"name\": \"Before the meal\", \"notched\": false, \"offsetgroup\": \"Before the meal\", \"orientation\": \"v\", \"showlegend\": true, \"type\": \"box\", \"x\": [\"MEAL_BREAKFAST\", \"MEAL_LUNCH\", \"MEAL_SNACK\", \"MEAL_DINNER\", \"MEAL_BREAKFAST\", \"MEAL_LUNCH\", \"MEAL_DINNER\", \"MEAL_BREAKFAST\", \"MEAL_LUNCH\", \"MEAL_SNACK\", \"MEAL_DINNER\"], \"x0\": \" \", \"xaxis\": \"x\", \"y\": [80.0, 83.0, 73.0, 73.0, 78.0, 83.0, 82.0, 81.0, 76.0, 87.0, 82.0], \"y0\": \" \", \"yaxis\": \"y\"}, {\"alignmentgroup\": \"True\", \"hovertemplate\": \"Type of measurement=Max in 3h after meal<br>Meal type=%{x}<br>Glucose level=%{y}<extra></extra>\", \"legendgroup\": \"Max in 3h after meal\", \"marker\": {\"color\": \"#EF553B\"}, \"name\": \"Max in 3h after meal\", \"notched\": false, \"offsetgroup\": \"Max in 3h after meal\", \"orientation\": \"v\", \"showlegend\": true, \"type\": \"box\", \"x\": [\"MEAL_BREAKFAST\", \"MEAL_LUNCH\", \"MEAL_SNACK\", \"MEAL_DINNER\", \"MEAL_BREAKFAST\", \"MEAL_LUNCH\", \"MEAL_DINNER\", \"MEAL_BREAKFAST\", \"MEAL_LUNCH\", \"MEAL_SNACK\", \"MEAL_DINNER\"], \"x0\": \" \", \"xaxis\": \"x\", \"y\": [109.0, 121.0, 102.0, 101.0, 108.0, 116.0, 117.0, 109.0, 111.0, 92.0, 125.0], \"y0\": \" \", \"yaxis\": \"y\"}],                        {\"boxmode\": \"group\", \"legend\": {\"title\": {\"text\": \"Type of measurement\"}, \"tracegroupgap\": 0}, \"template\": {\"data\": {\"bar\": [{\"error_x\": {\"color\": \"#2a3f5f\"}, \"error_y\": {\"color\": \"#2a3f5f\"}, \"marker\": {\"line\": {\"color\": \"#E5ECF6\", \"width\": 0.5}}, \"type\": \"bar\"}], \"barpolar\": [{\"marker\": {\"line\": {\"color\": \"#E5ECF6\", \"width\": 0.5}}, \"type\": \"barpolar\"}], \"carpet\": [{\"aaxis\": {\"endlinecolor\": \"#2a3f5f\", \"gridcolor\": \"white\", \"linecolor\": \"white\", \"minorgridcolor\": \"white\", \"startlinecolor\": \"#2a3f5f\"}, \"baxis\": {\"endlinecolor\": \"#2a3f5f\", \"gridcolor\": \"white\", \"linecolor\": \"white\", \"minorgridcolor\": \"white\", \"startlinecolor\": \"#2a3f5f\"}, \"type\": \"carpet\"}], \"choropleth\": [{\"colorbar\": {\"outlinewidth\": 0, \"ticks\": \"\"}, \"type\": \"choropleth\"}], \"contour\": [{\"colorbar\": {\"outlinewidth\": 0, \"ticks\": \"\"}, \"colorscale\": [[0.0, \"#0d0887\"], [0.1111111111111111, \"#46039f\"], [0.2222222222222222, \"#7201a8\"], [0.3333333333333333, \"#9c179e\"], [0.4444444444444444, \"#bd3786\"], [0.5555555555555556, \"#d8576b\"], [0.6666666666666666, \"#ed7953\"], [0.7777777777777778, \"#fb9f3a\"], [0.8888888888888888, \"#fdca26\"], [1.0, \"#f0f921\"]], \"type\": \"contour\"}], \"contourcarpet\": [{\"colorbar\": {\"outlinewidth\": 0, \"ticks\": \"\"}, \"type\": \"contourcarpet\"}], \"heatmap\": [{\"colorbar\": {\"outlinewidth\": 0, \"ticks\": \"\"}, \"colorscale\": [[0.0, \"#0d0887\"], [0.1111111111111111, \"#46039f\"], [0.2222222222222222, \"#7201a8\"], [0.3333333333333333, \"#9c179e\"], [0.4444444444444444, \"#bd3786\"], [0.5555555555555556, \"#d8576b\"], [0.6666666666666666, \"#ed7953\"], [0.7777777777777778, \"#fb9f3a\"], [0.8888888888888888, \"#fdca26\"], [1.0, \"#f0f921\"]], \"type\": \"heatmap\"}], \"heatmapgl\": [{\"colorbar\": {\"outlinewidth\": 0, \"ticks\": \"\"}, \"colorscale\": [[0.0, \"#0d0887\"], [0.1111111111111111, \"#46039f\"], [0.2222222222222222, \"#7201a8\"], [0.3333333333333333, \"#9c179e\"], [0.4444444444444444, \"#bd3786\"], [0.5555555555555556, \"#d8576b\"], [0.6666666666666666, \"#ed7953\"], [0.7777777777777778, \"#fb9f3a\"], [0.8888888888888888, \"#fdca26\"], [1.0, \"#f0f921\"]], \"type\": \"heatmapgl\"}], \"histogram\": [{\"marker\": {\"colorbar\": {\"outlinewidth\": 0, \"ticks\": \"\"}}, \"type\": \"histogram\"}], \"histogram2d\": [{\"colorbar\": {\"outlinewidth\": 0, \"ticks\": \"\"}, \"colorscale\": [[0.0, \"#0d0887\"], [0.1111111111111111, \"#46039f\"], [0.2222222222222222, \"#7201a8\"], [0.3333333333333333, \"#9c179e\"], [0.4444444444444444, \"#bd3786\"], [0.5555555555555556, \"#d8576b\"], [0.6666666666666666, \"#ed7953\"], [0.7777777777777778, \"#fb9f3a\"], [0.8888888888888888, \"#fdca26\"], [1.0, \"#f0f921\"]], \"type\": \"histogram2d\"}], \"histogram2dcontour\": [{\"colorbar\": {\"outlinewidth\": 0, \"ticks\": \"\"}, \"colorscale\": [[0.0, \"#0d0887\"], [0.1111111111111111, \"#46039f\"], [0.2222222222222222, \"#7201a8\"], [0.3333333333333333, \"#9c179e\"], [0.4444444444444444, \"#bd3786\"], [0.5555555555555556, \"#d8576b\"], [0.6666666666666666, \"#ed7953\"], [0.7777777777777778, \"#fb9f3a\"], [0.8888888888888888, \"#fdca26\"], [1.0, \"#f0f921\"]], \"type\": \"histogram2dcontour\"}], \"mesh3d\": [{\"colorbar\": {\"outlinewidth\": 0, \"ticks\": \"\"}, \"type\": \"mesh3d\"}], \"parcoords\": [{\"line\": {\"colorbar\": {\"outlinewidth\": 0, \"ticks\": \"\"}}, \"type\": \"parcoords\"}], \"pie\": [{\"automargin\": true, \"type\": \"pie\"}], \"scatter\": [{\"marker\": {\"colorbar\": {\"outlinewidth\": 0, \"ticks\": \"\"}}, \"type\": \"scatter\"}], \"scatter3d\": [{\"line\": {\"colorbar\": {\"outlinewidth\": 0, \"ticks\": \"\"}}, \"marker\": {\"colorbar\": {\"outlinewidth\": 0, \"ticks\": \"\"}}, \"type\": \"scatter3d\"}], \"scattercarpet\": [{\"marker\": {\"colorbar\": {\"outlinewidth\": 0, \"ticks\": \"\"}}, \"type\": \"scattercarpet\"}], \"scattergeo\": [{\"marker\": {\"colorbar\": {\"outlinewidth\": 0, \"ticks\": \"\"}}, \"type\": \"scattergeo\"}], \"scattergl\": [{\"marker\": {\"colorbar\": {\"outlinewidth\": 0, \"ticks\": \"\"}}, \"type\": \"scattergl\"}], \"scattermapbox\": [{\"marker\": {\"colorbar\": {\"outlinewidth\": 0, \"ticks\": \"\"}}, \"type\": \"scattermapbox\"}], \"scatterpolar\": [{\"marker\": {\"colorbar\": {\"outlinewidth\": 0, \"ticks\": \"\"}}, \"type\": \"scatterpolar\"}], \"scatterpolargl\": [{\"marker\": {\"colorbar\": {\"outlinewidth\": 0, \"ticks\": \"\"}}, \"type\": \"scatterpolargl\"}], \"scatterternary\": [{\"marker\": {\"colorbar\": {\"outlinewidth\": 0, \"ticks\": \"\"}}, \"type\": \"scatterternary\"}], \"surface\": [{\"colorbar\": {\"outlinewidth\": 0, \"ticks\": \"\"}, \"colorscale\": [[0.0, \"#0d0887\"], [0.1111111111111111, \"#46039f\"], [0.2222222222222222, \"#7201a8\"], [0.3333333333333333, \"#9c179e\"], [0.4444444444444444, \"#bd3786\"], [0.5555555555555556, \"#d8576b\"], [0.6666666666666666, \"#ed7953\"], [0.7777777777777778, \"#fb9f3a\"], [0.8888888888888888, \"#fdca26\"], [1.0, \"#f0f921\"]], \"type\": \"surface\"}], \"table\": [{\"cells\": {\"fill\": {\"color\": \"#EBF0F8\"}, \"line\": {\"color\": \"white\"}}, \"header\": {\"fill\": {\"color\": \"#C8D4E3\"}, \"line\": {\"color\": \"white\"}}, \"type\": \"table\"}]}, \"layout\": {\"annotationdefaults\": {\"arrowcolor\": \"#2a3f5f\", \"arrowhead\": 0, \"arrowwidth\": 1}, \"autotypenumbers\": \"strict\", \"coloraxis\": {\"colorbar\": {\"outlinewidth\": 0, \"ticks\": \"\"}}, \"colorscale\": {\"diverging\": [[0, \"#8e0152\"], [0.1, \"#c51b7d\"], [0.2, \"#de77ae\"], [0.3, \"#f1b6da\"], [0.4, \"#fde0ef\"], [0.5, \"#f7f7f7\"], [0.6, \"#e6f5d0\"], [0.7, \"#b8e186\"], [0.8, \"#7fbc41\"], [0.9, \"#4d9221\"], [1, \"#276419\"]], \"sequential\": [[0.0, \"#0d0887\"], [0.1111111111111111, \"#46039f\"], [0.2222222222222222, \"#7201a8\"], [0.3333333333333333, \"#9c179e\"], [0.4444444444444444, \"#bd3786\"], [0.5555555555555556, \"#d8576b\"], [0.6666666666666666, \"#ed7953\"], [0.7777777777777778, \"#fb9f3a\"], [0.8888888888888888, \"#fdca26\"], [1.0, \"#f0f921\"]], \"sequentialminus\": [[0.0, \"#0d0887\"], [0.1111111111111111, \"#46039f\"], [0.2222222222222222, \"#7201a8\"], [0.3333333333333333, \"#9c179e\"], [0.4444444444444444, \"#bd3786\"], [0.5555555555555556, \"#d8576b\"], [0.6666666666666666, \"#ed7953\"], [0.7777777777777778, \"#fb9f3a\"], [0.8888888888888888, \"#fdca26\"], [1.0, \"#f0f921\"]]}, \"colorway\": [\"#636efa\", \"#EF553B\", \"#00cc96\", \"#ab63fa\", \"#FFA15A\", \"#19d3f3\", \"#FF6692\", \"#B6E880\", \"#FF97FF\", \"#FECB52\"], \"font\": {\"color\": \"#2a3f5f\"}, \"geo\": {\"bgcolor\": \"white\", \"lakecolor\": \"white\", \"landcolor\": \"#E5ECF6\", \"showlakes\": true, \"showland\": true, \"subunitcolor\": \"white\"}, \"hoverlabel\": {\"align\": \"left\"}, \"hovermode\": \"closest\", \"mapbox\": {\"style\": \"light\"}, \"paper_bgcolor\": \"white\", \"plot_bgcolor\": \"#E5ECF6\", \"polar\": {\"angularaxis\": {\"gridcolor\": \"white\", \"linecolor\": \"white\", \"ticks\": \"\"}, \"bgcolor\": \"#E5ECF6\", \"radialaxis\": {\"gridcolor\": \"white\", \"linecolor\": \"white\", \"ticks\": \"\"}}, \"scene\": {\"xaxis\": {\"backgroundcolor\": \"#E5ECF6\", \"gridcolor\": \"white\", \"gridwidth\": 2, \"linecolor\": \"white\", \"showbackground\": true, \"ticks\": \"\", \"zerolinecolor\": \"white\"}, \"yaxis\": {\"backgroundcolor\": \"#E5ECF6\", \"gridcolor\": \"white\", \"gridwidth\": 2, \"linecolor\": \"white\", \"showbackground\": true, \"ticks\": \"\", \"zerolinecolor\": \"white\"}, \"zaxis\": {\"backgroundcolor\": \"#E5ECF6\", \"gridcolor\": \"white\", \"gridwidth\": 2, \"linecolor\": \"white\", \"showbackground\": true, \"ticks\": \"\", \"zerolinecolor\": \"white\"}}, \"shapedefaults\": {\"line\": {\"color\": \"#2a3f5f\"}}, \"ternary\": {\"aaxis\": {\"gridcolor\": \"white\", \"linecolor\": \"white\", \"ticks\": \"\"}, \"baxis\": {\"gridcolor\": \"white\", \"linecolor\": \"white\", \"ticks\": \"\"}, \"bgcolor\": \"#E5ECF6\", \"caxis\": {\"gridcolor\": \"white\", \"linecolor\": \"white\", \"ticks\": \"\"}}, \"title\": {\"x\": 0.05}, \"xaxis\": {\"automargin\": true, \"gridcolor\": \"white\", \"linecolor\": \"white\", \"ticks\": \"\", \"title\": {\"standoff\": 15}, \"zerolinecolor\": \"white\", \"zerolinewidth\": 2}, \"yaxis\": {\"automargin\": true, \"gridcolor\": \"white\", \"linecolor\": \"white\", \"ticks\": \"\", \"title\": {\"standoff\": 15}, \"zerolinecolor\": \"white\", \"zerolinewidth\": 2}}}, \"title\": {\"text\": \"Distribution of glucose levels before and after meal by meal type\"}, \"xaxis\": {\"anchor\": \"y\", \"domain\": [0.0, 1.0], \"title\": {\"text\": \"Meal type\"}}, \"yaxis\": {\"anchor\": \"x\", \"domain\": [0.0, 1.0], \"title\": {\"text\": \"Glucose level\"}}},                        {\"responsive\": true}                    ).then(function(){\n",
       "                            \n",
       "var gd = document.getElementById('48c986b3-810c-41de-a533-1b84230a4347');\n",
       "var x = new MutationObserver(function (mutations, observer) {{\n",
       "        var display = window.getComputedStyle(gd).display;\n",
       "        if (!display || display === 'none') {{\n",
       "            console.log([gd, 'removed!']);\n",
       "            Plotly.purge(gd);\n",
       "            observer.disconnect();\n",
       "        }}\n",
       "}});\n",
       "\n",
       "// Listen for the removal of the full notebook cells\n",
       "var notebookContainer = gd.closest('#notebook-container');\n",
       "if (notebookContainer) {{\n",
       "    x.observe(notebookContainer, {childList: true});\n",
       "}}\n",
       "\n",
       "// Listen for the clearing of the current output cell\n",
       "var outputEl = gd.closest('.output');\n",
       "if (outputEl) {{\n",
       "    x.observe(outputEl, {childList: true});\n",
       "}}\n",
       "\n",
       "                        })                };                });            </script>        </div>"
      ]
     },
     "metadata": {},
     "output_type": "display_data"
    }
   ],
   "source": [
    "df = pd.melt(df_activities_ready[df_activities_ready['user_id']==create_customer('a')], \n",
    "             id_vars=['user_id', 'record_type', 'timestamp_start'], value_vars=['glucose_start', 'glucose_after'])\n",
    "\n",
    "df['Glucose level'] = df['value']\n",
    "df['Meal type'] = df['record_type']\n",
    "df['Type of measurement'] = df['variable'].apply(lambda x: 'Before the meal' if x=='glucose_start' else 'Max in 3h after meal')\n",
    "\n",
    "fig = px.box(df, x=\"Meal type\", y=\"Glucose level\", color=\"Type of measurement\",\n",
    "             title=\"Distribution of glucose levels before and after meal by meal type\",\n",
    "            )\n",
    "fig.show()"
   ]
  },
  {
   "cell_type": "markdown",
   "metadata": {},
   "source": [
    "- Glucose levels both before and after a meal seem to be more consistent in the morning.\n",
    "- After dinner glucose levels seem to show the greatest variability inthe period analyzed.\n",
    "- Snacks seem to have the least impact on glucose levels for this user."
   ]
  },
  {
   "cell_type": "markdown",
   "metadata": {},
   "source": [
    "#### Is there variability in the impact on glucose levels of the same meal type for the same individual?"
   ]
  },
  {
   "cell_type": "code",
   "execution_count": 396,
   "metadata": {
    "scrolled": false
   },
   "outputs": [
    {
     "data": {
      "text/html": [
       "<div>\n",
       "<style scoped>\n",
       "    .dataframe tbody tr th:only-of-type {\n",
       "        vertical-align: middle;\n",
       "    }\n",
       "\n",
       "    .dataframe tbody tr th {\n",
       "        vertical-align: top;\n",
       "    }\n",
       "\n",
       "    .dataframe thead th {\n",
       "        text-align: right;\n",
       "    }\n",
       "</style>\n",
       "<table border=\"1\" class=\"dataframe\">\n",
       "  <thead>\n",
       "    <tr style=\"text-align: right;\">\n",
       "      <th></th>\n",
       "      <th>id</th>\n",
       "      <th>user_id</th>\n",
       "      <th>record_type</th>\n",
       "      <th>description</th>\n",
       "      <th>timestamp_start</th>\n",
       "      <th>timestamp_aftermeal</th>\n",
       "      <th>glucose_start</th>\n",
       "      <th>glucose_after</th>\n",
       "      <th>peak time</th>\n",
       "      <th>minutes until peak</th>\n",
       "      <th>change_aftermeal</th>\n",
       "      <th>pct_change_aftermeal</th>\n",
       "      <th>number of components</th>\n",
       "      <th>day</th>\n",
       "    </tr>\n",
       "  </thead>\n",
       "  <tbody>\n",
       "    <tr>\n",
       "      <th>0</th>\n",
       "      <td>aaaaaaaa-aaaa-aaaa-aaaa-aaaaaaaaaa00</td>\n",
       "      <td>aaaaaaaa-aaaa-aaaa-aaaa-aaaaaaaaaaaa</td>\n",
       "      <td>BREAKFAST</td>\n",
       "      <td>40 g Haferflocken, 230 g Joghurt 0,3 %, 90 g B...</td>\n",
       "      <td>2021-02-15 08:30:00</td>\n",
       "      <td>2021-02-15 11:30:00</td>\n",
       "      <td>80.0</td>\n",
       "      <td>109.0</td>\n",
       "      <td>2021-02-15 08:55:00</td>\n",
       "      <td>25.0</td>\n",
       "      <td>29.0</td>\n",
       "      <td>36.25</td>\n",
       "      <td>5</td>\n",
       "      <td>15</td>\n",
       "    </tr>\n",
       "    <tr>\n",
       "      <th>1</th>\n",
       "      <td>aaaaaaaa-aaaa-aaaa-aaaa-aaaaaaaaaa01</td>\n",
       "      <td>aaaaaaaa-aaaa-aaaa-aaaa-aaaaaaaaaaaa</td>\n",
       "      <td>LUNCH</td>\n",
       "      <td>98 g M�hren-Walnuss-VK-Brot, 87 g Gurke, 55 g ...</td>\n",
       "      <td>2021-02-15 12:45:00</td>\n",
       "      <td>2021-02-15 15:45:00</td>\n",
       "      <td>83.0</td>\n",
       "      <td>121.0</td>\n",
       "      <td>2021-02-15 13:44:00</td>\n",
       "      <td>59.0</td>\n",
       "      <td>38.0</td>\n",
       "      <td>45.78</td>\n",
       "      <td>4</td>\n",
       "      <td>15</td>\n",
       "    </tr>\n",
       "    <tr>\n",
       "      <th>2</th>\n",
       "      <td>aaaaaaaa-aaaa-aaaa-aaaa-aaaaaaaaaa02</td>\n",
       "      <td>aaaaaaaa-aaaa-aaaa-aaaa-aaaaaaaaaaaa</td>\n",
       "      <td>SNACK</td>\n",
       "      <td>Mandarine, Teel�ffel Erdnussmu�</td>\n",
       "      <td>2021-02-15 16:15:00</td>\n",
       "      <td>2021-02-15 19:15:00</td>\n",
       "      <td>73.0</td>\n",
       "      <td>102.0</td>\n",
       "      <td>2021-02-15 16:57:00</td>\n",
       "      <td>42.0</td>\n",
       "      <td>29.0</td>\n",
       "      <td>39.73</td>\n",
       "      <td>2</td>\n",
       "      <td>15</td>\n",
       "    </tr>\n",
       "    <tr>\n",
       "      <th>4</th>\n",
       "      <td>aaaaaaaa-aaaa-aaaa-aaaa-aaaaaaaaaa04</td>\n",
       "      <td>aaaaaaaa-aaaa-aaaa-aaaa-aaaaaaaaaaaa</td>\n",
       "      <td>DINNER</td>\n",
       "      <td>50 g BasmatiVollkorn Reis, 20g Currypaste, 15 ...</td>\n",
       "      <td>2021-02-15 19:30:00</td>\n",
       "      <td>2021-02-15 22:30:00</td>\n",
       "      <td>73.0</td>\n",
       "      <td>101.0</td>\n",
       "      <td>2021-02-15 21:21:00</td>\n",
       "      <td>111.0</td>\n",
       "      <td>28.0</td>\n",
       "      <td>38.36</td>\n",
       "      <td>12</td>\n",
       "      <td>15</td>\n",
       "    </tr>\n",
       "    <tr>\n",
       "      <th>5</th>\n",
       "      <td>aaaaaaaa-aaaa-aaaa-aaaa-aaaaaaaaaa05</td>\n",
       "      <td>aaaaaaaa-aaaa-aaaa-aaaa-aaaaaaaaaaaa</td>\n",
       "      <td>BREAKFAST</td>\n",
       "      <td>230 g Joghurt, 40g Haferflocken, 65 g Apfel</td>\n",
       "      <td>2021-02-17 08:15:00</td>\n",
       "      <td>2021-02-17 11:15:00</td>\n",
       "      <td>78.0</td>\n",
       "      <td>108.0</td>\n",
       "      <td>2021-02-17 08:51:00</td>\n",
       "      <td>36.0</td>\n",
       "      <td>30.0</td>\n",
       "      <td>38.46</td>\n",
       "      <td>3</td>\n",
       "      <td>17</td>\n",
       "    </tr>\n",
       "  </tbody>\n",
       "</table>\n",
       "</div>"
      ],
      "text/plain": [
       "                                     id                               user_id  \\\n",
       "0  aaaaaaaa-aaaa-aaaa-aaaa-aaaaaaaaaa00  aaaaaaaa-aaaa-aaaa-aaaa-aaaaaaaaaaaa   \n",
       "1  aaaaaaaa-aaaa-aaaa-aaaa-aaaaaaaaaa01  aaaaaaaa-aaaa-aaaa-aaaa-aaaaaaaaaaaa   \n",
       "2  aaaaaaaa-aaaa-aaaa-aaaa-aaaaaaaaaa02  aaaaaaaa-aaaa-aaaa-aaaa-aaaaaaaaaaaa   \n",
       "4  aaaaaaaa-aaaa-aaaa-aaaa-aaaaaaaaaa04  aaaaaaaa-aaaa-aaaa-aaaa-aaaaaaaaaaaa   \n",
       "5  aaaaaaaa-aaaa-aaaa-aaaa-aaaaaaaaaa05  aaaaaaaa-aaaa-aaaa-aaaa-aaaaaaaaaaaa   \n",
       "\n",
       "  record_type                                        description  \\\n",
       "0   BREAKFAST  40 g Haferflocken, 230 g Joghurt 0,3 %, 90 g B...   \n",
       "1       LUNCH  98 g M�hren-Walnuss-VK-Brot, 87 g Gurke, 55 g ...   \n",
       "2       SNACK                    Mandarine, Teel�ffel Erdnussmu�   \n",
       "4      DINNER  50 g BasmatiVollkorn Reis, 20g Currypaste, 15 ...   \n",
       "5   BREAKFAST        230 g Joghurt, 40g Haferflocken, 65 g Apfel   \n",
       "\n",
       "      timestamp_start timestamp_aftermeal  glucose_start  glucose_after  \\\n",
       "0 2021-02-15 08:30:00 2021-02-15 11:30:00           80.0          109.0   \n",
       "1 2021-02-15 12:45:00 2021-02-15 15:45:00           83.0          121.0   \n",
       "2 2021-02-15 16:15:00 2021-02-15 19:15:00           73.0          102.0   \n",
       "4 2021-02-15 19:30:00 2021-02-15 22:30:00           73.0          101.0   \n",
       "5 2021-02-17 08:15:00 2021-02-17 11:15:00           78.0          108.0   \n",
       "\n",
       "            peak time  minutes until peak  change_aftermeal  \\\n",
       "0 2021-02-15 08:55:00                25.0              29.0   \n",
       "1 2021-02-15 13:44:00                59.0              38.0   \n",
       "2 2021-02-15 16:57:00                42.0              29.0   \n",
       "4 2021-02-15 21:21:00               111.0              28.0   \n",
       "5 2021-02-17 08:51:00                36.0              30.0   \n",
       "\n",
       "   pct_change_aftermeal  number of components  day  \n",
       "0                 36.25                     5   15  \n",
       "1                 45.78                     4   15  \n",
       "2                 39.73                     2   15  \n",
       "4                 38.36                    12   15  \n",
       "5                 38.46                     3   17  "
      ]
     },
     "execution_count": 396,
     "metadata": {},
     "output_type": "execute_result"
    }
   ],
   "source": [
    "df_activities_ready['day'] = df_activities_ready['timestamp_start'].dt.day\n",
    "df_activities_ready.head()"
   ]
  },
  {
   "cell_type": "code",
   "execution_count": 400,
   "metadata": {},
   "outputs": [
    {
     "data": {
      "application/vnd.plotly.v1+json": {
       "config": {
        "plotlyServerURL": "https://plot.ly"
       },
       "data": [
        {
         "alignmentgroup": "True",
         "hovertemplate": "day=15<br>Type of meal=%{x}<br>Percentage change in glucose after the meal=%{y}<extra></extra>",
         "legendgroup": "15",
         "marker": {
          "color": "#636efa"
         },
         "name": "15",
         "notched": false,
         "offsetgroup": "15",
         "orientation": "v",
         "showlegend": true,
         "type": "box",
         "x": [
          "BREAKFAST",
          "LUNCH",
          "SNACK",
          "DINNER"
         ],
         "x0": " ",
         "xaxis": "x",
         "y": [
          29,
          38,
          29,
          28
         ],
         "y0": " ",
         "yaxis": "y"
        },
        {
         "alignmentgroup": "True",
         "hovertemplate": "day=17<br>Type of meal=%{x}<br>Percentage change in glucose after the meal=%{y}<extra></extra>",
         "legendgroup": "17",
         "marker": {
          "color": "#EF553B"
         },
         "name": "17",
         "notched": false,
         "offsetgroup": "17",
         "orientation": "v",
         "showlegend": true,
         "type": "box",
         "x": [
          "BREAKFAST",
          "LUNCH",
          "DINNER"
         ],
         "x0": " ",
         "xaxis": "x",
         "y": [
          30,
          33,
          35
         ],
         "y0": " ",
         "yaxis": "y"
        },
        {
         "alignmentgroup": "True",
         "hovertemplate": "day=19<br>Type of meal=%{x}<br>Percentage change in glucose after the meal=%{y}<extra></extra>",
         "legendgroup": "19",
         "marker": {
          "color": "#00cc96"
         },
         "name": "19",
         "notched": false,
         "offsetgroup": "19",
         "orientation": "v",
         "showlegend": true,
         "type": "box",
         "x": [
          "BREAKFAST",
          "LUNCH",
          "SNACK",
          "DINNER"
         ],
         "x0": " ",
         "xaxis": "x",
         "y": [
          28,
          35,
          5,
          43
         ],
         "y0": " ",
         "yaxis": "y"
        }
       ],
       "layout": {
        "boxmode": "group",
        "legend": {
         "title": {
          "text": "day"
         },
         "tracegroupgap": 0
        },
        "template": {
         "data": {
          "bar": [
           {
            "error_x": {
             "color": "#2a3f5f"
            },
            "error_y": {
             "color": "#2a3f5f"
            },
            "marker": {
             "line": {
              "color": "#E5ECF6",
              "width": 0.5
             }
            },
            "type": "bar"
           }
          ],
          "barpolar": [
           {
            "marker": {
             "line": {
              "color": "#E5ECF6",
              "width": 0.5
             }
            },
            "type": "barpolar"
           }
          ],
          "carpet": [
           {
            "aaxis": {
             "endlinecolor": "#2a3f5f",
             "gridcolor": "white",
             "linecolor": "white",
             "minorgridcolor": "white",
             "startlinecolor": "#2a3f5f"
            },
            "baxis": {
             "endlinecolor": "#2a3f5f",
             "gridcolor": "white",
             "linecolor": "white",
             "minorgridcolor": "white",
             "startlinecolor": "#2a3f5f"
            },
            "type": "carpet"
           }
          ],
          "choropleth": [
           {
            "colorbar": {
             "outlinewidth": 0,
             "ticks": ""
            },
            "type": "choropleth"
           }
          ],
          "contour": [
           {
            "colorbar": {
             "outlinewidth": 0,
             "ticks": ""
            },
            "colorscale": [
             [
              0,
              "#0d0887"
             ],
             [
              0.1111111111111111,
              "#46039f"
             ],
             [
              0.2222222222222222,
              "#7201a8"
             ],
             [
              0.3333333333333333,
              "#9c179e"
             ],
             [
              0.4444444444444444,
              "#bd3786"
             ],
             [
              0.5555555555555556,
              "#d8576b"
             ],
             [
              0.6666666666666666,
              "#ed7953"
             ],
             [
              0.7777777777777778,
              "#fb9f3a"
             ],
             [
              0.8888888888888888,
              "#fdca26"
             ],
             [
              1,
              "#f0f921"
             ]
            ],
            "type": "contour"
           }
          ],
          "contourcarpet": [
           {
            "colorbar": {
             "outlinewidth": 0,
             "ticks": ""
            },
            "type": "contourcarpet"
           }
          ],
          "heatmap": [
           {
            "colorbar": {
             "outlinewidth": 0,
             "ticks": ""
            },
            "colorscale": [
             [
              0,
              "#0d0887"
             ],
             [
              0.1111111111111111,
              "#46039f"
             ],
             [
              0.2222222222222222,
              "#7201a8"
             ],
             [
              0.3333333333333333,
              "#9c179e"
             ],
             [
              0.4444444444444444,
              "#bd3786"
             ],
             [
              0.5555555555555556,
              "#d8576b"
             ],
             [
              0.6666666666666666,
              "#ed7953"
             ],
             [
              0.7777777777777778,
              "#fb9f3a"
             ],
             [
              0.8888888888888888,
              "#fdca26"
             ],
             [
              1,
              "#f0f921"
             ]
            ],
            "type": "heatmap"
           }
          ],
          "heatmapgl": [
           {
            "colorbar": {
             "outlinewidth": 0,
             "ticks": ""
            },
            "colorscale": [
             [
              0,
              "#0d0887"
             ],
             [
              0.1111111111111111,
              "#46039f"
             ],
             [
              0.2222222222222222,
              "#7201a8"
             ],
             [
              0.3333333333333333,
              "#9c179e"
             ],
             [
              0.4444444444444444,
              "#bd3786"
             ],
             [
              0.5555555555555556,
              "#d8576b"
             ],
             [
              0.6666666666666666,
              "#ed7953"
             ],
             [
              0.7777777777777778,
              "#fb9f3a"
             ],
             [
              0.8888888888888888,
              "#fdca26"
             ],
             [
              1,
              "#f0f921"
             ]
            ],
            "type": "heatmapgl"
           }
          ],
          "histogram": [
           {
            "marker": {
             "colorbar": {
              "outlinewidth": 0,
              "ticks": ""
             }
            },
            "type": "histogram"
           }
          ],
          "histogram2d": [
           {
            "colorbar": {
             "outlinewidth": 0,
             "ticks": ""
            },
            "colorscale": [
             [
              0,
              "#0d0887"
             ],
             [
              0.1111111111111111,
              "#46039f"
             ],
             [
              0.2222222222222222,
              "#7201a8"
             ],
             [
              0.3333333333333333,
              "#9c179e"
             ],
             [
              0.4444444444444444,
              "#bd3786"
             ],
             [
              0.5555555555555556,
              "#d8576b"
             ],
             [
              0.6666666666666666,
              "#ed7953"
             ],
             [
              0.7777777777777778,
              "#fb9f3a"
             ],
             [
              0.8888888888888888,
              "#fdca26"
             ],
             [
              1,
              "#f0f921"
             ]
            ],
            "type": "histogram2d"
           }
          ],
          "histogram2dcontour": [
           {
            "colorbar": {
             "outlinewidth": 0,
             "ticks": ""
            },
            "colorscale": [
             [
              0,
              "#0d0887"
             ],
             [
              0.1111111111111111,
              "#46039f"
             ],
             [
              0.2222222222222222,
              "#7201a8"
             ],
             [
              0.3333333333333333,
              "#9c179e"
             ],
             [
              0.4444444444444444,
              "#bd3786"
             ],
             [
              0.5555555555555556,
              "#d8576b"
             ],
             [
              0.6666666666666666,
              "#ed7953"
             ],
             [
              0.7777777777777778,
              "#fb9f3a"
             ],
             [
              0.8888888888888888,
              "#fdca26"
             ],
             [
              1,
              "#f0f921"
             ]
            ],
            "type": "histogram2dcontour"
           }
          ],
          "mesh3d": [
           {
            "colorbar": {
             "outlinewidth": 0,
             "ticks": ""
            },
            "type": "mesh3d"
           }
          ],
          "parcoords": [
           {
            "line": {
             "colorbar": {
              "outlinewidth": 0,
              "ticks": ""
             }
            },
            "type": "parcoords"
           }
          ],
          "pie": [
           {
            "automargin": true,
            "type": "pie"
           }
          ],
          "scatter": [
           {
            "marker": {
             "colorbar": {
              "outlinewidth": 0,
              "ticks": ""
             }
            },
            "type": "scatter"
           }
          ],
          "scatter3d": [
           {
            "line": {
             "colorbar": {
              "outlinewidth": 0,
              "ticks": ""
             }
            },
            "marker": {
             "colorbar": {
              "outlinewidth": 0,
              "ticks": ""
             }
            },
            "type": "scatter3d"
           }
          ],
          "scattercarpet": [
           {
            "marker": {
             "colorbar": {
              "outlinewidth": 0,
              "ticks": ""
             }
            },
            "type": "scattercarpet"
           }
          ],
          "scattergeo": [
           {
            "marker": {
             "colorbar": {
              "outlinewidth": 0,
              "ticks": ""
             }
            },
            "type": "scattergeo"
           }
          ],
          "scattergl": [
           {
            "marker": {
             "colorbar": {
              "outlinewidth": 0,
              "ticks": ""
             }
            },
            "type": "scattergl"
           }
          ],
          "scattermapbox": [
           {
            "marker": {
             "colorbar": {
              "outlinewidth": 0,
              "ticks": ""
             }
            },
            "type": "scattermapbox"
           }
          ],
          "scatterpolar": [
           {
            "marker": {
             "colorbar": {
              "outlinewidth": 0,
              "ticks": ""
             }
            },
            "type": "scatterpolar"
           }
          ],
          "scatterpolargl": [
           {
            "marker": {
             "colorbar": {
              "outlinewidth": 0,
              "ticks": ""
             }
            },
            "type": "scatterpolargl"
           }
          ],
          "scatterternary": [
           {
            "marker": {
             "colorbar": {
              "outlinewidth": 0,
              "ticks": ""
             }
            },
            "type": "scatterternary"
           }
          ],
          "surface": [
           {
            "colorbar": {
             "outlinewidth": 0,
             "ticks": ""
            },
            "colorscale": [
             [
              0,
              "#0d0887"
             ],
             [
              0.1111111111111111,
              "#46039f"
             ],
             [
              0.2222222222222222,
              "#7201a8"
             ],
             [
              0.3333333333333333,
              "#9c179e"
             ],
             [
              0.4444444444444444,
              "#bd3786"
             ],
             [
              0.5555555555555556,
              "#d8576b"
             ],
             [
              0.6666666666666666,
              "#ed7953"
             ],
             [
              0.7777777777777778,
              "#fb9f3a"
             ],
             [
              0.8888888888888888,
              "#fdca26"
             ],
             [
              1,
              "#f0f921"
             ]
            ],
            "type": "surface"
           }
          ],
          "table": [
           {
            "cells": {
             "fill": {
              "color": "#EBF0F8"
             },
             "line": {
              "color": "white"
             }
            },
            "header": {
             "fill": {
              "color": "#C8D4E3"
             },
             "line": {
              "color": "white"
             }
            },
            "type": "table"
           }
          ]
         },
         "layout": {
          "annotationdefaults": {
           "arrowcolor": "#2a3f5f",
           "arrowhead": 0,
           "arrowwidth": 1
          },
          "autotypenumbers": "strict",
          "coloraxis": {
           "colorbar": {
            "outlinewidth": 0,
            "ticks": ""
           }
          },
          "colorscale": {
           "diverging": [
            [
             0,
             "#8e0152"
            ],
            [
             0.1,
             "#c51b7d"
            ],
            [
             0.2,
             "#de77ae"
            ],
            [
             0.3,
             "#f1b6da"
            ],
            [
             0.4,
             "#fde0ef"
            ],
            [
             0.5,
             "#f7f7f7"
            ],
            [
             0.6,
             "#e6f5d0"
            ],
            [
             0.7,
             "#b8e186"
            ],
            [
             0.8,
             "#7fbc41"
            ],
            [
             0.9,
             "#4d9221"
            ],
            [
             1,
             "#276419"
            ]
           ],
           "sequential": [
            [
             0,
             "#0d0887"
            ],
            [
             0.1111111111111111,
             "#46039f"
            ],
            [
             0.2222222222222222,
             "#7201a8"
            ],
            [
             0.3333333333333333,
             "#9c179e"
            ],
            [
             0.4444444444444444,
             "#bd3786"
            ],
            [
             0.5555555555555556,
             "#d8576b"
            ],
            [
             0.6666666666666666,
             "#ed7953"
            ],
            [
             0.7777777777777778,
             "#fb9f3a"
            ],
            [
             0.8888888888888888,
             "#fdca26"
            ],
            [
             1,
             "#f0f921"
            ]
           ],
           "sequentialminus": [
            [
             0,
             "#0d0887"
            ],
            [
             0.1111111111111111,
             "#46039f"
            ],
            [
             0.2222222222222222,
             "#7201a8"
            ],
            [
             0.3333333333333333,
             "#9c179e"
            ],
            [
             0.4444444444444444,
             "#bd3786"
            ],
            [
             0.5555555555555556,
             "#d8576b"
            ],
            [
             0.6666666666666666,
             "#ed7953"
            ],
            [
             0.7777777777777778,
             "#fb9f3a"
            ],
            [
             0.8888888888888888,
             "#fdca26"
            ],
            [
             1,
             "#f0f921"
            ]
           ]
          },
          "colorway": [
           "#636efa",
           "#EF553B",
           "#00cc96",
           "#ab63fa",
           "#FFA15A",
           "#19d3f3",
           "#FF6692",
           "#B6E880",
           "#FF97FF",
           "#FECB52"
          ],
          "font": {
           "color": "#2a3f5f"
          },
          "geo": {
           "bgcolor": "white",
           "lakecolor": "white",
           "landcolor": "#E5ECF6",
           "showlakes": true,
           "showland": true,
           "subunitcolor": "white"
          },
          "hoverlabel": {
           "align": "left"
          },
          "hovermode": "closest",
          "mapbox": {
           "style": "light"
          },
          "paper_bgcolor": "white",
          "plot_bgcolor": "#E5ECF6",
          "polar": {
           "angularaxis": {
            "gridcolor": "white",
            "linecolor": "white",
            "ticks": ""
           },
           "bgcolor": "#E5ECF6",
           "radialaxis": {
            "gridcolor": "white",
            "linecolor": "white",
            "ticks": ""
           }
          },
          "scene": {
           "xaxis": {
            "backgroundcolor": "#E5ECF6",
            "gridcolor": "white",
            "gridwidth": 2,
            "linecolor": "white",
            "showbackground": true,
            "ticks": "",
            "zerolinecolor": "white"
           },
           "yaxis": {
            "backgroundcolor": "#E5ECF6",
            "gridcolor": "white",
            "gridwidth": 2,
            "linecolor": "white",
            "showbackground": true,
            "ticks": "",
            "zerolinecolor": "white"
           },
           "zaxis": {
            "backgroundcolor": "#E5ECF6",
            "gridcolor": "white",
            "gridwidth": 2,
            "linecolor": "white",
            "showbackground": true,
            "ticks": "",
            "zerolinecolor": "white"
           }
          },
          "shapedefaults": {
           "line": {
            "color": "#2a3f5f"
           }
          },
          "ternary": {
           "aaxis": {
            "gridcolor": "white",
            "linecolor": "white",
            "ticks": ""
           },
           "baxis": {
            "gridcolor": "white",
            "linecolor": "white",
            "ticks": ""
           },
           "bgcolor": "#E5ECF6",
           "caxis": {
            "gridcolor": "white",
            "linecolor": "white",
            "ticks": ""
           }
          },
          "title": {
           "x": 0.05
          },
          "xaxis": {
           "automargin": true,
           "gridcolor": "white",
           "linecolor": "white",
           "ticks": "",
           "title": {
            "standoff": 15
           },
           "zerolinecolor": "white",
           "zerolinewidth": 2
          },
          "yaxis": {
           "automargin": true,
           "gridcolor": "white",
           "linecolor": "white",
           "ticks": "",
           "title": {
            "standoff": 15
           },
           "zerolinecolor": "white",
           "zerolinewidth": 2
          }
         }
        },
        "title": {
         "text": "Variability of glucose levels before and after meal by meal type"
        },
        "xaxis": {
         "anchor": "y",
         "domain": [
          0,
          1
         ],
         "title": {
          "text": "Type of meal"
         }
        },
        "yaxis": {
         "anchor": "x",
         "domain": [
          0,
          1
         ],
         "title": {
          "text": "Percentage change in glucose after the meal"
         }
        }
       }
      },
      "text/html": [
       "<div>                            <div id=\"19008abe-517b-4a1b-bdb2-510fd6a76658\" class=\"plotly-graph-div\" style=\"height:525px; width:100%;\"></div>            <script type=\"text/javascript\">                require([\"plotly\"], function(Plotly) {                    window.PLOTLYENV=window.PLOTLYENV || {};                                    if (document.getElementById(\"19008abe-517b-4a1b-bdb2-510fd6a76658\")) {                    Plotly.newPlot(                        \"19008abe-517b-4a1b-bdb2-510fd6a76658\",                        [{\"alignmentgroup\": \"True\", \"hovertemplate\": \"day=15<br>Type of meal=%{x}<br>Percentage change in glucose after the meal=%{y}<extra></extra>\", \"legendgroup\": \"15\", \"marker\": {\"color\": \"#636efa\"}, \"name\": \"15\", \"notched\": false, \"offsetgroup\": \"15\", \"orientation\": \"v\", \"showlegend\": true, \"type\": \"box\", \"x\": [\"BREAKFAST\", \"LUNCH\", \"SNACK\", \"DINNER\"], \"x0\": \" \", \"xaxis\": \"x\", \"y\": [29.0, 38.0, 29.0, 28.0], \"y0\": \" \", \"yaxis\": \"y\"}, {\"alignmentgroup\": \"True\", \"hovertemplate\": \"day=17<br>Type of meal=%{x}<br>Percentage change in glucose after the meal=%{y}<extra></extra>\", \"legendgroup\": \"17\", \"marker\": {\"color\": \"#EF553B\"}, \"name\": \"17\", \"notched\": false, \"offsetgroup\": \"17\", \"orientation\": \"v\", \"showlegend\": true, \"type\": \"box\", \"x\": [\"BREAKFAST\", \"LUNCH\", \"DINNER\"], \"x0\": \" \", \"xaxis\": \"x\", \"y\": [30.0, 33.0, 35.0], \"y0\": \" \", \"yaxis\": \"y\"}, {\"alignmentgroup\": \"True\", \"hovertemplate\": \"day=19<br>Type of meal=%{x}<br>Percentage change in glucose after the meal=%{y}<extra></extra>\", \"legendgroup\": \"19\", \"marker\": {\"color\": \"#00cc96\"}, \"name\": \"19\", \"notched\": false, \"offsetgroup\": \"19\", \"orientation\": \"v\", \"showlegend\": true, \"type\": \"box\", \"x\": [\"BREAKFAST\", \"LUNCH\", \"SNACK\", \"DINNER\"], \"x0\": \" \", \"xaxis\": \"x\", \"y\": [28.0, 35.0, 5.0, 43.0], \"y0\": \" \", \"yaxis\": \"y\"}],                        {\"boxmode\": \"group\", \"legend\": {\"title\": {\"text\": \"day\"}, \"tracegroupgap\": 0}, \"template\": {\"data\": {\"bar\": [{\"error_x\": {\"color\": \"#2a3f5f\"}, \"error_y\": {\"color\": \"#2a3f5f\"}, \"marker\": {\"line\": {\"color\": \"#E5ECF6\", \"width\": 0.5}}, \"type\": \"bar\"}], \"barpolar\": [{\"marker\": {\"line\": {\"color\": \"#E5ECF6\", \"width\": 0.5}}, \"type\": \"barpolar\"}], \"carpet\": [{\"aaxis\": {\"endlinecolor\": \"#2a3f5f\", \"gridcolor\": \"white\", \"linecolor\": \"white\", \"minorgridcolor\": \"white\", \"startlinecolor\": \"#2a3f5f\"}, \"baxis\": {\"endlinecolor\": \"#2a3f5f\", \"gridcolor\": \"white\", \"linecolor\": \"white\", \"minorgridcolor\": \"white\", \"startlinecolor\": \"#2a3f5f\"}, \"type\": \"carpet\"}], \"choropleth\": [{\"colorbar\": {\"outlinewidth\": 0, \"ticks\": \"\"}, \"type\": \"choropleth\"}], \"contour\": [{\"colorbar\": {\"outlinewidth\": 0, \"ticks\": \"\"}, \"colorscale\": [[0.0, \"#0d0887\"], [0.1111111111111111, \"#46039f\"], [0.2222222222222222, \"#7201a8\"], [0.3333333333333333, \"#9c179e\"], [0.4444444444444444, \"#bd3786\"], [0.5555555555555556, \"#d8576b\"], [0.6666666666666666, \"#ed7953\"], [0.7777777777777778, \"#fb9f3a\"], [0.8888888888888888, \"#fdca26\"], [1.0, \"#f0f921\"]], \"type\": \"contour\"}], \"contourcarpet\": [{\"colorbar\": {\"outlinewidth\": 0, \"ticks\": \"\"}, \"type\": \"contourcarpet\"}], \"heatmap\": [{\"colorbar\": {\"outlinewidth\": 0, \"ticks\": \"\"}, \"colorscale\": [[0.0, \"#0d0887\"], [0.1111111111111111, \"#46039f\"], [0.2222222222222222, \"#7201a8\"], [0.3333333333333333, \"#9c179e\"], [0.4444444444444444, \"#bd3786\"], [0.5555555555555556, \"#d8576b\"], [0.6666666666666666, \"#ed7953\"], [0.7777777777777778, \"#fb9f3a\"], [0.8888888888888888, \"#fdca26\"], [1.0, \"#f0f921\"]], \"type\": \"heatmap\"}], \"heatmapgl\": [{\"colorbar\": {\"outlinewidth\": 0, \"ticks\": \"\"}, \"colorscale\": [[0.0, \"#0d0887\"], [0.1111111111111111, \"#46039f\"], [0.2222222222222222, \"#7201a8\"], [0.3333333333333333, \"#9c179e\"], [0.4444444444444444, \"#bd3786\"], [0.5555555555555556, \"#d8576b\"], [0.6666666666666666, \"#ed7953\"], [0.7777777777777778, \"#fb9f3a\"], [0.8888888888888888, \"#fdca26\"], [1.0, \"#f0f921\"]], \"type\": \"heatmapgl\"}], \"histogram\": [{\"marker\": {\"colorbar\": {\"outlinewidth\": 0, \"ticks\": \"\"}}, \"type\": \"histogram\"}], \"histogram2d\": [{\"colorbar\": {\"outlinewidth\": 0, \"ticks\": \"\"}, \"colorscale\": [[0.0, \"#0d0887\"], [0.1111111111111111, \"#46039f\"], [0.2222222222222222, \"#7201a8\"], [0.3333333333333333, \"#9c179e\"], [0.4444444444444444, \"#bd3786\"], [0.5555555555555556, \"#d8576b\"], [0.6666666666666666, \"#ed7953\"], [0.7777777777777778, \"#fb9f3a\"], [0.8888888888888888, \"#fdca26\"], [1.0, \"#f0f921\"]], \"type\": \"histogram2d\"}], \"histogram2dcontour\": [{\"colorbar\": {\"outlinewidth\": 0, \"ticks\": \"\"}, \"colorscale\": [[0.0, \"#0d0887\"], [0.1111111111111111, \"#46039f\"], [0.2222222222222222, \"#7201a8\"], [0.3333333333333333, \"#9c179e\"], [0.4444444444444444, \"#bd3786\"], [0.5555555555555556, \"#d8576b\"], [0.6666666666666666, \"#ed7953\"], [0.7777777777777778, \"#fb9f3a\"], [0.8888888888888888, \"#fdca26\"], [1.0, \"#f0f921\"]], \"type\": \"histogram2dcontour\"}], \"mesh3d\": [{\"colorbar\": {\"outlinewidth\": 0, \"ticks\": \"\"}, \"type\": \"mesh3d\"}], \"parcoords\": [{\"line\": {\"colorbar\": {\"outlinewidth\": 0, \"ticks\": \"\"}}, \"type\": \"parcoords\"}], \"pie\": [{\"automargin\": true, \"type\": \"pie\"}], \"scatter\": [{\"marker\": {\"colorbar\": {\"outlinewidth\": 0, \"ticks\": \"\"}}, \"type\": \"scatter\"}], \"scatter3d\": [{\"line\": {\"colorbar\": {\"outlinewidth\": 0, \"ticks\": \"\"}}, \"marker\": {\"colorbar\": {\"outlinewidth\": 0, \"ticks\": \"\"}}, \"type\": \"scatter3d\"}], \"scattercarpet\": [{\"marker\": {\"colorbar\": {\"outlinewidth\": 0, \"ticks\": \"\"}}, \"type\": \"scattercarpet\"}], \"scattergeo\": [{\"marker\": {\"colorbar\": {\"outlinewidth\": 0, \"ticks\": \"\"}}, \"type\": \"scattergeo\"}], \"scattergl\": [{\"marker\": {\"colorbar\": {\"outlinewidth\": 0, \"ticks\": \"\"}}, \"type\": \"scattergl\"}], \"scattermapbox\": [{\"marker\": {\"colorbar\": {\"outlinewidth\": 0, \"ticks\": \"\"}}, \"type\": \"scattermapbox\"}], \"scatterpolar\": [{\"marker\": {\"colorbar\": {\"outlinewidth\": 0, \"ticks\": \"\"}}, \"type\": \"scatterpolar\"}], \"scatterpolargl\": [{\"marker\": {\"colorbar\": {\"outlinewidth\": 0, \"ticks\": \"\"}}, \"type\": \"scatterpolargl\"}], \"scatterternary\": [{\"marker\": {\"colorbar\": {\"outlinewidth\": 0, \"ticks\": \"\"}}, \"type\": \"scatterternary\"}], \"surface\": [{\"colorbar\": {\"outlinewidth\": 0, \"ticks\": \"\"}, \"colorscale\": [[0.0, \"#0d0887\"], [0.1111111111111111, \"#46039f\"], [0.2222222222222222, \"#7201a8\"], [0.3333333333333333, \"#9c179e\"], [0.4444444444444444, \"#bd3786\"], [0.5555555555555556, \"#d8576b\"], [0.6666666666666666, \"#ed7953\"], [0.7777777777777778, \"#fb9f3a\"], [0.8888888888888888, \"#fdca26\"], [1.0, \"#f0f921\"]], \"type\": \"surface\"}], \"table\": [{\"cells\": {\"fill\": {\"color\": \"#EBF0F8\"}, \"line\": {\"color\": \"white\"}}, \"header\": {\"fill\": {\"color\": \"#C8D4E3\"}, \"line\": {\"color\": \"white\"}}, \"type\": \"table\"}]}, \"layout\": {\"annotationdefaults\": {\"arrowcolor\": \"#2a3f5f\", \"arrowhead\": 0, \"arrowwidth\": 1}, \"autotypenumbers\": \"strict\", \"coloraxis\": {\"colorbar\": {\"outlinewidth\": 0, \"ticks\": \"\"}}, \"colorscale\": {\"diverging\": [[0, \"#8e0152\"], [0.1, \"#c51b7d\"], [0.2, \"#de77ae\"], [0.3, \"#f1b6da\"], [0.4, \"#fde0ef\"], [0.5, \"#f7f7f7\"], [0.6, \"#e6f5d0\"], [0.7, \"#b8e186\"], [0.8, \"#7fbc41\"], [0.9, \"#4d9221\"], [1, \"#276419\"]], \"sequential\": [[0.0, \"#0d0887\"], [0.1111111111111111, \"#46039f\"], [0.2222222222222222, \"#7201a8\"], [0.3333333333333333, \"#9c179e\"], [0.4444444444444444, \"#bd3786\"], [0.5555555555555556, \"#d8576b\"], [0.6666666666666666, \"#ed7953\"], [0.7777777777777778, \"#fb9f3a\"], [0.8888888888888888, \"#fdca26\"], [1.0, \"#f0f921\"]], \"sequentialminus\": [[0.0, \"#0d0887\"], [0.1111111111111111, \"#46039f\"], [0.2222222222222222, \"#7201a8\"], [0.3333333333333333, \"#9c179e\"], [0.4444444444444444, \"#bd3786\"], [0.5555555555555556, \"#d8576b\"], [0.6666666666666666, \"#ed7953\"], [0.7777777777777778, \"#fb9f3a\"], [0.8888888888888888, \"#fdca26\"], [1.0, \"#f0f921\"]]}, \"colorway\": [\"#636efa\", \"#EF553B\", \"#00cc96\", \"#ab63fa\", \"#FFA15A\", \"#19d3f3\", \"#FF6692\", \"#B6E880\", \"#FF97FF\", \"#FECB52\"], \"font\": {\"color\": \"#2a3f5f\"}, \"geo\": {\"bgcolor\": \"white\", \"lakecolor\": \"white\", \"landcolor\": \"#E5ECF6\", \"showlakes\": true, \"showland\": true, \"subunitcolor\": \"white\"}, \"hoverlabel\": {\"align\": \"left\"}, \"hovermode\": \"closest\", \"mapbox\": {\"style\": \"light\"}, \"paper_bgcolor\": \"white\", \"plot_bgcolor\": \"#E5ECF6\", \"polar\": {\"angularaxis\": {\"gridcolor\": \"white\", \"linecolor\": \"white\", \"ticks\": \"\"}, \"bgcolor\": \"#E5ECF6\", \"radialaxis\": {\"gridcolor\": \"white\", \"linecolor\": \"white\", \"ticks\": \"\"}}, \"scene\": {\"xaxis\": {\"backgroundcolor\": \"#E5ECF6\", \"gridcolor\": \"white\", \"gridwidth\": 2, \"linecolor\": \"white\", \"showbackground\": true, \"ticks\": \"\", \"zerolinecolor\": \"white\"}, \"yaxis\": {\"backgroundcolor\": \"#E5ECF6\", \"gridcolor\": \"white\", \"gridwidth\": 2, \"linecolor\": \"white\", \"showbackground\": true, \"ticks\": \"\", \"zerolinecolor\": \"white\"}, \"zaxis\": {\"backgroundcolor\": \"#E5ECF6\", \"gridcolor\": \"white\", \"gridwidth\": 2, \"linecolor\": \"white\", \"showbackground\": true, \"ticks\": \"\", \"zerolinecolor\": \"white\"}}, \"shapedefaults\": {\"line\": {\"color\": \"#2a3f5f\"}}, \"ternary\": {\"aaxis\": {\"gridcolor\": \"white\", \"linecolor\": \"white\", \"ticks\": \"\"}, \"baxis\": {\"gridcolor\": \"white\", \"linecolor\": \"white\", \"ticks\": \"\"}, \"bgcolor\": \"#E5ECF6\", \"caxis\": {\"gridcolor\": \"white\", \"linecolor\": \"white\", \"ticks\": \"\"}}, \"title\": {\"x\": 0.05}, \"xaxis\": {\"automargin\": true, \"gridcolor\": \"white\", \"linecolor\": \"white\", \"ticks\": \"\", \"title\": {\"standoff\": 15}, \"zerolinecolor\": \"white\", \"zerolinewidth\": 2}, \"yaxis\": {\"automargin\": true, \"gridcolor\": \"white\", \"linecolor\": \"white\", \"ticks\": \"\", \"title\": {\"standoff\": 15}, \"zerolinecolor\": \"white\", \"zerolinewidth\": 2}}}, \"title\": {\"text\": \"Variability of glucose levels before and after meal by meal type\"}, \"xaxis\": {\"anchor\": \"y\", \"domain\": [0.0, 1.0], \"title\": {\"text\": \"Type of meal\"}}, \"yaxis\": {\"anchor\": \"x\", \"domain\": [0.0, 1.0], \"title\": {\"text\": \"Percentage change in glucose after the meal\"}}},                        {\"responsive\": true}                    ).then(function(){\n",
       "                            \n",
       "var gd = document.getElementById('19008abe-517b-4a1b-bdb2-510fd6a76658');\n",
       "var x = new MutationObserver(function (mutations, observer) {{\n",
       "        var display = window.getComputedStyle(gd).display;\n",
       "        if (!display || display === 'none') {{\n",
       "            console.log([gd, 'removed!']);\n",
       "            Plotly.purge(gd);\n",
       "            observer.disconnect();\n",
       "        }}\n",
       "}});\n",
       "\n",
       "// Listen for the removal of the full notebook cells\n",
       "var notebookContainer = gd.closest('#notebook-container');\n",
       "if (notebookContainer) {{\n",
       "    x.observe(notebookContainer, {childList: true});\n",
       "}}\n",
       "\n",
       "// Listen for the clearing of the current output cell\n",
       "var outputEl = gd.closest('.output');\n",
       "if (outputEl) {{\n",
       "    x.observe(outputEl, {childList: true});\n",
       "}}\n",
       "\n",
       "                        })                };                });            </script>        </div>"
      ]
     },
     "metadata": {},
     "output_type": "display_data"
    }
   ],
   "source": [
    "df = df_activities_ready[df_activities_ready['user_id']==create_customer('a')]\n",
    "df['Percentage change in glucose after the meal'] = df['change_aftermeal']\n",
    "df['Type of meal'] = df['record_type']\n",
    "\n",
    "fig = px.box(df, x=\"Type of meal\", y=\"Percentage change in glucose after the meal\", color=\"day\",\n",
    "             title=\"Variability of glucose levels before and after meal by meal type\",\n",
    "            )\n",
    "fig.show()"
   ]
  },
  {
   "cell_type": "markdown",
   "metadata": {},
   "source": [
    "- The effect of breakfast on glucose levels seems to be most stable for the 3 days of data available, followed by lunch.\n",
    "- For snacks and dinner, it seems that the the different meals had a very different impact on the days available.\n",
    "- Possibly the snack on the 19th and dinner of the 15th are better options than the others."
   ]
  },
  {
   "cell_type": "code",
   "execution_count": 399,
   "metadata": {},
   "outputs": [
    {
     "data": {
      "application/vnd.plotly.v1+json": {
       "config": {
        "plotlyServerURL": "https://plot.ly"
       },
       "data": [
        {
         "alignmentgroup": "True",
         "hovertemplate": "day=15<br>Type of meal=%{x}<br>minutes until peak=%{y}<extra></extra>",
         "legendgroup": "15",
         "marker": {
          "color": "#636efa"
         },
         "name": "15",
         "notched": false,
         "offsetgroup": "15",
         "orientation": "v",
         "showlegend": true,
         "type": "box",
         "x": [
          "BREAKFAST",
          "LUNCH",
          "SNACK",
          "DINNER"
         ],
         "x0": " ",
         "xaxis": "x",
         "y": [
          25,
          59,
          42,
          111
         ],
         "y0": " ",
         "yaxis": "y"
        },
        {
         "alignmentgroup": "True",
         "hovertemplate": "day=17<br>Type of meal=%{x}<br>minutes until peak=%{y}<extra></extra>",
         "legendgroup": "17",
         "marker": {
          "color": "#EF553B"
         },
         "name": "17",
         "notched": false,
         "offsetgroup": "17",
         "orientation": "v",
         "showlegend": true,
         "type": "box",
         "x": [
          "BREAKFAST",
          "LUNCH",
          "DINNER"
         ],
         "x0": " ",
         "xaxis": "x",
         "y": [
          36,
          67,
          39
         ],
         "y0": " ",
         "yaxis": "y"
        },
        {
         "alignmentgroup": "True",
         "hovertemplate": "day=19<br>Type of meal=%{x}<br>minutes until peak=%{y}<extra></extra>",
         "legendgroup": "19",
         "marker": {
          "color": "#00cc96"
         },
         "name": "19",
         "notched": false,
         "offsetgroup": "19",
         "orientation": "v",
         "showlegend": true,
         "type": "box",
         "x": [
          "BREAKFAST",
          "LUNCH",
          "SNACK",
          "DINNER"
         ],
         "x0": " ",
         "xaxis": "x",
         "y": [
          47,
          66,
          63,
          63
         ],
         "y0": " ",
         "yaxis": "y"
        }
       ],
       "layout": {
        "boxmode": "group",
        "legend": {
         "title": {
          "text": "day"
         },
         "tracegroupgap": 0
        },
        "template": {
         "data": {
          "bar": [
           {
            "error_x": {
             "color": "#2a3f5f"
            },
            "error_y": {
             "color": "#2a3f5f"
            },
            "marker": {
             "line": {
              "color": "#E5ECF6",
              "width": 0.5
             }
            },
            "type": "bar"
           }
          ],
          "barpolar": [
           {
            "marker": {
             "line": {
              "color": "#E5ECF6",
              "width": 0.5
             }
            },
            "type": "barpolar"
           }
          ],
          "carpet": [
           {
            "aaxis": {
             "endlinecolor": "#2a3f5f",
             "gridcolor": "white",
             "linecolor": "white",
             "minorgridcolor": "white",
             "startlinecolor": "#2a3f5f"
            },
            "baxis": {
             "endlinecolor": "#2a3f5f",
             "gridcolor": "white",
             "linecolor": "white",
             "minorgridcolor": "white",
             "startlinecolor": "#2a3f5f"
            },
            "type": "carpet"
           }
          ],
          "choropleth": [
           {
            "colorbar": {
             "outlinewidth": 0,
             "ticks": ""
            },
            "type": "choropleth"
           }
          ],
          "contour": [
           {
            "colorbar": {
             "outlinewidth": 0,
             "ticks": ""
            },
            "colorscale": [
             [
              0,
              "#0d0887"
             ],
             [
              0.1111111111111111,
              "#46039f"
             ],
             [
              0.2222222222222222,
              "#7201a8"
             ],
             [
              0.3333333333333333,
              "#9c179e"
             ],
             [
              0.4444444444444444,
              "#bd3786"
             ],
             [
              0.5555555555555556,
              "#d8576b"
             ],
             [
              0.6666666666666666,
              "#ed7953"
             ],
             [
              0.7777777777777778,
              "#fb9f3a"
             ],
             [
              0.8888888888888888,
              "#fdca26"
             ],
             [
              1,
              "#f0f921"
             ]
            ],
            "type": "contour"
           }
          ],
          "contourcarpet": [
           {
            "colorbar": {
             "outlinewidth": 0,
             "ticks": ""
            },
            "type": "contourcarpet"
           }
          ],
          "heatmap": [
           {
            "colorbar": {
             "outlinewidth": 0,
             "ticks": ""
            },
            "colorscale": [
             [
              0,
              "#0d0887"
             ],
             [
              0.1111111111111111,
              "#46039f"
             ],
             [
              0.2222222222222222,
              "#7201a8"
             ],
             [
              0.3333333333333333,
              "#9c179e"
             ],
             [
              0.4444444444444444,
              "#bd3786"
             ],
             [
              0.5555555555555556,
              "#d8576b"
             ],
             [
              0.6666666666666666,
              "#ed7953"
             ],
             [
              0.7777777777777778,
              "#fb9f3a"
             ],
             [
              0.8888888888888888,
              "#fdca26"
             ],
             [
              1,
              "#f0f921"
             ]
            ],
            "type": "heatmap"
           }
          ],
          "heatmapgl": [
           {
            "colorbar": {
             "outlinewidth": 0,
             "ticks": ""
            },
            "colorscale": [
             [
              0,
              "#0d0887"
             ],
             [
              0.1111111111111111,
              "#46039f"
             ],
             [
              0.2222222222222222,
              "#7201a8"
             ],
             [
              0.3333333333333333,
              "#9c179e"
             ],
             [
              0.4444444444444444,
              "#bd3786"
             ],
             [
              0.5555555555555556,
              "#d8576b"
             ],
             [
              0.6666666666666666,
              "#ed7953"
             ],
             [
              0.7777777777777778,
              "#fb9f3a"
             ],
             [
              0.8888888888888888,
              "#fdca26"
             ],
             [
              1,
              "#f0f921"
             ]
            ],
            "type": "heatmapgl"
           }
          ],
          "histogram": [
           {
            "marker": {
             "colorbar": {
              "outlinewidth": 0,
              "ticks": ""
             }
            },
            "type": "histogram"
           }
          ],
          "histogram2d": [
           {
            "colorbar": {
             "outlinewidth": 0,
             "ticks": ""
            },
            "colorscale": [
             [
              0,
              "#0d0887"
             ],
             [
              0.1111111111111111,
              "#46039f"
             ],
             [
              0.2222222222222222,
              "#7201a8"
             ],
             [
              0.3333333333333333,
              "#9c179e"
             ],
             [
              0.4444444444444444,
              "#bd3786"
             ],
             [
              0.5555555555555556,
              "#d8576b"
             ],
             [
              0.6666666666666666,
              "#ed7953"
             ],
             [
              0.7777777777777778,
              "#fb9f3a"
             ],
             [
              0.8888888888888888,
              "#fdca26"
             ],
             [
              1,
              "#f0f921"
             ]
            ],
            "type": "histogram2d"
           }
          ],
          "histogram2dcontour": [
           {
            "colorbar": {
             "outlinewidth": 0,
             "ticks": ""
            },
            "colorscale": [
             [
              0,
              "#0d0887"
             ],
             [
              0.1111111111111111,
              "#46039f"
             ],
             [
              0.2222222222222222,
              "#7201a8"
             ],
             [
              0.3333333333333333,
              "#9c179e"
             ],
             [
              0.4444444444444444,
              "#bd3786"
             ],
             [
              0.5555555555555556,
              "#d8576b"
             ],
             [
              0.6666666666666666,
              "#ed7953"
             ],
             [
              0.7777777777777778,
              "#fb9f3a"
             ],
             [
              0.8888888888888888,
              "#fdca26"
             ],
             [
              1,
              "#f0f921"
             ]
            ],
            "type": "histogram2dcontour"
           }
          ],
          "mesh3d": [
           {
            "colorbar": {
             "outlinewidth": 0,
             "ticks": ""
            },
            "type": "mesh3d"
           }
          ],
          "parcoords": [
           {
            "line": {
             "colorbar": {
              "outlinewidth": 0,
              "ticks": ""
             }
            },
            "type": "parcoords"
           }
          ],
          "pie": [
           {
            "automargin": true,
            "type": "pie"
           }
          ],
          "scatter": [
           {
            "marker": {
             "colorbar": {
              "outlinewidth": 0,
              "ticks": ""
             }
            },
            "type": "scatter"
           }
          ],
          "scatter3d": [
           {
            "line": {
             "colorbar": {
              "outlinewidth": 0,
              "ticks": ""
             }
            },
            "marker": {
             "colorbar": {
              "outlinewidth": 0,
              "ticks": ""
             }
            },
            "type": "scatter3d"
           }
          ],
          "scattercarpet": [
           {
            "marker": {
             "colorbar": {
              "outlinewidth": 0,
              "ticks": ""
             }
            },
            "type": "scattercarpet"
           }
          ],
          "scattergeo": [
           {
            "marker": {
             "colorbar": {
              "outlinewidth": 0,
              "ticks": ""
             }
            },
            "type": "scattergeo"
           }
          ],
          "scattergl": [
           {
            "marker": {
             "colorbar": {
              "outlinewidth": 0,
              "ticks": ""
             }
            },
            "type": "scattergl"
           }
          ],
          "scattermapbox": [
           {
            "marker": {
             "colorbar": {
              "outlinewidth": 0,
              "ticks": ""
             }
            },
            "type": "scattermapbox"
           }
          ],
          "scatterpolar": [
           {
            "marker": {
             "colorbar": {
              "outlinewidth": 0,
              "ticks": ""
             }
            },
            "type": "scatterpolar"
           }
          ],
          "scatterpolargl": [
           {
            "marker": {
             "colorbar": {
              "outlinewidth": 0,
              "ticks": ""
             }
            },
            "type": "scatterpolargl"
           }
          ],
          "scatterternary": [
           {
            "marker": {
             "colorbar": {
              "outlinewidth": 0,
              "ticks": ""
             }
            },
            "type": "scatterternary"
           }
          ],
          "surface": [
           {
            "colorbar": {
             "outlinewidth": 0,
             "ticks": ""
            },
            "colorscale": [
             [
              0,
              "#0d0887"
             ],
             [
              0.1111111111111111,
              "#46039f"
             ],
             [
              0.2222222222222222,
              "#7201a8"
             ],
             [
              0.3333333333333333,
              "#9c179e"
             ],
             [
              0.4444444444444444,
              "#bd3786"
             ],
             [
              0.5555555555555556,
              "#d8576b"
             ],
             [
              0.6666666666666666,
              "#ed7953"
             ],
             [
              0.7777777777777778,
              "#fb9f3a"
             ],
             [
              0.8888888888888888,
              "#fdca26"
             ],
             [
              1,
              "#f0f921"
             ]
            ],
            "type": "surface"
           }
          ],
          "table": [
           {
            "cells": {
             "fill": {
              "color": "#EBF0F8"
             },
             "line": {
              "color": "white"
             }
            },
            "header": {
             "fill": {
              "color": "#C8D4E3"
             },
             "line": {
              "color": "white"
             }
            },
            "type": "table"
           }
          ]
         },
         "layout": {
          "annotationdefaults": {
           "arrowcolor": "#2a3f5f",
           "arrowhead": 0,
           "arrowwidth": 1
          },
          "autotypenumbers": "strict",
          "coloraxis": {
           "colorbar": {
            "outlinewidth": 0,
            "ticks": ""
           }
          },
          "colorscale": {
           "diverging": [
            [
             0,
             "#8e0152"
            ],
            [
             0.1,
             "#c51b7d"
            ],
            [
             0.2,
             "#de77ae"
            ],
            [
             0.3,
             "#f1b6da"
            ],
            [
             0.4,
             "#fde0ef"
            ],
            [
             0.5,
             "#f7f7f7"
            ],
            [
             0.6,
             "#e6f5d0"
            ],
            [
             0.7,
             "#b8e186"
            ],
            [
             0.8,
             "#7fbc41"
            ],
            [
             0.9,
             "#4d9221"
            ],
            [
             1,
             "#276419"
            ]
           ],
           "sequential": [
            [
             0,
             "#0d0887"
            ],
            [
             0.1111111111111111,
             "#46039f"
            ],
            [
             0.2222222222222222,
             "#7201a8"
            ],
            [
             0.3333333333333333,
             "#9c179e"
            ],
            [
             0.4444444444444444,
             "#bd3786"
            ],
            [
             0.5555555555555556,
             "#d8576b"
            ],
            [
             0.6666666666666666,
             "#ed7953"
            ],
            [
             0.7777777777777778,
             "#fb9f3a"
            ],
            [
             0.8888888888888888,
             "#fdca26"
            ],
            [
             1,
             "#f0f921"
            ]
           ],
           "sequentialminus": [
            [
             0,
             "#0d0887"
            ],
            [
             0.1111111111111111,
             "#46039f"
            ],
            [
             0.2222222222222222,
             "#7201a8"
            ],
            [
             0.3333333333333333,
             "#9c179e"
            ],
            [
             0.4444444444444444,
             "#bd3786"
            ],
            [
             0.5555555555555556,
             "#d8576b"
            ],
            [
             0.6666666666666666,
             "#ed7953"
            ],
            [
             0.7777777777777778,
             "#fb9f3a"
            ],
            [
             0.8888888888888888,
             "#fdca26"
            ],
            [
             1,
             "#f0f921"
            ]
           ]
          },
          "colorway": [
           "#636efa",
           "#EF553B",
           "#00cc96",
           "#ab63fa",
           "#FFA15A",
           "#19d3f3",
           "#FF6692",
           "#B6E880",
           "#FF97FF",
           "#FECB52"
          ],
          "font": {
           "color": "#2a3f5f"
          },
          "geo": {
           "bgcolor": "white",
           "lakecolor": "white",
           "landcolor": "#E5ECF6",
           "showlakes": true,
           "showland": true,
           "subunitcolor": "white"
          },
          "hoverlabel": {
           "align": "left"
          },
          "hovermode": "closest",
          "mapbox": {
           "style": "light"
          },
          "paper_bgcolor": "white",
          "plot_bgcolor": "#E5ECF6",
          "polar": {
           "angularaxis": {
            "gridcolor": "white",
            "linecolor": "white",
            "ticks": ""
           },
           "bgcolor": "#E5ECF6",
           "radialaxis": {
            "gridcolor": "white",
            "linecolor": "white",
            "ticks": ""
           }
          },
          "scene": {
           "xaxis": {
            "backgroundcolor": "#E5ECF6",
            "gridcolor": "white",
            "gridwidth": 2,
            "linecolor": "white",
            "showbackground": true,
            "ticks": "",
            "zerolinecolor": "white"
           },
           "yaxis": {
            "backgroundcolor": "#E5ECF6",
            "gridcolor": "white",
            "gridwidth": 2,
            "linecolor": "white",
            "showbackground": true,
            "ticks": "",
            "zerolinecolor": "white"
           },
           "zaxis": {
            "backgroundcolor": "#E5ECF6",
            "gridcolor": "white",
            "gridwidth": 2,
            "linecolor": "white",
            "showbackground": true,
            "ticks": "",
            "zerolinecolor": "white"
           }
          },
          "shapedefaults": {
           "line": {
            "color": "#2a3f5f"
           }
          },
          "ternary": {
           "aaxis": {
            "gridcolor": "white",
            "linecolor": "white",
            "ticks": ""
           },
           "baxis": {
            "gridcolor": "white",
            "linecolor": "white",
            "ticks": ""
           },
           "bgcolor": "#E5ECF6",
           "caxis": {
            "gridcolor": "white",
            "linecolor": "white",
            "ticks": ""
           }
          },
          "title": {
           "x": 0.05
          },
          "xaxis": {
           "automargin": true,
           "gridcolor": "white",
           "linecolor": "white",
           "ticks": "",
           "title": {
            "standoff": 15
           },
           "zerolinecolor": "white",
           "zerolinewidth": 2
          },
          "yaxis": {
           "automargin": true,
           "gridcolor": "white",
           "linecolor": "white",
           "ticks": "",
           "title": {
            "standoff": 15
           },
           "zerolinecolor": "white",
           "zerolinewidth": 2
          }
         }
        },
        "title": {
         "text": "Variability of time until glucose peak (minutes) by meal type"
        },
        "xaxis": {
         "anchor": "y",
         "domain": [
          0,
          1
         ],
         "title": {
          "text": "Type of meal"
         }
        },
        "yaxis": {
         "anchor": "x",
         "domain": [
          0,
          1
         ],
         "title": {
          "text": "minutes until peak"
         }
        }
       }
      },
      "text/html": [
       "<div>                            <div id=\"624ac3b5-a504-4bd8-95c6-c5a12a52e1d3\" class=\"plotly-graph-div\" style=\"height:525px; width:100%;\"></div>            <script type=\"text/javascript\">                require([\"plotly\"], function(Plotly) {                    window.PLOTLYENV=window.PLOTLYENV || {};                                    if (document.getElementById(\"624ac3b5-a504-4bd8-95c6-c5a12a52e1d3\")) {                    Plotly.newPlot(                        \"624ac3b5-a504-4bd8-95c6-c5a12a52e1d3\",                        [{\"alignmentgroup\": \"True\", \"hovertemplate\": \"day=15<br>Type of meal=%{x}<br>minutes until peak=%{y}<extra></extra>\", \"legendgroup\": \"15\", \"marker\": {\"color\": \"#636efa\"}, \"name\": \"15\", \"notched\": false, \"offsetgroup\": \"15\", \"orientation\": \"v\", \"showlegend\": true, \"type\": \"box\", \"x\": [\"BREAKFAST\", \"LUNCH\", \"SNACK\", \"DINNER\"], \"x0\": \" \", \"xaxis\": \"x\", \"y\": [25.0, 59.0, 42.0, 111.0], \"y0\": \" \", \"yaxis\": \"y\"}, {\"alignmentgroup\": \"True\", \"hovertemplate\": \"day=17<br>Type of meal=%{x}<br>minutes until peak=%{y}<extra></extra>\", \"legendgroup\": \"17\", \"marker\": {\"color\": \"#EF553B\"}, \"name\": \"17\", \"notched\": false, \"offsetgroup\": \"17\", \"orientation\": \"v\", \"showlegend\": true, \"type\": \"box\", \"x\": [\"BREAKFAST\", \"LUNCH\", \"DINNER\"], \"x0\": \" \", \"xaxis\": \"x\", \"y\": [36.0, 67.0, 39.0], \"y0\": \" \", \"yaxis\": \"y\"}, {\"alignmentgroup\": \"True\", \"hovertemplate\": \"day=19<br>Type of meal=%{x}<br>minutes until peak=%{y}<extra></extra>\", \"legendgroup\": \"19\", \"marker\": {\"color\": \"#00cc96\"}, \"name\": \"19\", \"notched\": false, \"offsetgroup\": \"19\", \"orientation\": \"v\", \"showlegend\": true, \"type\": \"box\", \"x\": [\"BREAKFAST\", \"LUNCH\", \"SNACK\", \"DINNER\"], \"x0\": \" \", \"xaxis\": \"x\", \"y\": [47.0, 66.0, 63.0, 63.0], \"y0\": \" \", \"yaxis\": \"y\"}],                        {\"boxmode\": \"group\", \"legend\": {\"title\": {\"text\": \"day\"}, \"tracegroupgap\": 0}, \"template\": {\"data\": {\"bar\": [{\"error_x\": {\"color\": \"#2a3f5f\"}, \"error_y\": {\"color\": \"#2a3f5f\"}, \"marker\": {\"line\": {\"color\": \"#E5ECF6\", \"width\": 0.5}}, \"type\": \"bar\"}], \"barpolar\": [{\"marker\": {\"line\": {\"color\": \"#E5ECF6\", \"width\": 0.5}}, \"type\": \"barpolar\"}], \"carpet\": [{\"aaxis\": {\"endlinecolor\": \"#2a3f5f\", \"gridcolor\": \"white\", \"linecolor\": \"white\", \"minorgridcolor\": \"white\", \"startlinecolor\": \"#2a3f5f\"}, \"baxis\": {\"endlinecolor\": \"#2a3f5f\", \"gridcolor\": \"white\", \"linecolor\": \"white\", \"minorgridcolor\": \"white\", \"startlinecolor\": \"#2a3f5f\"}, \"type\": \"carpet\"}], \"choropleth\": [{\"colorbar\": {\"outlinewidth\": 0, \"ticks\": \"\"}, \"type\": \"choropleth\"}], \"contour\": [{\"colorbar\": {\"outlinewidth\": 0, \"ticks\": \"\"}, \"colorscale\": [[0.0, \"#0d0887\"], [0.1111111111111111, \"#46039f\"], [0.2222222222222222, \"#7201a8\"], [0.3333333333333333, \"#9c179e\"], [0.4444444444444444, \"#bd3786\"], [0.5555555555555556, \"#d8576b\"], [0.6666666666666666, \"#ed7953\"], [0.7777777777777778, \"#fb9f3a\"], [0.8888888888888888, \"#fdca26\"], [1.0, \"#f0f921\"]], \"type\": \"contour\"}], \"contourcarpet\": [{\"colorbar\": {\"outlinewidth\": 0, \"ticks\": \"\"}, \"type\": \"contourcarpet\"}], \"heatmap\": [{\"colorbar\": {\"outlinewidth\": 0, \"ticks\": \"\"}, \"colorscale\": [[0.0, \"#0d0887\"], [0.1111111111111111, \"#46039f\"], [0.2222222222222222, \"#7201a8\"], [0.3333333333333333, \"#9c179e\"], [0.4444444444444444, \"#bd3786\"], [0.5555555555555556, \"#d8576b\"], [0.6666666666666666, \"#ed7953\"], [0.7777777777777778, \"#fb9f3a\"], [0.8888888888888888, \"#fdca26\"], [1.0, \"#f0f921\"]], \"type\": \"heatmap\"}], \"heatmapgl\": [{\"colorbar\": {\"outlinewidth\": 0, \"ticks\": \"\"}, \"colorscale\": [[0.0, \"#0d0887\"], [0.1111111111111111, \"#46039f\"], [0.2222222222222222, \"#7201a8\"], [0.3333333333333333, \"#9c179e\"], [0.4444444444444444, \"#bd3786\"], [0.5555555555555556, \"#d8576b\"], [0.6666666666666666, \"#ed7953\"], [0.7777777777777778, \"#fb9f3a\"], [0.8888888888888888, \"#fdca26\"], [1.0, \"#f0f921\"]], \"type\": \"heatmapgl\"}], \"histogram\": [{\"marker\": {\"colorbar\": {\"outlinewidth\": 0, \"ticks\": \"\"}}, \"type\": \"histogram\"}], \"histogram2d\": [{\"colorbar\": {\"outlinewidth\": 0, \"ticks\": \"\"}, \"colorscale\": [[0.0, \"#0d0887\"], [0.1111111111111111, \"#46039f\"], [0.2222222222222222, \"#7201a8\"], [0.3333333333333333, \"#9c179e\"], [0.4444444444444444, \"#bd3786\"], [0.5555555555555556, \"#d8576b\"], [0.6666666666666666, \"#ed7953\"], [0.7777777777777778, \"#fb9f3a\"], [0.8888888888888888, \"#fdca26\"], [1.0, \"#f0f921\"]], \"type\": \"histogram2d\"}], \"histogram2dcontour\": [{\"colorbar\": {\"outlinewidth\": 0, \"ticks\": \"\"}, \"colorscale\": [[0.0, \"#0d0887\"], [0.1111111111111111, \"#46039f\"], [0.2222222222222222, \"#7201a8\"], [0.3333333333333333, \"#9c179e\"], [0.4444444444444444, \"#bd3786\"], [0.5555555555555556, \"#d8576b\"], [0.6666666666666666, \"#ed7953\"], [0.7777777777777778, \"#fb9f3a\"], [0.8888888888888888, \"#fdca26\"], [1.0, \"#f0f921\"]], \"type\": \"histogram2dcontour\"}], \"mesh3d\": [{\"colorbar\": {\"outlinewidth\": 0, \"ticks\": \"\"}, \"type\": \"mesh3d\"}], \"parcoords\": [{\"line\": {\"colorbar\": {\"outlinewidth\": 0, \"ticks\": \"\"}}, \"type\": \"parcoords\"}], \"pie\": [{\"automargin\": true, \"type\": \"pie\"}], \"scatter\": [{\"marker\": {\"colorbar\": {\"outlinewidth\": 0, \"ticks\": \"\"}}, \"type\": \"scatter\"}], \"scatter3d\": [{\"line\": {\"colorbar\": {\"outlinewidth\": 0, \"ticks\": \"\"}}, \"marker\": {\"colorbar\": {\"outlinewidth\": 0, \"ticks\": \"\"}}, \"type\": \"scatter3d\"}], \"scattercarpet\": [{\"marker\": {\"colorbar\": {\"outlinewidth\": 0, \"ticks\": \"\"}}, \"type\": \"scattercarpet\"}], \"scattergeo\": [{\"marker\": {\"colorbar\": {\"outlinewidth\": 0, \"ticks\": \"\"}}, \"type\": \"scattergeo\"}], \"scattergl\": [{\"marker\": {\"colorbar\": {\"outlinewidth\": 0, \"ticks\": \"\"}}, \"type\": \"scattergl\"}], \"scattermapbox\": [{\"marker\": {\"colorbar\": {\"outlinewidth\": 0, \"ticks\": \"\"}}, \"type\": \"scattermapbox\"}], \"scatterpolar\": [{\"marker\": {\"colorbar\": {\"outlinewidth\": 0, \"ticks\": \"\"}}, \"type\": \"scatterpolar\"}], \"scatterpolargl\": [{\"marker\": {\"colorbar\": {\"outlinewidth\": 0, \"ticks\": \"\"}}, \"type\": \"scatterpolargl\"}], \"scatterternary\": [{\"marker\": {\"colorbar\": {\"outlinewidth\": 0, \"ticks\": \"\"}}, \"type\": \"scatterternary\"}], \"surface\": [{\"colorbar\": {\"outlinewidth\": 0, \"ticks\": \"\"}, \"colorscale\": [[0.0, \"#0d0887\"], [0.1111111111111111, \"#46039f\"], [0.2222222222222222, \"#7201a8\"], [0.3333333333333333, \"#9c179e\"], [0.4444444444444444, \"#bd3786\"], [0.5555555555555556, \"#d8576b\"], [0.6666666666666666, \"#ed7953\"], [0.7777777777777778, \"#fb9f3a\"], [0.8888888888888888, \"#fdca26\"], [1.0, \"#f0f921\"]], \"type\": \"surface\"}], \"table\": [{\"cells\": {\"fill\": {\"color\": \"#EBF0F8\"}, \"line\": {\"color\": \"white\"}}, \"header\": {\"fill\": {\"color\": \"#C8D4E3\"}, \"line\": {\"color\": \"white\"}}, \"type\": \"table\"}]}, \"layout\": {\"annotationdefaults\": {\"arrowcolor\": \"#2a3f5f\", \"arrowhead\": 0, \"arrowwidth\": 1}, \"autotypenumbers\": \"strict\", \"coloraxis\": {\"colorbar\": {\"outlinewidth\": 0, \"ticks\": \"\"}}, \"colorscale\": {\"diverging\": [[0, \"#8e0152\"], [0.1, \"#c51b7d\"], [0.2, \"#de77ae\"], [0.3, \"#f1b6da\"], [0.4, \"#fde0ef\"], [0.5, \"#f7f7f7\"], [0.6, \"#e6f5d0\"], [0.7, \"#b8e186\"], [0.8, \"#7fbc41\"], [0.9, \"#4d9221\"], [1, \"#276419\"]], \"sequential\": [[0.0, \"#0d0887\"], [0.1111111111111111, \"#46039f\"], [0.2222222222222222, \"#7201a8\"], [0.3333333333333333, \"#9c179e\"], [0.4444444444444444, \"#bd3786\"], [0.5555555555555556, \"#d8576b\"], [0.6666666666666666, \"#ed7953\"], [0.7777777777777778, \"#fb9f3a\"], [0.8888888888888888, \"#fdca26\"], [1.0, \"#f0f921\"]], \"sequentialminus\": [[0.0, \"#0d0887\"], [0.1111111111111111, \"#46039f\"], [0.2222222222222222, \"#7201a8\"], [0.3333333333333333, \"#9c179e\"], [0.4444444444444444, \"#bd3786\"], [0.5555555555555556, \"#d8576b\"], [0.6666666666666666, \"#ed7953\"], [0.7777777777777778, \"#fb9f3a\"], [0.8888888888888888, \"#fdca26\"], [1.0, \"#f0f921\"]]}, \"colorway\": [\"#636efa\", \"#EF553B\", \"#00cc96\", \"#ab63fa\", \"#FFA15A\", \"#19d3f3\", \"#FF6692\", \"#B6E880\", \"#FF97FF\", \"#FECB52\"], \"font\": {\"color\": \"#2a3f5f\"}, \"geo\": {\"bgcolor\": \"white\", \"lakecolor\": \"white\", \"landcolor\": \"#E5ECF6\", \"showlakes\": true, \"showland\": true, \"subunitcolor\": \"white\"}, \"hoverlabel\": {\"align\": \"left\"}, \"hovermode\": \"closest\", \"mapbox\": {\"style\": \"light\"}, \"paper_bgcolor\": \"white\", \"plot_bgcolor\": \"#E5ECF6\", \"polar\": {\"angularaxis\": {\"gridcolor\": \"white\", \"linecolor\": \"white\", \"ticks\": \"\"}, \"bgcolor\": \"#E5ECF6\", \"radialaxis\": {\"gridcolor\": \"white\", \"linecolor\": \"white\", \"ticks\": \"\"}}, \"scene\": {\"xaxis\": {\"backgroundcolor\": \"#E5ECF6\", \"gridcolor\": \"white\", \"gridwidth\": 2, \"linecolor\": \"white\", \"showbackground\": true, \"ticks\": \"\", \"zerolinecolor\": \"white\"}, \"yaxis\": {\"backgroundcolor\": \"#E5ECF6\", \"gridcolor\": \"white\", \"gridwidth\": 2, \"linecolor\": \"white\", \"showbackground\": true, \"ticks\": \"\", \"zerolinecolor\": \"white\"}, \"zaxis\": {\"backgroundcolor\": \"#E5ECF6\", \"gridcolor\": \"white\", \"gridwidth\": 2, \"linecolor\": \"white\", \"showbackground\": true, \"ticks\": \"\", \"zerolinecolor\": \"white\"}}, \"shapedefaults\": {\"line\": {\"color\": \"#2a3f5f\"}}, \"ternary\": {\"aaxis\": {\"gridcolor\": \"white\", \"linecolor\": \"white\", \"ticks\": \"\"}, \"baxis\": {\"gridcolor\": \"white\", \"linecolor\": \"white\", \"ticks\": \"\"}, \"bgcolor\": \"#E5ECF6\", \"caxis\": {\"gridcolor\": \"white\", \"linecolor\": \"white\", \"ticks\": \"\"}}, \"title\": {\"x\": 0.05}, \"xaxis\": {\"automargin\": true, \"gridcolor\": \"white\", \"linecolor\": \"white\", \"ticks\": \"\", \"title\": {\"standoff\": 15}, \"zerolinecolor\": \"white\", \"zerolinewidth\": 2}, \"yaxis\": {\"automargin\": true, \"gridcolor\": \"white\", \"linecolor\": \"white\", \"ticks\": \"\", \"title\": {\"standoff\": 15}, \"zerolinecolor\": \"white\", \"zerolinewidth\": 2}}}, \"title\": {\"text\": \"Variability of time until glucose peak (minutes) by meal type\"}, \"xaxis\": {\"anchor\": \"y\", \"domain\": [0.0, 1.0], \"title\": {\"text\": \"Type of meal\"}}, \"yaxis\": {\"anchor\": \"x\", \"domain\": [0.0, 1.0], \"title\": {\"text\": \"minutes until peak\"}}},                        {\"responsive\": true}                    ).then(function(){\n",
       "                            \n",
       "var gd = document.getElementById('624ac3b5-a504-4bd8-95c6-c5a12a52e1d3');\n",
       "var x = new MutationObserver(function (mutations, observer) {{\n",
       "        var display = window.getComputedStyle(gd).display;\n",
       "        if (!display || display === 'none') {{\n",
       "            console.log([gd, 'removed!']);\n",
       "            Plotly.purge(gd);\n",
       "            observer.disconnect();\n",
       "        }}\n",
       "}});\n",
       "\n",
       "// Listen for the removal of the full notebook cells\n",
       "var notebookContainer = gd.closest('#notebook-container');\n",
       "if (notebookContainer) {{\n",
       "    x.observe(notebookContainer, {childList: true});\n",
       "}}\n",
       "\n",
       "// Listen for the clearing of the current output cell\n",
       "var outputEl = gd.closest('.output');\n",
       "if (outputEl) {{\n",
       "    x.observe(outputEl, {childList: true});\n",
       "}}\n",
       "\n",
       "                        })                };                });            </script>        </div>"
      ]
     },
     "metadata": {},
     "output_type": "display_data"
    }
   ],
   "source": [
    "df = df_activities_ready[df_activities_ready['user_id']==create_customer('a')]\n",
    "df['Percentage change in glucose after the meal'] = df['change_aftermeal']\n",
    "df['Type of meal'] = df['record_type']\n",
    "\n",
    "fig = px.box(df, x=\"Type of meal\", y=\"minutes until peak\", color=\"day\",\n",
    "             title=\"Variability of time until glucose peak (minutes) by meal type\",\n",
    "            )\n",
    "fig.show()"
   ]
  },
  {
   "cell_type": "markdown",
   "metadata": {},
   "source": [
    "# Clustering"
   ]
  },
  {
   "cell_type": "markdown",
   "metadata": {},
   "source": [
    "If I have a dataset containing the user characteristics, info about each meal, the composition of the meals (ideally with the quantities and nutrients that make up each product that was consumed), respective datetime info (e.g. time of the day, day of teh week) and variables describing the glucose response (e.g. diference before and after, time to peak) I can use clustering for tasks such as:\n",
    "- Identifying groups of food or nutrients that show similar patterns in the way they relate with glucose response\n",
    "- Identify groups of individuals (or characteristics) that are \n"
   ]
  },
  {
   "cell_type": "code",
   "execution_count": null,
   "metadata": {},
   "outputs": [],
   "source": []
  },
  {
   "cell_type": "code",
   "execution_count": null,
   "metadata": {},
   "outputs": [],
   "source": []
  },
  {
   "cell_type": "markdown",
   "metadata": {},
   "source": [
    "# Prediction"
   ]
  },
  {
   "cell_type": "markdown",
   "metadata": {},
   "source": [
    "With a similar dataset one could model the relationship between meal composition and a target such as glucose response. This would allow to study:\n",
    "- If you can predict future response to meals based on the nutritional composition\n",
    "- How the characteristics of a person are related to the profile of glucose response to certain meal or nutrients"
   ]
  },
  {
   "cell_type": "code",
   "execution_count": null,
   "metadata": {},
   "outputs": [],
   "source": []
  }
 ],
 "metadata": {
  "kernelspec": {
   "display_name": "Python 3",
   "language": "python",
   "name": "python3"
  },
  "language_info": {
   "codemirror_mode": {
    "name": "ipython",
    "version": 3
   },
   "file_extension": ".py",
   "mimetype": "text/x-python",
   "name": "python",
   "nbconvert_exporter": "python",
   "pygments_lexer": "ipython3",
   "version": "3.8.5"
  }
 },
 "nbformat": 4,
 "nbformat_minor": 4
}
